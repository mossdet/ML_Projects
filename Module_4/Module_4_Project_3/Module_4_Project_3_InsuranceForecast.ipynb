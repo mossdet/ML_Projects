{
 "cells": [
  {
   "cell_type": "markdown",
   "id": "9e346a56-cfb2-4a9f-a8a9-11b4bba6964e",
   "metadata": {},
   "source": [
    "# Medical Cost Personal Datasets\n",
    "\n",
    "Predict how much health insurance premiums cost using different regression models\n",
    "\n",
    "Dataset Link: https://www.kaggle.com/datasets/mirichoi0218/insurance?resource=download"
   ]
  },
  {
   "cell_type": "code",
   "execution_count": null,
   "id": "4fb36e02-0982-43cf-bf06-41e08c88889e",
   "metadata": {},
   "outputs": [],
   "source": []
  }
 ],
 "metadata": {
  "kernelspec": {
   "display_name": "Python 3 (ipykernel)",
   "language": "python",
   "name": "python3"
  },
  "language_info": {
   "codemirror_mode": {
    "name": "ipython",
    "version": 3
   },
   "file_extension": ".py",
   "mimetype": "text/x-python",
   "name": "python",
   "nbconvert_exporter": "python",
   "pygments_lexer": "ipython3",
   "version": "3.12.0"
  }
 },
 "nbformat": 4,
 "nbformat_minor": 5
}
