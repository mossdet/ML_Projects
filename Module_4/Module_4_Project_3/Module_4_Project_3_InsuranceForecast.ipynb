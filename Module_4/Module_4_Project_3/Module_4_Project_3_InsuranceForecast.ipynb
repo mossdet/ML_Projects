{
 "cells": [
  {
   "cell_type": "markdown",
   "id": "9e346a56-cfb2-4a9f-a8a9-11b4bba6964e",
   "metadata": {},
   "source": [
    "# Medical Cost Personal Datasets\n",
    "\n",
    "Predict how much health insurance premiums cost using different regression models\n",
    "\n",
    "Dataset Link: https://www.kaggle.com/datasets/mirichoi0218/insurance?resource=download"
   ]
  },
  {
   "cell_type": "code",
   "execution_count": 1,
   "id": "4fb36e02-0982-43cf-bf06-41e08c88889e",
   "metadata": {},
   "outputs": [],
   "source": [
    "import pandas as pd\n",
    "import numpy as np\n",
    "import matplotlib.pyplot as plt\n",
    "import seaborn as sns\n",
    "import re\n",
    "import calendar\n",
    "import optuna\n",
    "\n",
    "from datetime import datetime, date\n",
    "from sklearn.tree import DecisionTreeRegressor\n",
    "from sklearn.ensemble import RandomForestRegressor\n",
    "from sklearn.svm import SVR\n",
    "from sklearn.preprocessing import OrdinalEncoder\n",
    "from sklearn.preprocessing import StandardScaler\n",
    "from sklearn.model_selection import train_test_split\n",
    "from sklearn.metrics import mean_squared_error\n",
    "\n",
    "#pd.set_option(\"display.max_columns\", None)\n",
    "#pd.set_option(\"display.max_rows\", 10000)"
   ]
  },
  {
   "cell_type": "code",
   "execution_count": 2,
   "id": "89d8776f-0f5a-448f-8ae8-1e6a8a68bde1",
   "metadata": {},
   "outputs": [
    {
     "data": {
      "text/html": [
       "<div>\n",
       "<style scoped>\n",
       "    .dataframe tbody tr th:only-of-type {\n",
       "        vertical-align: middle;\n",
       "    }\n",
       "\n",
       "    .dataframe tbody tr th {\n",
       "        vertical-align: top;\n",
       "    }\n",
       "\n",
       "    .dataframe thead th {\n",
       "        text-align: right;\n",
       "    }\n",
       "</style>\n",
       "<table border=\"1\" class=\"dataframe\">\n",
       "  <thead>\n",
       "    <tr style=\"text-align: right;\">\n",
       "      <th></th>\n",
       "      <th>age</th>\n",
       "      <th>sex</th>\n",
       "      <th>bmi</th>\n",
       "      <th>children</th>\n",
       "      <th>smoker</th>\n",
       "      <th>region</th>\n",
       "      <th>charges</th>\n",
       "    </tr>\n",
       "  </thead>\n",
       "  <tbody>\n",
       "    <tr>\n",
       "      <th>0</th>\n",
       "      <td>19</td>\n",
       "      <td>female</td>\n",
       "      <td>27.900</td>\n",
       "      <td>0</td>\n",
       "      <td>yes</td>\n",
       "      <td>southwest</td>\n",
       "      <td>16884.92400</td>\n",
       "    </tr>\n",
       "    <tr>\n",
       "      <th>1</th>\n",
       "      <td>18</td>\n",
       "      <td>male</td>\n",
       "      <td>33.770</td>\n",
       "      <td>1</td>\n",
       "      <td>no</td>\n",
       "      <td>southeast</td>\n",
       "      <td>1725.55230</td>\n",
       "    </tr>\n",
       "    <tr>\n",
       "      <th>2</th>\n",
       "      <td>28</td>\n",
       "      <td>male</td>\n",
       "      <td>33.000</td>\n",
       "      <td>3</td>\n",
       "      <td>no</td>\n",
       "      <td>southeast</td>\n",
       "      <td>4449.46200</td>\n",
       "    </tr>\n",
       "    <tr>\n",
       "      <th>3</th>\n",
       "      <td>33</td>\n",
       "      <td>male</td>\n",
       "      <td>22.705</td>\n",
       "      <td>0</td>\n",
       "      <td>no</td>\n",
       "      <td>northwest</td>\n",
       "      <td>21984.47061</td>\n",
       "    </tr>\n",
       "    <tr>\n",
       "      <th>4</th>\n",
       "      <td>32</td>\n",
       "      <td>male</td>\n",
       "      <td>28.880</td>\n",
       "      <td>0</td>\n",
       "      <td>no</td>\n",
       "      <td>northwest</td>\n",
       "      <td>3866.85520</td>\n",
       "    </tr>\n",
       "  </tbody>\n",
       "</table>\n",
       "</div>"
      ],
      "text/plain": [
       "   age     sex     bmi  children smoker     region      charges\n",
       "0   19  female  27.900         0    yes  southwest  16884.92400\n",
       "1   18    male  33.770         1     no  southeast   1725.55230\n",
       "2   28    male  33.000         3     no  southeast   4449.46200\n",
       "3   33    male  22.705         0     no  northwest  21984.47061\n",
       "4   32    male  28.880         0     no  northwest   3866.85520"
      ]
     },
     "metadata": {},
     "output_type": "display_data"
    },
    {
     "name": "stdout",
     "output_type": "stream",
     "text": [
      "<class 'pandas.core.frame.DataFrame'>\n",
      "RangeIndex: 1338 entries, 0 to 1337\n",
      "Data columns (total 7 columns):\n",
      " #   Column    Non-Null Count  Dtype  \n",
      "---  ------    --------------  -----  \n",
      " 0   age       1338 non-null   int64  \n",
      " 1   sex       1338 non-null   object \n",
      " 2   bmi       1338 non-null   float64\n",
      " 3   children  1338 non-null   int64  \n",
      " 4   smoker    1338 non-null   object \n",
      " 5   region    1338 non-null   object \n",
      " 6   charges   1338 non-null   float64\n",
      "dtypes: float64(2), int64(2), object(3)\n",
      "memory usage: 73.3+ KB\n"
     ]
    },
    {
     "data": {
      "text/plain": [
       "None"
      ]
     },
     "metadata": {},
     "output_type": "display_data"
    },
    {
     "data": {
      "text/html": [
       "<div>\n",
       "<style scoped>\n",
       "    .dataframe tbody tr th:only-of-type {\n",
       "        vertical-align: middle;\n",
       "    }\n",
       "\n",
       "    .dataframe tbody tr th {\n",
       "        vertical-align: top;\n",
       "    }\n",
       "\n",
       "    .dataframe thead th {\n",
       "        text-align: right;\n",
       "    }\n",
       "</style>\n",
       "<table border=\"1\" class=\"dataframe\">\n",
       "  <thead>\n",
       "    <tr style=\"text-align: right;\">\n",
       "      <th></th>\n",
       "      <th>age</th>\n",
       "      <th>bmi</th>\n",
       "      <th>children</th>\n",
       "      <th>charges</th>\n",
       "    </tr>\n",
       "  </thead>\n",
       "  <tbody>\n",
       "    <tr>\n",
       "      <th>count</th>\n",
       "      <td>1338.000000</td>\n",
       "      <td>1338.000000</td>\n",
       "      <td>1338.000000</td>\n",
       "      <td>1338.000000</td>\n",
       "    </tr>\n",
       "    <tr>\n",
       "      <th>mean</th>\n",
       "      <td>39.207025</td>\n",
       "      <td>30.663397</td>\n",
       "      <td>1.094918</td>\n",
       "      <td>13270.422265</td>\n",
       "    </tr>\n",
       "    <tr>\n",
       "      <th>std</th>\n",
       "      <td>14.049960</td>\n",
       "      <td>6.098187</td>\n",
       "      <td>1.205493</td>\n",
       "      <td>12110.011237</td>\n",
       "    </tr>\n",
       "    <tr>\n",
       "      <th>min</th>\n",
       "      <td>18.000000</td>\n",
       "      <td>15.960000</td>\n",
       "      <td>0.000000</td>\n",
       "      <td>1121.873900</td>\n",
       "    </tr>\n",
       "    <tr>\n",
       "      <th>25%</th>\n",
       "      <td>27.000000</td>\n",
       "      <td>26.296250</td>\n",
       "      <td>0.000000</td>\n",
       "      <td>4740.287150</td>\n",
       "    </tr>\n",
       "    <tr>\n",
       "      <th>50%</th>\n",
       "      <td>39.000000</td>\n",
       "      <td>30.400000</td>\n",
       "      <td>1.000000</td>\n",
       "      <td>9382.033000</td>\n",
       "    </tr>\n",
       "    <tr>\n",
       "      <th>75%</th>\n",
       "      <td>51.000000</td>\n",
       "      <td>34.693750</td>\n",
       "      <td>2.000000</td>\n",
       "      <td>16639.912515</td>\n",
       "    </tr>\n",
       "    <tr>\n",
       "      <th>max</th>\n",
       "      <td>64.000000</td>\n",
       "      <td>53.130000</td>\n",
       "      <td>5.000000</td>\n",
       "      <td>63770.428010</td>\n",
       "    </tr>\n",
       "  </tbody>\n",
       "</table>\n",
       "</div>"
      ],
      "text/plain": [
       "               age          bmi     children       charges\n",
       "count  1338.000000  1338.000000  1338.000000   1338.000000\n",
       "mean     39.207025    30.663397     1.094918  13270.422265\n",
       "std      14.049960     6.098187     1.205493  12110.011237\n",
       "min      18.000000    15.960000     0.000000   1121.873900\n",
       "25%      27.000000    26.296250     0.000000   4740.287150\n",
       "50%      39.000000    30.400000     1.000000   9382.033000\n",
       "75%      51.000000    34.693750     2.000000  16639.912515\n",
       "max      64.000000    53.130000     5.000000  63770.428010"
      ]
     },
     "metadata": {},
     "output_type": "display_data"
    }
   ],
   "source": [
    "df = pd.read_csv(\"insurance.csv\")\n",
    "display(df.head(5))\n",
    "display(df.info())\n",
    "display(df.describe())"
   ]
  },
  {
   "cell_type": "markdown",
   "id": "b442ea68-c0af-4cfa-a540-880ee8fe4863",
   "metadata": {},
   "source": [
    "# Delete NaN rows"
   ]
  },
  {
   "cell_type": "code",
   "execution_count": 3,
   "id": "71393114-9b6d-4118-b239-8c0b69d0f812",
   "metadata": {},
   "outputs": [
    {
     "name": "stdout",
     "output_type": "stream",
     "text": [
      "age         0\n",
      "sex         0\n",
      "bmi         0\n",
      "children    0\n",
      "smoker      0\n",
      "region      0\n",
      "charges     0\n",
      "dtype: int64\n"
     ]
    }
   ],
   "source": [
    "print (df.isna().sum())\n",
    "#print (df.isnull().sum())\n",
    "#df.dropna(axis=0, inplace=True) #remove all rows with na's.\n",
    "#df.reset_index(drop=True)\n",
    "#print (df.isna().sum())"
   ]
  },
  {
   "cell_type": "markdown",
   "id": "f28e605f-6736-4566-b0cd-1943a45c71fa",
   "metadata": {},
   "source": [
    "# Typecast the columns to the correct type"
   ]
  },
  {
   "cell_type": "code",
   "execution_count": 4,
   "id": "29b0a99d-c9a6-4ff3-9e10-42a30f2cbdf7",
   "metadata": {},
   "outputs": [
    {
     "data": {
      "text/html": [
       "<div>\n",
       "<style scoped>\n",
       "    .dataframe tbody tr th:only-of-type {\n",
       "        vertical-align: middle;\n",
       "    }\n",
       "\n",
       "    .dataframe tbody tr th {\n",
       "        vertical-align: top;\n",
       "    }\n",
       "\n",
       "    .dataframe thead th {\n",
       "        text-align: right;\n",
       "    }\n",
       "</style>\n",
       "<table border=\"1\" class=\"dataframe\">\n",
       "  <thead>\n",
       "    <tr style=\"text-align: right;\">\n",
       "      <th></th>\n",
       "      <th>age</th>\n",
       "      <th>sex</th>\n",
       "      <th>bmi</th>\n",
       "      <th>children</th>\n",
       "      <th>smoker</th>\n",
       "      <th>charges</th>\n",
       "      <th>region_northeast</th>\n",
       "      <th>region_northwest</th>\n",
       "      <th>region_southeast</th>\n",
       "      <th>region_southwest</th>\n",
       "    </tr>\n",
       "  </thead>\n",
       "  <tbody>\n",
       "    <tr>\n",
       "      <th>0</th>\n",
       "      <td>19</td>\n",
       "      <td>True</td>\n",
       "      <td>27.900</td>\n",
       "      <td>0</td>\n",
       "      <td>True</td>\n",
       "      <td>16884.92400</td>\n",
       "      <td>False</td>\n",
       "      <td>False</td>\n",
       "      <td>False</td>\n",
       "      <td>True</td>\n",
       "    </tr>\n",
       "    <tr>\n",
       "      <th>1</th>\n",
       "      <td>18</td>\n",
       "      <td>False</td>\n",
       "      <td>33.770</td>\n",
       "      <td>1</td>\n",
       "      <td>False</td>\n",
       "      <td>1725.55230</td>\n",
       "      <td>False</td>\n",
       "      <td>False</td>\n",
       "      <td>True</td>\n",
       "      <td>False</td>\n",
       "    </tr>\n",
       "    <tr>\n",
       "      <th>2</th>\n",
       "      <td>28</td>\n",
       "      <td>False</td>\n",
       "      <td>33.000</td>\n",
       "      <td>3</td>\n",
       "      <td>False</td>\n",
       "      <td>4449.46200</td>\n",
       "      <td>False</td>\n",
       "      <td>False</td>\n",
       "      <td>True</td>\n",
       "      <td>False</td>\n",
       "    </tr>\n",
       "    <tr>\n",
       "      <th>3</th>\n",
       "      <td>33</td>\n",
       "      <td>False</td>\n",
       "      <td>22.705</td>\n",
       "      <td>0</td>\n",
       "      <td>False</td>\n",
       "      <td>21984.47061</td>\n",
       "      <td>False</td>\n",
       "      <td>True</td>\n",
       "      <td>False</td>\n",
       "      <td>False</td>\n",
       "    </tr>\n",
       "    <tr>\n",
       "      <th>4</th>\n",
       "      <td>32</td>\n",
       "      <td>False</td>\n",
       "      <td>28.880</td>\n",
       "      <td>0</td>\n",
       "      <td>False</td>\n",
       "      <td>3866.85520</td>\n",
       "      <td>False</td>\n",
       "      <td>True</td>\n",
       "      <td>False</td>\n",
       "      <td>False</td>\n",
       "    </tr>\n",
       "  </tbody>\n",
       "</table>\n",
       "</div>"
      ],
      "text/plain": [
       "   age    sex     bmi  children  smoker      charges  region_northeast  \\\n",
       "0   19   True  27.900         0    True  16884.92400             False   \n",
       "1   18  False  33.770         1   False   1725.55230             False   \n",
       "2   28  False  33.000         3   False   4449.46200             False   \n",
       "3   33  False  22.705         0   False  21984.47061             False   \n",
       "4   32  False  28.880         0   False   3866.85520             False   \n",
       "\n",
       "   region_northwest  region_southeast  region_southwest  \n",
       "0             False             False              True  \n",
       "1             False              True             False  \n",
       "2             False              True             False  \n",
       "3              True             False             False  \n",
       "4              True             False             False  "
      ]
     },
     "metadata": {},
     "output_type": "display_data"
    },
    {
     "name": "stdout",
     "output_type": "stream",
     "text": [
      "<class 'pandas.core.frame.DataFrame'>\n",
      "RangeIndex: 1338 entries, 0 to 1337\n",
      "Data columns (total 10 columns):\n",
      " #   Column            Non-Null Count  Dtype  \n",
      "---  ------            --------------  -----  \n",
      " 0   age               1338 non-null   int64  \n",
      " 1   sex               1338 non-null   bool   \n",
      " 2   bmi               1338 non-null   float64\n",
      " 3   children          1338 non-null   int64  \n",
      " 4   smoker            1338 non-null   bool   \n",
      " 5   charges           1338 non-null   float64\n",
      " 6   region_northeast  1338 non-null   bool   \n",
      " 7   region_northwest  1338 non-null   bool   \n",
      " 8   region_southeast  1338 non-null   bool   \n",
      " 9   region_southwest  1338 non-null   bool   \n",
      "dtypes: bool(6), float64(2), int64(2)\n",
      "memory usage: 49.8 KB\n"
     ]
    },
    {
     "data": {
      "text/plain": [
       "None"
      ]
     },
     "metadata": {},
     "output_type": "display_data"
    }
   ],
   "source": [
    "\n",
    "# Encode smoker to bool instead of str\n",
    "def smoker_encode(smoker_str):\n",
    "    return smoker_str == \"yes\"\n",
    "df[\"smoker\"] = df[\"smoker\"].apply(smoker_encode)\n",
    "\n",
    "# Encode sex to bool instead of str\n",
    "def sex_encode(sex_str):\n",
    "    return sex_str == \"female\"\n",
    "df[\"sex\"] = df[\"sex\"].apply(sex_encode)\n",
    "\n",
    "# One hot encode categorical data\n",
    "df = pd.get_dummies(df)\n",
    "#df = df.astype({'sex': 'int', 'smoker': 'int', 'region': 'int'},copy=True)\n",
    "\n",
    "display(df.head(5))\n",
    "display(df.info())"
   ]
  },
  {
   "cell_type": "markdown",
   "id": "4503ecf5-173e-4f94-9ba5-aaf5ed759a94",
   "metadata": {},
   "source": [
    "# EDA"
   ]
  },
  {
   "cell_type": "code",
   "execution_count": 5,
   "id": "56d2e384-10f2-4815-b25a-38f8bc50693a",
   "metadata": {},
   "outputs": [],
   "source": [
    "df_numerical = df[['age','bmi','children','charges']]\n",
    "df_categorical = df[['sex','smoker','region_northeast','region_northwest','region_southeast','region_southwest','charges']]"
   ]
  },
  {
   "cell_type": "code",
   "execution_count": null,
   "id": "6ce4dbbc-50d0-4721-8f1f-506de16e08fe",
   "metadata": {},
   "outputs": [],
   "source": [
    "# Plot correlation between features and target\n",
    "plt.figure(figsize=(10,10))\n",
    "sns.heatmap(df_numerical.corr(), cmap=\"YlGnBu\", annot=False)\n",
    "plt.savefig(\"NumericalFeatures_vs_InsuranceCost_Correlation.png\")"
   ]
  },
  {
   "cell_type": "code",
   "execution_count": null,
   "id": "39540483-79a6-4c47-8694-05eea43cab4d",
   "metadata": {},
   "outputs": [],
   "source": [
    "f, axes = plt.subplots(1, len(df_categorical.columns)-1, figsize=(30, 5))\n",
    "for idx, feature_name in enumerate(df_categorical.columns):\n",
    "    if feature_name != \"charges\":\n",
    "        g = sns.boxplot(data=df_categorical, x=feature_name, y=\"charges\", hue=feature_name, palette=['r','g'], ax=axes[idx])\n",
    "        g.set(ylabel=None, title= feature_name);\n",
    "\n",
    "plt.savefig(\"CategoricalFeatures_vs_InsuranceCost_BoxPlot.png\")"
   ]
  },
  {
   "cell_type": "code",
   "execution_count": null,
   "id": "535ba889-18c0-4eb9-b19b-71da001e691d",
   "metadata": {},
   "outputs": [],
   "source": [
    "f, axes = plt.subplots(1, len(df_categorical.columns)-1, figsize=(30, 5))\n",
    "for idx, feature_name in enumerate(df_categorical.columns):\n",
    "    if feature_name != \"charges\":\n",
    "        g = sns.violinplot(data=df_categorical, x=feature_name, y=\"charges\", inner=\"points\", hue=feature_name, palette=['r','g'],ax=axes[idx])\n",
    "        g.set(ylabel=None, title= feature_name);\n",
    "\n",
    "plt.savefig(\"CategoricalFeatures_vs_InsuranceCost_ViolinPlot.png\")"
   ]
  },
  {
   "cell_type": "markdown",
   "id": "c144658b-c48a-4aba-8eea-30c958d91689",
   "metadata": {},
   "source": [
    "# Prepare data to be fed as input to regression models"
   ]
  },
  {
   "cell_type": "code",
   "execution_count": null,
   "id": "703e88e2-e733-4d7c-9646-5ff3769ea332",
   "metadata": {},
   "outputs": [],
   "source": [
    "# Get numerical and categorical dataframes without the target\n",
    "x_numerical = df_numerical.drop(columns=['charges'], inplace=False)\n",
    "x_categorical = df_categorical.drop(columns=['charges'], inplace=False)\n",
    "y =  df_numerical[['charges']].values.ravel()\n",
    "\n",
    "# Scale numerical data and stack all X data\n",
    "StandardScaler().fit_transform(x_numerical.values)\n",
    "X = np.hstack((StandardScaler().fit_transform(x_numerical.values), x_categorical.values))"
   ]
  },
  {
   "cell_type": "markdown",
   "id": "00888b34-7add-4ba6-a82c-be0a2d91a68b",
   "metadata": {},
   "source": [
    "# Partition the data"
   ]
  },
  {
   "cell_type": "code",
   "execution_count": null,
   "id": "ad5746cf-9de0-4f5d-bce0-fa4dfc38e038",
   "metadata": {},
   "outputs": [],
   "source": [
    "X_train_valid, X_test, y_train_valid, y_test = train_test_split(X, y, test_size=0.1, random_state=0)\n",
    "X_train, X_valid, y_train, y_valid = train_test_split(X_train_valid, y_train_valid, test_size=0.1, random_state=0)"
   ]
  },
  {
   "cell_type": "markdown",
   "id": "44125efd-931f-4b5f-90a4-3e689aeaed22",
   "metadata": {},
   "source": [
    "# Define objective funcions for hyperparameter tuning"
   ]
  },
  {
   "cell_type": "code",
   "execution_count": null,
   "id": "0f91103c-6538-47fb-9855-ab6f49b4037d",
   "metadata": {},
   "outputs": [],
   "source": [
    "# Objective function for hyperparameter tuning of DecisionTree\n",
    "random_state = 42\n",
    "def objective_dtr(trial, X_train, X_valid, y_train, y_valid):\n",
    "    params = {\n",
    "    \"criterion\": trial.suggest_categorical(\"criterion\", [\"squared_error\", \"absolute_error\", \"friedman_mse\"]),\n",
    "    \"splitter\": trial.suggest_categorical(\"splitter\", [\"best\", \"random\"]),\n",
    "    \"max_depth\": trial.suggest_int(\"max_depth\", 1, 10),\n",
    "    \"min_samples_split\": trial.suggest_int(\"min_samples_split\", 2, 10),\n",
    "    \"min_samples_leaf\": trial.suggest_int(\"min_samples_leaf\", 1, 10),\n",
    "    \"max_features\": trial.suggest_categorical(\"max_features\", [\"sqrt\", \"log2\"]),    \n",
    "    \"random_state\": random_state,\n",
    "    }\n",
    "    \n",
    "    model = DecisionTreeRegressor(**params).fit(X_train, y_train)\n",
    "    r2 = model.score(X_valid, y_valid)\n",
    "    #y_predicted = model.predict(X_valid)\n",
    "    #rmse = mean_squared_error(y_valid, y_predicted, squared=False)\n",
    "    \n",
    "    return r2"
   ]
  },
  {
   "cell_type": "code",
   "execution_count": null,
   "id": "6fef9560-70a0-4eb6-95f5-6ef0ef78af78",
   "metadata": {},
   "outputs": [],
   "source": [
    "# Objective function for hyperparameter tuning of RandomForest\n",
    "random_state = 42\n",
    "def objective_rfr(trial, X_train, X_valid, y_train, y_valid):\n",
    "    params = {\n",
    "    \"n_estimators\": trial.suggest_int(\"n_estimators\", 10, 250, step = 10),\n",
    "    \"max_depth\": trial.suggest_int(\"max_depth\", 1, 15),\n",
    "    \"min_samples_split\": trial.suggest_int(\"min_samples_split\", 2, 10),\n",
    "    \"min_samples_leaf\": trial.suggest_int(\"min_samples_leaf\", 1, 10),\n",
    "    \"criterion\": trial.suggest_categorical(\"criterion\", [\"squared_error\", \"absolute_error\", \"friedman_mse\"]),\n",
    "    \"random_state\": random_state,\n",
    "    \"n_jobs\":-1\n",
    "    }\n",
    "    \n",
    "    model = RandomForestRegressor(**params).fit(X_train, y_train)\n",
    "    r2 = model.score(X_valid, y_valid)\n",
    "    #y_predicted = model.predict(X_valid)\n",
    "    #rmse = mean_squared_error(y_valid, y_predicted, squared=False)\n",
    "    \n",
    "    return r2"
   ]
  },
  {
   "cell_type": "code",
   "execution_count": null,
   "id": "5f746c0f-b489-4299-8d7f-20ec967a0ee2",
   "metadata": {},
   "outputs": [],
   "source": [
    "# Objective function for hyperparameter tuning of Support Vector Machine\n",
    "def objective_svr(trial, X_train, X_valid, y_train, y_valid):\n",
    "    params = {\n",
    "    \"C\": trial.suggest_float(\"C\", 1e-10, 1e10, log=True),\n",
    "    \"kernel\": trial.suggest_categorical(\"kernel\", [\"linear\", \"rbf\", \"sigmoid\"]),\n",
    "    \"gamma\": trial.suggest_categorical(\"gamma\", [\"scale\", \"auto\"]),\n",
    "    \"max_iter\": 1000\n",
    "    }\n",
    "    \n",
    "    model = SVR(**params).fit(X_train, y_train)\n",
    "    r2 = model.score(X_valid, y_valid)\n",
    "    #y_predicted = model.predict(X_valid)\n",
    "    #rmse = mean_squared_error(y_valid, y_predicted, squared=False)\n",
    "    \n",
    "    return r2"
   ]
  },
  {
   "cell_type": "markdown",
   "id": "57bd6ab5-089f-480c-bf26-9ab2e08746f1",
   "metadata": {},
   "source": [
    "# Train and test the regression models"
   ]
  },
  {
   "cell_type": "code",
   "execution_count": null,
   "id": "8ad2f65e-4059-4ae4-bcad-93bba22cf0ba",
   "metadata": {},
   "outputs": [],
   "source": [
    "optuna.logging.set_verbosity(optuna.logging.INFO)\n",
    "optuna.logging.set_verbosity(optuna.logging.WARNING)\n",
    "\n",
    "# DecisionTreeRegressor\n",
    "study_dtr = optuna.create_study(direction = \"maximize\")\n",
    "func = lambda trial: objective_dtr(trial, X_train, X_valid, y_train, y_valid)\n",
    "study_dtr.optimize(func, n_trials = 100, timeout=600)\n",
    "model = DecisionTreeRegressor(**study_dtr.best_trial.params).fit(X_train_valid, y_train_valid)\n",
    "dectree_r2 = model.score(X_test, y_test)\n",
    "\n",
    "# RandomForestRegressor\n",
    "study_rfr = optuna.create_study(direction = \"maximize\")\n",
    "func = lambda trial: objective_rfr(trial, X_train, X_valid, y_train, y_valid)\n",
    "study_rfr.optimize(func, n_trials = 100, timeout=600)\n",
    "model = RandomForestRegressor(**study_rfr.best_trial.params).fit(X_train_valid, y_train_valid)\n",
    "randfor_r2 = model.score(X_test, y_test)\n",
    "\n",
    "# SVR\n",
    "study_svr = optuna.create_study(direction = \"maximize\")\n",
    "func = lambda trial: objective_svr(trial, X_train, X_valid, y_train, y_valid)\n",
    "study_svr.optimize(func, n_trials = 100, timeout=600)\n",
    "model = SVR(**study_svr.best_trial.params).fit(X_train_valid, y_train_valid)\n",
    "svr_r2 = model.score(X_test, y_test)"
   ]
  },
  {
   "cell_type": "code",
   "execution_count": null,
   "id": "2cd2431d-4bf7-4b27-98a8-021886125025",
   "metadata": {},
   "outputs": [],
   "source": [
    "print(\"DecisionTreeRegressor R2 =\", dectree_r2)\n",
    "print(\"RandomForestRegressor Tree R2 =\", randfor_r2)\n",
    "print(\"SVR Tree R2 =\", svr_r2)"
   ]
  },
  {
   "cell_type": "code",
   "execution_count": null,
   "id": "ad6424d7-cd95-4cbb-9952-a9326d25087d",
   "metadata": {},
   "outputs": [],
   "source": []
  }
 ],
 "metadata": {
  "kernelspec": {
   "display_name": "Python 3 (ipykernel)",
   "language": "python",
   "name": "python3"
  },
  "language_info": {
   "codemirror_mode": {
    "name": "ipython",
    "version": 3
   },
   "file_extension": ".py",
   "mimetype": "text/x-python",
   "name": "python",
   "nbconvert_exporter": "python",
   "pygments_lexer": "ipython3",
   "version": "3.12.0"
  }
 },
 "nbformat": 4,
 "nbformat_minor": 5
}
