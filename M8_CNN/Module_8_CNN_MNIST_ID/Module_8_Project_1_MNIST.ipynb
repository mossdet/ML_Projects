{
 "cells": [
  {
   "cell_type": "code",
   "execution_count": 1,
   "id": "3ae1ac8e-5352-431b-b930-6095a9ea4213",
   "metadata": {},
   "outputs": [
    {
     "name": "stderr",
     "output_type": "stream",
     "text": [
      "C:\\Users\\DLP\\AppData\\Local\\Temp\\ipykernel_10972\\894947171.py:1: DeprecationWarning: \n",
      "Pyarrow will become a required dependency of pandas in the next major release of pandas (pandas 3.0),\n",
      "(to allow more performant data types, such as the Arrow string type, and better interoperability with other libraries)\n",
      "but was not found to be installed on your system.\n",
      "If this would cause problems for you,\n",
      "please provide us feedback at https://github.com/pandas-dev/pandas/issues/54466\n",
      "        \n",
      "  import pandas as pd\n"
     ]
    },
    {
     "name": "stdout",
     "output_type": "stream",
     "text": [
      "WARNING:tensorflow:From C:\\Users\\DLP\\miniconda3\\envs\\tf\\Lib\\site-packages\\keras\\src\\losses.py:2976: The name tf.losses.sparse_softmax_cross_entropy is deprecated. Please use tf.compat.v1.losses.sparse_softmax_cross_entropy instead.\n",
      "\n"
     ]
    }
   ],
   "source": [
    "import pandas as pd\n",
    "import keras\n",
    "import matplotlib.pyplot as plt\n",
    "\n",
    "from keras import Sequential\n",
    "from keras.datasets import mnist\n",
    "from keras.layers import Conv2D, MaxPooling2D, Flatten, Dense\n",
    "from keras.layers import MaxPooling2D\n",
    "from keras.layers import Flatten\n",
    "from keras.layers import Dense\n",
    "from livelossplot import PlotLossesKeras"
   ]
  },
  {
   "cell_type": "code",
   "execution_count": 2,
   "id": "e59c3d5b-fc1f-4815-a258-671b35942a08",
   "metadata": {},
   "outputs": [],
   "source": [
    "(X_train, y_train), (X_test, y_test) = mnist.load_data()"
   ]
  },
  {
   "cell_type": "code",
   "execution_count": null,
   "id": "7a094984-1618-44c3-8e25-1e055752a886",
   "metadata": {},
   "outputs": [],
   "source": []
  },
  {
   "cell_type": "markdown",
   "id": "ea28a75c-5f92-4469-976c-c22da4311949",
   "metadata": {},
   "source": [
    "# Visualize data shape"
   ]
  },
  {
   "cell_type": "code",
   "execution_count": 3,
   "id": "559d057a-2fab-4709-abf9-50a4ce723fb2",
   "metadata": {},
   "outputs": [
    {
     "name": "stdout",
     "output_type": "stream",
     "text": [
      "(60000, 28, 28)\n",
      "(60000,)\n"
     ]
    }
   ],
   "source": [
    "print(X_train.shape)\n",
    "print(y_train.shape)"
   ]
  },
  {
   "cell_type": "code",
   "execution_count": null,
   "id": "acca3935-f4b9-41f4-8872-c2e71373b6c1",
   "metadata": {},
   "outputs": [],
   "source": []
  },
  {
   "cell_type": "markdown",
   "id": "035a3f1e-7b8e-408a-8904-af13592631b4",
   "metadata": {},
   "source": [
    "# Display one of the samples"
   ]
  },
  {
   "cell_type": "code",
   "execution_count": 4,
   "id": "ce6ea235-37b3-42aa-b267-a88afbed539a",
   "metadata": {},
   "outputs": [
    {
     "name": "stdout",
     "output_type": "stream",
     "text": [
      "(28, 28)\n"
     ]
    }
   ],
   "source": [
    "#pick a sample\n",
    "image_idx=int(X_train.shape[0]/2)\n",
    "picture = X_train[image_idx]\n",
    "print(picture.shape)\n",
    "#picture = picture.reshape(28,28) "
   ]
  },
  {
   "cell_type": "code",
   "execution_count": 5,
   "id": "54c6abc1-b624-4379-98c8-3e8e20657a08",
   "metadata": {},
   "outputs": [
    {
     "name": "stdout",
     "output_type": "stream",
     "text": [
      "Sample 30000, label = 3\n"
     ]
    }
   ],
   "source": [
    "# Display the sample label\n",
    "lbl = y_train[image_idx]\n",
    "print(f\"Sample {image_idx}, label = {y_train[image_idx]}\")"
   ]
  },
  {
   "cell_type": "code",
   "execution_count": 6,
   "id": "db1b9b6a-de14-4012-92e0-9ff27667869f",
   "metadata": {},
   "outputs": [
    {
     "data": {
      "image/png": "[encoded data removed]",
      "text/plain": [
       "<Figure size 640x480 with 1 Axes>"
      ]
     },
     "metadata": {},
     "output_type": "display_data"
    }
   ],
   "source": [
    "# Display the handwritten digit image\n",
    "plt.imshow(picture, cmap='gray')\n",
    "plt.xticks([])\n",
    "plt.yticks([])\n",
    "plt.show() "
   ]
  },
  {
   "cell_type": "code",
   "execution_count": null,
   "id": "1af20756-e22a-4a6f-bcd2-058b67aeeb41",
   "metadata": {},
   "outputs": [],
   "source": []
  },
  {
   "cell_type": "markdown",
   "id": "5d91a470-c6a8-454d-8b77-27a5fd5ebb0d",
   "metadata": {},
   "source": [
    "# Reshape the data. Images are 28x28 and 1 Channel (gray scale)"
   ]
  },
  {
   "cell_type": "code",
   "execution_count": 7,
   "id": "567a0018-0721-48a6-b058-9a520d2231ad",
   "metadata": {},
   "outputs": [],
   "source": [
    "X_train = X_train.reshape(60000, 28, 28, 1)\n",
    "X_test = X_test.reshape(10000, 28, 28, 1)"
   ]
  },
  {
   "cell_type": "markdown",
   "id": "8ef1a806-0134-419f-94eb-684dfbc863aa",
   "metadata": {},
   "source": [
    "# Normalize the data between 0 and 1 (colors are coded from 0 to 255 so just divide by 255)"
   ]
  },
  {
   "cell_type": "code",
   "execution_count": 8,
   "id": "c2ded68b-a1d1-430a-bab3-9a72ec7ed841",
   "metadata": {},
   "outputs": [],
   "source": [
    "X_train = X_train/255\n",
    "X_test = X_test/255"
   ]
  },
  {
   "cell_type": "code",
   "execution_count": null,
   "id": "b7be7741-d101-4499-b685-db62ec84a8a2",
   "metadata": {},
   "outputs": [],
   "source": []
  },
  {
   "cell_type": "markdown",
   "id": "d69493c1-0382-40b1-83e3-135f9c9ad92d",
   "metadata": {},
   "source": [
    "### Define the CNN Architecture"
   ]
  },
  {
   "cell_type": "code",
   "execution_count": 9,
   "id": "ab558688-5b2f-4452-9e9e-984df6ab30b5",
   "metadata": {},
   "outputs": [
    {
     "name": "stdout",
     "output_type": "stream",
     "text": [
      "WARNING:tensorflow:From C:\\Users\\DLP\\miniconda3\\envs\\tf\\Lib\\site-packages\\keras\\src\\backend.py:873: The name tf.get_default_graph is deprecated. Please use tf.compat.v1.get_default_graph instead.\n",
      "\n",
      "WARNING:tensorflow:From C:\\Users\\DLP\\miniconda3\\envs\\tf\\Lib\\site-packages\\keras\\src\\layers\\pooling\\max_pooling2d.py:161: The name tf.nn.max_pool is deprecated. Please use tf.nn.max_pool2d instead.\n",
      "\n"
     ]
    }
   ],
   "source": [
    "model = Sequential()\n",
    "\n",
    "# CNN\n",
    "# Convolutional Layer\n",
    "model.add(Conv2D(28, (3, 3), input_shape=(28, 28, 1), activation='relu'))\n",
    "# Max Pooling layer\n",
    "model.add(MaxPooling2D(pool_size=(2, 2)))\n",
    "#add flattening layer\n",
    "model.add(Flatten())\n",
    "\n",
    "\n",
    "# ANN\n",
    "model.add(Dense(units=128, activation='relu'))\n",
    "\n",
    "#add a dense hidden layer\n",
    "#model.add(Dense(units=64, activation='relu'))\n",
    "\n",
    "#add softmax activation on dense layer for output\n",
    "model.add(Dense(units=10, activation='softmax'))"
   ]
  },
  {
   "cell_type": "markdown",
   "id": "100073d8-0842-4876-9448-d57248f328a5",
   "metadata": {},
   "source": [
    "# Compile CNN"
   ]
  },
  {
   "cell_type": "code",
   "execution_count": 10,
   "id": "ea35c5d4-12e7-471c-bb82-2e141791c505",
   "metadata": {},
   "outputs": [
    {
     "name": "stdout",
     "output_type": "stream",
     "text": [
      "WARNING:tensorflow:From C:\\Users\\DLP\\miniconda3\\envs\\tf\\Lib\\site-packages\\keras\\src\\optimizers\\__init__.py:309: The name tf.train.Optimizer is deprecated. Please use tf.compat.v1.train.Optimizer instead.\n",
      "\n",
      "Model: \"sequential\"\n",
      "_________________________________________________________________\n",
      " Layer (type)                Output Shape              Param #   \n",
      "=================================================================\n",
      " conv2d (Conv2D)             (None, 26, 26, 28)        280       \n",
      "                                                                 \n",
      " max_pooling2d (MaxPooling2  (None, 13, 13, 28)        0         \n",
      " D)                                                              \n",
      "                                                                 \n",
      " flatten (Flatten)           (None, 4732)              0         \n",
      "                                                                 \n",
      " dense (Dense)               (None, 128)               605824    \n",
      "                                                                 \n",
      " dense_1 (Dense)             (None, 10)                1290      \n",
      "                                                                 \n",
      "=================================================================\n",
      "Total params: 607394 (2.32 MB)\n",
      "Trainable params: 607394 (2.32 MB)\n",
      "Non-trainable params: 0 (0.00 Byte)\n",
      "_________________________________________________________________\n"
     ]
    }
   ],
   "source": [
    "model.compile(optimizer='adam', loss='sparse_categorical_crossentropy', metrics=['accuracy'])\n",
    "model.summary()"
   ]
  },
  {
   "cell_type": "code",
   "execution_count": null,
   "id": "e881ddac-2b47-48b2-9a02-1d8f92b94829",
   "metadata": {},
   "outputs": [],
   "source": []
  },
  {
   "cell_type": "markdown",
   "id": "feb0249c-2a35-4081-bd66-11287167c533",
   "metadata": {},
   "source": [
    "# Train the CNN"
   ]
  },
  {
   "cell_type": "code",
   "execution_count": 11,
   "id": "ffcebc76-c208-4cc3-a441-a15c3e44383e",
   "metadata": {},
   "outputs": [
    {
     "data": {
      "image/png": "[encoded data removed]",
      "text/plain": [
       "<Figure size 1200x800 with 2 Axes>"
      ]
     },
     "metadata": {},
     "output_type": "display_data"
    },
    {
     "name": "stdout",
     "output_type": "stream",
     "text": [
      "accuracy\n",
      "\ttraining         \t (min:    0.955, max:    0.999, cur:    0.998)\n",
      "\tvalidation       \t (min:    0.981, max:    0.989, cur:    0.988)\n",
      "Loss\n",
      "\ttraining         \t (min:    0.005, max:    0.148, cur:    0.005)\n",
      "\tvalidation       \t (min:    0.038, max:    0.062, cur:    0.045)\n"
     ]
    },
    {
     "data": {
      "text/plain": [
       "<keras.src.callbacks.History at 0x1f1146865d0>"
      ]
     },
     "execution_count": 11,
     "metadata": {},
     "output_type": "execute_result"
    }
   ],
   "source": [
    "model.fit(X_train, y_train,\n",
    "          epochs=10,\n",
    "          validation_data=(X_test, y_test),\n",
    "          callbacks=[PlotLossesKeras()],\n",
    "          verbose=0)"
   ]
  },
  {
   "cell_type": "code",
   "execution_count": null,
   "id": "3455608d-1cff-4749-8ed9-649308e1b848",
   "metadata": {},
   "outputs": [],
   "source": []
  },
  {
   "cell_type": "code",
   "execution_count": 12,
   "id": "a451282f-8693-4508-b1c5-2d9937f23f93",
   "metadata": {},
   "outputs": [
    {
     "name": "stdout",
     "output_type": "stream",
     "text": [
      "313/313 [==============================] - 1s 2ms/step - loss: 0.0446 - accuracy: 0.9880\n"
     ]
    }
   ],
   "source": [
    "# get the model's performance\n",
    "loss, accuracy = model.evaluate(X_test,y_test)"
   ]
  },
  {
   "cell_type": "code",
   "execution_count": 14,
   "id": "00d0df46-0fcd-42dd-ab82-7d75f9160325",
   "metadata": {},
   "outputs": [
    {
     "name": "stdout",
     "output_type": "stream",
     "text": [
      "Loss (sparse_categorical_crossentropy) = 0.04458492249250412\n",
      "Accuracy = 0.9879999756813049\n"
     ]
    }
   ],
   "source": [
    "print(f\"Loss (sparse_categorical_crossentropy) = {loss}\")\n",
    "print(f\"Accuracy = {accuracy}\")"
   ]
  },
  {
   "cell_type": "code",
   "execution_count": null,
   "id": "a195dc4f-4d5b-44b8-b0be-5f653ac0a887",
   "metadata": {},
   "outputs": [],
   "source": []
  }
 ],
 "metadata": {
  "kernelspec": {
   "display_name": "Python 3 (ipykernel)",
   "language": "python",
   "name": "python3"
  },
  "language_info": {
   "codemirror_mode": {
    "name": "ipython",
    "version": 3
   },
   "file_extension": ".py",
   "mimetype": "text/x-python",
   "name": "python",
   "nbconvert_exporter": "python",
   "pygments_lexer": "ipython3",
   "version": "3.11.7"
  }
 },
 "nbformat": 4,
 "nbformat_minor": 5
}
