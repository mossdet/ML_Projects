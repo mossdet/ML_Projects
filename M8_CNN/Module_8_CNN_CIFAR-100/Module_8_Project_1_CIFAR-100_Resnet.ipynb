{
 "cells": [
  {
   "cell_type": "code",
   "execution_count": 1,
   "id": "270a0af9-c979-4f21-a26d-61d69748eb79",
   "metadata": {},
   "outputs": [
    {
     "name": "stderr",
     "output_type": "stream",
     "text": [
      "C:\\Users\\DLP\\AppData\\Local\\Temp\\ipykernel_19696\\3580140667.py:1: DeprecationWarning: \n",
      "Pyarrow will become a required dependency of pandas in the next major release of pandas (pandas 3.0),\n",
      "(to allow more performant data types, such as the Arrow string type, and better interoperability with other libraries)\n",
      "but was not found to be installed on your system.\n",
      "If this would cause problems for you,\n",
      "please provide us feedback at https://github.com/pandas-dev/pandas/issues/54466\n",
      "        \n",
      "  import pandas as pd\n"
     ]
    },
    {
     "name": "stdout",
     "output_type": "stream",
     "text": [
      "WARNING:tensorflow:From C:\\Users\\DLP\\miniconda3\\envs\\tf\\Lib\\site-packages\\keras\\src\\losses.py:2976: The name tf.losses.sparse_softmax_cross_entropy is deprecated. Please use tf.compat.v1.losses.sparse_softmax_cross_entropy instead.\n",
      "\n"
     ]
    }
   ],
   "source": [
    "import pandas as pd\n",
    "import numpy as np\n",
    "import keras\n",
    "import matplotlib.pyplot as plt\n",
    "\n",
    "from keras.datasets import cifar100\n",
    "from keras.utils import to_categorical\n",
    "from keras import Sequential\n",
    "from keras.layers import Conv2D, MaxPooling2D, Flatten, Dense, Dropout, BatchNormalization\n",
    "from livelossplot import PlotLossesKeras\n",
    "from keras.applications import ResNet50"
   ]
  },
  {
   "cell_type": "code",
   "execution_count": 2,
   "id": "afd5c9dd-1069-4511-95d9-7f20a9af5acb",
   "metadata": {},
   "outputs": [],
   "source": [
    "(X_train, y_train), (X_test, y_test) = cifar100.load_data()"
   ]
  },
  {
   "cell_type": "code",
   "execution_count": null,
   "id": "1db287a3-f39d-4b87-9d94-19ed20b7caaa",
   "metadata": {},
   "outputs": [],
   "source": []
  },
  {
   "cell_type": "markdown",
   "id": "9a6ad29b-66ce-4881-8cbb-2d0867cd4018",
   "metadata": {},
   "source": [
    "# Visualize data shape"
   ]
  },
  {
   "cell_type": "code",
   "execution_count": 3,
   "id": "f4220782-8cc8-4438-b642-a346564369eb",
   "metadata": {},
   "outputs": [
    {
     "name": "stdout",
     "output_type": "stream",
     "text": [
      "Train-set data shape =  (50000, 32, 32, 3)\n",
      "Train-set labels shape =  (50000, 1)\n",
      "Test-set data shape =  (10000, 32, 32, 3)\n",
      "Test-set data shape =  (10000, 1)\n",
      "Show Classes =  [ 0  1  2  3  4  5  6  7  8  9 10 11 12 13 14 15 16 17 18 19 20 21 22 23\n",
      " 24 25 26 27 28 29 30 31 32 33 34 35 36 37 38 39 40 41 42 43 44 45 46 47\n",
      " 48 49 50 51 52 53 54 55 56 57 58 59 60 61 62 63 64 65 66 67 68 69 70 71\n",
      " 72 73 74 75 76 77 78 79 80 81 82 83 84 85 86 87 88 89 90 91 92 93 94 95\n",
      " 96 97 98 99]\n",
      "Show Nr. of classes =  100\n"
     ]
    }
   ],
   "source": [
    "print(\"Train-set data shape = \", X_train.shape)\n",
    "print(\"Train-set labels shape = \", y_train.shape)\n",
    "\n",
    "print(\"Test-set data shape = \", X_test.shape)\n",
    "print(\"Test-set data shape = \", y_test.shape)\n",
    "\n",
    "nr_classes = len(np.unique(y_test))\n",
    "print(\"Show Classes = \", np.unique(y_test))\n",
    "print(\"Show Nr. of classes = \", nr_classes)"
   ]
  },
  {
   "cell_type": "code",
   "execution_count": null,
   "id": "6f044fcb-05bf-45d4-a9fe-751de065d9d5",
   "metadata": {},
   "outputs": [],
   "source": []
  },
  {
   "cell_type": "markdown",
   "id": "31741a21-e35d-4b04-b7f7-7bdc730f1ee8",
   "metadata": {},
   "source": [
    "# Display one of the samples"
   ]
  },
  {
   "cell_type": "code",
   "execution_count": 4,
   "id": "501f1eb6-d552-4054-ba04-831dc2f7ae38",
   "metadata": {},
   "outputs": [
    {
     "name": "stdout",
     "output_type": "stream",
     "text": [
      "(32, 32, 3)\n"
     ]
    }
   ],
   "source": [
    "#pick a sample\n",
    "image_idx=int(X_train.shape[0]/2)\n",
    "picture = X_train[image_idx]\n",
    "print(picture.shape)\n",
    "#picture = picture.reshape(28,28) "
   ]
  },
  {
   "cell_type": "code",
   "execution_count": 5,
   "id": "8148665c-7413-4114-9d10-ded6a9b4c496",
   "metadata": {},
   "outputs": [
    {
     "name": "stdout",
     "output_type": "stream",
     "text": [
      "Sample 25000, label = [3]\n"
     ]
    }
   ],
   "source": [
    "# Display the sample label\n",
    "lbl = y_train[image_idx]\n",
    "print(f\"Sample {image_idx}, label = {y_train[image_idx]}\")"
   ]
  },
  {
   "cell_type": "code",
   "execution_count": 6,
   "id": "42a9e9df-d463-4d3c-bac4-4a0b228f48ce",
   "metadata": {},
   "outputs": [
    {
     "data": {
      "image/png": "[encoded data removed]",
      "text/plain": [
       "<Figure size 640x480 with 1 Axes>"
      ]
     },
     "metadata": {},
     "output_type": "display_data"
    }
   ],
   "source": [
    "# Display the sample image\n",
    "plt.imshow(picture)\n",
    "plt.xticks([])\n",
    "plt.yticks([])\n",
    "plt.show() "
   ]
  },
  {
   "cell_type": "code",
   "execution_count": null,
   "id": "34c32f94-7f7f-467b-b0d1-bfd2a18a294b",
   "metadata": {},
   "outputs": [],
   "source": []
  },
  {
   "cell_type": "markdown",
   "id": "99bc34f6-0737-443e-be99-4168cbf0333e",
   "metadata": {},
   "source": [
    "# Convert the labels to categorical"
   ]
  },
  {
   "cell_type": "code",
   "execution_count": 7,
   "id": "de2f43e7-0ada-4a3f-ad9d-25c0e25eba7c",
   "metadata": {},
   "outputs": [],
   "source": [
    "y_train = to_categorical(y_train, nr_classes)\n",
    "y_test = to_categorical(y_test, nr_classes)"
   ]
  },
  {
   "cell_type": "markdown",
   "id": "f2704959-c593-41d6-9400-bb96a3f44363",
   "metadata": {},
   "source": [
    "# Normalize the data between 0 and 1 (colors are coded from 0 to 255 so just divide by 255)"
   ]
  },
  {
   "cell_type": "code",
   "execution_count": 8,
   "id": "219f2672-a6f3-42e6-850c-ab288f8beefa",
   "metadata": {},
   "outputs": [],
   "source": [
    "X_train = X_train.astype('float32')/255\n",
    "X_test = X_test.astype('float32')/255"
   ]
  },
  {
   "cell_type": "code",
   "execution_count": null,
   "id": "88b4876f-4c3e-4c04-85e5-091626240c1d",
   "metadata": {},
   "outputs": [],
   "source": []
  },
  {
   "cell_type": "markdown",
   "id": "a0868c43-01c2-415b-b050-077e9269e9c3",
   "metadata": {},
   "source": [
    "### Define the CNN Architecture"
   ]
  },
  {
   "cell_type": "code",
   "execution_count": 9,
   "id": "431e1f6b-b625-4fa0-af95-d3c37bd5cf1e",
   "metadata": {},
   "outputs": [
    {
     "name": "stdout",
     "output_type": "stream",
     "text": [
      "WARNING:tensorflow:From C:\\Users\\DLP\\miniconda3\\envs\\tf\\Lib\\site-packages\\keras\\src\\backend.py:873: The name tf.get_default_graph is deprecated. Please use tf.compat.v1.get_default_graph instead.\n",
      "\n",
      "WARNING:tensorflow:From C:\\Users\\DLP\\miniconda3\\envs\\tf\\Lib\\site-packages\\keras\\src\\layers\\normalization\\batch_normalization.py:979: The name tf.nn.fused_batch_norm is deprecated. Please use tf.compat.v1.nn.fused_batch_norm instead.\n",
      "\n",
      "Downloading data from https://storage.googleapis.com/tensorflow/keras-applications/resnet/resnet50_weights_tf_dim_ordering_tf_kernels_notop.h5\n",
      "94765736/94765736 [==============================] - 47s 0us/step\n"
     ]
    }
   ],
   "source": [
    "model = Sequential()\n",
    "\n",
    "model.add(ResNet50(include_top=False, pooling='avg'))\n",
    "model.add(Flatten())\n",
    "model.add(BatchNormalization())\n",
    "model.add(Dense(2048, activation='relu'))\n",
    "model.add(BatchNormalization())\n",
    "model.add(Dense(1024, activation='relu'))\n",
    "model.add(BatchNormalization())\n",
    "model.add(Dense(nr_classes, activation='softmax'))"
   ]
  },
  {
   "cell_type": "code",
   "execution_count": 10,
   "id": "c9a3a531-c442-48ba-8a18-04ed0b94963b",
   "metadata": {},
   "outputs": [
    {
     "name": "stdout",
     "output_type": "stream",
     "text": [
      "WARNING:tensorflow:From C:\\Users\\DLP\\miniconda3\\envs\\tf\\Lib\\site-packages\\keras\\src\\optimizers\\__init__.py:309: The name tf.train.Optimizer is deprecated. Please use tf.compat.v1.train.Optimizer instead.\n",
      "\n",
      "Model: \"sequential\"\n",
      "_________________________________________________________________\n",
      " Layer (type)                Output Shape              Param #   \n",
      "=================================================================\n",
      " resnet50 (Functional)       (None, 2048)              23587712  \n",
      "                                                                 \n",
      " flatten (Flatten)           (None, 2048)              0         \n",
      "                                                                 \n",
      " batch_normalization (Batch  (None, 2048)              8192      \n",
      " Normalization)                                                  \n",
      "                                                                 \n",
      " dense (Dense)               (None, 2048)              4196352   \n",
      "                                                                 \n",
      " batch_normalization_1 (Bat  (None, 2048)              8192      \n",
      " chNormalization)                                                \n",
      "                                                                 \n",
      " dense_1 (Dense)             (None, 1024)              2098176   \n",
      "                                                                 \n",
      " batch_normalization_2 (Bat  (None, 1024)              4096      \n",
      " chNormalization)                                                \n",
      "                                                                 \n",
      " dense_2 (Dense)             (None, 100)               102500    \n",
      "                                                                 \n",
      "=================================================================\n",
      "Total params: 30005220 (114.46 MB)\n",
      "Trainable params: 29941860 (114.22 MB)\n",
      "Non-trainable params: 63360 (247.50 KB)\n",
      "_________________________________________________________________\n"
     ]
    }
   ],
   "source": [
    "model.compile(optimizer='adam', loss='categorical_crossentropy', metrics=['accuracy'])\n",
    "model.summary()"
   ]
  },
  {
   "cell_type": "code",
   "execution_count": null,
   "id": "f7fc5b09-1454-4c11-b0f8-b0d1dc6b638d",
   "metadata": {},
   "outputs": [],
   "source": []
  },
  {
   "cell_type": "markdown",
   "id": "955c3e14-d5a5-4ac6-a273-4630827ec90a",
   "metadata": {},
   "source": [
    "# Train the CNN"
   ]
  },
  {
   "cell_type": "code",
   "execution_count": null,
   "id": "914eb20c-615a-4fcd-9125-4fc24c3978cc",
   "metadata": {},
   "outputs": [
    {
     "name": "stdout",
     "output_type": "stream",
     "text": [
      "WARNING:tensorflow:From C:\\Users\\DLP\\miniconda3\\envs\\tf\\Lib\\site-packages\\keras\\src\\utils\\tf_utils.py:492: The name tf.ragged.RaggedTensorValue is deprecated. Please use tf.compat.v1.ragged.RaggedTensorValue instead.\n",
      "\n",
      "WARNING:tensorflow:From C:\\Users\\DLP\\miniconda3\\envs\\tf\\Lib\\site-packages\\keras\\src\\engine\\base_layer_utils.py:384: The name tf.executing_eagerly_outside_functions is deprecated. Please use tf.compat.v1.executing_eagerly_outside_functions instead.\n",
      "\n"
     ]
    }
   ],
   "source": [
    "model.fit(X_train, y_train,\n",
    "          epochs=100,\n",
    "          batch_size=32,\n",
    "          validation_data=(X_test, y_test),\n",
    "          callbacks=[PlotLossesKeras()],\n",
    "          verbose=0)"
   ]
  },
  {
   "cell_type": "code",
   "execution_count": null,
   "id": "76d81b8a-13d2-41dc-bf8c-b80d192c2e7a",
   "metadata": {},
   "outputs": [],
   "source": []
  },
  {
   "cell_type": "code",
   "execution_count": null,
   "id": "4698d6ca-a3da-492e-a0be-be40dfa0b07f",
   "metadata": {},
   "outputs": [],
   "source": [
    "# get the model's performance\n",
    "loss, accuracy = model.evaluate(X_test,y_test)"
   ]
  },
  {
   "cell_type": "code",
   "execution_count": null,
   "id": "60ac07ce-0b8c-49b5-84e3-1b0eb80202de",
   "metadata": {},
   "outputs": [],
   "source": [
    "print(f\"Loss (sparse_categorical_crossentropy) = {loss}\")\n",
    "print(f\"Accuracy = {accuracy}\")"
   ]
  },
  {
   "cell_type": "code",
   "execution_count": null,
   "id": "bcbac9db-3070-417f-9f1d-8c983244c6b8",
   "metadata": {},
   "outputs": [],
   "source": []
  }
 ],
 "metadata": {
  "kernelspec": {
   "display_name": "Python 3 (ipykernel)",
   "language": "python",
   "name": "python3"
  },
  "language_info": {
   "codemirror_mode": {
    "name": "ipython",
    "version": 3
   },
   "file_extension": ".py",
   "mimetype": "text/x-python",
   "name": "python",
   "nbconvert_exporter": "python",
   "pygments_lexer": "ipython3",
   "version": "3.11.7"
  }
 },
 "nbformat": 4,
 "nbformat_minor": 5
}
