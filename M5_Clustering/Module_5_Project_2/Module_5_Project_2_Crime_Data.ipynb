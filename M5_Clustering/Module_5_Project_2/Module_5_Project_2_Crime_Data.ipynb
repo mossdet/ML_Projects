{
 "cells": [
  {
   "cell_type": "code",
   "execution_count": 1,
   "id": "0ff5e0bd-377f-453c-8ce0-8fdaf68eb203",
   "metadata": {},
   "outputs": [],
   "source": [
    "import pandas as pd\n",
    "import numpy as np\n",
    "import seaborn as sns\n",
    "import matplotlib.pyplot as plt\n",
    "from sklearn.preprocessing import OneHotEncoder\n",
    "from sklearn.cluster import KMeans\n",
    "from sklearn.preprocessing import StandardScaler,MinMaxScaler\n",
    "from sklearn.metrics import silhouette_score"
   ]
  },
  {
   "cell_type": "markdown",
   "id": "12b81a88-c3f2-4ad4-8c56-699ae1c87740",
   "metadata": {},
   "source": [
    "#### Description\n",
    "\n",
    "In this project, you will practice techniques of Clustering under unsupervised machine learning using python with the Cambridge Crime Data dataset. The data contains a list of reported crimes in the annual crime report by the Cambridge police department from the year 2009 to 2016. The aim of the project is to divide the crimes into groups/clusters according to the crime type or crime column in the dataset and the neighborhood."
   ]
  },
  {
   "cell_type": "code",
   "execution_count": 2,
   "id": "e1744abb-07d6-4f8f-8d8a-ca800cf8823a",
   "metadata": {},
   "outputs": [
    {
     "data": {
      "text/html": [
       "<div>\n",
       "<style scoped>\n",
       "    .dataframe tbody tr th:only-of-type {\n",
       "        vertical-align: middle;\n",
       "    }\n",
       "\n",
       "    .dataframe tbody tr th {\n",
       "        vertical-align: top;\n",
       "    }\n",
       "\n",
       "    .dataframe thead th {\n",
       "        text-align: right;\n",
       "    }\n",
       "</style>\n",
       "<table border=\"1\" class=\"dataframe\">\n",
       "  <thead>\n",
       "    <tr style=\"text-align: right;\">\n",
       "      <th></th>\n",
       "      <th>File Number</th>\n",
       "      <th>Date of Report</th>\n",
       "      <th>Crime Date Time</th>\n",
       "      <th>Crime</th>\n",
       "      <th>Reporting Area</th>\n",
       "      <th>Neighborhood</th>\n",
       "      <th>Location</th>\n",
       "    </tr>\n",
       "  </thead>\n",
       "  <tbody>\n",
       "    <tr>\n",
       "      <th>0</th>\n",
       "      <td>2009-00002</td>\n",
       "      <td>01/01/2009 12:39:00 AM</td>\n",
       "      <td>1/1/09 0:39</td>\n",
       "      <td>Simple Assault</td>\n",
       "      <td>504.0</td>\n",
       "      <td>Cambridgeport</td>\n",
       "      <td>400 Massachusetts Avenue, Cambridge, MA</td>\n",
       "    </tr>\n",
       "    <tr>\n",
       "      <th>1</th>\n",
       "      <td>2009-00003</td>\n",
       "      <td>01/01/2009 01:34:00 AM</td>\n",
       "      <td>1/1/09 1:34</td>\n",
       "      <td>Simple Assault</td>\n",
       "      <td>610.0</td>\n",
       "      <td>Mid-Cambridge</td>\n",
       "      <td>200 HAMPSHIRE STREET, Cambridge, MA</td>\n",
       "    </tr>\n",
       "    <tr>\n",
       "      <th>2</th>\n",
       "      <td>2009-00004</td>\n",
       "      <td>01/01/2009 01:43:00 AM</td>\n",
       "      <td>01/01/2009 02:20 - 02:35</td>\n",
       "      <td>Aggravated Assault</td>\n",
       "      <td>708.0</td>\n",
       "      <td>Riverside</td>\n",
       "      <td>DUNSTER STREET &amp; MOUNT AUBURN STREET, Cambridg...</td>\n",
       "    </tr>\n",
       "    <tr>\n",
       "      <th>3</th>\n",
       "      <td>2009-00005</td>\n",
       "      <td>01/01/2009 02:27:00 AM</td>\n",
       "      <td>01/01/2009 02:20 - 02:45</td>\n",
       "      <td>Simple Assault</td>\n",
       "      <td>105.0</td>\n",
       "      <td>East Cambridge</td>\n",
       "      <td>100 SCIARAPPA STREET, Cambridge, MA</td>\n",
       "    </tr>\n",
       "    <tr>\n",
       "      <th>4</th>\n",
       "      <td>2009-00006</td>\n",
       "      <td>01/01/2009 02:34:00 AM</td>\n",
       "      <td>01/01/2009 02:15 - 02:35</td>\n",
       "      <td>Disorderly</td>\n",
       "      <td>708.0</td>\n",
       "      <td>Riverside</td>\n",
       "      <td>1200 Massachusetts Avenue, Cambridge, MA</td>\n",
       "    </tr>\n",
       "    <tr>\n",
       "      <th>5</th>\n",
       "      <td>2009-00007</td>\n",
       "      <td>01/01/2009 02:45:00 AM</td>\n",
       "      <td>1/1/09 2:45</td>\n",
       "      <td>Missing Person</td>\n",
       "      <td>507.0</td>\n",
       "      <td>Cambridgeport</td>\n",
       "      <td>0 WOODROW WILSON COURT, Cambridge, MA</td>\n",
       "    </tr>\n",
       "    <tr>\n",
       "      <th>6</th>\n",
       "      <td>2009-00008</td>\n",
       "      <td>01/01/2009 02:37:00 AM</td>\n",
       "      <td>1/1/09 2:37</td>\n",
       "      <td>Mal. Dest. Property</td>\n",
       "      <td>1108.0</td>\n",
       "      <td>North Cambridge</td>\n",
       "      <td>100 MONTGOMERY STREET, Cambridge, MA</td>\n",
       "    </tr>\n",
       "    <tr>\n",
       "      <th>7</th>\n",
       "      <td>2009-00009</td>\n",
       "      <td>01/01/2009 10:42:00 AM</td>\n",
       "      <td>01/01/2009 10:30 - 10:42</td>\n",
       "      <td>Simple Assault</td>\n",
       "      <td>411.0</td>\n",
       "      <td>Area 4</td>\n",
       "      <td>600 Massachusetts Avenue, Cambridge, MA</td>\n",
       "    </tr>\n",
       "    <tr>\n",
       "      <th>8</th>\n",
       "      <td>2009-00010</td>\n",
       "      <td>01/01/2009 10:47:00 AM</td>\n",
       "      <td>01/01/2009 10:35 - 10:47</td>\n",
       "      <td>Shoplifting</td>\n",
       "      <td>1201.0</td>\n",
       "      <td>Highlands</td>\n",
       "      <td>200 ALEWIFE BROOK PKY, Cambridge, MA</td>\n",
       "    </tr>\n",
       "    <tr>\n",
       "      <th>9</th>\n",
       "      <td>2009-00011</td>\n",
       "      <td>01/01/2009 12:37:00 PM</td>\n",
       "      <td>12/31/2008 10:00 - 01/01/2009 10:00</td>\n",
       "      <td>Hit and Run</td>\n",
       "      <td>510.0</td>\n",
       "      <td>Cambridgeport</td>\n",
       "      <td>FAIRMONT Avenue &amp; Fairmont STREET, Cambridge, MA</td>\n",
       "    </tr>\n",
       "  </tbody>\n",
       "</table>\n",
       "</div>"
      ],
      "text/plain": [
       "  File Number          Date of Report                      Crime Date Time  \\\n",
       "0  2009-00002  01/01/2009 12:39:00 AM                          1/1/09 0:39   \n",
       "1  2009-00003  01/01/2009 01:34:00 AM                          1/1/09 1:34   \n",
       "2  2009-00004  01/01/2009 01:43:00 AM             01/01/2009 02:20 - 02:35   \n",
       "3  2009-00005  01/01/2009 02:27:00 AM             01/01/2009 02:20 - 02:45   \n",
       "4  2009-00006  01/01/2009 02:34:00 AM             01/01/2009 02:15 - 02:35   \n",
       "5  2009-00007  01/01/2009 02:45:00 AM                          1/1/09 2:45   \n",
       "6  2009-00008  01/01/2009 02:37:00 AM                          1/1/09 2:37   \n",
       "7  2009-00009  01/01/2009 10:42:00 AM             01/01/2009 10:30 - 10:42   \n",
       "8  2009-00010  01/01/2009 10:47:00 AM             01/01/2009 10:35 - 10:47   \n",
       "9  2009-00011  01/01/2009 12:37:00 PM  12/31/2008 10:00 - 01/01/2009 10:00   \n",
       "\n",
       "                 Crime  Reporting Area     Neighborhood  \\\n",
       "0       Simple Assault           504.0    Cambridgeport   \n",
       "1       Simple Assault           610.0    Mid-Cambridge   \n",
       "2   Aggravated Assault           708.0        Riverside   \n",
       "3       Simple Assault           105.0   East Cambridge   \n",
       "4           Disorderly           708.0        Riverside   \n",
       "5       Missing Person           507.0    Cambridgeport   \n",
       "6  Mal. Dest. Property          1108.0  North Cambridge   \n",
       "7       Simple Assault           411.0           Area 4   \n",
       "8          Shoplifting          1201.0        Highlands   \n",
       "9          Hit and Run           510.0    Cambridgeport   \n",
       "\n",
       "                                            Location  \n",
       "0            400 Massachusetts Avenue, Cambridge, MA  \n",
       "1                200 HAMPSHIRE STREET, Cambridge, MA  \n",
       "2  DUNSTER STREET & MOUNT AUBURN STREET, Cambridg...  \n",
       "3                100 SCIARAPPA STREET, Cambridge, MA  \n",
       "4           1200 Massachusetts Avenue, Cambridge, MA  \n",
       "5              0 WOODROW WILSON COURT, Cambridge, MA  \n",
       "6               100 MONTGOMERY STREET, Cambridge, MA  \n",
       "7            600 Massachusetts Avenue, Cambridge, MA  \n",
       "8               200 ALEWIFE BROOK PKY, Cambridge, MA  \n",
       "9   FAIRMONT Avenue & Fairmont STREET, Cambridge, MA  "
      ]
     },
     "execution_count": 2,
     "metadata": {},
     "output_type": "execute_result"
    }
   ],
   "source": [
    "df_raw = pd.read_csv(\"Data/Cambridge Crime Data 2009-2016.csv\")\n",
    "df_raw.head(10)"
   ]
  },
  {
   "cell_type": "code",
   "execution_count": 3,
   "id": "32b7425f-475b-4f0c-a6c4-3c74d9d11ade",
   "metadata": {},
   "outputs": [
    {
     "name": "stdout",
     "output_type": "stream",
     "text": [
      "<class 'pandas.core.frame.DataFrame'>\n",
      "RangeIndex: 56014 entries, 0 to 56013\n",
      "Data columns (total 7 columns):\n",
      " #   Column           Non-Null Count  Dtype  \n",
      "---  ------           --------------  -----  \n",
      " 0   File Number      56014 non-null  object \n",
      " 1   Date of Report   56014 non-null  object \n",
      " 2   Crime Date Time  56014 non-null  object \n",
      " 3   Crime            56014 non-null  object \n",
      " 4   Reporting Area   56012 non-null  float64\n",
      " 5   Neighborhood     56012 non-null  object \n",
      " 6   Location         55931 non-null  object \n",
      "dtypes: float64(1), object(6)\n",
      "memory usage: 3.0+ MB\n"
     ]
    },
    {
     "data": {
      "text/plain": [
       "None"
      ]
     },
     "metadata": {},
     "output_type": "display_data"
    },
    {
     "name": "stdout",
     "output_type": "stream",
     "text": [
      "\n",
      "\n"
     ]
    },
    {
     "data": {
      "text/plain": [
       "File Number         0\n",
       "Date of Report      0\n",
       "Crime Date Time     0\n",
       "Crime               0\n",
       "Reporting Area      2\n",
       "Neighborhood        2\n",
       "Location           83\n",
       "dtype: int64"
      ]
     },
     "metadata": {},
     "output_type": "display_data"
    }
   ],
   "source": [
    "display(df_raw.info())\n",
    "print(\"\\n\")\n",
    "display(df_raw.isna().sum())"
   ]
  },
  {
   "cell_type": "code",
   "execution_count": 4,
   "id": "8c450d00-d3f1-473b-8930-06bd5a26ed5a",
   "metadata": {},
   "outputs": [
    {
     "name": "stdout",
     "output_type": "stream",
     "text": [
      "<class 'pandas.core.frame.DataFrame'>\n",
      "Index: 55929 entries, 0 to 56013\n",
      "Data columns (total 7 columns):\n",
      " #   Column           Non-Null Count  Dtype  \n",
      "---  ------           --------------  -----  \n",
      " 0   File Number      55929 non-null  object \n",
      " 1   Date of Report   55929 non-null  object \n",
      " 2   Crime Date Time  55929 non-null  object \n",
      " 3   Crime            55929 non-null  object \n",
      " 4   Reporting Area   55929 non-null  float64\n",
      " 5   Neighborhood     55929 non-null  object \n",
      " 6   Location         55929 non-null  object \n",
      "dtypes: float64(1), object(6)\n",
      "memory usage: 3.4+ MB\n"
     ]
    },
    {
     "data": {
      "text/plain": [
       "None"
      ]
     },
     "metadata": {},
     "output_type": "display_data"
    },
    {
     "name": "stdout",
     "output_type": "stream",
     "text": [
      "\n",
      "\n"
     ]
    },
    {
     "data": {
      "text/plain": [
       "File Number        0\n",
       "Date of Report     0\n",
       "Crime Date Time    0\n",
       "Crime              0\n",
       "Reporting Area     0\n",
       "Neighborhood       0\n",
       "Location           0\n",
       "dtype: int64"
      ]
     },
     "metadata": {},
     "output_type": "display_data"
    }
   ],
   "source": [
    "df_raw.dropna(inplace=True)\n",
    "display(df_raw.info())\n",
    "print(\"\\n\")\n",
    "display(df_raw.isna().sum())"
   ]
  },
  {
   "cell_type": "code",
   "execution_count": null,
   "id": "92729c53-d41a-4cd5-8037-e4f25466b5ab",
   "metadata": {},
   "outputs": [],
   "source": []
  },
  {
   "cell_type": "code",
   "execution_count": 5,
   "id": "c0ee7880-0618-441d-8df8-da51462c8bf4",
   "metadata": {},
   "outputs": [],
   "source": [
    "def kmeans_cluster_data(data):\n",
    "    # K-Means\n",
    "    inertias_log = {'k':[], 'inertia':[]}\n",
    "    for k in range(2, 100):\n",
    "        model = KMeans(n_clusters=k, init='k-means++', n_init='auto', max_iter=1000).fit(data)\n",
    "        inertias_log['k'].append(k)\n",
    "        inertias_log['inertia'].append(model.inertia_)\n",
    "\n",
    "    #  Find best K automatically basd on inertia decrease at each K\n",
    "    last_inertia = 1e16\n",
    "    best_k = 0\n",
    "    for i, current_inertia in enumerate(inertias_log['inertia']):\n",
    "\n",
    "        k = inertias_log['k'][i]                  \n",
    "        inertia_desc = (last_inertia-current_inertia) > 0\n",
    "        inertia_decrease_perc = 100*(last_inertia-current_inertia)/last_inertia\n",
    "        inertia_decrease_th = inertia_decrease_perc > 5\n",
    "        last_inertia = current_inertia\n",
    "\n",
    "        #print(\"K = \", k)\n",
    "        #print(\"inertia_decrease_perc = \", inertia_decrease_perc)\n",
    "        #print(\"last_inertia = \", last_inertia)\n",
    "        #print(\"Inertia decrease = \", ((last_inertia-current_inertia)/last_inertia))\n",
    "\n",
    "        if inertia_desc and inertia_decrease_th:\n",
    "            best_k = k\n",
    "        \n",
    "\n",
    "    best_model = KMeans(n_clusters=best_k, init='k-means++', n_init='auto', max_iter=1000).fit(data)\n",
    "    clustered_labels = best_model.labels_\n",
    "\n",
    "    return clustered_labels, best_k, inertias_log"
   ]
  },
  {
   "cell_type": "code",
   "execution_count": 6,
   "id": "2588ddf1-b950-4be0-927c-051f96859d0d",
   "metadata": {},
   "outputs": [
    {
     "data": {
      "text/plain": [
       "'Nr. Crime Types = '"
      ]
     },
     "metadata": {},
     "output_type": "display_data"
    },
    {
     "data": {
      "text/plain": [
       "54"
      ]
     },
     "metadata": {},
     "output_type": "display_data"
    },
    {
     "data": {
      "text/plain": [
       "'Nr. Neighborhoods = '"
      ]
     },
     "metadata": {},
     "output_type": "display_data"
    },
    {
     "data": {
      "text/plain": [
       "13"
      ]
     },
     "metadata": {},
     "output_type": "display_data"
    }
   ],
   "source": [
    "df = df_raw[['Crime', 'Neighborhood']]\n",
    "display(\"Nr. Crime Types = \", len(df['Crime'].unique()))\n",
    "display(\"Nr. Neighborhoods = \", len(df['Neighborhood'].unique()))"
   ]
  },
  {
   "cell_type": "code",
   "execution_count": 7,
   "id": "7442bae7-9dce-4c3a-82ff-2612861eae5a",
   "metadata": {},
   "outputs": [],
   "source": [
    "encoder = OneHotEncoder()\n",
    "encoded_data = encoder.fit_transform(df.values)\n",
    "clustered_labels, best_k, inertias_log = kmeans_cluster_data(encoded_data)"
   ]
  },
  {
   "cell_type": "code",
   "execution_count": 8,
   "id": "3430537c-efd1-45bc-9c5b-5ad0681d4886",
   "metadata": {},
   "outputs": [
    {
     "data": {
      "text/plain": [
       "Text(0.5, 1.0, 'Elbow Plot\\nBest K = 56')"
      ]
     },
     "execution_count": 8,
     "metadata": {},
     "output_type": "execute_result"
    },
    {
     "data": {
      "image/png": "[encoded data removed]",
      "text/plain": [
       "<Figure size 640x480 with 1 Axes>"
      ]
     },
     "metadata": {},
     "output_type": "display_data"
    }
   ],
   "source": [
    "sns.lineplot(data=pd.DataFrame(inertias_log), x='k', y='inertia')\n",
    "plt.title(f\"Elbow Plot\\nBest K = {best_k}\")"
   ]
  },
  {
   "cell_type": "code",
   "execution_count": 9,
   "id": "85b96d1f-d01c-4a12-8d4f-04c221b43d8b",
   "metadata": {},
   "outputs": [],
   "source": [
    "#df_scatter = {'labels':clustered_labels, }"
   ]
  },
  {
   "cell_type": "code",
   "execution_count": null,
   "id": "fa6f39e6-f64b-4560-bd33-7e5c29464a08",
   "metadata": {},
   "outputs": [],
   "source": []
  }
 ],
 "metadata": {
  "kernelspec": {
   "display_name": "Python 3 (ipykernel)",
   "language": "python",
   "name": "python3"
  },
  "language_info": {
   "codemirror_mode": {
    "name": "ipython",
    "version": 3
   },
   "file_extension": ".py",
   "mimetype": "text/x-python",
   "name": "python",
   "nbconvert_exporter": "python",
   "pygments_lexer": "ipython3",
   "version": "3.11.7"
  }
 },
 "nbformat": 4,
 "nbformat_minor": 5
}
