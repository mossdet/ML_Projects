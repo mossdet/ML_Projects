{
 "cells": [
  {
   "cell_type": "code",
   "execution_count": 17,
   "id": "fa0bf876-5921-4d76-a677-5d81e74bc791",
   "metadata": {},
   "outputs": [],
   "source": [
    "import pandas as pd\n",
    "import numpy as np\n",
    "import matplotlib.pyplot as plt\n",
    "import seaborn as sns\n",
    "import optuna\n",
    "from  joblib import dump, load\n",
    "from sklearn.cluster import KMeans\n",
    "from sklearn.metrics import silhouette_samples, silhouette_score\n",
    "from sklearn.preprocessing import StandardScaler, MinMaxScaler"
   ]
  },
  {
   "cell_type": "markdown",
   "id": "d8a94a08-e0a2-406b-961c-bd6a277b5f09",
   "metadata": {},
   "source": [
    "# Wholesale customers Data Set\n",
    "Annual spending in monetary units of clients of a wholesale distributor\n",
    "The dataset refers to clients of a wholesale distributor. It includes the annual spending in monetary units (m.u.) on diverse product categories\n",
    "Source: UCI Wholesale customers Data Set\n",
    "\n",
    "Data set link: https://www.kaggle.com/datasets/binovi/wholesale-customers-data-set\n",
    "\n",
    "\n",
    "### Data Description:\n",
    "**Channel**: Horeca (Hotel/Restaurant/Cafe or Retail channel (Nominal)\n",
    "\n",
    "**Region** : Lisnon, Oporto or Other (Nominal)\n",
    "\n",
    "**Fresh** : annual spending (m.u.) on fresh products (Continuous)\n",
    "\n",
    "**Milk** : annual spending (m.u.) on milk products (Continuous)\n",
    "\n",
    "**Grocery** : annual spending (m.u.)on grocery products (Continuous)\n",
    "\n",
    "**Frozen** : annual spending (m.u.)on frozen products (Continuous)\n",
    "\n",
    "**Detergents_Paper** : annual spending (m.u.) on detergents and paper products (Continuous)\n",
    "\n",
    "**Delicassen** : annual spending (m.u.)on and delicatessen products (Continuous)\n",
    "\n",
    "<br /><br />\n",
    "Expected Output\n",
    "- Multiple Dunn Index measures resembling corresponding the different k used for K-Means clustering the dataset.\n",
    "- An output plot of the elbow curve.\n",
    "- The best k chosen based on the elbow curve plot.\n",
    "- Output predicted clusters for the first 10 data samples."
   ]
  },
  {
   "cell_type": "code",
   "execution_count": 2,
   "id": "c809d2ad-4316-4da7-a870-f8466d056e49",
   "metadata": {},
   "outputs": [
    {
     "data": {
      "text/html": [
       "<div>\n",
       "<style scoped>\n",
       "    .dataframe tbody tr th:only-of-type {\n",
       "        vertical-align: middle;\n",
       "    }\n",
       "\n",
       "    .dataframe tbody tr th {\n",
       "        vertical-align: top;\n",
       "    }\n",
       "\n",
       "    .dataframe thead th {\n",
       "        text-align: right;\n",
       "    }\n",
       "</style>\n",
       "<table border=\"1\" class=\"dataframe\">\n",
       "  <thead>\n",
       "    <tr style=\"text-align: right;\">\n",
       "      <th></th>\n",
       "      <th>Channel</th>\n",
       "      <th>Region</th>\n",
       "      <th>Fresh</th>\n",
       "      <th>Milk</th>\n",
       "      <th>Grocery</th>\n",
       "      <th>Frozen</th>\n",
       "      <th>Detergents_Paper</th>\n",
       "      <th>Delicassen</th>\n",
       "    </tr>\n",
       "  </thead>\n",
       "  <tbody>\n",
       "    <tr>\n",
       "      <th>0</th>\n",
       "      <td>2</td>\n",
       "      <td>3</td>\n",
       "      <td>12669</td>\n",
       "      <td>9656</td>\n",
       "      <td>7561</td>\n",
       "      <td>214</td>\n",
       "      <td>2674</td>\n",
       "      <td>1338</td>\n",
       "    </tr>\n",
       "    <tr>\n",
       "      <th>1</th>\n",
       "      <td>2</td>\n",
       "      <td>3</td>\n",
       "      <td>7057</td>\n",
       "      <td>9810</td>\n",
       "      <td>9568</td>\n",
       "      <td>1762</td>\n",
       "      <td>3293</td>\n",
       "      <td>1776</td>\n",
       "    </tr>\n",
       "    <tr>\n",
       "      <th>2</th>\n",
       "      <td>2</td>\n",
       "      <td>3</td>\n",
       "      <td>6353</td>\n",
       "      <td>8808</td>\n",
       "      <td>7684</td>\n",
       "      <td>2405</td>\n",
       "      <td>3516</td>\n",
       "      <td>7844</td>\n",
       "    </tr>\n",
       "    <tr>\n",
       "      <th>3</th>\n",
       "      <td>1</td>\n",
       "      <td>3</td>\n",
       "      <td>13265</td>\n",
       "      <td>1196</td>\n",
       "      <td>4221</td>\n",
       "      <td>6404</td>\n",
       "      <td>507</td>\n",
       "      <td>1788</td>\n",
       "    </tr>\n",
       "    <tr>\n",
       "      <th>4</th>\n",
       "      <td>2</td>\n",
       "      <td>3</td>\n",
       "      <td>22615</td>\n",
       "      <td>5410</td>\n",
       "      <td>7198</td>\n",
       "      <td>3915</td>\n",
       "      <td>1777</td>\n",
       "      <td>5185</td>\n",
       "    </tr>\n",
       "    <tr>\n",
       "      <th>5</th>\n",
       "      <td>2</td>\n",
       "      <td>3</td>\n",
       "      <td>9413</td>\n",
       "      <td>8259</td>\n",
       "      <td>5126</td>\n",
       "      <td>666</td>\n",
       "      <td>1795</td>\n",
       "      <td>1451</td>\n",
       "    </tr>\n",
       "    <tr>\n",
       "      <th>6</th>\n",
       "      <td>2</td>\n",
       "      <td>3</td>\n",
       "      <td>12126</td>\n",
       "      <td>3199</td>\n",
       "      <td>6975</td>\n",
       "      <td>480</td>\n",
       "      <td>3140</td>\n",
       "      <td>545</td>\n",
       "    </tr>\n",
       "    <tr>\n",
       "      <th>7</th>\n",
       "      <td>2</td>\n",
       "      <td>3</td>\n",
       "      <td>7579</td>\n",
       "      <td>4956</td>\n",
       "      <td>9426</td>\n",
       "      <td>1669</td>\n",
       "      <td>3321</td>\n",
       "      <td>2566</td>\n",
       "    </tr>\n",
       "    <tr>\n",
       "      <th>8</th>\n",
       "      <td>1</td>\n",
       "      <td>3</td>\n",
       "      <td>5963</td>\n",
       "      <td>3648</td>\n",
       "      <td>6192</td>\n",
       "      <td>425</td>\n",
       "      <td>1716</td>\n",
       "      <td>750</td>\n",
       "    </tr>\n",
       "    <tr>\n",
       "      <th>9</th>\n",
       "      <td>2</td>\n",
       "      <td>3</td>\n",
       "      <td>6006</td>\n",
       "      <td>11093</td>\n",
       "      <td>18881</td>\n",
       "      <td>1159</td>\n",
       "      <td>7425</td>\n",
       "      <td>2098</td>\n",
       "    </tr>\n",
       "  </tbody>\n",
       "</table>\n",
       "</div>"
      ],
      "text/plain": [
       "   Channel  Region  Fresh   Milk  Grocery  Frozen  Detergents_Paper  \\\n",
       "0        2       3  12669   9656     7561     214              2674   \n",
       "1        2       3   7057   9810     9568    1762              3293   \n",
       "2        2       3   6353   8808     7684    2405              3516   \n",
       "3        1       3  13265   1196     4221    6404               507   \n",
       "4        2       3  22615   5410     7198    3915              1777   \n",
       "5        2       3   9413   8259     5126     666              1795   \n",
       "6        2       3  12126   3199     6975     480              3140   \n",
       "7        2       3   7579   4956     9426    1669              3321   \n",
       "8        1       3   5963   3648     6192     425              1716   \n",
       "9        2       3   6006  11093    18881    1159              7425   \n",
       "\n",
       "   Delicassen  \n",
       "0        1338  \n",
       "1        1776  \n",
       "2        7844  \n",
       "3        1788  \n",
       "4        5185  \n",
       "5        1451  \n",
       "6         545  \n",
       "7        2566  \n",
       "8         750  \n",
       "9        2098  "
      ]
     },
     "execution_count": 2,
     "metadata": {},
     "output_type": "execute_result"
    }
   ],
   "source": [
    "df_raw = pd.read_csv(\"Data/Wholesale_Customers_Data.csv\")\n",
    "df_raw.head(10)"
   ]
  },
  {
   "cell_type": "markdown",
   "id": "01ee17a2-ea2f-4eb4-868e-b39b71ccee8a",
   "metadata": {},
   "source": [
    "### Look for NaN values and drop them"
   ]
  },
  {
   "cell_type": "code",
   "execution_count": 3,
   "id": "dec2ae22-aabc-4ba3-a80a-1b868381518f",
   "metadata": {},
   "outputs": [
    {
     "name": "stdout",
     "output_type": "stream",
     "text": [
      "<class 'pandas.core.frame.DataFrame'>\n",
      "RangeIndex: 440 entries, 0 to 439\n",
      "Data columns (total 8 columns):\n",
      " #   Column            Non-Null Count  Dtype\n",
      "---  ------            --------------  -----\n",
      " 0   Channel           440 non-null    int64\n",
      " 1   Region            440 non-null    int64\n",
      " 2   Fresh             440 non-null    int64\n",
      " 3   Milk              440 non-null    int64\n",
      " 4   Grocery           440 non-null    int64\n",
      " 5   Frozen            440 non-null    int64\n",
      " 6   Detergents_Paper  440 non-null    int64\n",
      " 7   Delicassen        440 non-null    int64\n",
      "dtypes: int64(8)\n",
      "memory usage: 27.6 KB\n"
     ]
    },
    {
     "data": {
      "text/plain": [
       "None"
      ]
     },
     "metadata": {},
     "output_type": "display_data"
    },
    {
     "name": "stdout",
     "output_type": "stream",
     "text": [
      "\n",
      "\n"
     ]
    },
    {
     "data": {
      "text/plain": [
       "Channel             0\n",
       "Region              0\n",
       "Fresh               0\n",
       "Milk                0\n",
       "Grocery             0\n",
       "Frozen              0\n",
       "Detergents_Paper    0\n",
       "Delicassen          0\n",
       "dtype: int64"
      ]
     },
     "metadata": {},
     "output_type": "display_data"
    }
   ],
   "source": [
    "display(df_raw.info())\n",
    "print(\"\\n\")\n",
    "display(df_raw.isna().sum())"
   ]
  },
  {
   "cell_type": "markdown",
   "id": "26710ce9-22de-4802-b675-896e28b0c965",
   "metadata": {},
   "source": [
    "## Cluster the data without considering the Channel and Region "
   ]
  },
  {
   "cell_type": "code",
   "execution_count": 18,
   "id": "1659c5d0-c90c-4567-a57d-559e6d0a6554",
   "metadata": {},
   "outputs": [],
   "source": [
    "# Scale each column \n",
    "df = df_raw.copy()\n",
    "for col in df:\n",
    "    df.loc[:,col] = MinMaxScaler().fit_transform(df.loc[:,col].values.reshape(-1, 1))\n",
    "    \n",
    "X = df.drop(columns=['Channel', 'Region']).values"
   ]
  },
  {
   "cell_type": "markdown",
   "id": "a9bfb889-3ba6-41d9-9b89-ef74014d8250",
   "metadata": {},
   "source": [
    "### Define objective funcions for hyperparameter tuning"
   ]
  },
  {
   "cell_type": "code",
   "execution_count": 19,
   "id": "6a6fe7a9-5b2c-4d73-be00-3b3c22faf0f1",
   "metadata": {},
   "outputs": [],
   "source": [
    "# Objective function for hyperparameter tuning of DecisionTree\n",
    "def objective(trial, X, n_clusters, random_state):\n",
    "    params = {        \n",
    "    \"init\": trial.suggest_categorical(\"init\", [\"k-means++\", \"random\"]),\n",
    "    \"tol\": trial.suggest_float(\"tol\", 1e-9, 1e9, log=True),\n",
    "    \"algorithm\": trial.suggest_categorical(\"algorithm\", [\"lloyd\", \"elkan\"]),\n",
    "    # Constants\n",
    "    \"n_clusters\": trial.suggest_categorical(\"n_clusters\", [n_clusters]),\n",
    "    \"n_init\": trial.suggest_categorical(\"n_init\", [10]),\n",
    "    \"max_iter\": trial.suggest_categorical(\"max_iter\", [1000]),\n",
    "    \"random_state\": trial.suggest_categorical(\"random_state\", [random_state]),\n",
    "    }\n",
    "    \n",
    "    cluster_model = KMeans(**params).fit(X)\n",
    "    silhouette_avg = silhouette_score(X, cluster_model.labels_)\n",
    "\n",
    "    trial.set_user_attr(\"cluster_model\", cluster_model)\n",
    "    \n",
    "    return silhouette_avg"
   ]
  },
  {
   "cell_type": "code",
   "execution_count": 20,
   "id": "073ce27c-ee92-4803-a21e-f680981ceef2",
   "metadata": {},
   "outputs": [],
   "source": [
    "random_state = 42\n",
    "optuna.logging.set_verbosity(optuna.logging.INFO)\n",
    "optuna.logging.set_verbosity(optuna.logging.WARNING)\n",
    "best_score = 0\n",
    "best_k = 2\n",
    "best_trial = []\n",
    "best_cluster_model  = []\n",
    "silhouette_score_log = {'n_k':[], 'silhouette_score':[], 'sse':[]}\n",
    "models_ls = []\n",
    "\n",
    "for k in range(2,11):\n",
    "    study = optuna.create_study(direction = \"maximize\")\n",
    "    func = lambda trial: objective(trial, X, k, random_state)\n",
    "    study.optimize(func, n_trials = 100, timeout=600)\n",
    "    silhouette_score_val = study.best_trial.value\n",
    "\n",
    "    cluster_model = study.best_trial.user_attrs['cluster_model']\n",
    "    sse_val = cluster_model.inertia_\n",
    "    silhouette_avg = silhouette_score(X, cluster_model.labels_)\n",
    "    \n",
    "    #print(\"K = \", k)\n",
    "    #print(\"Silhouette Score = \", silhouette_score_val)\n",
    "    silhouette_score_log['n_k'].append(k)\n",
    "    silhouette_score_log['silhouette_score'].append(silhouette_score_val)\n",
    "    silhouette_score_log['sse'].append(silhouette_score_val)\n",
    "\n",
    "    if silhouette_score_val > best_score:\n",
    "        best_score = silhouette_score_val\n",
    "        best_k = k\n",
    "        best_trial = study.best_trial\n",
    "        best_cluster_model = cluster_model"
   ]
  },
  {
   "cell_type": "code",
   "execution_count": 21,
   "id": "3aa974d2-ef6a-4c4e-8423-9b575ba6d97c",
   "metadata": {},
   "outputs": [
    {
     "name": "stdout",
     "output_type": "stream",
     "text": [
      "Best Silhouette Score was = 0.62 with K equals to 2\n",
      "\n",
      "First 10 sample labels are:  [1 1 1 1 1 1 1 1 1 1]\n",
      "Best Score Params: \n",
      "    init: random\n",
      "    tol: 0.8027843820552052\n",
      "    algorithm: lloyd\n",
      "    n_clusters: 2\n",
      "    n_init: 10\n",
      "    max_iter: 1000\n",
      "    random_state: 42\n"
     ]
    },
    {
     "data": {
      "text/plain": [
       "<Axes: xlabel='n_k', ylabel='silhouette_score'>"
      ]
     },
     "execution_count": 21,
     "metadata": {},
     "output_type": "execute_result"
    },
    {
     "data": {
      "image/png": "[encoded data removed]",
      "text/plain": [
       "<Figure size 640x480 with 1 Axes>"
      ]
     },
     "metadata": {},
     "output_type": "display_data"
    }
   ],
   "source": [
    "print(f\"Best Silhouette Score was = {best_score:.2f} with K equals to {best_k}\\n\")\n",
    "print(\"First 10 sample labels are: \", best_cluster_model.labels_[:10])\n",
    "\n",
    "print(\"Best Score Params: \")\n",
    "for key, value in best_trial.params.items():\n",
    "    print(\"    {}: {}\".format(key, value))\n",
    "\n",
    "sns.lineplot(data=pd.DataFrame(silhouette_score_log), x='n_k', y='silhouette_score')"
   ]
  },
  {
   "cell_type": "code",
   "execution_count": null,
   "id": "9e6a5f91-35b4-4fa5-8df7-6c2ae1a846f5",
   "metadata": {},
   "outputs": [],
   "source": []
  },
  {
   "cell_type": "markdown",
   "id": "e0d90c19-9f8c-4a55-8649-55a7ca0886df",
   "metadata": {},
   "source": [
    "## Combine the Channel and Region and then cluster the data again "
   ]
  },
  {
   "cell_type": "code",
   "execution_count": 22,
   "id": "356af394-d7e4-41e0-9aaf-5de008d402b9",
   "metadata": {},
   "outputs": [
    {
     "data": {
      "text/plain": [
       "array([3, 1, 2], dtype=int64)"
      ]
     },
     "metadata": {},
     "output_type": "display_data"
    },
    {
     "data": {
      "text/plain": [
       "array([2, 1], dtype=int64)"
      ]
     },
     "metadata": {},
     "output_type": "display_data"
    }
   ],
   "source": [
    "display(df_raw['Region'].unique())\n",
    "display(df_raw['Channel'].unique())"
   ]
  },
  {
   "cell_type": "code",
   "execution_count": 31,
   "id": "1ec98acd-3d16-4bba-9b94-1a852a422952",
   "metadata": {},
   "outputs": [
    {
     "data": {
      "text/html": [
       "<div>\n",
       "<style scoped>\n",
       "    .dataframe tbody tr th:only-of-type {\n",
       "        vertical-align: middle;\n",
       "    }\n",
       "\n",
       "    .dataframe tbody tr th {\n",
       "        vertical-align: top;\n",
       "    }\n",
       "\n",
       "    .dataframe thead th {\n",
       "        text-align: right;\n",
       "    }\n",
       "</style>\n",
       "<table border=\"1\" class=\"dataframe\">\n",
       "  <thead>\n",
       "    <tr style=\"text-align: right;\">\n",
       "      <th></th>\n",
       "      <th>Fresh</th>\n",
       "      <th>Milk</th>\n",
       "      <th>Grocery</th>\n",
       "      <th>Frozen</th>\n",
       "      <th>Detergents_Paper</th>\n",
       "      <th>Delicassen</th>\n",
       "      <th>Region_Chann</th>\n",
       "    </tr>\n",
       "  </thead>\n",
       "  <tbody>\n",
       "    <tr>\n",
       "      <th>0</th>\n",
       "      <td>12669</td>\n",
       "      <td>9656</td>\n",
       "      <td>7561</td>\n",
       "      <td>214</td>\n",
       "      <td>2674</td>\n",
       "      <td>1338</td>\n",
       "      <td>23</td>\n",
       "    </tr>\n",
       "    <tr>\n",
       "      <th>1</th>\n",
       "      <td>7057</td>\n",
       "      <td>9810</td>\n",
       "      <td>9568</td>\n",
       "      <td>1762</td>\n",
       "      <td>3293</td>\n",
       "      <td>1776</td>\n",
       "      <td>23</td>\n",
       "    </tr>\n",
       "    <tr>\n",
       "      <th>2</th>\n",
       "      <td>6353</td>\n",
       "      <td>8808</td>\n",
       "      <td>7684</td>\n",
       "      <td>2405</td>\n",
       "      <td>3516</td>\n",
       "      <td>7844</td>\n",
       "      <td>23</td>\n",
       "    </tr>\n",
       "    <tr>\n",
       "      <th>3</th>\n",
       "      <td>13265</td>\n",
       "      <td>1196</td>\n",
       "      <td>4221</td>\n",
       "      <td>6404</td>\n",
       "      <td>507</td>\n",
       "      <td>1788</td>\n",
       "      <td>13</td>\n",
       "    </tr>\n",
       "    <tr>\n",
       "      <th>4</th>\n",
       "      <td>22615</td>\n",
       "      <td>5410</td>\n",
       "      <td>7198</td>\n",
       "      <td>3915</td>\n",
       "      <td>1777</td>\n",
       "      <td>5185</td>\n",
       "      <td>23</td>\n",
       "    </tr>\n",
       "    <tr>\n",
       "      <th>5</th>\n",
       "      <td>9413</td>\n",
       "      <td>8259</td>\n",
       "      <td>5126</td>\n",
       "      <td>666</td>\n",
       "      <td>1795</td>\n",
       "      <td>1451</td>\n",
       "      <td>23</td>\n",
       "    </tr>\n",
       "    <tr>\n",
       "      <th>6</th>\n",
       "      <td>12126</td>\n",
       "      <td>3199</td>\n",
       "      <td>6975</td>\n",
       "      <td>480</td>\n",
       "      <td>3140</td>\n",
       "      <td>545</td>\n",
       "      <td>23</td>\n",
       "    </tr>\n",
       "    <tr>\n",
       "      <th>7</th>\n",
       "      <td>7579</td>\n",
       "      <td>4956</td>\n",
       "      <td>9426</td>\n",
       "      <td>1669</td>\n",
       "      <td>3321</td>\n",
       "      <td>2566</td>\n",
       "      <td>23</td>\n",
       "    </tr>\n",
       "    <tr>\n",
       "      <th>8</th>\n",
       "      <td>5963</td>\n",
       "      <td>3648</td>\n",
       "      <td>6192</td>\n",
       "      <td>425</td>\n",
       "      <td>1716</td>\n",
       "      <td>750</td>\n",
       "      <td>13</td>\n",
       "    </tr>\n",
       "    <tr>\n",
       "      <th>9</th>\n",
       "      <td>6006</td>\n",
       "      <td>11093</td>\n",
       "      <td>18881</td>\n",
       "      <td>1159</td>\n",
       "      <td>7425</td>\n",
       "      <td>2098</td>\n",
       "      <td>23</td>\n",
       "    </tr>\n",
       "  </tbody>\n",
       "</table>\n",
       "</div>"
      ],
      "text/plain": [
       "   Fresh   Milk  Grocery  Frozen  Detergents_Paper  Delicassen  Region_Chann\n",
       "0  12669   9656     7561     214              2674        1338            23\n",
       "1   7057   9810     9568    1762              3293        1776            23\n",
       "2   6353   8808     7684    2405              3516        7844            23\n",
       "3  13265   1196     4221    6404               507        1788            13\n",
       "4  22615   5410     7198    3915              1777        5185            23\n",
       "5   9413   8259     5126     666              1795        1451            23\n",
       "6  12126   3199     6975     480              3140         545            23\n",
       "7   7579   4956     9426    1669              3321        2566            23\n",
       "8   5963   3648     6192     425              1716         750            13\n",
       "9   6006  11093    18881    1159              7425        2098            23"
      ]
     },
     "execution_count": 31,
     "metadata": {},
     "output_type": "execute_result"
    }
   ],
   "source": [
    "df = df_raw.copy()\n",
    "\n",
    "df['Region_Chann'] = df['Region']+10*df['Channel']\n",
    "df.drop(columns=['Channel', 'Region'], inplace=True)\n",
    "df.head(10)"
   ]
  },
  {
   "cell_type": "code",
   "execution_count": 32,
   "id": "da213276-90fc-4b7e-9423-d15bb3e6162f",
   "metadata": {},
   "outputs": [],
   "source": [
    "# Scale each column \n",
    "for col in df:\n",
    "    df.loc[:,col] = MinMaxScaler().fit_transform(df.loc[:,col].values.reshape(-1, 1))\n",
    "    \n",
    "X = df.values"
   ]
  },
  {
   "cell_type": "code",
   "execution_count": 33,
   "id": "d8496342-7a80-4b06-841b-cf6b82a19b89",
   "metadata": {},
   "outputs": [],
   "source": [
    "random_state = 42\n",
    "optuna.logging.set_verbosity(optuna.logging.INFO)\n",
    "optuna.logging.set_verbosity(optuna.logging.WARNING)\n",
    "best_score = 0\n",
    "best_k = 2\n",
    "best_trial = []\n",
    "best_cluster_model  = []\n",
    "silhouette_score_log = {'n_k':[], 'silhouette_score':[], 'sse':[]}\n",
    "models_ls = []\n",
    "\n",
    "for k in range(2,11):\n",
    "    study = optuna.create_study(direction = \"maximize\")\n",
    "    func = lambda trial: objective(trial, X, k, random_state)\n",
    "    study.optimize(func, n_trials = 100, timeout=600)\n",
    "    silhouette_score_val = study.best_trial.value\n",
    "\n",
    "    cluster_model = study.best_trial.user_attrs['cluster_model']\n",
    "    sse_val = cluster_model.inertia_\n",
    "    silhouette_avg = silhouette_score(X, cluster_model.labels_)\n",
    "    \n",
    "    #print(\"K = \", k)\n",
    "    #print(\"Silhouette Score = \", silhouette_score_val)\n",
    "    silhouette_score_log['n_k'].append(k)\n",
    "    silhouette_score_log['silhouette_score'].append(silhouette_score_val)\n",
    "    silhouette_score_log['sse'].append(silhouette_score_val)\n",
    "\n",
    "    if silhouette_score_val > best_score:\n",
    "        best_score = silhouette_score_val\n",
    "        best_k = k\n",
    "        best_trial = study.best_trial\n",
    "        best_cluster_model = cluster_model"
   ]
  },
  {
   "cell_type": "code",
   "execution_count": 34,
   "id": "d2a657a8-d144-4073-9d80-b141e34ab5f3",
   "metadata": {},
   "outputs": [
    {
     "name": "stdout",
     "output_type": "stream",
     "text": [
      "Best Silhouette Score was = 0.74 with K equals to 2\n",
      "\n",
      "First 10 sample labels are:  [0 0 0 1 0 0 0 0 1 0]\n",
      "Best Score Params: \n",
      "    init: k-means++\n",
      "    tol: 0.017287822115632623\n",
      "    algorithm: lloyd\n",
      "    n_clusters: 2\n",
      "    n_init: 10\n",
      "    max_iter: 1000\n",
      "    random_state: 42\n"
     ]
    },
    {
     "data": {
      "text/plain": [
       "<Axes: xlabel='n_k', ylabel='silhouette_score'>"
      ]
     },
     "execution_count": 34,
     "metadata": {},
     "output_type": "execute_result"
    },
    {
     "data": {
      "image/png": "[encoded data removed]",
      "text/plain": [
       "<Figure size 640x480 with 1 Axes>"
      ]
     },
     "metadata": {},
     "output_type": "display_data"
    }
   ],
   "source": [
    "print(f\"Best Silhouette Score was = {best_score:.2f} with K equals to {best_k}\\n\")\n",
    "print(\"First 10 sample labels are: \", best_cluster_model.labels_[:10])\n",
    "\n",
    "print(\"Best Score Params: \")\n",
    "for key, value in best_trial.params.items():\n",
    "    print(\"    {}: {}\".format(key, value))\n",
    "\n",
    "sns.lineplot(data=pd.DataFrame(silhouette_score_log), x='n_k', y='silhouette_score')"
   ]
  },
  {
   "cell_type": "code",
   "execution_count": null,
   "id": "dfca2dce-0998-4491-80b6-dd48e9676c80",
   "metadata": {},
   "outputs": [],
   "source": []
  }
 ],
 "metadata": {
  "kernelspec": {
   "display_name": "Python 3 (ipykernel)",
   "language": "python",
   "name": "python3"
  },
  "language_info": {
   "codemirror_mode": {
    "name": "ipython",
    "version": 3
   },
   "file_extension": ".py",
   "mimetype": "text/x-python",
   "name": "python",
   "nbconvert_exporter": "python",
   "pygments_lexer": "ipython3",
   "version": "3.11.7"
  }
 },
 "nbformat": 4,
 "nbformat_minor": 5
}
