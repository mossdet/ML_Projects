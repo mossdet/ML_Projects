{
 "cells": [
  {
   "cell_type": "markdown",
   "id": "e3eaa900-383d-4e66-a9de-2aeb3e9a127f",
   "metadata": {},
   "source": [
    "### Classification Using Artificial Neural Networks from Sci-kit learn\n",
    "\n",
    "Use the Scikit-Learn MLP Classifier.\n",
    "Train your dataset.\n",
    "Get accuracy scores and confusion matrix.\n",
    "You need a minimum accuracy score of 94%\n",
    "\n",
    "Build another neural network using Keras.\n",
    "Re-train your dataset.\n",
    "Get accuracy scores and confusion matrix.\n",
    "Compare results with the outputs of the classifiers in through project 2.\n",
    "\n",
    "\n",
    "Split your data as follows:\n",
    "80% training set\n",
    "10% validation set\n",
    "10% test set"
   ]
  },
  {
   "cell_type": "code",
   "execution_count": 1,
   "id": "9a684989-2b06-487a-97dc-5bce214c3bc7",
   "metadata": {},
   "outputs": [],
   "source": [
    "import numpy as np\n",
    "import matplotlib.pyplot as plt\n",
    "import optuna\n",
    "\n",
    "from load_preprocessed_bcd import load_preprocessed_bcd\n",
    "from sklearn.model_selection import train_test_split\n",
    "from sklearn.neural_network import MLPClassifier\n",
    "from sklearn.metrics import confusion_matrix, classification_report\n",
    "\n"
   ]
  },
  {
   "cell_type": "markdown",
   "id": "5569cd25-312d-402f-aa96-5914c25e0985",
   "metadata": {},
   "source": [
    "# Load pre-processed breast cancer dataset using the wrapper function load_preprocessed_bcd()\n",
    "### The wrapper function returns four different dataframes. \n",
    "\n",
    "### All dataframes share these characteristics:\n",
    "- Data belongs to the breast cancer dataset.\n",
    "- Data is free of Null values.\n",
    "- Data is standardized using the Z-score.\n",
    "\n",
    "### Each dataframe differs by the dimensionality reduction used on it:\n",
    "- df_scaled: all features are kept\n",
    "- df_hypo: the kept features are those that show a significant difference (Mann Whitney-U test, p<0.001) between the groups Benign and Malign.\n",
    "- df_pca: tHe kept features are the prinicpal components that account for 95% of the data's variance.\n",
    "- df_correl: the kept features show a correlation with the target higher than 0.2, and a correlation with each other below 0.7"
   ]
  },
  {
   "cell_type": "code",
   "execution_count": 2,
   "id": "65f5f159-41f3-462c-b638-92b50fcb3fc5",
   "metadata": {},
   "outputs": [],
   "source": [
    "%%capture\n",
    "df_scaled, df_hypo, df_pca, df_correl = load_preprocessed_bcd()"
   ]
  },
  {
   "cell_type": "markdown",
   "id": "87df5fab-c018-4909-9819-e07be36b65e8",
   "metadata": {},
   "source": [
    "# 1. Use all features to discern between benign and malign breast measurements"
   ]
  },
  {
   "cell_type": "code",
   "execution_count": 3,
   "id": "c068ea99-fd84-4d4d-a157-2632aef9a0df",
   "metadata": {},
   "outputs": [
    {
     "name": "stdout",
     "output_type": "stream",
     "text": [
      "Nr. Features:  30\n"
     ]
    }
   ],
   "source": [
    "X = df_scaled.drop(columns=['diagnosis'])\n",
    "y = np.round(df_scaled['diagnosis']=='M').astype(int)\n",
    "print(\"Nr. Features: \", X.shape[1])"
   ]
  },
  {
   "cell_type": "code",
   "execution_count": 4,
   "id": "8ed23e34-b960-420c-8e80-51a4c5d82f24",
   "metadata": {},
   "outputs": [
    {
     "data": {
      "text/html": [
       "<div>\n",
       "<style scoped>\n",
       "    .dataframe tbody tr th:only-of-type {\n",
       "        vertical-align: middle;\n",
       "    }\n",
       "\n",
       "    .dataframe tbody tr th {\n",
       "        vertical-align: top;\n",
       "    }\n",
       "\n",
       "    .dataframe thead th {\n",
       "        text-align: right;\n",
       "    }\n",
       "</style>\n",
       "<table border=\"1\" class=\"dataframe\">\n",
       "  <thead>\n",
       "    <tr style=\"text-align: right;\">\n",
       "      <th></th>\n",
       "      <th>radius_mean</th>\n",
       "      <th>texture_mean</th>\n",
       "      <th>perimeter_mean</th>\n",
       "      <th>area_mean</th>\n",
       "      <th>smoothness_mean</th>\n",
       "      <th>compactness_mean</th>\n",
       "      <th>concavity_mean</th>\n",
       "      <th>concave points_mean</th>\n",
       "      <th>symmetry_mean</th>\n",
       "      <th>fractal_dimension_mean</th>\n",
       "      <th>...</th>\n",
       "      <th>radius_worst</th>\n",
       "      <th>texture_worst</th>\n",
       "      <th>perimeter_worst</th>\n",
       "      <th>area_worst</th>\n",
       "      <th>smoothness_worst</th>\n",
       "      <th>compactness_worst</th>\n",
       "      <th>concavity_worst</th>\n",
       "      <th>concave points_worst</th>\n",
       "      <th>symmetry_worst</th>\n",
       "      <th>fractal_dimension_worst</th>\n",
       "    </tr>\n",
       "  </thead>\n",
       "  <tbody>\n",
       "    <tr>\n",
       "      <th>0</th>\n",
       "      <td>1.097064</td>\n",
       "      <td>-2.073335</td>\n",
       "      <td>1.269934</td>\n",
       "      <td>0.984375</td>\n",
       "      <td>1.568466</td>\n",
       "      <td>3.283515</td>\n",
       "      <td>2.652874</td>\n",
       "      <td>2.532475</td>\n",
       "      <td>2.217515</td>\n",
       "      <td>2.255747</td>\n",
       "      <td>...</td>\n",
       "      <td>1.886690</td>\n",
       "      <td>-1.359293</td>\n",
       "      <td>2.303601</td>\n",
       "      <td>2.001237</td>\n",
       "      <td>1.307686</td>\n",
       "      <td>2.616665</td>\n",
       "      <td>2.109526</td>\n",
       "      <td>2.296076</td>\n",
       "      <td>2.750622</td>\n",
       "      <td>1.937015</td>\n",
       "    </tr>\n",
       "    <tr>\n",
       "      <th>1</th>\n",
       "      <td>1.829821</td>\n",
       "      <td>-0.353632</td>\n",
       "      <td>1.685955</td>\n",
       "      <td>1.908708</td>\n",
       "      <td>-0.826962</td>\n",
       "      <td>-0.487072</td>\n",
       "      <td>-0.023846</td>\n",
       "      <td>0.548144</td>\n",
       "      <td>0.001392</td>\n",
       "      <td>-0.868652</td>\n",
       "      <td>...</td>\n",
       "      <td>1.805927</td>\n",
       "      <td>-0.369203</td>\n",
       "      <td>1.535126</td>\n",
       "      <td>1.890489</td>\n",
       "      <td>-0.375612</td>\n",
       "      <td>-0.430444</td>\n",
       "      <td>-0.146749</td>\n",
       "      <td>1.087084</td>\n",
       "      <td>-0.243890</td>\n",
       "      <td>0.281190</td>\n",
       "    </tr>\n",
       "    <tr>\n",
       "      <th>2</th>\n",
       "      <td>1.579888</td>\n",
       "      <td>0.456187</td>\n",
       "      <td>1.566503</td>\n",
       "      <td>1.558884</td>\n",
       "      <td>0.942210</td>\n",
       "      <td>1.052926</td>\n",
       "      <td>1.363478</td>\n",
       "      <td>2.037231</td>\n",
       "      <td>0.939685</td>\n",
       "      <td>-0.398008</td>\n",
       "      <td>...</td>\n",
       "      <td>1.511870</td>\n",
       "      <td>-0.023974</td>\n",
       "      <td>1.347475</td>\n",
       "      <td>1.456285</td>\n",
       "      <td>0.527407</td>\n",
       "      <td>1.082932</td>\n",
       "      <td>0.854974</td>\n",
       "      <td>1.955000</td>\n",
       "      <td>1.152255</td>\n",
       "      <td>0.201391</td>\n",
       "    </tr>\n",
       "    <tr>\n",
       "      <th>3</th>\n",
       "      <td>-0.768909</td>\n",
       "      <td>0.253732</td>\n",
       "      <td>-0.592687</td>\n",
       "      <td>-0.764464</td>\n",
       "      <td>3.283553</td>\n",
       "      <td>3.402909</td>\n",
       "      <td>1.915897</td>\n",
       "      <td>1.451707</td>\n",
       "      <td>2.867383</td>\n",
       "      <td>4.910919</td>\n",
       "      <td>...</td>\n",
       "      <td>-0.281464</td>\n",
       "      <td>0.133984</td>\n",
       "      <td>-0.249939</td>\n",
       "      <td>-0.550021</td>\n",
       "      <td>3.394275</td>\n",
       "      <td>3.893397</td>\n",
       "      <td>1.989588</td>\n",
       "      <td>2.175786</td>\n",
       "      <td>6.046041</td>\n",
       "      <td>4.935010</td>\n",
       "    </tr>\n",
       "    <tr>\n",
       "      <th>4</th>\n",
       "      <td>1.750297</td>\n",
       "      <td>-1.151816</td>\n",
       "      <td>1.776573</td>\n",
       "      <td>1.826229</td>\n",
       "      <td>0.280372</td>\n",
       "      <td>0.539340</td>\n",
       "      <td>1.371011</td>\n",
       "      <td>1.428493</td>\n",
       "      <td>-0.009560</td>\n",
       "      <td>-0.562450</td>\n",
       "      <td>...</td>\n",
       "      <td>1.298575</td>\n",
       "      <td>-1.466770</td>\n",
       "      <td>1.338539</td>\n",
       "      <td>1.220724</td>\n",
       "      <td>0.220556</td>\n",
       "      <td>-0.313395</td>\n",
       "      <td>0.613179</td>\n",
       "      <td>0.729259</td>\n",
       "      <td>-0.868353</td>\n",
       "      <td>-0.397100</td>\n",
       "    </tr>\n",
       "  </tbody>\n",
       "</table>\n",
       "<p>5 rows × 30 columns</p>\n",
       "</div>"
      ],
      "text/plain": [
       "   radius_mean  texture_mean  perimeter_mean  area_mean  smoothness_mean  \\\n",
       "0     1.097064     -2.073335        1.269934   0.984375         1.568466   \n",
       "1     1.829821     -0.353632        1.685955   1.908708        -0.826962   \n",
       "2     1.579888      0.456187        1.566503   1.558884         0.942210   \n",
       "3    -0.768909      0.253732       -0.592687  -0.764464         3.283553   \n",
       "4     1.750297     -1.151816        1.776573   1.826229         0.280372   \n",
       "\n",
       "   compactness_mean  concavity_mean  concave points_mean  symmetry_mean  \\\n",
       "0          3.283515        2.652874             2.532475       2.217515   \n",
       "1         -0.487072       -0.023846             0.548144       0.001392   \n",
       "2          1.052926        1.363478             2.037231       0.939685   \n",
       "3          3.402909        1.915897             1.451707       2.867383   \n",
       "4          0.539340        1.371011             1.428493      -0.009560   \n",
       "\n",
       "   fractal_dimension_mean  ...  radius_worst  texture_worst  perimeter_worst  \\\n",
       "0                2.255747  ...      1.886690      -1.359293         2.303601   \n",
       "1               -0.868652  ...      1.805927      -0.369203         1.535126   \n",
       "2               -0.398008  ...      1.511870      -0.023974         1.347475   \n",
       "3                4.910919  ...     -0.281464       0.133984        -0.249939   \n",
       "4               -0.562450  ...      1.298575      -1.466770         1.338539   \n",
       "\n",
       "   area_worst  smoothness_worst  compactness_worst  concavity_worst  \\\n",
       "0    2.001237          1.307686           2.616665         2.109526   \n",
       "1    1.890489         -0.375612          -0.430444        -0.146749   \n",
       "2    1.456285          0.527407           1.082932         0.854974   \n",
       "3   -0.550021          3.394275           3.893397         1.989588   \n",
       "4    1.220724          0.220556          -0.313395         0.613179   \n",
       "\n",
       "   concave points_worst  symmetry_worst  fractal_dimension_worst  \n",
       "0              2.296076        2.750622                 1.937015  \n",
       "1              1.087084       -0.243890                 0.281190  \n",
       "2              1.955000        1.152255                 0.201391  \n",
       "3              2.175786        6.046041                 4.935010  \n",
       "4              0.729259       -0.868353                -0.397100  \n",
       "\n",
       "[5 rows x 30 columns]"
      ]
     },
     "metadata": {},
     "output_type": "display_data"
    },
    {
     "data": {
      "text/plain": [
       "0    1\n",
       "1    1\n",
       "2    1\n",
       "3    1\n",
       "4    1\n",
       "Name: diagnosis, dtype: int64"
      ]
     },
     "metadata": {},
     "output_type": "display_data"
    }
   ],
   "source": [
    "display(X.head(5))\n",
    "display(y.head(5))"
   ]
  },
  {
   "cell_type": "code",
   "execution_count": 5,
   "id": "87ddd7f4-97ec-46a3-b8d8-de1704f44267",
   "metadata": {},
   "outputs": [],
   "source": [
    "X_train_valid, X_test, y_train_valid, y_test = train_test_split(X, y, test_size=0.25, random_state=0)\n",
    "X_train, X_valid, y_train, y_valid = train_test_split(X_train_valid, y_train_valid, test_size=0.25, random_state=0)"
   ]
  },
  {
   "cell_type": "code",
   "execution_count": 6,
   "id": "3c916a3d-bcb2-4bf1-80bc-8ee52304015b",
   "metadata": {},
   "outputs": [
    {
     "name": "stdout",
     "output_type": "stream",
     "text": [
      "Nr. test events:  143\n",
      "Nr. validation events:  107\n",
      "Nr. train events:  319\n"
     ]
    }
   ],
   "source": [
    "print(\"Nr. test events: \", X_test.shape[0])\n",
    "print(\"Nr. validation events: \", X_valid.shape[0])\n",
    "print(\"Nr. train events: \", X_train.shape[0])"
   ]
  },
  {
   "cell_type": "code",
   "execution_count": null,
   "id": "b48bdef6-1a7d-4d94-9cd4-9c8fdd5cd2f4",
   "metadata": {},
   "outputs": [],
   "source": []
  },
  {
   "cell_type": "markdown",
   "id": "8bafb299-2381-4842-bcc2-bf0c99755389",
   "metadata": {},
   "source": [
    "#### Define the objective function to use in the hyperparameter optimization with Optuna"
   ]
  },
  {
   "cell_type": "code",
   "execution_count": 7,
   "id": "c730a84f-18b6-4c4a-8838-5b64aeda8815",
   "metadata": {},
   "outputs": [],
   "source": [
    "def objective_ann(trial, X_train, X_valid, y_train, y_valid):\n",
    "    \n",
    "    params = {\n",
    "        'n_hidden_layers': trial.suggest_int('n_hidden_layers', 1, 10, step=1),\n",
    "        'nodes_per_layer': trial.suggest_int('nodes_per_layer', 10, 100, step=10),\n",
    "        'activation': trial.suggest_categorical('activation', ['identity', 'logistic', 'tanh', 'relu']),\n",
    "        'solver': trial.suggest_categorical('solver', ['lbfgs', 'sgd', 'adam']),\n",
    "        'learning_rate': trial.suggest_categorical('learning_rate', ['constant', 'invscaling', 'adaptive']),\n",
    "        \"max_iter\": trial.suggest_categorical(\"max_iter\", [1000]),\n",
    "        \"random_state\": trial.suggest_categorical(\"random_state\", [42]),\n",
    "        \"early_stopping\": trial.suggest_categorical(\"early_stopping\", [True]),\n",
    "    }\n",
    "\n",
    "    layers_ls = []\n",
    "    n_layers = params['n_hidden_layers']\n",
    "    nodes_per_layer = params['nodes_per_layer']\n",
    "    for i in range(n_layers):\n",
    "        layers_ls.append(nodes_per_layer)\n",
    "\n",
    "\n",
    "    model = MLPClassifier(\n",
    "        hidden_layer_sizes=layers_ls,\n",
    "        activation=params['activation'],\n",
    "        solver=params['solver'],\n",
    "        learning_rate=params['learning_rate'],\n",
    "        max_iter=params['max_iter'],\n",
    "        random_state=params['random_state'],\n",
    "        early_stopping=params['early_stopping'],\n",
    "    )\n",
    "\n",
    "    model.fit(X_train, y_train)\n",
    "    y_predicted = model.predict(X_valid)\n",
    "    (tn, fp, fn, tp) = confusion_matrix(y_valid, y_predicted).ravel()\n",
    "    accuracy = float(tp+tn)/float(tn+fp+fn+tp)\n",
    "    f1score = float(2*tp)/float(2*tp+fp+fn)\n",
    "    mcc = (float(tp*tn)-float(fp*fn))/np.sqrt(float(tp+fp)*float(tp+fn)*float(tn+fp)*float(tn+fn))\n",
    "    \n",
    "    return mcc"
   ]
  },
  {
   "cell_type": "code",
   "execution_count": 14,
   "id": "9eefe04b-5e62-4eaa-b745-a44169cd0492",
   "metadata": {},
   "outputs": [
    {
     "ename": "NameError",
     "evalue": "name 'loss_curve_' is not defined",
     "output_type": "error",
     "traceback": [
      "\u001b[0;31m---------------------------------------------------------------------------\u001b[0m",
      "\u001b[0;31mNameError\u001b[0m                                 Traceback (most recent call last)",
      "Cell \u001b[0;32mIn[14], line 3\u001b[0m\n\u001b[1;32m      1\u001b[0m optuna\u001b[38;5;241m.\u001b[39mlogging\u001b[38;5;241m.\u001b[39mset_verbosity(optuna\u001b[38;5;241m.\u001b[39mlogging\u001b[38;5;241m.\u001b[39mINFO)\n\u001b[1;32m      2\u001b[0m optuna\u001b[38;5;241m.\u001b[39mlogging\u001b[38;5;241m.\u001b[39mset_verbosity(optuna\u001b[38;5;241m.\u001b[39mlogging\u001b[38;5;241m.\u001b[39mWARNING)\n\u001b[0;32m----> 3\u001b[0m \u001b[43mloss_curve_\u001b[49m\n\u001b[1;32m      4\u001b[0m study_ann \u001b[38;5;241m=\u001b[39m optuna\u001b[38;5;241m.\u001b[39mcreate_study(direction \u001b[38;5;241m=\u001b[39m \u001b[38;5;124m\"\u001b[39m\u001b[38;5;124mmaximize\u001b[39m\u001b[38;5;124m\"\u001b[39m)\n\u001b[1;32m      5\u001b[0m func \u001b[38;5;241m=\u001b[39m \u001b[38;5;28;01mlambda\u001b[39;00m trial: objective_ann(trial, X_train, X_valid, y_train, y_valid)\n",
      "\u001b[0;31mNameError\u001b[0m: name 'loss_curve_' is not defined"
     ]
    }
   ],
   "source": [
    "optuna.logging.set_verbosity(optuna.logging.INFO)\n",
    "optuna.logging.set_verbosity(optuna.logging.WARNING)\n",
    "%%capture\n",
    "\n",
    "study_ann = optuna.create_study(direction = \"maximize\")\n",
    "func = lambda trial: objective_ann(trial, X_train, X_valid, y_train, y_valid)\n",
    "study_ann.optimize(func, n_trials = 100, timeout=600)"
   ]
  },
  {
   "cell_type": "code",
   "execution_count": 9,
   "id": "5461ae77-d851-486d-b028-ec1490bdd0a0",
   "metadata": {},
   "outputs": [
    {
     "data": {
      "text/html": [
       "<style>#sk-container-id-1 {color: black;}#sk-container-id-1 pre{padding: 0;}#sk-container-id-1 div.sk-toggleable {background-color: white;}#sk-container-id-1 label.sk-toggleable__label {cursor: pointer;display: block;width: 100%;margin-bottom: 0;padding: 0.3em;box-sizing: border-box;text-align: center;}#sk-container-id-1 label.sk-toggleable__label-arrow:before {content: \"▸\";float: left;margin-right: 0.25em;color: #696969;}#sk-container-id-1 label.sk-toggleable__label-arrow:hover:before {color: black;}#sk-container-id-1 div.sk-estimator:hover label.sk-toggleable__label-arrow:before {color: black;}#sk-container-id-1 div.sk-toggleable__content {max-height: 0;max-width: 0;overflow: hidden;text-align: left;background-color: #f0f8ff;}#sk-container-id-1 div.sk-toggleable__content pre {margin: 0.2em;color: black;border-radius: 0.25em;background-color: #f0f8ff;}#sk-container-id-1 input.sk-toggleable__control:checked~div.sk-toggleable__content {max-height: 200px;max-width: 100%;overflow: auto;}#sk-container-id-1 input.sk-toggleable__control:checked~label.sk-toggleable__label-arrow:before {content: \"▾\";}#sk-container-id-1 div.sk-estimator input.sk-toggleable__control:checked~label.sk-toggleable__label {background-color: #d4ebff;}#sk-container-id-1 div.sk-label input.sk-toggleable__control:checked~label.sk-toggleable__label {background-color: #d4ebff;}#sk-container-id-1 input.sk-hidden--visually {border: 0;clip: rect(1px 1px 1px 1px);clip: rect(1px, 1px, 1px, 1px);height: 1px;margin: -1px;overflow: hidden;padding: 0;position: absolute;width: 1px;}#sk-container-id-1 div.sk-estimator {font-family: monospace;background-color: #f0f8ff;border: 1px dotted black;border-radius: 0.25em;box-sizing: border-box;margin-bottom: 0.5em;}#sk-container-id-1 div.sk-estimator:hover {background-color: #d4ebff;}#sk-container-id-1 div.sk-parallel-item::after {content: \"\";width: 100%;border-bottom: 1px solid gray;flex-grow: 1;}#sk-container-id-1 div.sk-label:hover label.sk-toggleable__label {background-color: #d4ebff;}#sk-container-id-1 div.sk-serial::before {content: \"\";position: absolute;border-left: 1px solid gray;box-sizing: border-box;top: 0;bottom: 0;left: 50%;z-index: 0;}#sk-container-id-1 div.sk-serial {display: flex;flex-direction: column;align-items: center;background-color: white;padding-right: 0.2em;padding-left: 0.2em;position: relative;}#sk-container-id-1 div.sk-item {position: relative;z-index: 1;}#sk-container-id-1 div.sk-parallel {display: flex;align-items: stretch;justify-content: center;background-color: white;position: relative;}#sk-container-id-1 div.sk-item::before, #sk-container-id-1 div.sk-parallel-item::before {content: \"\";position: absolute;border-left: 1px solid gray;box-sizing: border-box;top: 0;bottom: 0;left: 50%;z-index: -1;}#sk-container-id-1 div.sk-parallel-item {display: flex;flex-direction: column;z-index: 1;position: relative;background-color: white;}#sk-container-id-1 div.sk-parallel-item:first-child::after {align-self: flex-end;width: 50%;}#sk-container-id-1 div.sk-parallel-item:last-child::after {align-self: flex-start;width: 50%;}#sk-container-id-1 div.sk-parallel-item:only-child::after {width: 0;}#sk-container-id-1 div.sk-dashed-wrapped {border: 1px dashed gray;margin: 0 0.4em 0.5em 0.4em;box-sizing: border-box;padding-bottom: 0.4em;background-color: white;}#sk-container-id-1 div.sk-label label {font-family: monospace;font-weight: bold;display: inline-block;line-height: 1.2em;}#sk-container-id-1 div.sk-label-container {text-align: center;}#sk-container-id-1 div.sk-container {/* jupyter's `normalize.less` sets `[hidden] { display: none; }` but bootstrap.min.css set `[hidden] { display: none !important; }` so we also need the `!important` here to be able to override the default hidden behavior on the sphinx rendered scikit-learn.org. See: https://github.com/scikit-learn/scikit-learn/issues/21755 */display: inline-block !important;position: relative;}#sk-container-id-1 div.sk-text-repr-fallback {display: none;}</style><div id=\"sk-container-id-1\" class=\"sk-top-container\"><div class=\"sk-text-repr-fallback\"><pre>MLPClassifier(early_stopping=True, hidden_layer_sizes=[80, 80, 80],\n",
       "              learning_rate=&#x27;invscaling&#x27;, max_iter=1000, random_state=42)</pre><b>In a Jupyter environment, please rerun this cell to show the HTML representation or trust the notebook. <br />On GitHub, the HTML representation is unable to render, please try loading this page with nbviewer.org.</b></div><div class=\"sk-container\" hidden><div class=\"sk-item\"><div class=\"sk-estimator sk-toggleable\"><input class=\"sk-toggleable__control sk-hidden--visually\" id=\"sk-estimator-id-1\" type=\"checkbox\" checked><label for=\"sk-estimator-id-1\" class=\"sk-toggleable__label sk-toggleable__label-arrow\">MLPClassifier</label><div class=\"sk-toggleable__content\"><pre>MLPClassifier(early_stopping=True, hidden_layer_sizes=[80, 80, 80],\n",
       "              learning_rate=&#x27;invscaling&#x27;, max_iter=1000, random_state=42)</pre></div></div></div></div></div>"
      ],
      "text/plain": [
       "MLPClassifier(early_stopping=True, hidden_layer_sizes=[80, 80, 80],\n",
       "              learning_rate='invscaling', max_iter=1000, random_state=42)"
      ]
     },
     "execution_count": 9,
     "metadata": {},
     "output_type": "execute_result"
    }
   ],
   "source": [
    "best_params = study_ann.best_trial.params\n",
    "layers_ls = []\n",
    "n_layers = best_params['n_hidden_layers']\n",
    "nodes_per_layer = best_params['nodes_per_layer']\n",
    "for i in range(n_layers):\n",
    "    layers_ls.append(nodes_per_layer)\n",
    "\n",
    "model = MLPClassifier(\n",
    "    hidden_layer_sizes=layers_ls,\n",
    "    activation=best_params['activation'],\n",
    "    solver=best_params['solver'],\n",
    "    learning_rate=best_params['learning_rate'],\n",
    "    max_iter=best_params['max_iter'],\n",
    "    random_state=best_params['random_state'],\n",
    "    early_stopping=best_params['early_stopping'],\n",
    ")\n",
    "\n",
    "model.fit(X_train, y_train)"
   ]
  },
  {
   "cell_type": "code",
   "execution_count": 10,
   "id": "d0ba0a50-4256-4ece-9adb-7911357c1436",
   "metadata": {},
   "outputs": [
    {
     "name": "stdout",
     "output_type": "stream",
     "text": [
      "Best Score Params: \n",
      "    n_hidden_layers: 3\n",
      "    nodes_per_layer: 80\n",
      "    activation: relu\n",
      "    solver: adam\n",
      "    learning_rate: invscaling\n",
      "    max_iter: 1000\n",
      "    random_state: 42\n",
      "    early_stopping: True\n"
     ]
    }
   ],
   "source": [
    "print(\"Best Score Params: \")\n",
    "for key, value in best_params.items():\n",
    "    print(\"    {}: {}\".format(key,value))"
   ]
  },
  {
   "cell_type": "markdown",
   "id": "29d8f6d1-a268-41fa-acbe-297ed2ca91b5",
   "metadata": {},
   "source": [
    "### Run the ANN on the test set"
   ]
  },
  {
   "cell_type": "code",
   "execution_count": 11,
   "id": "572bc52c-bbf5-4804-8626-4eeb68f1536d",
   "metadata": {},
   "outputs": [
    {
     "data": {
      "text/plain": [
       "array([1, 0, 0, 0, 0, 0, 0, 0, 0, 0, 1, 0, 0, 0, 1, 1, 0, 1, 1, 1, 1, 1,\n",
       "       0, 0, 1, 0, 0, 1, 0, 1, 0, 1, 0, 1, 0, 1, 0, 1, 0, 1, 1, 0, 1, 0,\n",
       "       0, 1, 0, 0, 0, 1, 1, 1, 1, 0, 0, 0, 0, 0, 0, 1, 1, 1, 0, 0, 1, 0,\n",
       "       1, 1, 1, 0, 0, 1, 0, 0, 1, 0, 0, 0, 0, 0, 1, 1, 1, 0, 1, 0, 0, 0,\n",
       "       1, 1, 0, 1, 1, 1, 0, 0, 1, 0, 0, 0, 0, 0, 0, 0, 1, 0, 1, 0, 0, 1,\n",
       "       0, 1, 1, 0, 0, 0, 0, 0, 0, 0, 0, 0, 1, 0, 1, 0, 0, 0, 0, 0, 1, 0,\n",
       "       0, 0, 0, 0, 0, 0, 1, 0, 0, 0, 1])"
      ]
     },
     "metadata": {},
     "output_type": "display_data"
    },
    {
     "name": "stdout",
     "output_type": "stream",
     "text": [
      "Training MCC = 0.9615585187911868\n",
      "Test MCC = 0.910062893081761\n"
     ]
    }
   ],
   "source": [
    "y_predicted_train = model.predict(X_valid)\n",
    "(tn, fp, fn, tp) = confusion_matrix(y_valid, y_predicted_train).ravel()\n",
    "accuracy = float(tp+tn)/float(tn+fp+fn+tp)\n",
    "f1score = float(2*tp)/float(2*tp+fp+fn)\n",
    "train_mcc = (float(tp*tn)-float(fp*fn))/np.sqrt(float(tp+fp)*float(tp+fn)*float(tn+fp)*float(tn+fn))\n",
    "\n",
    "y_predicted_test = model.predict(X_test)\n",
    "(tn, fp, fn, tp) = confusion_matrix(y_test, y_predicted_test).ravel()\n",
    "accuracy = float(tp+tn)/float(tn+fp+fn+tp)\n",
    "f1score = float(2*tp)/float(2*tp+fp+fn)\n",
    "test_mcc = (float(tp*tn)-float(fp*fn))/np.sqrt(float(tp+fp)*float(tp+fn)*float(tn+fp)*float(tn+fn))\n",
    "\n",
    "display(y_predicted_test)\n",
    "print(\"Training MCC =\", train_mcc)\n",
    "print(\"Test MCC =\", test_mcc)"
   ]
  },
  {
   "cell_type": "code",
   "execution_count": 12,
   "id": "129f980c-d386-4abd-a42f-bf4ba67962ae",
   "metadata": {},
   "outputs": [
    {
     "data": {
      "image/png": "[encoded data removed]",
      "text/plain": [
       "<Figure size 800x200 with 1 Axes>"
      ]
     },
     "metadata": {},
     "output_type": "display_data"
    }
   ],
   "source": [
    "plt.figure(figsize=(8, 2))\n",
    "plt.title(\"ANN Model Loss Evolution\")\n",
    "plt.xlabel(\"Epochs\")\n",
    "plt.ylabel(\"Loss\")\n",
    "plt.plot(model.loss_curve_)\n",
    "plt.show()"
   ]
  },
  {
   "cell_type": "code",
   "execution_count": null,
   "id": "bc65406f-53c9-405e-a357-22adc163f884",
   "metadata": {},
   "outputs": [],
   "source": []
  },
  {
   "cell_type": "code",
   "execution_count": null,
   "id": "69e766f1-39cc-4f13-af69-03e89023fa4a",
   "metadata": {},
   "outputs": [],
   "source": []
  },
  {
   "cell_type": "markdown",
   "id": "20b5c265-fdb6-493f-aae3-4357fefac486",
   "metadata": {},
   "source": [
    "# 2. Use df_hypo features"
   ]
  },
  {
   "cell_type": "code",
   "execution_count": 3,
   "id": "96e8206e-74b5-4b22-9878-5607a83439a5",
   "metadata": {},
   "outputs": [
    {
     "name": "stdout",
     "output_type": "stream",
     "text": [
      "Nr. Features:  30\n"
     ]
    }
   ],
   "source": [
    "X = df_hypo.drop(columns=['diagnosis'])\n",
    "y = np.round(df_hypo['diagnosis']=='M').astype(int)\n",
    "print(\"Nr. Features: \", X.shape[1])"
   ]
  },
  {
   "cell_type": "code",
   "execution_count": 5,
   "id": "2ecd7348-a1b1-4f99-be26-b635e3817c10",
   "metadata": {},
   "outputs": [],
   "source": [
    "X_train_valid, X_test, y_train_valid, y_test = train_test_split(X, y, test_size=0.25, random_state=0)\n",
    "X_train, X_valid, y_train, y_valid = train_test_split(X_train_valid, y_train_valid, test_size=0.25, random_state=0)"
   ]
  }
 ],
 "metadata": {
  "kernelspec": {
   "display_name": "Python 3 (ipykernel)",
   "language": "python",
   "name": "python3"
  },
  "language_info": {
   "codemirror_mode": {
    "name": "ipython",
    "version": 3
   },
   "file_extension": ".py",
   "mimetype": "text/x-python",
   "name": "python",
   "nbconvert_exporter": "python",
   "pygments_lexer": "ipython3",
   "version": "3.11.7"
  }
 },
 "nbformat": 4,
 "nbformat_minor": 5
}
