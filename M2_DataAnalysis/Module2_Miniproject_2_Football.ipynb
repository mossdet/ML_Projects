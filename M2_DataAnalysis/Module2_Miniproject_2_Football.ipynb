{
 "cells": [
  {
   "cell_type": "code",
   "execution_count": 1,
   "id": "620bb2db-7552-4ac0-b210-f950eb3988c3",
   "metadata": {},
   "outputs": [],
   "source": [
    "import pandas as pd\n",
    "import numpy as np\n",
    "import seaborn as sns\n",
    "import matplotlib.pyplot as plt\n",
    "\n",
    "from scipy import stats\n",
    "from sklearn.preprocessing import LabelEncoder, OrdinalEncoder, OneHotEncoder, StandardScaler\n",
    "%matplotlib inline"
   ]
  },
  {
   "cell_type": "code",
   "execution_count": 2,
   "id": "d10f7f90-d406-419d-a114-14adb7d6009e",
   "metadata": {},
   "outputs": [
    {
     "data": {
      "text/html": [
       "<div>\n",
       "<style scoped>\n",
       "    .dataframe tbody tr th:only-of-type {\n",
       "        vertical-align: middle;\n",
       "    }\n",
       "\n",
       "    .dataframe tbody tr th {\n",
       "        vertical-align: top;\n",
       "    }\n",
       "\n",
       "    .dataframe thead th {\n",
       "        text-align: right;\n",
       "    }\n",
       "</style>\n",
       "<table border=\"1\" class=\"dataframe\">\n",
       "  <thead>\n",
       "    <tr style=\"text-align: right;\">\n",
       "      <th></th>\n",
       "      <th>date</th>\n",
       "      <th>home_team</th>\n",
       "      <th>away_team</th>\n",
       "      <th>home_score</th>\n",
       "      <th>away_score</th>\n",
       "      <th>tournament</th>\n",
       "      <th>city</th>\n",
       "      <th>country</th>\n",
       "      <th>neutral</th>\n",
       "    </tr>\n",
       "  </thead>\n",
       "  <tbody>\n",
       "    <tr>\n",
       "      <th>0</th>\n",
       "      <td>1872-11-30</td>\n",
       "      <td>Scotland</td>\n",
       "      <td>England</td>\n",
       "      <td>0</td>\n",
       "      <td>0</td>\n",
       "      <td>Friendly</td>\n",
       "      <td>Glasgow</td>\n",
       "      <td>Scotland</td>\n",
       "      <td>False</td>\n",
       "    </tr>\n",
       "    <tr>\n",
       "      <th>1</th>\n",
       "      <td>1873-03-08</td>\n",
       "      <td>England</td>\n",
       "      <td>Scotland</td>\n",
       "      <td>4</td>\n",
       "      <td>2</td>\n",
       "      <td>Friendly</td>\n",
       "      <td>London</td>\n",
       "      <td>England</td>\n",
       "      <td>False</td>\n",
       "    </tr>\n",
       "    <tr>\n",
       "      <th>2</th>\n",
       "      <td>1874-03-07</td>\n",
       "      <td>Scotland</td>\n",
       "      <td>England</td>\n",
       "      <td>2</td>\n",
       "      <td>1</td>\n",
       "      <td>Friendly</td>\n",
       "      <td>Glasgow</td>\n",
       "      <td>Scotland</td>\n",
       "      <td>False</td>\n",
       "    </tr>\n",
       "  </tbody>\n",
       "</table>\n",
       "</div>"
      ],
      "text/plain": [
       "         date home_team away_team  home_score  away_score tournament     city  \\\n",
       "0  1872-11-30  Scotland   England           0           0   Friendly  Glasgow   \n",
       "1  1873-03-08   England  Scotland           4           2   Friendly   London   \n",
       "2  1874-03-07  Scotland   England           2           1   Friendly  Glasgow   \n",
       "\n",
       "    country  neutral  \n",
       "0  Scotland    False  \n",
       "1   England    False  \n",
       "2  Scotland    False  "
      ]
     },
     "execution_count": 2,
     "metadata": {},
     "output_type": "execute_result"
    }
   ],
   "source": [
    "df = pd.read_csv('results.csv')\n",
    "df.head(3)"
   ]
  },
  {
   "cell_type": "markdown",
   "id": "e3272ef7-7903-4c7d-8fb6-f1b156fdc088",
   "metadata": {},
   "source": [
    "## Questions to answer:\n",
    "- Does the dataset include any missing values?\n",
    "- How many tuples are there in the dataset?\n",
    "- How many tournaments are there in the dataset?"
   ]
  },
  {
   "cell_type": "code",
   "execution_count": 7,
   "id": "7f9767f7-4228-444e-9dab-1931c2f996b6",
   "metadata": {},
   "outputs": [
    {
     "name": "stdout",
     "output_type": "stream",
     "text": [
      "Nr. NaN:  date          0\n",
      "home_team     0\n",
      "away_team     0\n",
      "home_score    0\n",
      "away_score    0\n",
      "tournament    0\n",
      "city          0\n",
      "country       0\n",
      "neutral       0\n",
      "dtype: int64\n",
      "Nr. Tuples:  42650\n",
      "Nr. Tournaments:  120\n"
     ]
    }
   ],
   "source": [
    "nr_nans = df.isna().sum()\n",
    "nr_tuples = len(df)\n",
    "nr_tournaments = len(df.tournament.unique())\n",
    "print(\"Nr. NaN: \", nr_nans)\n",
    "print(\"Nr. Tuples: \", nr_tuples)\n",
    "print(\"Nr. Tournaments: \", nr_tournaments)"
   ]
  },
  {
   "cell_type": "markdown",
   "id": "9557b295-7ad6-4eb5-85d8-c1bc23472c37",
   "metadata": {},
   "source": [
    "## Convert date to datetime format"
   ]
  },
  {
   "cell_type": "code",
   "execution_count": 10,
   "id": "8e9477f7-fa7d-447a-8bea-dcde16b3ca66",
   "metadata": {},
   "outputs": [
    {
     "data": {
      "text/plain": [
       "date          datetime64[ns]\n",
       "home_team             object\n",
       "away_team             object\n",
       "home_score             int64\n",
       "away_score             int64\n",
       "tournament            object\n",
       "city                  object\n",
       "country               object\n",
       "neutral                 bool\n",
       "dtype: object"
      ]
     },
     "execution_count": 10,
     "metadata": {},
     "output_type": "execute_result"
    }
   ],
   "source": [
    "df['date']= pd.to_datetime(df['date'])\n",
    "df.dtypes"
   ]
  },
  {
   "cell_type": "code",
   "execution_count": 14,
   "id": "3a56b2d4-4215-4492-a249-469d377e6abd",
   "metadata": {},
   "outputs": [
    {
     "name": "stdout",
     "output_type": "stream",
     "text": [
      "Nr. Home Wins:  20739\n",
      "Nr. Home Ties:  9837\n",
      "Nr. Home Losses:  12074\n"
     ]
    }
   ],
   "source": [
    "home_nr_win = df.home_score[df.home_score > df.away_score].count()\n",
    "home_nr_tie = df.home_score[df.home_score == df.away_score].count()\n",
    "home_nr_loss = df.home_score[df.home_score < df.away_score].count()\n",
    "print(\"Nr. Home Wins: \", home_nr_win)\n",
    "print(\"Nr. Home Ties: \", home_nr_tie)\n",
    "print(\"Nr. Home Losses: \", home_nr_loss)"
   ]
  },
  {
   "cell_type": "code",
   "execution_count": 17,
   "id": "47c2da07-e9ff-47ff-94f0-f0a56fe2dd8e",
   "metadata": {},
   "outputs": [
    {
     "data": {
      "image/png": "[encoded data removed]",
      "text/plain": [
       "<Figure size 1200x600 with 1 Axes>"
      ]
     },
     "metadata": {},
     "output_type": "display_data"
    }
   ],
   "source": [
    "labels = ['Win', 'Ties', 'Losses']\n",
    "sizes = [home_nr_win, home_nr_tie, home_nr_loss]\n",
    "\n",
    "plt.figure(figsize=(12,6))\n",
    "plt.pie(sizes, labels=labels);"
   ]
  },
  {
   "cell_type": "code",
   "execution_count": 57,
   "id": "84a34a74-ca9b-442b-b7d4-0d3fafdac615",
   "metadata": {},
   "outputs": [
    {
     "data": {
      "image/png": "[encoded data removed]",
      "text/plain": [
       "<Figure size 1000x300 with 1 Axes>"
      ]
     },
     "metadata": {},
     "output_type": "display_data"
    }
   ],
   "source": [
    "df.neutral.value_counts().plot(kind='pie', figsize=(10,3));"
   ]
  },
  {
   "cell_type": "code",
   "execution_count": null,
   "id": "2018f51a-694c-4186-9689-b55dede11b8c",
   "metadata": {},
   "outputs": [],
   "source": []
  }
 ],
 "metadata": {
  "kernelspec": {
   "display_name": "Python 3 (ipykernel)",
   "language": "python",
   "name": "python3"
  },
  "language_info": {
   "codemirror_mode": {
    "name": "ipython",
    "version": 3
   },
   "file_extension": ".py",
   "mimetype": "text/x-python",
   "name": "python",
   "nbconvert_exporter": "python",
   "pygments_lexer": "ipython3",
   "version": "3.12.0"
  }
 },
 "nbformat": 4,
 "nbformat_minor": 5
}
