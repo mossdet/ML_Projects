{
 "cells": [
  {
   "cell_type": "code",
   "execution_count": 16,
   "id": "8129a3bc-21a2-4e74-9d9b-ad4d70489a53",
   "metadata": {},
   "outputs": [],
   "source": [
    "from keras.preprocessing.text import text_to_word_sequence, Tokenizer\n"
   ]
  },
  {
   "cell_type": "code",
   "execution_count": 17,
   "id": "55e03438-70a0-43ea-a70b-fbe79f7f75c3",
   "metadata": {},
   "outputs": [],
   "source": [
    "with open('Shakespeare_Sonnet_1.txt') as file: \n",
    "    text = file.read()"
   ]
  },
  {
   "cell_type": "code",
   "execution_count": 18,
   "id": "f696b373-cd1d-43f3-893e-3108349b154d",
   "metadata": {},
   "outputs": [
    {
     "name": "stdout",
     "output_type": "stream",
     "text": [
      "['from fairest creatures we desire increase,', \"that thereby beauty's rose might never die,\", 'but as the riper should by time decease,', 'his tender heir might bear his memory:', 'but thou contracted to thine own bright eyes,', \"feed'st thy light's flame with self-substantial fuel,\", 'making a famine where abundance lies,', 'thy self thy foe, to thy sweet self too cruel:', \"thou that art now the world's fresh ornament,\", 'and only herald to the gaudy spring,', 'within thine own bud buriest thy content,', \"and, tender churl, mak'st waste in niggarding:\", '   pity the world, or else this glutton be,', \"   to eat the world's due, by the grave and thee.\", 'when forty winters shall besiege thy brow,', \"and dig deep trenches in thy beauty's field,\", \"thy youth's proud livery so gazed on now,\", 'will be a tattered weed of small worth held:', 'then being asked, where all thy beauty lies,', 'where all the treasure of thy lusty days;', 'to say, within thine own deep sunken eyes,', 'were an all-eating shame, and thriftless praise.', \"how much more praise deserv'd thy beauty's use,\", 'if thou couldst answer ?his fair child of mine', \"shall sum my count, and make my old excuse,'\", 'proving his beauty by succession thine.', '  this were to be new made when thou art old,', \"  and see thy blood warm when thou feel'st it cold.\", '', 'look in thy glass and tell the face thou viewest,', 'now is the time that face should form another,', 'whose fresh repair if now thou not renewest,', 'thou dost beguile the world, unbless some mother.', 'for where is she so fair whose uneared womb', 'disdains the tillage of thy husbandry?', 'or who is he so fond will be the tomb', 'of his self-love to stop posterity?', \"thou art thy mother's glass and she in thee\", 'calls back the lovely april of her prime,', 'so thou through windows of thine age shalt see,', 'despite of wrinkles this thy golden time.', '  but if thou live remembered not to be,', '  die single and thine image dies with thee', '', 'unthrifty loveliness why dost thou spend,', \"upon thy self thy beauty's legacy?\", \"nature's bequest gives nothing but doth lend,\", 'and being frank she lends to those are free:', 'then beauteous niggard why dost thou abuse,', 'the bounteous largess given thee to give?', 'profitless usurer why dost thou use', 'so great a sum of sums yet canst not live?', 'for having traffic with thy self alone,', 'thou of thy self thy sweet self dost deceive,', 'then how when nature calls thee to be gone,', 'what acceptable audit canst thou leave?', '  thy unused beauty must be tombed with thee,', \"  which used lives th' executor to be.\", '', 'those hours that with gentle work did frame', 'the lovely gaze where every eye doth dwell', 'will play the tyrants to the very same,', 'and that unfair which fairly doth excel:', 'for never-resting time leads summer on', 'to hideous winter and confounds him there,', 'sap checked with frost and lusty leaves quite gone,', \"beauty o'er-snowed and bareness every where:\", \"then were not summer's distillation left\", 'a liquid prisoner pent in walls of glass,', \"beauty's effect with beauty were bereft,\", 'nor it nor no remembrance what it was.', '  but flowers distilled though they with winter meet,', '  leese but their show, their substance still lives sweet.', '', '', \"then let not winter's ragged hand deface,\", 'in thee thy summer ere thou be distilled:', 'make sweet some vial; treasure thou some place,', \"with beauty's treasure ere it be self-killed:\", 'that use is not forbidden usury,', 'which happies those that pay the willing loan;', \"that's for thy self to breed another thee,\", 'or ten times happier be it ten for one,', 'ten times thy self were happier than thou art,', 'if ten of thine ten times refigured thee:', 'then what could death do if thou shouldst depart,', 'leaving thee living in posterity?', '  be not self-willed for thou art much too fair,', \"  to be death's conquest and make worms thine heir.\", '', 'lo in the orient when the gracious light', 'lifts up his burning head, each under eye', 'doth homage to his new-appearing sight,', 'serving with looks his sacred majesty,', 'and having climbed the steep-up heavenly hill,', 'resembling strong youth in his middle age,', 'yet mortal looks adore his beauty still,', 'attending on his golden pilgrimage:', 'but when from highmost pitch with weary car,', 'like feeble age he reeleth from the day,', 'the eyes (fore duteous) now converted are', 'from his low tract and look another way:', '  so thou, thy self out-going in thy noon:', '  unlooked on diest unless thou get a son.', '', \"music to hear, why hear'st thou music sadly?\", 'sweets with sweets war not, joy delights in joy:', \"why lov'st thou that which thou receiv'st not gladly,\", \"or else receiv'st with pleasure thine annoy?\", 'if the true concord of well-tuned sounds,', 'by unions married do offend thine ear,', 'they do but sweetly chide thee, who confounds', 'in singleness the parts that thou shouldst bear:', 'mark how one string sweet husband to another,', 'strikes each in each by mutual ordering;', 'resembling sire, and child, and happy mother,', 'who all in one, one pleasing note do sing:', '  whose speechless song being many, seeming one,', \"  sings this to thee, ?hou single wilt prove none'.\", '', \"is it for fear to wet a widow's eye,\", \"that thou consum'st thy self in single life?\", 'ah, if thou issueless shalt hap to die,', 'the world will wail thee like a makeless wife,', 'the world will be thy widow and still weep,', 'that thou no form of thee hast left behind,', 'when every private widow well may keep,', \"by children's eyes, her husband's shape in mind:\", 'look what an unthrift in the world doth spend', 'shifts but his place, for still the world enjoys it;', \"but beauty's waste hath in the world an end,\", 'and kept unused the user so destroys it:', '  no love toward others in that bosom sits', \"  that on himself such murd'rous shame commits.\", '', \"for shame deny that thou bear'st love to any\", 'who for thy self art so unprovident.', 'grant if thou wilt, thou art beloved of many,', \"but that thou none lov'st is most evident:\", \"for thou art so possessed with murd'rous hate,\", \"that 'gainst thy self thou stick'st not to conspire,\", 'seeking that beauteous roof to ruinate', 'which to repair should be thy chief desire:', 'o change thy thought, that i may change my mind,', 'shall hate be fairer lodged than gentle love?', 'be as thy presence is gracious and kind,', 'or to thy self at least kind-hearted prove,', '  make thee another self for love of me,', '  that beauty still may live in thine or thee.', \"as fast as thou shalt wane so fast thou grow'st,\", 'in one of thine, from that which thou departest,', \"and that fresh blood which youngly thou bestow'st,\", 'thou mayst call thine, when thou from youth convertest,', 'herein lives wisdom, beauty, and increase,', 'without this folly, age, and cold decay,', 'if all were minded so, the times should cease,', 'and threescore year would make the world away:', 'let those whom nature hath not made for store,', 'harsh, featureless, and rude, barrenly perish:', 'look whom she best endowed, she gave thee more;', 'which bounteous gift thou shouldst in bounty cherish:', '  she carved thee for her seal, and meant thereby,', '  thou shouldst print more, not let that copy die.', '', '', 'when i do count the clock that tells the time,', 'and see the brave day sunk in hideous night,', 'when i behold the violet past prime,', \"and sable curls all silvered o'er with white:\", 'when lofty trees i see barren of leaves,', 'which erst from heat did canopy the herd', \"and summer's green all girded up in sheaves\", 'borne on the bier with white and bristly beard:', 'then of thy beauty do i question make', 'that thou among the wastes of time must go,', 'since sweets and beauties do themselves forsake,', 'and die as fast as they see others grow,', \"  and nothing 'gainst time's scythe can make defence\", '  save breed to brave him, when he takes thee hence.']\n"
     ]
    }
   ],
   "source": [
    "#Read the text file as separate lines of text\n",
    "with open('Shakespeare_Sonnet_1.txt') as file: \n",
    "    text = file.read()\n",
    "    lines = text.lower().split('\\n')\n",
    "\n",
    "print(lines)   "
   ]
  },
  {
   "cell_type": "code",
   "execution_count": 19,
   "id": "c6c1c5c0-008d-4eef-93e1-54b2a3282488",
   "metadata": {},
   "outputs": [],
   "source": [
    "#Define words, vocabulary size and sequences of words as lines\n",
    "words = text_to_word_sequence(text)\n",
    "tokenizer = Tokenizer()\n",
    "tokenizer.fit_on_texts(words)"
   ]
  },
  {
   "cell_type": "code",
   "execution_count": 20,
   "id": "ee85aa02-cb4e-4e96-b41c-a07941dd607e",
   "metadata": {},
   "outputs": [
    {
     "name": "stdout",
     "output_type": "stream",
     "text": [
      "580\n",
      "580\n"
     ]
    }
   ],
   "source": [
    "#tokenizer.word_index\n",
    "print(len(np.unique(words)))\n",
    "print(len(tokenizer.word_index))"
   ]
  },
  {
   "cell_type": "code",
   "execution_count": 21,
   "id": "32991e9c-f3ec-4702-a8b0-0e34cce196ff",
   "metadata": {},
   "outputs": [],
   "source": [
    "vocabulary_size = len(tokenizer.word_index) + 1\n",
    "sequences = tokenizer.texts_to_sequences(lines)"
   ]
  },
  {
   "cell_type": "code",
   "execution_count": 22,
   "id": "4678bccd-7d8d-4811-813f-9c7c1c0b7e14",
   "metadata": {},
   "outputs": [],
   "source": [
    "#Find subsequences \n",
    "subsequences = []\n",
    "for sequence in sequences:\n",
    "    for i in range(1, len(sequence)):\n",
    "       subsequence = sequence[:i+1]\n",
    "       subsequences.append(subsequence)"
   ]
  },
  {
   "cell_type": "code",
   "execution_count": null,
   "id": "9924e4e1-9042-4ad2-affe-67372a006f1d",
   "metadata": {},
   "outputs": [],
   "source": []
  }
 ],
 "metadata": {
  "kernelspec": {
   "display_name": "Python 3 (ipykernel)",
   "language": "python",
   "name": "python3"
  },
  "language_info": {
   "codemirror_mode": {
    "name": "ipython",
    "version": 3
   },
   "file_extension": ".py",
   "mimetype": "text/x-python",
   "name": "python",
   "nbconvert_exporter": "python",
   "pygments_lexer": "ipython3",
   "version": "3.11.7"
  }
 },
 "nbformat": 4,
 "nbformat_minor": 5
}
