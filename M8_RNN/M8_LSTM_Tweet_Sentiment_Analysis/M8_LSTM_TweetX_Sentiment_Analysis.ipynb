{
 "cells": [
  {
   "cell_type": "markdown",
   "id": "232d10d7-5585-4f2e-a5b7-d5067c326761",
   "metadata": {},
   "source": [
    "# <center> Tweet Sentiment Analysis  </center> <br> "
   ]
  },
  {
   "cell_type": "markdown",
   "id": "3f64d901-6b81-4447-9395-da0ad7212e3b",
   "metadata": {},
   "source": [
    "### Estimation of the emotion of a tweet based on words of the tweet text and using an LSTM\n",
    "\n",
    "### The dataset consists of 40,000 tweets with sentiments. \n",
    "### The sentiment is one of five (5) classes. The dataset features are:\n",
    "- Tweet ID (ignore)\n",
    "- Sentiment (categorical): tweet sentiment (target)\n",
    "- Author (ignore)\n",
    "- Content (string): text content of the tweet\n",
    "\n",
    "License: Public domain (CC0)\n",
    "\n",
    "Data: https://data.world/crowdflower/sentiment-analysis-in-text"
   ]
  },
  {
   "cell_type": "code",
   "execution_count": 1,
   "id": "9d69480a-dadd-4e5c-83d3-e84e8fdb0fa4",
   "metadata": {},
   "outputs": [
    {
     "name": "stdout",
     "output_type": "stream",
     "text": [
      "WARNING:tensorflow:From C:\\Users\\HFO\\.conda\\envs\\tf\\Lib\\site-packages\\keras\\src\\losses.py:2976: The name tf.losses.sparse_softmax_cross_entropy is deprecated. Please use tf.compat.v1.losses.sparse_softmax_cross_entropy instead.\n",
      "\n"
     ]
    }
   ],
   "source": [
    "import numpy as np\n",
    "import pandas as pd\n",
    "import nltk\n",
    "import seaborn as sns\n",
    "import re\n",
    "\n",
    "from keras.preprocessing.text import text_to_word_sequence, Tokenizer\n",
    "from keras.preprocessing.sequence import pad_sequences\n",
    "from keras.utils import to_categorical\n",
    "from keras import regularizers\n",
    "\n",
    "from keras.models import Sequential\n",
    "from keras.layers import Embedding, LSTM, Dense, Activation, Dropout, BatchNormalization\n",
    "from nltk.tokenize import sent_tokenize, word_tokenize, RegexpTokenizer\n",
    "from nltk.corpus import stopwords \n",
    "from string import punctuation\n",
    "from sklearn.model_selection import train_test_split\n",
    "from sklearn.preprocessing import LabelEncoder, OneHotEncoder\n",
    "from livelossplot import PlotLossesKeras\n",
    "from matplotlib import pyplot as plt"
   ]
  },
  {
   "cell_type": "code",
   "execution_count": null,
   "id": "d60f7d79-33a2-4216-8826-66e7d6145f9d",
   "metadata": {},
   "outputs": [],
   "source": []
  },
  {
   "cell_type": "code",
   "execution_count": 2,
   "id": "53ecd99f-a2e2-41ff-b7f6-f4889275ca48",
   "metadata": {},
   "outputs": [
    {
     "data": {
      "text/html": [
       "<div>\n",
       "<style scoped>\n",
       "    .dataframe tbody tr th:only-of-type {\n",
       "        vertical-align: middle;\n",
       "    }\n",
       "\n",
       "    .dataframe tbody tr th {\n",
       "        vertical-align: top;\n",
       "    }\n",
       "\n",
       "    .dataframe thead th {\n",
       "        text-align: right;\n",
       "    }\n",
       "</style>\n",
       "<table border=\"1\" class=\"dataframe\">\n",
       "  <thead>\n",
       "    <tr style=\"text-align: right;\">\n",
       "      <th></th>\n",
       "      <th>tweet_id</th>\n",
       "      <th>sentiment</th>\n",
       "      <th>author</th>\n",
       "      <th>content</th>\n",
       "    </tr>\n",
       "  </thead>\n",
       "  <tbody>\n",
       "    <tr>\n",
       "      <th>0</th>\n",
       "      <td>1956967341</td>\n",
       "      <td>empty</td>\n",
       "      <td>xoshayzers</td>\n",
       "      <td>@tiffanylue i know  i was listenin to bad habi...</td>\n",
       "    </tr>\n",
       "    <tr>\n",
       "      <th>1</th>\n",
       "      <td>1956967666</td>\n",
       "      <td>sadness</td>\n",
       "      <td>wannamama</td>\n",
       "      <td>Layin n bed with a headache  ughhhh...waitin o...</td>\n",
       "    </tr>\n",
       "    <tr>\n",
       "      <th>2</th>\n",
       "      <td>1956967696</td>\n",
       "      <td>sadness</td>\n",
       "      <td>coolfunky</td>\n",
       "      <td>Funeral ceremony...gloomy friday...</td>\n",
       "    </tr>\n",
       "    <tr>\n",
       "      <th>3</th>\n",
       "      <td>1956967789</td>\n",
       "      <td>enthusiasm</td>\n",
       "      <td>czareaquino</td>\n",
       "      <td>wants to hang out with friends SOON!</td>\n",
       "    </tr>\n",
       "    <tr>\n",
       "      <th>4</th>\n",
       "      <td>1956968416</td>\n",
       "      <td>neutral</td>\n",
       "      <td>xkilljoyx</td>\n",
       "      <td>@dannycastillo We want to trade with someone w...</td>\n",
       "    </tr>\n",
       "  </tbody>\n",
       "</table>\n",
       "</div>"
      ],
      "text/plain": [
       "     tweet_id   sentiment       author  \\\n",
       "0  1956967341       empty   xoshayzers   \n",
       "1  1956967666     sadness    wannamama   \n",
       "2  1956967696     sadness    coolfunky   \n",
       "3  1956967789  enthusiasm  czareaquino   \n",
       "4  1956968416     neutral    xkilljoyx   \n",
       "\n",
       "                                             content  \n",
       "0  @tiffanylue i know  i was listenin to bad habi...  \n",
       "1  Layin n bed with a headache  ughhhh...waitin o...  \n",
       "2                Funeral ceremony...gloomy friday...  \n",
       "3               wants to hang out with friends SOON!  \n",
       "4  @dannycastillo We want to trade with someone w...  "
      ]
     },
     "execution_count": 2,
     "metadata": {},
     "output_type": "execute_result"
    }
   ],
   "source": [
    "df = pd.read_csv(\"text_emotion.csv\")\n",
    "df.head(5)"
   ]
  },
  {
   "cell_type": "code",
   "execution_count": 3,
   "id": "60711c14-b28f-4fe2-a369-2e3d1795498c",
   "metadata": {},
   "outputs": [
    {
     "name": "stdout",
     "output_type": "stream",
     "text": [
      "<class 'pandas.core.frame.DataFrame'>\n",
      "RangeIndex: 40000 entries, 0 to 39999\n",
      "Data columns (total 4 columns):\n",
      " #   Column     Non-Null Count  Dtype \n",
      "---  ------     --------------  ----- \n",
      " 0   tweet_id   40000 non-null  int64 \n",
      " 1   sentiment  40000 non-null  object\n",
      " 2   author     40000 non-null  object\n",
      " 3   content    40000 non-null  object\n",
      "dtypes: int64(1), object(3)\n",
      "memory usage: 1.2+ MB\n"
     ]
    }
   ],
   "source": [
    "df.info()"
   ]
  },
  {
   "cell_type": "markdown",
   "id": "1caaa4f9-8fb8-48ae-a3a2-7000ee332bcb",
   "metadata": {},
   "source": [
    "# Get max tweet length"
   ]
  },
  {
   "cell_type": "code",
   "execution_count": 4,
   "id": "126583e1-7d72-401d-ae89-07dad00376ee",
   "metadata": {},
   "outputs": [
    {
     "name": "stdout",
     "output_type": "stream",
     "text": [
      "167\n"
     ]
    }
   ],
   "source": [
    "max_tweet_length= df[\"content\"].str.len().max()\n",
    "print(max_tweet_length)"
   ]
  },
  {
   "cell_type": "code",
   "execution_count": null,
   "id": "99ddbc4e-4b6f-4c17-9f8e-ac0ec09c314b",
   "metadata": {},
   "outputs": [],
   "source": []
  },
  {
   "cell_type": "markdown",
   "id": "20945fe7-5088-4a2c-9a71-556c0a19f679",
   "metadata": {},
   "source": [
    "# Get number of classes"
   ]
  },
  {
   "cell_type": "code",
   "execution_count": 5,
   "id": "915b3e3b-9daf-4f14-ba62-df2aa9e8ec40",
   "metadata": {},
   "outputs": [
    {
     "name": "stdout",
     "output_type": "stream",
     "text": [
      "['anger' 'boredom' 'empty' 'enthusiasm' 'fun' 'happiness' 'hate' 'love'\n",
      " 'neutral' 'relief' 'sadness' 'surprise' 'worry']\n",
      "13\n"
     ]
    }
   ],
   "source": [
    "classes = np.unique(df[\"sentiment\"])\n",
    "nr_classes = len(classes)\n",
    "print(classes)\n",
    "print(nr_classes)"
   ]
  },
  {
   "cell_type": "code",
   "execution_count": null,
   "id": "15eded42-86b0-44a5-b2c6-f4089d54e41d",
   "metadata": {},
   "outputs": [],
   "source": []
  },
  {
   "cell_type": "code",
   "execution_count": 6,
   "id": "7a18b48f-0892-456a-a44e-3ec6eb537ad2",
   "metadata": {},
   "outputs": [
    {
     "data": {
      "image/png": "[encoded data removed]",
      "text/plain": [
       "<Figure size 640x480 with 1 Axes>"
      ]
     },
     "metadata": {},
     "output_type": "display_data"
    }
   ],
   "source": [
    "sns.countplot(x ='sentiment', data = df, hue='sentiment')\n",
    "plt.xticks(rotation = 90);"
   ]
  },
  {
   "cell_type": "code",
   "execution_count": null,
   "id": "cc24bfc5-5672-4795-a8bd-4b6c7d2df3d2",
   "metadata": {},
   "outputs": [],
   "source": []
  },
  {
   "cell_type": "code",
   "execution_count": null,
   "id": "9aa3c0fb-3771-4d51-8414-68353d824269",
   "metadata": {},
   "outputs": [],
   "source": []
  },
  {
   "cell_type": "markdown",
   "id": "595ab78a-1ef5-4846-a089-55f4c8828c35",
   "metadata": {},
   "source": [
    "# Explore tweets' contents"
   ]
  },
  {
   "cell_type": "code",
   "execution_count": 7,
   "id": "1406b64a-7e2d-4e00-ab1d-a3a93c163f1c",
   "metadata": {},
   "outputs": [
    {
     "name": "stdout",
     "output_type": "stream",
     "text": [
      "@tiffanylue i know  i was listenin to bad habit earlier and i started freakin at his part =[\n",
      "empty\n"
     ]
    }
   ],
   "source": [
    "idx = 0\n",
    "print(df['content'][idx])\n",
    "print(df['sentiment'][idx])"
   ]
  },
  {
   "cell_type": "code",
   "execution_count": null,
   "id": "67847c46-d919-4a24-ac59-73d21bc81e51",
   "metadata": {},
   "outputs": [],
   "source": []
  },
  {
   "cell_type": "markdown",
   "id": "7f39c080-74df-45b7-a11f-32cd9d71b9e5",
   "metadata": {},
   "source": [
    "# Extract adjectives, nouns and verbs from tweets"
   ]
  },
  {
   "cell_type": "code",
   "execution_count": 8,
   "id": "daa637ce-b5a2-47c9-bd0c-3d55d6de32a1",
   "metadata": {},
   "outputs": [],
   "source": [
    "stop_words = stopwords.words('english')\n",
    "\n",
    "def filter_txt(txt_str):\n",
    "    \n",
    "    filtered_sentence = txt_str.replace(\"<br />\",\"\")\n",
    "    filtered_sentence = txt_str.replace(\"'ll\",\"\")\n",
    "    filtered_sentence = txt_str.replace(\"'\",\"\")\n",
    "\n",
    "    # Keep only adjectives\n",
    "    word_tokens = text_to_word_sequence(filtered_sentence)\n",
    "    filtered_sentence = [w for w,tag in nltk.pos_tag(word_tokens) if ((tag[0] in \"JJ\")) and (len(w)>2) and (w not in stop_words)]\n",
    "    #filtered_sentence = [w for w,tag in nltk.pos_tag(word_tokens) if ((tag[0] in \"JJ\") or (tag[0] in \"NN\") or (tag[0] in \"VB\")) and (len(w)>2) and (w not in stop_words)]\n",
    "    filtered_sentence = ''.join(str(x)+' ' for x in filtered_sentence)\n",
    "    #print(txt_str)\n",
    "    #print(filtered_sentence)\n",
    "    \n",
    "    return filtered_sentence"
   ]
  },
  {
   "cell_type": "code",
   "execution_count": 9,
   "id": "8153d2d3-4c3e-4598-b8b3-09e08bcf0c81",
   "metadata": {},
   "outputs": [
    {
     "name": "stdout",
     "output_type": "stream",
     "text": [
      "wants to hang out with friends SOON!\n",
      "\n",
      "enthusiasm\n"
     ]
    }
   ],
   "source": [
    "idx = 3\n",
    "print(df['content'][idx])\n",
    "print(filter_txt(df['content'][idx]))\n",
    "print(df['sentiment'][idx])"
   ]
  },
  {
   "cell_type": "code",
   "execution_count": 10,
   "id": "7a5385ed-ca01-4b0a-b31f-d3b10be6d8e7",
   "metadata": {},
   "outputs": [],
   "source": [
    "df['content'] = df['content'].apply(filter_txt)"
   ]
  },
  {
   "cell_type": "code",
   "execution_count": null,
   "id": "5d8ceb19-42a4-44ce-9709-6acec1c77b4f",
   "metadata": {},
   "outputs": [],
   "source": []
  },
  {
   "cell_type": "markdown",
   "id": "dcdb3f27-a0dd-4973-b670-251df3c04574",
   "metadata": {},
   "source": [
    "# Generate a vocabulary from all tweets"
   ]
  },
  {
   "cell_type": "code",
   "execution_count": 11,
   "id": "c20bebf1-dbb0-4a8e-a2c1-5854eea26bcf",
   "metadata": {},
   "outputs": [
    {
     "name": "stdout",
     "output_type": "stream",
     "text": [
      "Nr, of Tweets;  (40000,)\n"
     ]
    }
   ],
   "source": [
    "# Create a list with all tweets\n",
    "tweets_ls = df[['content']].to_string(header=False,\n",
    "                  index=False,\n",
    "                  index_names=False).split(' \\n')\n",
    "\n",
    "print(\"Nr, of Tweets; \", np.shape(tweets_ls))\n",
    "\n",
    "# Split each word in the tweets, thus generating a list of lists\n",
    "tweets_words_ls = [w.split() for w in tweets_ls]\n",
    "\n",
    "# Unravel or flatten the list of lists\n",
    "def flatten_comprehension(list_of_lists):\n",
    "    return [word for words_list in list_of_lists for word in words_list]\n",
    "flattened_tweets_words = flatten_comprehension(tweets_words_ls)"
   ]
  },
  {
   "cell_type": "code",
   "execution_count": 12,
   "id": "586720b7-c6cd-42c2-a736-9e1eaee3b56e",
   "metadata": {},
   "outputs": [
    {
     "name": "stdout",
     "output_type": "stream",
     "text": [
      "Total Nr. Words: (45932,)\n",
      "Vocabulary Size: 8824\n"
     ]
    }
   ],
   "source": [
    "print(\"Total Nr. Words:\", np.shape(flattened_tweets_words))\n",
    "print(\"Vocabulary Size:\", len(np.unique(flattened_tweets_words)))\n"
   ]
  },
  {
   "cell_type": "code",
   "execution_count": 13,
   "id": "72bb13c4-099a-4daf-96b5-ed0d1ee1acb9",
   "metadata": {},
   "outputs": [],
   "source": [
    "tokenizer = Tokenizer()\n",
    "tokenizer.fit_on_texts(flattened_tweets_words)\n",
    "tokens = tokenizer.word_index"
   ]
  },
  {
   "cell_type": "code",
   "execution_count": 14,
   "id": "277e301f-6ae9-414b-90e6-0beb9c5deb4b",
   "metadata": {},
   "outputs": [
    {
     "name": "stdout",
     "output_type": "stream",
     "text": [
      "8824\n",
      "8824\n"
     ]
    }
   ],
   "source": [
    "print(len(np.unique(flattened_tweets_words)))\n",
    "print(len(tokenizer.word_index))"
   ]
  },
  {
   "cell_type": "code",
   "execution_count": null,
   "id": "4a493227-1c0d-467d-996d-f8af825a1752",
   "metadata": {},
   "outputs": [],
   "source": []
  },
  {
   "cell_type": "markdown",
   "id": "efda3694-ebbe-4fe3-8167-31edc1938e46",
   "metadata": {},
   "source": [
    "# Get the Vocabulary Size"
   ]
  },
  {
   "cell_type": "code",
   "execution_count": 15,
   "id": "893f1215-1932-4662-925d-f481d541a2f1",
   "metadata": {},
   "outputs": [
    {
     "name": "stdout",
     "output_type": "stream",
     "text": [
      "8824\n"
     ]
    }
   ],
   "source": [
    "vocabulary_size = len(tokenizer.word_index)\n",
    "print(vocabulary_size)"
   ]
  },
  {
   "cell_type": "markdown",
   "id": "3a9fc5b0-48ae-4063-b095-fef3eac05166",
   "metadata": {},
   "source": [
    "# Build sequences of tokens"
   ]
  },
  {
   "cell_type": "code",
   "execution_count": 16,
   "id": "0260347b-a8ba-49d2-814b-996b748f41c4",
   "metadata": {},
   "outputs": [
    {
     "name": "stdout",
     "output_type": "stream",
     "text": [
      "167\n",
      "55\n"
     ]
    }
   ],
   "source": [
    "# Verify max_tweet_length\n",
    "max_tweet_length_2 = max([len(tweet_txt) for tweet_txt in tweets_ls])\n",
    "print(max_tweet_length)\n",
    "print(max_tweet_length_2)"
   ]
  },
  {
   "cell_type": "code",
   "execution_count": 17,
   "id": "f381851c-a7f4-4ef7-85be-040c3c85ecb9",
   "metadata": {},
   "outputs": [],
   "source": [
    "# build subsequences of different sizes, starting from 1 to the size of the sequence. \n",
    "sequences = tokenizer.texts_to_sequences(tweets_ls)\n",
    "sequences = pad_sequences(sequences, maxlen=max_tweet_length, padding='pre')"
   ]
  },
  {
   "cell_type": "code",
   "execution_count": 18,
   "id": "18b62349-0323-413f-a35c-a7f873f53371",
   "metadata": {},
   "outputs": [
    {
     "name": "stdout",
     "output_type": "stream",
     "text": [
      "(40000, 167)\n",
      "[0 0 0 0 0 0 0 0 0 0 0 0 0 0 0 0 0 0 0 0 0 0 0 0 0 0 0 0 0 0 0 0 0 0 0 0 0\n",
      " 0 0 0 0 0 0 0 0 0 0 0 0 0 0 0 0 0 0 0 0 0 0 0 0 0 0 0 0 0 0 0 0 0 0 0 0 0\n",
      " 0 0 0 0 0 0 0 0 0 0 0 0 0 0 0 0 0 0 0 0 0 0 0 0 0 0 0 0 0 0 0 0 0 0 0 0 0\n",
      " 0 0 0 0 0 0 0 0 0 0 0 0 0 0 0 0 0 0 0 0 0 0 0 0 0 0 0 0 0 0 0 0 0 0 0 0 0\n",
      " 0 0 0 0 0 0 0 0 0 0 0 0 0 0 0 0 0 0 7]\n"
     ]
    }
   ],
   "source": [
    "print(sequences.shape)\n",
    "print(sequences[0])"
   ]
  },
  {
   "cell_type": "markdown",
   "id": "7ce2e8f8-a1d7-4656-9a2c-43b6a56b1b55",
   "metadata": {},
   "source": [
    "# Build Input and Output\n",
    "#### The input to the network is all the words of the sequence except the last one, and the output is the last word of the sequence.\n",
    "#### Then, convert output into categorical data using the to_categorical() method from the keras.utils module."
   ]
  },
  {
   "cell_type": "code",
   "execution_count": 19,
   "id": "e80912cb-2336-46c9-b7e6-99f12b8aaed1",
   "metadata": {},
   "outputs": [
    {
     "data": {
      "text/plain": [
       "13"
      ]
     },
     "execution_count": 19,
     "metadata": {},
     "output_type": "execute_result"
    }
   ],
   "source": [
    "nr_classes"
   ]
  },
  {
   "cell_type": "code",
   "execution_count": 20,
   "id": "415ea885-9c3b-4b44-830a-5614336541f6",
   "metadata": {},
   "outputs": [
    {
     "name": "stdout",
     "output_type": "stream",
     "text": [
      "[ 0  1  2  3  4  5  6  7  8  9 10 11 12]\n"
     ]
    }
   ],
   "source": [
    "X = sequences\n",
    "y = df[[\"sentiment\"]].to_numpy().ravel()\n",
    "y = LabelEncoder().fit_transform(y)\n",
    "print(np.unique(y))"
   ]
  },
  {
   "cell_type": "code",
   "execution_count": 21,
   "id": "24989cab-8024-4aa3-83d6-18ba22e6b64f",
   "metadata": {},
   "outputs": [
    {
     "name": "stdout",
     "output_type": "stream",
     "text": [
      "(40000, 167)\n",
      "(40000,)\n"
     ]
    }
   ],
   "source": [
    "print(X.shape)\n",
    "print(y.shape)"
   ]
  },
  {
   "cell_type": "code",
   "execution_count": 22,
   "id": "f7a566ec-d3ed-4d76-9042-0c998927ae8b",
   "metadata": {},
   "outputs": [
    {
     "data": {
      "text/plain": [
       "array([0, 0, 0, 0, 0, 0, 0, 0, 0, 0, 0, 0, 0, 0, 0, 0, 0, 0, 0, 0, 0, 0,\n",
       "       0, 0, 0, 0, 0, 0, 0, 0, 0, 0, 0, 0, 0, 0, 0, 0, 0, 0, 0, 0, 0, 0,\n",
       "       0, 0, 0, 0, 0, 0, 0, 0, 0, 0, 0, 0, 0, 0, 0, 0, 0, 0, 0, 0, 0, 0,\n",
       "       0, 0, 0, 0, 0, 0, 0, 0, 0, 0, 0, 0, 0, 0, 0, 0, 0, 0, 0, 0, 0, 0,\n",
       "       0, 0, 0, 0, 0, 0, 0, 0, 0, 0, 0, 0, 0, 0, 0, 0, 0, 0, 0, 0, 0, 0,\n",
       "       0, 0, 0, 0, 0, 0, 0, 0, 0, 0, 0, 0, 0, 0, 0, 0, 0, 0, 0, 0, 0, 0,\n",
       "       0, 0, 0, 0, 0, 0, 0, 0, 0, 0, 0, 0, 0, 0, 0, 0, 0, 0, 0, 0, 0, 0,\n",
       "       0, 0, 0, 0, 0, 0, 0, 0, 0, 0, 0, 0, 7])"
      ]
     },
     "execution_count": 22,
     "metadata": {},
     "output_type": "execute_result"
    }
   ],
   "source": [
    "X[0]"
   ]
  },
  {
   "cell_type": "code",
   "execution_count": 23,
   "id": "f3b29086-db0c-4c42-85a7-60d809f807e8",
   "metadata": {},
   "outputs": [
    {
     "data": {
      "text/plain": [
       "2"
      ]
     },
     "execution_count": 23,
     "metadata": {},
     "output_type": "execute_result"
    }
   ],
   "source": [
    "y[0]"
   ]
  },
  {
   "cell_type": "markdown",
   "id": "5da3d1e8-fd53-48e4-9afd-fbd90551e885",
   "metadata": {},
   "source": [
    "# Build training, validationand test sets"
   ]
  },
  {
   "cell_type": "code",
   "execution_count": 24,
   "id": "f564e042-06be-447a-b906-e7fae6c4bb6b",
   "metadata": {},
   "outputs": [],
   "source": [
    "X_train_valid, X_test, y_train_valid, y_test = train_test_split(X, y, test_size=0.20, random_state=0)\n",
    "X_train, X_valid, y_train, y_valid = train_test_split(X_train_valid, y_train_valid, test_size=0.2, random_state=0)"
   ]
  },
  {
   "cell_type": "code",
   "execution_count": 25,
   "id": "3aa4f18b-1fb8-4d59-b9b5-2b4cf1c43c7e",
   "metadata": {},
   "outputs": [
    {
     "name": "stdout",
     "output_type": "stream",
     "text": [
      "(25600, 167)\n",
      "(25600,)\n",
      "(6400, 167)\n",
      "(6400,)\n",
      "(8000, 167)\n",
      "(8000,)\n"
     ]
    }
   ],
   "source": [
    "print(X_train.shape)\n",
    "print(y_train.shape)\n",
    "\n",
    "print(X_valid.shape)\n",
    "print(y_valid.shape)\n",
    "\n",
    "print(X_test.shape)\n",
    "print(y_test.shape)"
   ]
  },
  {
   "cell_type": "code",
   "execution_count": null,
   "id": "78d42fea-69da-42b7-826c-2d3f195a1cc8",
   "metadata": {},
   "outputs": [],
   "source": []
  },
  {
   "cell_type": "code",
   "execution_count": null,
   "id": "f8686f62-1605-4040-aca2-ab2725da47d7",
   "metadata": {},
   "outputs": [],
   "source": []
  },
  {
   "cell_type": "markdown",
   "id": "c011f02a-ae72-4585-9580-468dafcdfb0b",
   "metadata": {},
   "source": [
    "# Train an ANN to perform NLP"
   ]
  },
  {
   "cell_type": "code",
   "execution_count": 26,
   "id": "764ada90-0c65-4dca-be96-7d5c0a5fc95f",
   "metadata": {},
   "outputs": [
    {
     "name": "stdout",
     "output_type": "stream",
     "text": [
      "WARNING:tensorflow:From C:\\Users\\HFO\\.conda\\envs\\tf\\Lib\\site-packages\\keras\\src\\backend.py:873: The name tf.get_default_graph is deprecated. Please use tf.compat.v1.get_default_graph instead.\n",
      "\n"
     ]
    }
   ],
   "source": [
    "model=Sequential()\n",
    "model.add(Embedding(input_dim=vocabulary_size+1, output_dim=max_tweet_length,input_length=max_tweet_length))\n",
    "\n",
    "model.add(LSTM(50, kernel_regularizer=regularizers.L1(0.1),recurrent_regularizer=regularizers.L1(0.1)))\n",
    "model.add(BatchNormalization())\n",
    "model.add(Dropout(0.25))\n",
    "\n",
    "# # Hidden layer\n",
    "# model.add(Dense(units=100, \n",
    "#                 activation='relu', \n",
    "#                 kernel_initializer='uniform', \n",
    "#                 kernel_regularizer=regularizers.L2(1e-2), \n",
    "#                 bias_regularizer=regularizers.L2(1e-2), \n",
    "#                 activity_regularizer=regularizers.L2(1e-2)))\n",
    "# model.add(BatchNormalization())\n",
    "# model.add(Dropout(0.5))\n",
    "\n",
    "model.add(Dense(units=nr_classes, activation='softmax'))"
   ]
  },
  {
   "cell_type": "code",
   "execution_count": 27,
   "id": "e3ff5c54-5061-4810-9811-bf42e85d5b06",
   "metadata": {},
   "outputs": [
    {
     "name": "stdout",
     "output_type": "stream",
     "text": [
      "WARNING:tensorflow:From C:\\Users\\HFO\\.conda\\envs\\tf\\Lib\\site-packages\\keras\\src\\optimizers\\__init__.py:309: The name tf.train.Optimizer is deprecated. Please use tf.compat.v1.train.Optimizer instead.\n",
      "\n"
     ]
    }
   ],
   "source": [
    "model.compile(optimizer='adam', loss='sparse_categorical_crossentropy', metrics=['accuracy'])"
   ]
  },
  {
   "cell_type": "code",
   "execution_count": 28,
   "id": "70fd35f0-8ebe-474d-a809-89cd288075e7",
   "metadata": {},
   "outputs": [
    {
     "name": "stdout",
     "output_type": "stream",
     "text": [
      "Model: \"sequential\"\n",
      "_________________________________________________________________\n",
      " Layer (type)                Output Shape              Param #   \n",
      "=================================================================\n",
      " embedding (Embedding)       (None, 167, 167)          1473775   \n",
      "                                                                 \n",
      " lstm (LSTM)                 (None, 50)                43600     \n",
      "                                                                 \n",
      " batch_normalization (Batch  (None, 50)                200       \n",
      " Normalization)                                                  \n",
      "                                                                 \n",
      " dropout (Dropout)           (None, 50)                0         \n",
      "                                                                 \n",
      " dense (Dense)               (None, 13)                663       \n",
      "                                                                 \n",
      "=================================================================\n",
      "Total params: 1518238 (5.79 MB)\n",
      "Trainable params: 1518138 (5.79 MB)\n",
      "Non-trainable params: 100 (400.00 Byte)\n",
      "_________________________________________________________________\n"
     ]
    }
   ],
   "source": [
    "model.summary()"
   ]
  },
  {
   "cell_type": "code",
   "execution_count": null,
   "id": "ef21139f-b82f-472d-af46-78e3066d20c4",
   "metadata": {},
   "outputs": [
    {
     "data": {
      "image/png": "[encoded data removed]",
      "text/plain": [
       "<Figure size 1200x800 with 2 Axes>"
      ]
     },
     "metadata": {},
     "output_type": "display_data"
    },
    {
     "name": "stdout",
     "output_type": "stream",
     "text": [
      "accuracy\n",
      "\ttraining         \t (min:    0.214, max:    0.397, cur:    0.397)\n",
      "\tvalidation       \t (min:    0.021, max:    0.258, cur:    0.052)\n",
      "Loss\n",
      "\ttraining         \t (min:    2.547, max:   17.644, cur:    2.547)\n",
      "\tvalidation       \t (min:    2.659, max:   27.707, cur:   14.882)\n",
      "800/800 [==============================] - 44s 55ms/step - loss: 2.5473 - accuracy: 0.3966 - val_loss: 14.8816 - val_accuracy: 0.0516\n",
      "Epoch 31/100\n",
      "166/800 [=====>........................] - ETA: 30s - loss: 2.5449 - accuracy: 0.3985"
     ]
    }
   ],
   "source": [
    "history = model.fit(X_train, y_train, \n",
    "                    batch_size=32, \n",
    "                    epochs=100, \n",
    "                    validation_data=(X_valid, y_valid), \n",
    "                    callbacks=[PlotLossesKeras()],\n",
    "                    verbose=1)"
   ]
  },
  {
   "cell_type": "code",
   "execution_count": null,
   "id": "330fe883-1e19-419e-b66c-ba962dd372f4",
   "metadata": {},
   "outputs": [],
   "source": []
  },
  {
   "cell_type": "code",
   "execution_count": null,
   "id": "daa7ae16-4f42-44b3-8da3-0ed7d3916081",
   "metadata": {},
   "outputs": [],
   "source": [
    "plt.plot(history.history['accuracy'])\n",
    "plt.plot(history.history['val_accuracy'])\n",
    "plt.title('model accuracy')\n",
    "plt.ylabel('accuracy')\n",
    "plt.xlabel('epoch')\n",
    "plt.legend(['train', 'val'], loc='upper left')\n",
    "plt.show()"
   ]
  },
  {
   "cell_type": "code",
   "execution_count": null,
   "id": "ac4d8189-bbbe-40f8-a3cd-306fa5aa188b",
   "metadata": {},
   "outputs": [],
   "source": [
    "plt.plot(history.history['loss'])\n",
    "plt.plot(history.history['val_loss'])\n",
    "plt.title('model loss')\n",
    "plt.ylabel('loss')\n",
    "plt.xlabel('epoch')\n",
    "plt.legend(['train', 'val'], loc='upper left')\n",
    "plt.show()"
   ]
  },
  {
   "cell_type": "code",
   "execution_count": null,
   "id": "d199c5ca-a8c2-4096-9bfc-ac8a4d41b201",
   "metadata": {},
   "outputs": [],
   "source": []
  },
  {
   "cell_type": "markdown",
   "id": "ab0c47dd-b15a-4f7f-a3b4-b490a4450cf9",
   "metadata": {},
   "source": [
    "# Evaluate model"
   ]
  },
  {
   "cell_type": "code",
   "execution_count": null,
   "id": "6d7d5fc4-910b-4d69-b8ef-57f6f1721444",
   "metadata": {},
   "outputs": [],
   "source": [
    "model.evaluate(X_test, y_test)"
   ]
  },
  {
   "cell_type": "code",
   "execution_count": null,
   "id": "d3e54f97-5239-4081-b8c0-506a5638e387",
   "metadata": {},
   "outputs": [],
   "source": []
  },
  {
   "cell_type": "code",
   "execution_count": null,
   "id": "f1705d44-4550-4252-92fd-0e667ec31b04",
   "metadata": {},
   "outputs": [],
   "source": []
  }
 ],
 "metadata": {
  "kernelspec": {
   "display_name": "Python 3 (ipykernel)",
   "language": "python",
   "name": "python3"
  },
  "language_info": {
   "codemirror_mode": {
    "name": "ipython",
    "version": 3
   },
   "file_extension": ".py",
   "mimetype": "text/x-python",
   "name": "python",
   "nbconvert_exporter": "python",
   "pygments_lexer": "ipython3",
   "version": "3.11.7"
  }
 },
 "nbformat": 4,
 "nbformat_minor": 5
}
