{
 "cells": [
  {
   "cell_type": "markdown",
   "id": "0dbfb3c4-3232-45d4-a543-f78fb8c7d00d",
   "metadata": {},
   "source": [
    "### This Dataset contains highly polar IMDB movie reviews that canbe used for binary sentiment classification (predict if review is positive or negative). \n",
    "\n",
    "<br>\n",
    "\n",
    "Dataset: https://www.kaggle.com/datasets/lakshmi25npathi/imdb-dataset-of-50k-movie-reviews?resource=download"
   ]
  },
  {
   "cell_type": "code",
   "execution_count": 27,
   "id": "01a9ec60-1d69-4b68-863e-1e4181f2c73b",
   "metadata": {},
   "outputs": [],
   "source": [
    "import numpy as np\n",
    "import pandas as pd\n",
    "import nltk\n",
    "\n",
    "from keras.preprocessing.text import text_to_word_sequence, Tokenizer\n",
    "from keras.preprocessing.sequence import pad_sequences\n",
    "from keras.utils import to_categorical\n",
    "\n",
    "from keras.models import Sequential\n",
    "from keras.layers import Embedding, LSTM, Dense, Activation, Dropout, BatchNormalization\n",
    "from nltk.tokenize import sent_tokenize, word_tokenize, RegexpTokenizer\n",
    "from nltk.corpus import stopwords \n",
    "from string import punctuation\n",
    "from sklearn.model_selection import train_test_split\n",
    "from livelossplot import PlotLossesKeras"
   ]
  },
  {
   "cell_type": "code",
   "execution_count": 2,
   "id": "be0ac1d8-e6cf-46d3-a913-a657c6e5aacd",
   "metadata": {},
   "outputs": [
    {
     "data": {
      "text/html": [
       "<div>\n",
       "<style scoped>\n",
       "    .dataframe tbody tr th:only-of-type {\n",
       "        vertical-align: middle;\n",
       "    }\n",
       "\n",
       "    .dataframe tbody tr th {\n",
       "        vertical-align: top;\n",
       "    }\n",
       "\n",
       "    .dataframe thead th {\n",
       "        text-align: right;\n",
       "    }\n",
       "</style>\n",
       "<table border=\"1\" class=\"dataframe\">\n",
       "  <thead>\n",
       "    <tr style=\"text-align: right;\">\n",
       "      <th></th>\n",
       "      <th>review</th>\n",
       "      <th>sentiment</th>\n",
       "    </tr>\n",
       "  </thead>\n",
       "  <tbody>\n",
       "    <tr>\n",
       "      <th>0</th>\n",
       "      <td>One of the other reviewers has mentioned that ...</td>\n",
       "      <td>positive</td>\n",
       "    </tr>\n",
       "    <tr>\n",
       "      <th>1</th>\n",
       "      <td>A wonderful little production. &lt;br /&gt;&lt;br /&gt;The...</td>\n",
       "      <td>positive</td>\n",
       "    </tr>\n",
       "    <tr>\n",
       "      <th>2</th>\n",
       "      <td>I thought this was a wonderful way to spend ti...</td>\n",
       "      <td>positive</td>\n",
       "    </tr>\n",
       "    <tr>\n",
       "      <th>3</th>\n",
       "      <td>Basically there's a family where a little boy ...</td>\n",
       "      <td>negative</td>\n",
       "    </tr>\n",
       "    <tr>\n",
       "      <th>4</th>\n",
       "      <td>Petter Mattei's \"Love in the Time of Money\" is...</td>\n",
       "      <td>positive</td>\n",
       "    </tr>\n",
       "  </tbody>\n",
       "</table>\n",
       "</div>"
      ],
      "text/plain": [
       "                                              review sentiment\n",
       "0  One of the other reviewers has mentioned that ...  positive\n",
       "1  A wonderful little production. <br /><br />The...  positive\n",
       "2  I thought this was a wonderful way to spend ti...  positive\n",
       "3  Basically there's a family where a little boy ...  negative\n",
       "4  Petter Mattei's \"Love in the Time of Money\" is...  positive"
      ]
     },
     "execution_count": 2,
     "metadata": {},
     "output_type": "execute_result"
    }
   ],
   "source": [
    "df = pd.read_csv(\"IMDB Dataset.csv\")\n",
    "df.head(5)"
   ]
  },
  {
   "cell_type": "code",
   "execution_count": null,
   "id": "db9ec206-f370-4fac-8404-2c6f7523b2d3",
   "metadata": {},
   "outputs": [],
   "source": []
  },
  {
   "cell_type": "markdown",
   "id": "dc75da29-6ae7-4bf5-9281-1c840a9e5bb8",
   "metadata": {},
   "source": [
    "# Transform each entry to a list of words\n",
    "- Removea all occurrences of \"\\<br /\\>\"\n",
    "- Remove all punctuation including tabs and newlines.\n",
    "- Convert all words to lower case.\n",
    "- Split the input string into words using space as the separator."
   ]
  },
  {
   "cell_type": "code",
   "execution_count": 3,
   "id": "d343edec-5a8f-4a99-8b7c-0db16b1490f7",
   "metadata": {},
   "outputs": [
    {
     "name": "stdout",
     "output_type": "stream",
     "text": [
      "One of the other reviewers has mentioned that after watching just 1 Oz episode you'll be hooked. They are right, as this is exactly what happened with me.<br /><br />The first thing that struck me about Oz was its brutality and unflinching scenes of violence, which set in right from the word GO. Trust me, this is not a show for the faint hearted or timid. This show pulls no punches with regards to drugs, sex or violence. Its is hardcore, in the classic use of the word.<br /><br />It is called OZ as that is the nickname given to the Oswald Maximum Security State Penitentary. It focuses mainly on Emerald City, an experimental section of the prison where all the cells have glass fronts and face inwards, so privacy is not high on the agenda. Em City is home to many..Aryans, Muslims, gangstas, Latinos, Christians, Italians, Irish and more....so scuffles, death stares, dodgy dealings and shady agreements are never far away.<br /><br />I would say the main appeal of the show is due to the fact that it goes where other shows wouldn't dare. Forget pretty pictures painted for mainstream audiences, forget charm, forget romance...OZ doesn't mess around. The first episode I ever saw struck me as so nasty it was surreal, I couldn't say I was ready for it, but as I watched more, I developed a taste for Oz, and got accustomed to the high levels of graphic violence. Not just violence, but injustice (crooked guards who'll be sold out for a nickel, inmates who'll kill on order and get away with it, well mannered, middle class inmates being turned into prison bitches due to their lack of street skills or prison experience) Watching Oz, you may become comfortable with what is uncomfortable viewing....thats if you can get in touch with your darker side.\n"
     ]
    }
   ],
   "source": [
    "print(df['review'][0])"
   ]
  },
  {
   "cell_type": "code",
   "execution_count": null,
   "id": "a8fd6326-8ba6-4a8f-bee4-ed4026489c1d",
   "metadata": {},
   "outputs": [],
   "source": []
  },
  {
   "cell_type": "markdown",
   "id": "71653c90-1177-40c9-9abc-9b7f352bad53",
   "metadata": {},
   "source": [
    "# Extract adjectives from reviews"
   ]
  },
  {
   "cell_type": "code",
   "execution_count": 4,
   "id": "46fd384f-f875-4be6-8351-0d67ffc32c2f",
   "metadata": {},
   "outputs": [],
   "source": [
    "stop_words = stopwords.words('english')\n",
    "\n",
    "def filter_txt(txt_str):\n",
    "    \n",
    "    filtered_sentence = txt_str.replace(\"<br />\",\"\")\n",
    "    filtered_sentence = txt_str.replace(\"'ll\",\"\")\n",
    "    filtered_sentence = txt_str.replace(\"'\",\"\")\n",
    "\n",
    "    # Keep only adjectives\n",
    "    word_tokens = text_to_word_sequence(filtered_sentence)\n",
    "    filtered_sentence = [w for w,tag in nltk.pos_tag(word_tokens) if (tag[0] in \"JJ\") and (len(w)>3) and (w not in stop_words)]\n",
    "    filtered_sentence = ''.join(str(x)+' ' for x in filtered_sentence)\n",
    "    #print(filtered_sentence)\n",
    "    #print(\"\\n\")\n",
    "    \n",
    "    return filtered_sentence"
   ]
  },
  {
   "cell_type": "code",
   "execution_count": 5,
   "id": "3d168d55-63a8-4246-8b1b-9b89526a74b9",
   "metadata": {},
   "outputs": [],
   "source": [
    "df['review'] = df['review'].apply(filter_txt)"
   ]
  },
  {
   "cell_type": "code",
   "execution_count": 6,
   "id": "03f82741-97a4-49e7-9c45-fa04483b17bd",
   "metadata": {},
   "outputs": [
    {
     "name": "stdout",
     "output_type": "stream",
     "text": [
      "little slower rambo first watchable real boogeyman similar thriller descent \n"
     ]
    }
   ],
   "source": [
    "print(df['review'][3])"
   ]
  },
  {
   "cell_type": "code",
   "execution_count": null,
   "id": "803ebc2d-1990-4631-bce3-4411fba51d76",
   "metadata": {},
   "outputs": [],
   "source": []
  },
  {
   "cell_type": "markdown",
   "id": "fd3081ff-efcf-4653-aab3-71477fa13b23",
   "metadata": {},
   "source": [
    "# Join all Reviews in order to generate a vocabulary"
   ]
  },
  {
   "cell_type": "code",
   "execution_count": 7,
   "id": "d515877f-6528-4e69-ae29-30ebf3859875",
   "metadata": {},
   "outputs": [],
   "source": [
    "reviews = df[['review']].to_string(header=False,\n",
    "                  index=False,\n",
    "                  index_names=False).split('\\n')\n",
    "reviews_words = [w.split() for w in reviews]"
   ]
  },
  {
   "cell_type": "code",
   "execution_count": 8,
   "id": "ff2eb0ba-e3d8-417d-be1a-a1d2936d5a74",
   "metadata": {},
   "outputs": [],
   "source": [
    "def flatten_comprehension(reviews_words):\n",
    "    return [w for words in reviews_words for w in words]\n",
    "flattened_reviews_words = flatten_comprehension(reviews_words)"
   ]
  },
  {
   "cell_type": "code",
   "execution_count": 9,
   "id": "9187f3cb-d4b7-44af-b668-744c07e1ad15",
   "metadata": {},
   "outputs": [],
   "source": [
    "tokenizer = Tokenizer()\n",
    "tokenizer.fit_on_texts(flattened_reviews_words)\n",
    "tokens = tokenizer.word_index"
   ]
  },
  {
   "cell_type": "code",
   "execution_count": 10,
   "id": "5172a53f-0bc1-4690-be52-a168f8c7192d",
   "metadata": {},
   "outputs": [
    {
     "name": "stdout",
     "output_type": "stream",
     "text": [
      "34012\n",
      "34012\n"
     ]
    }
   ],
   "source": [
    "print(len(np.unique(flattened_reviews_words)))\n",
    "print(len(tokenizer.word_index))"
   ]
  },
  {
   "cell_type": "code",
   "execution_count": null,
   "id": "f13fd259-0286-405e-9304-70d872f46307",
   "metadata": {},
   "outputs": [],
   "source": []
  },
  {
   "cell_type": "markdown",
   "id": "644bc56f-90d5-4eb4-a16d-395d515bae37",
   "metadata": {},
   "source": [
    "# Get the Vocabulary Size"
   ]
  },
  {
   "cell_type": "code",
   "execution_count": 11,
   "id": "c359a7c1-a782-4b78-a90c-cb9d02254444",
   "metadata": {},
   "outputs": [
    {
     "name": "stdout",
     "output_type": "stream",
     "text": [
      "34013\n"
     ]
    }
   ],
   "source": [
    "vocabulary_size = len(tokenizer.word_index) + 1\n",
    "print(vocabulary_size)"
   ]
  },
  {
   "cell_type": "markdown",
   "id": "e0d3af24-02af-47b6-b6f9-644d00807472",
   "metadata": {},
   "source": [
    "# Build sequences of tokens"
   ]
  },
  {
   "cell_type": "code",
   "execution_count": 12,
   "id": "31de7409-f946-4531-a7e7-5f28ffa0edf2",
   "metadata": {},
   "outputs": [],
   "source": [
    "# Get max reviw length\n",
    "max_review_length = max([len(review) for review in reviews])"
   ]
  },
  {
   "cell_type": "code",
   "execution_count": 13,
   "id": "e8a785f7-0719-4743-947e-09737ada77cf",
   "metadata": {},
   "outputs": [],
   "source": [
    "# build subsequences of different sizes, starting from 1 to the size of the sequence. \n",
    "sequences = tokenizer.texts_to_sequences(reviews)\n",
    "sequences = pad_sequences(sequences, maxlen=max_review_length, padding='pre')"
   ]
  },
  {
   "cell_type": "code",
   "execution_count": 14,
   "id": "efa0f5af-da9c-4212-9f1e-2aae31e6533a",
   "metadata": {},
   "outputs": [
    {
     "name": "stdout",
     "output_type": "stream",
     "text": [
      "(50000, 1483)\n",
      "[   0    0    0 ...  630  539 1049]\n"
     ]
    }
   ],
   "source": [
    "print(sequences.shape)\n",
    "print(sequences[0])"
   ]
  },
  {
   "cell_type": "markdown",
   "id": "809a878c-213d-4f71-baf9-5f533be3bfba",
   "metadata": {},
   "source": [
    "# Build Input and Output\n",
    "#### The input to the network is all the words of the sequence except the last one, and the output is the last word of the sequence.\n",
    "#### Then, convert output into categorical data using the to_categorical() method from the keras.utils module."
   ]
  },
  {
   "cell_type": "code",
   "execution_count": 23,
   "id": "a5ac54c5-e420-4ec4-8408-60bc6ad4b5c0",
   "metadata": {},
   "outputs": [],
   "source": [
    "X = sequences\n",
    "y = to_categorical(df[['sentiment']].to_numpy()==\"positive\", num_classes=2)\n",
    "y = np.round(df[['sentiment']].to_numpy()==\"positive\")"
   ]
  },
  {
   "cell_type": "code",
   "execution_count": 24,
   "id": "ae92e42c-12b5-4044-851f-be6f5b6ad5c0",
   "metadata": {},
   "outputs": [
    {
     "name": "stdout",
     "output_type": "stream",
     "text": [
      "(50000, 1483)\n",
      "(50000, 1)\n"
     ]
    }
   ],
   "source": [
    "print(X.shape)\n",
    "print(y.shape)"
   ]
  },
  {
   "cell_type": "code",
   "execution_count": 25,
   "id": "58035c99-dc94-47b1-bcb0-443a6ce84de9",
   "metadata": {},
   "outputs": [
    {
     "data": {
      "text/plain": [
       "array([   0,    0,    0, ...,  630,  539, 1049])"
      ]
     },
     "execution_count": 25,
     "metadata": {},
     "output_type": "execute_result"
    }
   ],
   "source": [
    "X[0]"
   ]
  },
  {
   "cell_type": "code",
   "execution_count": null,
   "id": "19fd2294-96fe-4fc9-ba3b-7ff2670baebf",
   "metadata": {},
   "outputs": [],
   "source": []
  },
  {
   "cell_type": "markdown",
   "id": "72c28a5b-924a-4301-9c48-2218f7b5feba",
   "metadata": {},
   "source": [
    "# Build training, validationand test sets"
   ]
  },
  {
   "cell_type": "code",
   "execution_count": 28,
   "id": "90eb1ec1-bf28-4955-8fc1-a07b2535f64e",
   "metadata": {},
   "outputs": [],
   "source": [
    "X_train_valid, X_test, y_train_valid, y_test = train_test_split(X, y, test_size=0.20, random_state=0)\n",
    "X_train, X_valid, y_train, y_valid = train_test_split(X_train_valid, y_train_valid, test_size=0.2, random_state=0)"
   ]
  },
  {
   "cell_type": "code",
   "execution_count": 29,
   "id": "3dbc3206-1d02-4a8b-951a-6afb8fbcf374",
   "metadata": {},
   "outputs": [
    {
     "name": "stdout",
     "output_type": "stream",
     "text": [
      "(32000, 1483)\n",
      "(32000, 1)\n",
      "(8000, 1483)\n",
      "(8000, 1)\n",
      "(10000, 1483)\n",
      "(10000, 1)\n"
     ]
    }
   ],
   "source": [
    "print(X_train.shape)\n",
    "print(y_train.shape)\n",
    "\n",
    "print(X_valid.shape)\n",
    "print(y_valid.shape)\n",
    "\n",
    "print(X_test.shape)\n",
    "print(y_test.shape)"
   ]
  },
  {
   "cell_type": "code",
   "execution_count": null,
   "id": "3ae51dc0-6a3f-4019-95d9-9b4a6b7dec55",
   "metadata": {},
   "outputs": [],
   "source": []
  },
  {
   "cell_type": "code",
   "execution_count": null,
   "id": "e1041568-faa2-4224-a937-472dd0de2fdd",
   "metadata": {},
   "outputs": [],
   "source": []
  },
  {
   "cell_type": "markdown",
   "id": "d5dee315-5dcc-4f42-b44e-06942af8702e",
   "metadata": {},
   "source": [
    "# Train an ANN to perform NLP"
   ]
  },
  {
   "cell_type": "code",
   "execution_count": 30,
   "id": "711ec4dd-ed21-46fe-9ef9-7c97297fc92e",
   "metadata": {},
   "outputs": [],
   "source": [
    "model=Sequential()\n",
    "model.add(Embedding(input_dim=vocabulary_size, output_dim=max_review_length,input_length=max_review_length))\n",
    "model.add(LSTM(150))\n",
    "model.add(Dense(units=1, activation='sigmoid'))\n",
    "\n",
    "# model = Sequential()\n",
    "# #model.add(Embedding(vocabulary_size, 100, input_length=max_review_length))\n",
    "# model.add(Dense(units = 100, activation='relu', kernel_initializer='uniform'))\n",
    "# model.add(BatchNormalization())\n",
    "# model.add(Dropout(0.20))\n",
    "\n",
    "# hidden_layer = Dense(units = 100, activation='relu', kernel_initializer='uniform')\n",
    "# model.add(BatchNormalization())\n",
    "# model.add(Dropout(0.20))\n",
    "\n",
    "# model.add(Dense(units = 1, activation='sigmoid', kernel_initializer='uniform'))"
   ]
  },
  {
   "cell_type": "code",
   "execution_count": 31,
   "id": "6c1da539-be2a-4eb7-bfa3-d29b8ddffb95",
   "metadata": {},
   "outputs": [],
   "source": [
    "model.compile(optimizer='adam', loss='binary_crossentropy', metrics=['accuracy'])"
   ]
  },
  {
   "cell_type": "code",
   "execution_count": 32,
   "id": "bb9ab042-5951-468d-9a36-44aa5bd780d8",
   "metadata": {},
   "outputs": [
    {
     "name": "stdout",
     "output_type": "stream",
     "text": [
      "Model: \"sequential_1\"\n",
      "_________________________________________________________________\n",
      " Layer (type)                Output Shape              Param #   \n",
      "=================================================================\n",
      " embedding_1 (Embedding)     (None, 1483, 1483)        50441279  \n",
      "                                                                 \n",
      " lstm_1 (LSTM)               (None, 150)               980400    \n",
      "                                                                 \n",
      " dense_1 (Dense)             (None, 1)                 151       \n",
      "                                                                 \n",
      "=================================================================\n",
      "Total params: 51421830 (196.16 MB)\n",
      "Trainable params: 51421830 (196.16 MB)\n",
      "Non-trainable params: 0 (0.00 Byte)\n",
      "_________________________________________________________________\n"
     ]
    }
   ],
   "source": [
    "model.summary()"
   ]
  },
  {
   "cell_type": "code",
   "execution_count": null,
   "id": "656ced42-3d2c-451d-8b7e-3ab43a4ca0c9",
   "metadata": {},
   "outputs": [
    {
     "name": "stdout",
     "output_type": "stream",
     "text": [
      "Epoch 1/10\n"
     ]
    }
   ],
   "source": [
    "history = model.fit(X_train, y_train, batch_size=32, epochs=10, validation_data=(X_valid, y_valid), verbose=1)"
   ]
  },
  {
   "cell_type": "code",
   "execution_count": null,
   "id": "94210c75-76b8-4711-b9c9-48fbe01db874",
   "metadata": {},
   "outputs": [],
   "source": []
  },
  {
   "cell_type": "markdown",
   "id": "d5198c99-cded-4c10-81b1-1d5a6f4eb093",
   "metadata": {},
   "source": [
    "# Evaluate model"
   ]
  },
  {
   "cell_type": "code",
   "execution_count": null,
   "id": "bda078b0-940c-4922-8812-9ef50506504a",
   "metadata": {},
   "outputs": [],
   "source": [
    "model.evaluate(x, y)"
   ]
  },
  {
   "cell_type": "code",
   "execution_count": null,
   "id": "6b3c387c-dd20-4b77-851a-e8091d5492fe",
   "metadata": {},
   "outputs": [],
   "source": []
  }
 ],
 "metadata": {
  "kernelspec": {
   "display_name": "Python 3 (ipykernel)",
   "language": "python",
   "name": "python3"
  },
  "language_info": {
   "codemirror_mode": {
    "name": "ipython",
    "version": 3
   },
   "file_extension": ".py",
   "mimetype": "text/x-python",
   "name": "python",
   "nbconvert_exporter": "python",
   "pygments_lexer": "ipython3",
   "version": "3.11.7"
  }
 },
 "nbformat": 4,
 "nbformat_minor": 5
}
