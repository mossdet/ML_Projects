{
 "cells": [
  {
   "cell_type": "code",
   "execution_count": 1,
   "id": "02106841-e092-426e-a019-fec867c002e3",
   "metadata": {},
   "outputs": [],
   "source": [
    "import pandas as pd\n",
    "import numpy as np\n",
    "import matplotlib.pyplot as plt\n",
    "import optuna\n",
    "import time\n",
    "from sklearn.ensemble import RandomForestClassifier\n",
    "from sklearn.metrics import confusion_matrix\n",
    "\n",
    "from credit_g_dataset import get_preprocessed_credit_g_dataset\n",
    "\n",
    "pd.set_option(\"display.max_columns\", None)\n",
    "pd.set_option(\"display.max_rows\", 6)"
   ]
  },
  {
   "cell_type": "code",
   "execution_count": null,
   "id": "d9fc83b8-221c-4c16-8551-8dec8e2b5ec5",
   "metadata": {},
   "outputs": [],
   "source": []
  },
  {
   "cell_type": "markdown",
   "id": "bbfca0a4-7746-4759-81e2-058cc72c7c7c",
   "metadata": {},
   "source": [
    "# Load and pre-process version 1 of the dataset credit-g"
   ]
  },
  {
   "cell_type": "code",
   "execution_count": 2,
   "id": "a1711fc4-06bf-48a8-942e-999ade9bac95",
   "metadata": {},
   "outputs": [],
   "source": [
    "%%capture\n",
    "X_train, X_validation, X_test, y_train, y_validation, y_test = get_preprocessed_credit_g_dataset()"
   ]
  },
  {
   "cell_type": "code",
   "execution_count": null,
   "id": "646dc2d1-debf-457c-b1d7-a99dbe5308e1",
   "metadata": {},
   "outputs": [],
   "source": []
  },
  {
   "cell_type": "markdown",
   "id": "e6018b1c-685a-434e-8ec7-bfdba0e8f2dd",
   "metadata": {},
   "source": [
    "## Train the model using the training set and adjust hyperparameters with Optuna using the validation set"
   ]
  },
  {
   "cell_type": "code",
   "execution_count": 3,
   "id": "afe0b9be-4d18-4ac3-a86d-b655ac525b0b",
   "metadata": {},
   "outputs": [],
   "source": [
    "random_state=0"
   ]
  },
  {
   "cell_type": "code",
   "execution_count": 4,
   "id": "1b2b3581-ceb8-4a42-8d58-6ee073e908cc",
   "metadata": {},
   "outputs": [],
   "source": [
    "def objective(trial):\n",
    "    params = {\n",
    "    \"n_estimators\": trial.suggest_int(\"n_estimators\", 10, 250, step = 10),\n",
    "    \"max_depth\": trial.suggest_int(\"max_depth\", 1, 15),\n",
    "    \"min_samples_split\": trial.suggest_int(\"min_samples_split\", 2, 10),\n",
    "    \"min_samples_leaf\": trial.suggest_int(\"min_samples_leaf\", 1, 10),\n",
    "    \"criterion\": trial.suggest_categorical(\"criterion\", [\"gini\", \"entropy\"]),\n",
    "    \"random_state\": random_state,\n",
    "    }\n",
    "    \n",
    "    model = RandomForestClassifier(**params).fit(X_train, y_train)\n",
    "\n",
    "    y_predicted = model.predict(X_validation)\n",
    "    (tn, fp, fn, tp) = confusion_matrix(y_validation, y_predicted).ravel()\n",
    "    f1_val = (2*tp)/(2*tp+fp+fn)\n",
    "    \n",
    "    return f1_val\n"
   ]
  },
  {
   "cell_type": "code",
   "execution_count": 5,
   "id": "eb8eb45a-cae7-4fc1-9b6a-0cd2c59e2e37",
   "metadata": {},
   "outputs": [
    {
     "name": "stderr",
     "output_type": "stream",
     "text": [
      "[I 2023-12-20 19:05:45,906] A new study created in memory with name: no-name-f878a89b-e07d-475b-ad77-1b2955912410\n",
      "[I 2023-12-20 19:05:45,996] Trial 0 finished with value: 0.8141592920353983 and parameters: {'n_estimators': 60, 'max_depth': 4, 'min_samples_split': 10, 'min_samples_leaf': 6, 'criterion': 'gini'}. Best is trial 0 with value: 0.8141592920353983.\n",
      "[I 2023-12-20 19:05:46,306] Trial 1 finished with value: 0.8348623853211009 and parameters: {'n_estimators': 210, 'max_depth': 6, 'min_samples_split': 8, 'min_samples_leaf': 9, 'criterion': 'entropy'}. Best is trial 1 with value: 0.8348623853211009.\n",
      "[I 2023-12-20 19:05:46,569] Trial 2 finished with value: 0.8484848484848485 and parameters: {'n_estimators': 160, 'max_depth': 9, 'min_samples_split': 3, 'min_samples_leaf': 4, 'criterion': 'entropy'}. Best is trial 2 with value: 0.8484848484848485.\n",
      "[I 2023-12-20 19:05:46,720] Trial 3 finished with value: 0.8476190476190476 and parameters: {'n_estimators': 80, 'max_depth': 10, 'min_samples_split': 5, 'min_samples_leaf': 1, 'criterion': 'entropy'}. Best is trial 2 with value: 0.8484848484848485.\n",
      "[I 2023-12-20 19:05:46,766] Trial 4 finished with value: 0.8262910798122066 and parameters: {'n_estimators': 20, 'max_depth': 11, 'min_samples_split': 8, 'min_samples_leaf': 5, 'criterion': 'gini'}. Best is trial 2 with value: 0.8484848484848485.\n",
      "[I 2023-12-20 19:05:46,818] Trial 5 finished with value: 0.8290398126463701 and parameters: {'n_estimators': 30, 'max_depth': 9, 'min_samples_split': 5, 'min_samples_leaf': 7, 'criterion': 'entropy'}. Best is trial 2 with value: 0.8484848484848485.\n",
      "[I 2023-12-20 19:05:46,977] Trial 6 finished with value: 0.8423529411764706 and parameters: {'n_estimators': 90, 'max_depth': 11, 'min_samples_split': 8, 'min_samples_leaf': 3, 'criterion': 'entropy'}. Best is trial 2 with value: 0.8484848484848485.\n",
      "[I 2023-12-20 19:05:47,258] Trial 7 finished with value: 0.8379629629629629 and parameters: {'n_estimators': 190, 'max_depth': 14, 'min_samples_split': 8, 'min_samples_leaf': 9, 'criterion': 'gini'}. Best is trial 2 with value: 0.8484848484848485.\n",
      "[I 2023-12-20 19:05:47,543] Trial 8 finished with value: 0.8379629629629629 and parameters: {'n_estimators': 190, 'max_depth': 7, 'min_samples_split': 5, 'min_samples_leaf': 7, 'criterion': 'entropy'}. Best is trial 2 with value: 0.8484848484848485.\n",
      "[I 2023-12-20 19:05:47,866] Trial 9 finished with value: 0.8157894736842105 and parameters: {'n_estimators': 240, 'max_depth': 3, 'min_samples_split': 9, 'min_samples_leaf': 2, 'criterion': 'entropy'}. Best is trial 2 with value: 0.8484848484848485.\n",
      "[I 2023-12-20 19:05:48,122] Trial 10 finished with value: 0.839622641509434 and parameters: {'n_estimators': 140, 'max_depth': 15, 'min_samples_split': 2, 'min_samples_leaf': 4, 'criterion': 'gini'}. Best is trial 2 with value: 0.8484848484848485.\n",
      "[I 2023-12-20 19:05:48,383] Trial 11 finished with value: 0.8380952380952381 and parameters: {'n_estimators': 130, 'max_depth': 10, 'min_samples_split': 2, 'min_samples_leaf': 1, 'criterion': 'entropy'}. Best is trial 2 with value: 0.8484848484848485.\n",
      "[I 2023-12-20 19:05:48,650] Trial 12 finished with value: 0.847457627118644 and parameters: {'n_estimators': 130, 'max_depth': 13, 'min_samples_split': 4, 'min_samples_leaf': 1, 'criterion': 'entropy'}. Best is trial 2 with value: 0.8484848484848485.\n",
      "[I 2023-12-20 19:05:48,807] Trial 13 finished with value: 0.8438228438228438 and parameters: {'n_estimators': 90, 'max_depth': 6, 'min_samples_split': 3, 'min_samples_leaf': 3, 'criterion': 'entropy'}. Best is trial 2 with value: 0.8484848484848485.\n",
      "[I 2023-12-20 19:05:49,031] Trial 14 finished with value: 0.8183807439824945 and parameters: {'n_estimators': 160, 'max_depth': 1, 'min_samples_split': 6, 'min_samples_leaf': 4, 'criterion': 'entropy'}. Best is trial 2 with value: 0.8484848484848485.\n",
      "[I 2023-12-20 19:05:49,183] Trial 15 finished with value: 0.8476190476190476 and parameters: {'n_estimators': 80, 'max_depth': 8, 'min_samples_split': 4, 'min_samples_leaf': 2, 'criterion': 'entropy'}. Best is trial 2 with value: 0.8484848484848485.\n",
      "[I 2023-12-20 19:05:49,288] Trial 16 finished with value: 0.8388625592417062 and parameters: {'n_estimators': 50, 'max_depth': 12, 'min_samples_split': 6, 'min_samples_leaf': 5, 'criterion': 'entropy'}. Best is trial 2 with value: 0.8484848484848485.\n",
      "[I 2023-12-20 19:05:49,492] Trial 17 finished with value: 0.8470588235294118 and parameters: {'n_estimators': 110, 'max_depth': 9, 'min_samples_split': 3, 'min_samples_leaf': 3, 'criterion': 'entropy'}. Best is trial 2 with value: 0.8484848484848485.\n",
      "[I 2023-12-20 19:05:49,750] Trial 18 finished with value: 0.8306997742663657 and parameters: {'n_estimators': 160, 'max_depth': 5, 'min_samples_split': 4, 'min_samples_leaf': 10, 'criterion': 'gini'}. Best is trial 2 with value: 0.8484848484848485.\n",
      "[I 2023-12-20 19:05:50,168] Trial 19 finished with value: 0.839622641509434 and parameters: {'n_estimators': 240, 'max_depth': 8, 'min_samples_split': 5, 'min_samples_leaf': 2, 'criterion': 'entropy'}. Best is trial 2 with value: 0.8484848484848485.\n",
      "[I 2023-12-20 19:05:50,441] Trial 20 finished with value: 0.8423529411764706 and parameters: {'n_estimators': 160, 'max_depth': 12, 'min_samples_split': 3, 'min_samples_leaf': 6, 'criterion': 'entropy'}. Best is trial 2 with value: 0.8484848484848485.\n",
      "[I 2023-12-20 19:05:50,594] Trial 21 finished with value: 0.8476190476190476 and parameters: {'n_estimators': 80, 'max_depth': 8, 'min_samples_split': 4, 'min_samples_leaf': 1, 'criterion': 'entropy'}. Best is trial 2 with value: 0.8484848484848485.\n",
      "[I 2023-12-20 19:05:50,722] Trial 22 finished with value: 0.8285714285714286 and parameters: {'n_estimators': 60, 'max_depth': 10, 'min_samples_split': 4, 'min_samples_leaf': 2, 'criterion': 'entropy'}. Best is trial 2 with value: 0.8484848484848485.\n",
      "[I 2023-12-20 19:05:50,910] Trial 23 finished with value: 0.8379629629629629 and parameters: {'n_estimators': 110, 'max_depth': 7, 'min_samples_split': 6, 'min_samples_leaf': 4, 'criterion': 'entropy'}. Best is trial 2 with value: 0.8484848484848485.\n",
      "[I 2023-12-20 19:05:51,005] Trial 24 finished with value: 0.8448687350835322 and parameters: {'n_estimators': 40, 'max_depth': 9, 'min_samples_split': 3, 'min_samples_leaf': 2, 'criterion': 'entropy'}. Best is trial 2 with value: 0.8484848484848485.\n",
      "[I 2023-12-20 19:05:51,045] Trial 25 finished with value: 0.8398058252427184 and parameters: {'n_estimators': 10, 'max_depth': 10, 'min_samples_split': 5, 'min_samples_leaf': 3, 'criterion': 'entropy'}. Best is trial 2 with value: 0.8484848484848485.\n",
      "[I 2023-12-20 19:05:51,240] Trial 26 finished with value: 0.8445475638051044 and parameters: {'n_estimators': 110, 'max_depth': 7, 'min_samples_split': 2, 'min_samples_leaf': 1, 'criterion': 'gini'}. Best is trial 2 with value: 0.8484848484848485.\n",
      "[I 2023-12-20 19:05:51,387] Trial 27 finished with value: 0.837772397094431 and parameters: {'n_estimators': 70, 'max_depth': 12, 'min_samples_split': 7, 'min_samples_leaf': 2, 'criterion': 'entropy'}. Best is trial 2 with value: 0.8484848484848485.\n",
      "[I 2023-12-20 19:05:51,554] Trial 28 finished with value: 0.8430913348946136 and parameters: {'n_estimators': 90, 'max_depth': 8, 'min_samples_split': 4, 'min_samples_leaf': 4, 'criterion': 'entropy'}. Best is trial 2 with value: 0.8484848484848485.\n",
      "[I 2023-12-20 19:05:51,818] Trial 29 finished with value: 0.8193832599118943 and parameters: {'n_estimators': 180, 'max_depth': 4, 'min_samples_split': 3, 'min_samples_leaf': 5, 'criterion': 'gini'}. Best is trial 2 with value: 0.8484848484848485.\n",
      "[I 2023-12-20 19:05:51,941] Trial 30 finished with value: 0.8408551068883611 and parameters: {'n_estimators': 60, 'max_depth': 11, 'min_samples_split': 10, 'min_samples_leaf': 3, 'criterion': 'entropy'}. Best is trial 2 with value: 0.8484848484848485.\n",
      "[I 2023-12-20 19:05:52,114] Trial 31 finished with value: 0.8483412322274881 and parameters: {'n_estimators': 90, 'max_depth': 8, 'min_samples_split': 4, 'min_samples_leaf': 1, 'criterion': 'entropy'}. Best is trial 2 with value: 0.8484848484848485.\n",
      "[I 2023-12-20 19:05:52,306] Trial 32 finished with value: 0.8425925925925926 and parameters: {'n_estimators': 110, 'max_depth': 6, 'min_samples_split': 5, 'min_samples_leaf': 1, 'criterion': 'entropy'}. Best is trial 2 with value: 0.8484848484848485.\n",
      "[I 2023-12-20 19:05:52,465] Trial 33 finished with value: 0.850356294536817 and parameters: {'n_estimators': 80, 'max_depth': 9, 'min_samples_split': 4, 'min_samples_leaf': 2, 'criterion': 'entropy'}. Best is trial 33 with value: 0.850356294536817.\n",
      "[I 2023-12-20 19:05:52,558] Trial 34 finished with value: 0.8454106280193237 and parameters: {'n_estimators': 40, 'max_depth': 9, 'min_samples_split': 6, 'min_samples_leaf': 1, 'criterion': 'entropy'}. Best is trial 33 with value: 0.850356294536817.\n",
      "[I 2023-12-20 19:05:52,824] Trial 35 finished with value: 0.8489208633093526 and parameters: {'n_estimators': 140, 'max_depth': 10, 'min_samples_split': 5, 'min_samples_leaf': 2, 'criterion': 'entropy'}. Best is trial 33 with value: 0.850356294536817.\n",
      "[I 2023-12-20 19:05:53,083] Trial 36 finished with value: 0.8448687350835322 and parameters: {'n_estimators': 140, 'max_depth': 11, 'min_samples_split': 7, 'min_samples_leaf': 3, 'criterion': 'entropy'}. Best is trial 33 with value: 0.850356294536817.\n",
      "[I 2023-12-20 19:05:53,417] Trial 37 finished with value: 0.8364485981308412 and parameters: {'n_estimators': 210, 'max_depth': 9, 'min_samples_split': 3, 'min_samples_leaf': 7, 'criterion': 'gini'}. Best is trial 33 with value: 0.850356294536817.\n",
      "[I 2023-12-20 19:05:53,668] Trial 38 finished with value: 0.839907192575406 and parameters: {'n_estimators': 150, 'max_depth': 7, 'min_samples_split': 5, 'min_samples_leaf': 6, 'criterion': 'entropy'}. Best is trial 33 with value: 0.850356294536817.\n",
      "[I 2023-12-20 19:05:53,962] Trial 39 finished with value: 0.8333333333333334 and parameters: {'n_estimators': 180, 'max_depth': 6, 'min_samples_split': 4, 'min_samples_leaf': 2, 'criterion': 'entropy'}. Best is trial 33 with value: 0.850356294536817.\n",
      "[I 2023-12-20 19:05:54,169] Trial 40 finished with value: 0.8445475638051044 and parameters: {'n_estimators': 120, 'max_depth': 13, 'min_samples_split': 2, 'min_samples_leaf': 8, 'criterion': 'entropy'}. Best is trial 33 with value: 0.850356294536817.\n",
      "[I 2023-12-20 19:05:54,368] Trial 41 finished with value: 0.8388625592417062 and parameters: {'n_estimators': 100, 'max_depth': 10, 'min_samples_split': 5, 'min_samples_leaf': 1, 'criterion': 'entropy'}. Best is trial 33 with value: 0.850356294536817.\n",
      "[I 2023-12-20 19:05:54,512] Trial 42 finished with value: 0.84688995215311 and parameters: {'n_estimators': 70, 'max_depth': 10, 'min_samples_split': 7, 'min_samples_leaf': 2, 'criterion': 'entropy'}. Best is trial 33 with value: 0.850356294536817.\n",
      "[I 2023-12-20 19:05:54,793] Trial 43 finished with value: 0.8544152744630071 and parameters: {'n_estimators': 140, 'max_depth': 11, 'min_samples_split': 5, 'min_samples_leaf': 1, 'criterion': 'entropy'}. Best is trial 43 with value: 0.8544152744630071.\n",
      "[I 2023-12-20 19:05:55,087] Trial 44 finished with value: 0.8544152744630071 and parameters: {'n_estimators': 140, 'max_depth': 11, 'min_samples_split': 5, 'min_samples_leaf': 1, 'criterion': 'entropy'}. Best is trial 43 with value: 0.8544152744630071.\n",
      "[I 2023-12-20 19:05:55,352] Trial 45 finished with value: 0.850356294536817 and parameters: {'n_estimators': 140, 'max_depth': 13, 'min_samples_split': 6, 'min_samples_leaf': 3, 'criterion': 'entropy'}. Best is trial 43 with value: 0.8544152744630071.\n",
      "[I 2023-12-20 19:05:55,644] Trial 46 finished with value: 0.8448687350835322 and parameters: {'n_estimators': 140, 'max_depth': 15, 'min_samples_split': 6, 'min_samples_leaf': 2, 'criterion': 'entropy'}. Best is trial 43 with value: 0.8544152744630071.\n",
      "[I 2023-12-20 19:05:55,930] Trial 47 finished with value: 0.8557919621749409 and parameters: {'n_estimators': 150, 'max_depth': 14, 'min_samples_split': 5, 'min_samples_leaf': 3, 'criterion': 'gini'}. Best is trial 47 with value: 0.8557919621749409.\n",
      "[I 2023-12-20 19:05:56,265] Trial 48 finished with value: 0.851764705882353 and parameters: {'n_estimators': 180, 'max_depth': 14, 'min_samples_split': 6, 'min_samples_leaf': 3, 'criterion': 'gini'}. Best is trial 47 with value: 0.8557919621749409.\n",
      "[I 2023-12-20 19:05:56,640] Trial 49 finished with value: 0.8470588235294118 and parameters: {'n_estimators': 210, 'max_depth': 14, 'min_samples_split': 7, 'min_samples_leaf': 4, 'criterion': 'gini'}. Best is trial 47 with value: 0.8557919621749409.\n",
      "[I 2023-12-20 19:05:56,953] Trial 50 finished with value: 0.8530805687203792 and parameters: {'n_estimators': 170, 'max_depth': 14, 'min_samples_split': 6, 'min_samples_leaf': 3, 'criterion': 'gini'}. Best is trial 47 with value: 0.8557919621749409.\n",
      "[I 2023-12-20 19:05:57,265] Trial 51 finished with value: 0.8530805687203792 and parameters: {'n_estimators': 170, 'max_depth': 14, 'min_samples_split': 6, 'min_samples_leaf': 3, 'criterion': 'gini'}. Best is trial 47 with value: 0.8557919621749409.\n",
      "[I 2023-12-20 19:05:57,565] Trial 52 finished with value: 0.8423529411764706 and parameters: {'n_estimators': 170, 'max_depth': 14, 'min_samples_split': 6, 'min_samples_leaf': 4, 'criterion': 'gini'}. Best is trial 47 with value: 0.8557919621749409.\n",
      "[I 2023-12-20 19:05:57,903] Trial 53 finished with value: 0.8384074941451991 and parameters: {'n_estimators': 200, 'max_depth': 15, 'min_samples_split': 7, 'min_samples_leaf': 5, 'criterion': 'gini'}. Best is trial 47 with value: 0.8557919621749409.\n",
      "[I 2023-12-20 19:05:58,212] Trial 54 finished with value: 0.8497652582159625 and parameters: {'n_estimators': 170, 'max_depth': 13, 'min_samples_split': 5, 'min_samples_leaf': 3, 'criterion': 'gini'}. Best is trial 47 with value: 0.8557919621749409.\n",
      "[I 2023-12-20 19:05:58,498] Trial 55 finished with value: 0.8557919621749409 and parameters: {'n_estimators': 150, 'max_depth': 14, 'min_samples_split': 6, 'min_samples_leaf': 3, 'criterion': 'gini'}. Best is trial 47 with value: 0.8557919621749409.\n",
      "[I 2023-12-20 19:05:58,764] Trial 56 finished with value: 0.8470588235294118 and parameters: {'n_estimators': 150, 'max_depth': 12, 'min_samples_split': 6, 'min_samples_leaf': 5, 'criterion': 'gini'}. Best is trial 47 with value: 0.8557919621749409.\n",
      "[I 2023-12-20 19:05:59,032] Trial 57 finished with value: 0.8423529411764706 and parameters: {'n_estimators': 150, 'max_depth': 15, 'min_samples_split': 5, 'min_samples_leaf': 4, 'criterion': 'gini'}. Best is trial 47 with value: 0.8557919621749409.\n",
      "[I 2023-12-20 19:05:59,271] Trial 58 finished with value: 0.8463356973995272 and parameters: {'n_estimators': 130, 'max_depth': 14, 'min_samples_split': 8, 'min_samples_leaf': 3, 'criterion': 'gini'}. Best is trial 47 with value: 0.8557919621749409.\n",
      "[I 2023-12-20 19:05:59,592] Trial 59 finished with value: 0.8509615384615384 and parameters: {'n_estimators': 170, 'max_depth': 13, 'min_samples_split': 7, 'min_samples_leaf': 1, 'criterion': 'gini'}. Best is trial 47 with value: 0.8557919621749409.\n",
      "[I 2023-12-20 19:05:59,938] Trial 60 finished with value: 0.851063829787234 and parameters: {'n_estimators': 190, 'max_depth': 12, 'min_samples_split': 6, 'min_samples_leaf': 3, 'criterion': 'gini'}. Best is trial 47 with value: 0.8557919621749409.\n",
      "[I 2023-12-20 19:06:00,269] Trial 61 finished with value: 0.851764705882353 and parameters: {'n_estimators': 180, 'max_depth': 14, 'min_samples_split': 6, 'min_samples_leaf': 3, 'criterion': 'gini'}. Best is trial 47 with value: 0.8557919621749409.\n",
      "[I 2023-12-20 19:06:00,579] Trial 62 finished with value: 0.8413461538461539 and parameters: {'n_estimators': 160, 'max_depth': 14, 'min_samples_split': 5, 'min_samples_leaf': 2, 'criterion': 'gini'}. Best is trial 47 with value: 0.8557919621749409.\n",
      "[I 2023-12-20 19:06:00,987] Trial 63 finished with value: 0.8430913348946136 and parameters: {'n_estimators': 230, 'max_depth': 15, 'min_samples_split': 6, 'min_samples_leaf': 4, 'criterion': 'gini'}. Best is trial 47 with value: 0.8557919621749409.\n",
      "[I 2023-12-20 19:06:01,209] Trial 64 finished with value: 0.8436018957345972 and parameters: {'n_estimators': 120, 'max_depth': 13, 'min_samples_split': 5, 'min_samples_leaf': 4, 'criterion': 'gini'}. Best is trial 47 with value: 0.8557919621749409.\n",
      "[I 2023-12-20 19:06:01,486] Trial 65 finished with value: 0.8416075650118203 and parameters: {'n_estimators': 150, 'max_depth': 11, 'min_samples_split': 6, 'min_samples_leaf': 3, 'criterion': 'gini'}. Best is trial 47 with value: 0.8557919621749409.\n",
      "[I 2023-12-20 19:06:01,848] Trial 66 finished with value: 0.8585131894484412 and parameters: {'n_estimators': 190, 'max_depth': 14, 'min_samples_split': 7, 'min_samples_leaf': 1, 'criterion': 'gini'}. Best is trial 66 with value: 0.8585131894484412.\n",
      "[I 2023-12-20 19:06:02,222] Trial 67 finished with value: 0.8502415458937198 and parameters: {'n_estimators': 200, 'max_depth': 15, 'min_samples_split': 9, 'min_samples_leaf': 1, 'criterion': 'gini'}. Best is trial 66 with value: 0.8585131894484412.\n",
      "[I 2023-12-20 19:06:02,527] Trial 68 finished with value: 0.8509615384615384 and parameters: {'n_estimators': 160, 'max_depth': 13, 'min_samples_split': 7, 'min_samples_leaf': 1, 'criterion': 'gini'}. Best is trial 66 with value: 0.8585131894484412.\n",
      "[I 2023-12-20 19:06:02,775] Trial 69 finished with value: 0.8523809523809524 and parameters: {'n_estimators': 130, 'max_depth': 12, 'min_samples_split': 7, 'min_samples_leaf': 2, 'criterion': 'gini'}. Best is trial 66 with value: 0.8585131894484412.\n",
      "[I 2023-12-20 19:06:03,018] Trial 70 finished with value: 0.8467153284671532 and parameters: {'n_estimators': 120, 'max_depth': 15, 'min_samples_split': 8, 'min_samples_leaf': 1, 'criterion': 'gini'}. Best is trial 66 with value: 0.8585131894484412.\n",
      "[I 2023-12-20 19:06:03,263] Trial 71 finished with value: 0.8416075650118203 and parameters: {'n_estimators': 130, 'max_depth': 12, 'min_samples_split': 8, 'min_samples_leaf': 2, 'criterion': 'gini'}. Best is trial 66 with value: 0.8585131894484412.\n",
      "[I 2023-12-20 19:06:03,571] Trial 72 finished with value: 0.8509615384615384 and parameters: {'n_estimators': 170, 'max_depth': 11, 'min_samples_split': 7, 'min_samples_leaf': 2, 'criterion': 'gini'}. Best is trial 66 with value: 0.8585131894484412.\n",
      "[I 2023-12-20 19:06:03,873] Trial 73 finished with value: 0.8433734939759037 and parameters: {'n_estimators': 150, 'max_depth': 14, 'min_samples_split': 5, 'min_samples_leaf': 1, 'criterion': 'gini'}. Best is trial 66 with value: 0.8585131894484412.\n",
      "[I 2023-12-20 19:06:04,053] Trial 74 finished with value: 0.8183807439824945 and parameters: {'n_estimators': 130, 'max_depth': 1, 'min_samples_split': 8, 'min_samples_leaf': 1, 'criterion': 'gini'}. Best is trial 66 with value: 0.8585131894484412.\n",
      "[I 2023-12-20 19:06:04,401] Trial 75 finished with value: 0.8496420047732697 and parameters: {'n_estimators': 190, 'max_depth': 12, 'min_samples_split': 7, 'min_samples_leaf': 2, 'criterion': 'gini'}. Best is trial 66 with value: 0.8585131894484412.\n",
      "[I 2023-12-20 19:06:04,719] Trial 76 finished with value: 0.8456057007125891 and parameters: {'n_estimators': 170, 'max_depth': 13, 'min_samples_split': 6, 'min_samples_leaf': 2, 'criterion': 'gini'}. Best is trial 66 with value: 0.8585131894484412.\n",
      "[I 2023-12-20 19:06:05,030] Trial 77 finished with value: 0.8578313253012049 and parameters: {'n_estimators': 160, 'max_depth': 14, 'min_samples_split': 7, 'min_samples_leaf': 1, 'criterion': 'gini'}. Best is trial 66 with value: 0.8585131894484412.\n",
      "[I 2023-12-20 19:06:05,290] Trial 78 finished with value: 0.8406466512702079 and parameters: {'n_estimators': 160, 'max_depth': 14, 'min_samples_split': 5, 'min_samples_leaf': 10, 'criterion': 'gini'}. Best is trial 66 with value: 0.8585131894484412.\n",
      "[I 2023-12-20 19:06:05,704] Trial 79 finished with value: 0.8509615384615384 and parameters: {'n_estimators': 220, 'max_depth': 15, 'min_samples_split': 6, 'min_samples_leaf': 1, 'criterion': 'gini'}. Best is trial 66 with value: 0.8585131894484412.\n",
      "[I 2023-12-20 19:06:06,089] Trial 80 finished with value: 0.8536585365853658 and parameters: {'n_estimators': 200, 'max_depth': 14, 'min_samples_split': 5, 'min_samples_leaf': 1, 'criterion': 'gini'}. Best is trial 66 with value: 0.8585131894484412.\n",
      "[I 2023-12-20 19:06:06,454] Trial 81 finished with value: 0.8467153284671532 and parameters: {'n_estimators': 190, 'max_depth': 14, 'min_samples_split': 5, 'min_samples_leaf': 1, 'criterion': 'gini'}. Best is trial 66 with value: 0.8585131894484412.\n",
      "[I 2023-12-20 19:06:06,853] Trial 82 finished with value: 0.8647342995169082 and parameters: {'n_estimators': 200, 'max_depth': 13, 'min_samples_split': 4, 'min_samples_leaf': 1, 'criterion': 'gini'}. Best is trial 82 with value: 0.8647342995169082.\n",
      "[I 2023-12-20 19:06:07,251] Trial 83 finished with value: 0.8647342995169082 and parameters: {'n_estimators': 200, 'max_depth': 13, 'min_samples_split': 4, 'min_samples_leaf': 1, 'criterion': 'gini'}. Best is trial 82 with value: 0.8647342995169082.\n",
      "[I 2023-12-20 19:06:07,679] Trial 84 finished with value: 0.8619854721549637 and parameters: {'n_estimators': 220, 'max_depth': 13, 'min_samples_split': 4, 'min_samples_leaf': 1, 'criterion': 'gini'}. Best is trial 82 with value: 0.8647342995169082.\n",
      "[I 2023-12-20 19:06:08,126] Trial 85 finished with value: 0.8619854721549637 and parameters: {'n_estimators': 230, 'max_depth': 13, 'min_samples_split': 4, 'min_samples_leaf': 1, 'criterion': 'gini'}. Best is trial 82 with value: 0.8647342995169082.\n",
      "[I 2023-12-20 19:06:08,606] Trial 86 finished with value: 0.8571428571428571 and parameters: {'n_estimators': 250, 'max_depth': 13, 'min_samples_split': 4, 'min_samples_leaf': 1, 'criterion': 'gini'}. Best is trial 82 with value: 0.8647342995169082.\n",
      "[I 2023-12-20 19:06:09,084] Trial 87 finished with value: 0.8571428571428571 and parameters: {'n_estimators': 250, 'max_depth': 13, 'min_samples_split': 4, 'min_samples_leaf': 1, 'criterion': 'gini'}. Best is trial 82 with value: 0.8647342995169082.\n",
      "[I 2023-12-20 19:06:09,564] Trial 88 finished with value: 0.8571428571428571 and parameters: {'n_estimators': 250, 'max_depth': 13, 'min_samples_split': 4, 'min_samples_leaf': 1, 'criterion': 'gini'}. Best is trial 82 with value: 0.8647342995169082.\n",
      "[I 2023-12-20 19:06:10,049] Trial 89 finished with value: 0.8571428571428571 and parameters: {'n_estimators': 250, 'max_depth': 13, 'min_samples_split': 4, 'min_samples_leaf': 1, 'criterion': 'gini'}. Best is trial 82 with value: 0.8647342995169082.\n",
      "[I 2023-12-20 19:06:10,530] Trial 90 finished with value: 0.8571428571428571 and parameters: {'n_estimators': 250, 'max_depth': 13, 'min_samples_split': 4, 'min_samples_leaf': 1, 'criterion': 'gini'}. Best is trial 82 with value: 0.8647342995169082.\n",
      "[I 2023-12-20 19:06:11,014] Trial 91 finished with value: 0.8571428571428571 and parameters: {'n_estimators': 250, 'max_depth': 13, 'min_samples_split': 4, 'min_samples_leaf': 1, 'criterion': 'gini'}. Best is trial 82 with value: 0.8647342995169082.\n",
      "[I 2023-12-20 19:06:11,481] Trial 92 finished with value: 0.855072463768116 and parameters: {'n_estimators': 240, 'max_depth': 13, 'min_samples_split': 4, 'min_samples_leaf': 1, 'criterion': 'gini'}. Best is trial 82 with value: 0.8647342995169082.\n",
      "[I 2023-12-20 19:06:11,923] Trial 93 finished with value: 0.8557692307692307 and parameters: {'n_estimators': 230, 'max_depth': 12, 'min_samples_split': 4, 'min_samples_leaf': 1, 'criterion': 'gini'}. Best is trial 82 with value: 0.8647342995169082.\n",
      "[I 2023-12-20 19:06:12,379] Trial 94 finished with value: 0.851581508515815 and parameters: {'n_estimators': 230, 'max_depth': 13, 'min_samples_split': 3, 'min_samples_leaf': 1, 'criterion': 'gini'}. Best is trial 82 with value: 0.8647342995169082.\n",
      "[I 2023-12-20 19:06:12,808] Trial 95 finished with value: 0.8530120481927711 and parameters: {'n_estimators': 220, 'max_depth': 12, 'min_samples_split': 3, 'min_samples_leaf': 1, 'criterion': 'gini'}. Best is trial 82 with value: 0.8647342995169082.\n",
      "[I 2023-12-20 19:06:13,272] Trial 96 finished with value: 0.855072463768116 and parameters: {'n_estimators': 240, 'max_depth': 13, 'min_samples_split': 4, 'min_samples_leaf': 1, 'criterion': 'gini'}. Best is trial 82 with value: 0.8647342995169082.\n",
      "[I 2023-12-20 19:06:13,737] Trial 97 finished with value: 0.850356294536817 and parameters: {'n_estimators': 250, 'max_depth': 13, 'min_samples_split': 3, 'min_samples_leaf': 2, 'criterion': 'gini'}. Best is trial 82 with value: 0.8647342995169082.\n",
      "[I 2023-12-20 19:06:14,169] Trial 98 finished with value: 0.8530120481927711 and parameters: {'n_estimators': 220, 'max_depth': 12, 'min_samples_split': 4, 'min_samples_leaf': 1, 'criterion': 'gini'}. Best is trial 82 with value: 0.8647342995169082.\n",
      "[I 2023-12-20 19:06:14,546] Trial 99 finished with value: 0.8379629629629629 and parameters: {'n_estimators': 240, 'max_depth': 13, 'min_samples_split': 4, 'min_samples_leaf': 9, 'criterion': 'gini'}. Best is trial 82 with value: 0.8647342995169082.\n"
     ]
    },
    {
     "name": "stdout",
     "output_type": "stream",
     "text": [
      "total_time=28.642510890960693\n",
      "{'n_estimators': 200, 'max_depth': 13, 'min_samples_split': 4, 'min_samples_leaf': 1, 'criterion': 'gini'}\n",
      "0.8647342995169082\n"
     ]
    }
   ],
   "source": [
    "start_time = time.time()\n",
    "\n",
    "study = optuna.create_study(direction = \"maximize\")\n",
    "study.optimize(objective, n_trials=100)\n",
    "\n",
    "total_time = time.time()-start_time\n",
    "print(f\"total_time={total_time}\")\n",
    "print(study.best_params)\n",
    "print(study.best_value)"
   ]
  },
  {
   "cell_type": "code",
   "execution_count": 6,
   "id": "73db019b-8676-46fb-8f4b-4de8f65eec30",
   "metadata": {},
   "outputs": [],
   "source": [
    "best_n_estimators = study.best_params[\"n_estimators\"]\n",
    "best_criterion = study.best_params[\"criterion\"]\n",
    "best_max_depth = study.best_params[\"max_depth\"]\n",
    "best_min_split = study.best_params[\"min_samples_split\"]\n",
    "best_min_leaf = study.best_params[\"min_samples_leaf\"]"
   ]
  },
  {
   "cell_type": "code",
   "execution_count": 7,
   "id": "e54989e6-3bf7-4406-a502-dce31cdb8c96",
   "metadata": {},
   "outputs": [],
   "source": [
    "model = RandomForestClassifier(n_estimators=best_n_estimators, criterion=best_criterion, \n",
    "                               max_depth=best_max_depth, min_samples_split=best_min_split,\n",
    "                               min_samples_leaf=best_min_leaf,random_state=random_state)"
   ]
  },
  {
   "cell_type": "markdown",
   "id": "7ab413bf-d8a7-4e3f-ad62-e3b68c0dd555",
   "metadata": {},
   "source": [
    "## Run on the test set and use training and validation sets for training"
   ]
  },
  {
   "cell_type": "code",
   "execution_count": 8,
   "id": "7c24224a-e60a-4de5-868f-690544257b24",
   "metadata": {},
   "outputs": [
    {
     "name": "stdout",
     "output_type": "stream",
     "text": [
      "0.76\n",
      "\n",
      "\n",
      "Test set precision_val = 0.8227848101265823\n",
      "Test set recall_val = 0.8666666666666667\n",
      "Test set sspecificity = 0.44\n",
      "Test set mcc_val = 0.3260198292646311\n",
      "Test set accuracy_val = 0.76\n",
      "Test set f1_val = 0.8441558441558441\n"
     ]
    }
   ],
   "source": [
    "X_train_valid = np.concatenate((X_train, X_validation))\n",
    "y_train_valid = np.concatenate((y_train, y_validation))\n",
    "\n",
    "model.fit(X_train_valid, y_train_valid)\n",
    "print(model.score(X_test, y_test))\n",
    "y_predicted = model.predict(X_test)\n",
    "\n",
    "(tn, fp, fn, tp) = confusion_matrix(y_test, y_predicted).ravel()\n",
    "precision_val = float(tp)/float(tp+fp)\n",
    "recall_val = float(tp)/float(tp+fn)\n",
    "specificity_val = float(tn)/float(tn+fp)\n",
    "accuracy_val = float(tp+tn)/float(tn+fp+fn+tp)\n",
    "f1_val = (2*tp)/(2*tp+fp+fn)\n",
    "mcc_val = float((tp*tn)-(fp*fn))/np.sqrt((tp+fp)*(tp+fn)*(tn+fp)*(tn+fn))\n",
    "\n",
    "\n",
    "print(\"\\n\")\n",
    "print(\"Test set precision_val =\", precision_val)\n",
    "print(\"Test set recall_val =\", recall_val)\n",
    "print(\"Test set sspecificity =\", specificity_val)\n",
    "print(\"Test set mcc_val =\", mcc_val)\n",
    "print(\"Test set accuracy_val =\", accuracy_val)\n",
    "print(\"Test set f1_val =\", f1_val)"
   ]
  },
  {
   "cell_type": "code",
   "execution_count": 9,
   "id": "ca7d1620-6d01-468e-a8db-6144537a493b",
   "metadata": {},
   "outputs": [
    {
     "data": {
      "text/plain": [
       "array([[11, 14],\n",
       "       [10, 65]], dtype=int64)"
      ]
     },
     "execution_count": 9,
     "metadata": {},
     "output_type": "execute_result"
    }
   ],
   "source": [
    "confusion_matrix(y_test, y_predicted)"
   ]
  },
  {
   "cell_type": "code",
   "execution_count": 10,
   "id": "24a6bebd-eb5d-424c-a7b9-b2cfc0973915",
   "metadata": {},
   "outputs": [
    {
     "data": {
      "text/plain": [
       "array([1, 1, 1, 1, 1, 1, 1, 1, 1, 0, 0, 0, 1, 1, 0, 1, 1, 0, 1, 1, 1, 1,\n",
       "       1, 1, 1, 0, 1, 1, 1, 0, 1, 1, 0, 0, 1, 0, 1, 1, 0, 1, 0, 1, 1, 1,\n",
       "       1, 0, 0, 1, 1, 1, 0, 0, 1, 1, 0, 1, 1, 1, 1, 1, 0, 1, 1, 1, 1, 1,\n",
       "       1, 0, 0, 1, 1, 1, 1, 1, 1, 0, 1, 0, 0, 1, 1, 1, 1, 1, 1, 1, 0, 1,\n",
       "       1, 1, 1, 1, 1, 1, 1, 0, 1, 1, 1, 1])"
      ]
     },
     "execution_count": 10,
     "metadata": {},
     "output_type": "execute_result"
    }
   ],
   "source": [
    "y_test"
   ]
  },
  {
   "cell_type": "code",
   "execution_count": null,
   "id": "ae27791a-7db7-46fd-a764-f091f8ea05dc",
   "metadata": {},
   "outputs": [],
   "source": []
  },
  {
   "cell_type": "code",
   "execution_count": 11,
   "id": "1a0abe7b-fa78-414f-8cd2-0aa90c2da5ab",
   "metadata": {},
   "outputs": [
    {
     "name": "stdout",
     "output_type": "stream",
     "text": [
      "[0.07601217 0.10436859 0.07565007 0.02871623 0.01613555 0.0107621\n",
      " 0.02952602 0.06364013 0.0516244  0.02405506 0.02202449 0.01794548\n",
      " 0.01279682 0.01299266 0.01255219 0.01262002 0.01563978 0.02078075\n",
      " 0.0115551  0.01505732 0.01223638 0.0113642  0.01539154 0.01737713\n",
      " 0.01557286 0.00645667 0.00855814 0.0070481  0.01052539 0.00650479\n",
      " 0.00367163 0.01296232 0.01123474 0.0066706  0.00835885 0.01124538\n",
      " 0.00899356 0.01235043 0.00808348 0.00795282 0.01622753 0.00102721\n",
      " 0.01151787 0.00175818 0.01399564 0.00856466 0.00936383 0.00793481\n",
      " 0.0117456  0.00509248 0.01110122 0.01049978 0.01244507 0.00190548\n",
      " 0.00751489 0.01059937 0.00959901 0.00243431 0.00965914]\n"
     ]
    }
   ],
   "source": [
    "importances = model.feature_importances_\n",
    "print(importances)\n",
    "# feature_names_in_ only defined if the X input to fit() is a dataframe and the column names are all strings\n",
    "#features_names = model.feature_names_in_\n",
    "#print(features_names)"
   ]
  },
  {
   "cell_type": "code",
   "execution_count": 12,
   "id": "b9d2a5d3-669b-423d-9250-ada998d9d6c3",
   "metadata": {},
   "outputs": [
    {
     "name": "stdout",
     "output_type": "stream",
     "text": [
      "0.1043685910494857\n",
      "0.0010272105806774057\n",
      "1.0\n"
     ]
    }
   ],
   "source": [
    "print(max(importances))\n",
    "print(min(importances))\n",
    "print(sum(importances))"
   ]
  },
  {
   "cell_type": "code",
   "execution_count": null,
   "id": "3b0dba39-01f5-4c99-a2e7-0c7dd31a1322",
   "metadata": {},
   "outputs": [],
   "source": []
  }
 ],
 "metadata": {
  "kernelspec": {
   "display_name": "Python 3 (ipykernel)",
   "language": "python",
   "name": "python3"
  },
  "language_info": {
   "codemirror_mode": {
    "name": "ipython",
    "version": 3
   },
   "file_extension": ".py",
   "mimetype": "text/x-python",
   "name": "python",
   "nbconvert_exporter": "python",
   "pygments_lexer": "ipython3",
   "version": "3.12.0"
  }
 },
 "nbformat": 4,
 "nbformat_minor": 5
}
