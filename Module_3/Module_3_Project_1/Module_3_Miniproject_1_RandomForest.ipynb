{
 "cells": [
  {
   "cell_type": "code",
   "execution_count": null,
   "id": "02106841-e092-426e-a019-fec867c002e3",
   "metadata": {},
   "outputs": [],
   "source": [
    "import pandas as pd\n",
    "import numpy as np\n",
    "import matplotlib.pyplot as plt\n",
    "import optuna\n",
    "import time\n",
    "from sklearn.ensemble import RandomForestClassifier\n",
    "from sklearn.metrics import confusion_matrix\n",
    "\n",
    "from credit_g_dataset import get_preprocessed_credit_g_dataset\n",
    "\n",
    "pd.set_option(\"display.max_columns\", None)\n",
    "pd.set_option(\"display.max_rows\", 6)"
   ]
  },
  {
   "cell_type": "code",
   "execution_count": null,
   "id": "d9fc83b8-221c-4c16-8551-8dec8e2b5ec5",
   "metadata": {},
   "outputs": [],
   "source": []
  },
  {
   "cell_type": "markdown",
   "id": "bbfca0a4-7746-4759-81e2-058cc72c7c7c",
   "metadata": {},
   "source": [
    "# Load and pre-process version 1 of the dataset credit-g"
   ]
  },
  {
   "cell_type": "code",
   "execution_count": null,
   "id": "a1711fc4-06bf-48a8-942e-999ade9bac95",
   "metadata": {},
   "outputs": [],
   "source": [
    "%%capture\n",
    "X_train, X_validation, X_test, y_train, y_validation, y_test = get_preprocessed_credit_g_dataset()"
   ]
  },
  {
   "cell_type": "code",
   "execution_count": null,
   "id": "646dc2d1-debf-457c-b1d7-a99dbe5308e1",
   "metadata": {},
   "outputs": [],
   "source": []
  },
  {
   "cell_type": "markdown",
   "id": "e6018b1c-685a-434e-8ec7-bfdba0e8f2dd",
   "metadata": {},
   "source": [
    "## Train the model using the training set and adjust hyperparameters with Optuna using the validation set"
   ]
  },
  {
   "cell_type": "code",
   "execution_count": null,
   "id": "afe0b9be-4d18-4ac3-a86d-b655ac525b0b",
   "metadata": {},
   "outputs": [],
   "source": []
  },
  {
   "cell_type": "code",
   "execution_count": null,
   "id": "1b2b3581-ceb8-4a42-8d58-6ee073e908cc",
   "metadata": {},
   "outputs": [],
   "source": [
    "def objective(trial):\n",
    "    params = {\n",
    "    \"n_estimators\": trial.suggest_int(\"n_estimators\", 10, 250, step = 10),\n",
    "    \"max_depth\": trial.suggest_int(\"max_depth\", 1, 15),\n",
    "    \"min_samples_split\": trial.suggest_int(\"min_samples_split\", 2, 10),\n",
    "    \"min_samples_leaf\": trial.suggest_int(\"min_samples_leaf\", 1, 10),\n",
    "    \"criterion\": trial.suggest_categorical(\"criterion\", [\"gini\", \"entropy\"]),\n",
    "    \"random_state\": 50,\n",
    "    }\n",
    "    \n",
    "    model = RandomForestClassifier(**params)\n",
    "    model.fit(X_train, y_train)\n",
    "    score=model.score(X_validation, y_validation)\n",
    "    \n",
    "    return score\n"
   ]
  },
  {
   "cell_type": "code",
   "execution_count": null,
   "id": "eb8eb45a-cae7-4fc1-9b6a-0cd2c59e2e37",
   "metadata": {},
   "outputs": [],
   "source": [
    "start_time = time.time()\n",
    "\n",
    "study = optuna.create_study(direction = \"maximize\")\n",
    "study.optimize(objective, n_trials=100)\n",
    "\n",
    "total_time = time.time()-start_time\n",
    "print(f\"total_time={total_time}\")\n",
    "print(study.best_params)\n",
    "print(study.best_value)"
   ]
  },
  {
   "cell_type": "code",
   "execution_count": null,
   "id": "73db019b-8676-46fb-8f4b-4de8f65eec30",
   "metadata": {},
   "outputs": [],
   "source": [
    "random_state = 50\n",
    "best_n_estimators = study.best_params[\"n_estimators\"]\n",
    "best_criterion = study.best_params[\"criterion\"]\n",
    "best_max_depth = study.best_params[\"max_depth\"]\n",
    "best_min_split = study.best_params[\"min_samples_split\"]\n",
    "best_min_leaf = study.best_params[\"min_samples_leaf\"]"
   ]
  },
  {
   "cell_type": "code",
   "execution_count": null,
   "id": "e54989e6-3bf7-4406-a502-dce31cdb8c96",
   "metadata": {},
   "outputs": [],
   "source": [
    "model = RandomForestClassifier(n_estimators=best_n_estimators, criterion=best_criterion, \n",
    "                               max_depth=best_max_depth, min_samples_split=best_min_split,\n",
    "                               min_samples_leaf=best_min_leaf,random_state=random_state)"
   ]
  },
  {
   "cell_type": "markdown",
   "id": "7ab413bf-d8a7-4e3f-ad62-e3b68c0dd555",
   "metadata": {},
   "source": [
    "## Run on the test set and use training and validation sets for training"
   ]
  },
  {
   "cell_type": "code",
   "execution_count": null,
   "id": "7c24224a-e60a-4de5-868f-690544257b24",
   "metadata": {},
   "outputs": [],
   "source": [
    "X_train_valid = np.concatenate((X_train, X_validation))\n",
    "y_train_valid = np.concatenate((y_train, y_validation))\n",
    "\n",
    "model.fit(X_train_valid, y_train_valid)\n",
    "print(model.score(X_test, y_test))\n",
    "y_predicted = model.predict(X_test)\n",
    "\n",
    "(tn, fp, fn, tp) = confusion_matrix(y_test, y_predicted).ravel()\n",
    "precision_val = float(tp)/float(tp+fp)\n",
    "recall_val = float(tp)/float(tp+fn)\n",
    "specificity_val = float(tn)/float(tn+fp)\n",
    "accuracy_val = float(tp+tn)/float(tn+fp+fn+tp)\n",
    "f1_val = (2*tp)/(2*tp+fp+fn)\n",
    "mcc_val = float((tp*tn)-(fp*fn))/np.sqrt((tp+fp)*(tp+fn)*(tn+fp)*(tn+fn))\n",
    "\n",
    "\n",
    "print(\"\\n\")\n",
    "print(\"Test set precision_val =\", precision_val)\n",
    "print(\"Test set recall_val =\", recall_val)\n",
    "print(\"Test set sspecificity =\", specificity_val)\n",
    "print(\"Test set mcc_val =\", mcc_val)\n",
    "print(\"Test set accuracy_val =\", accuracy_val)\n",
    "print(\"Test set f1_val =\", f1_val)"
   ]
  },
  {
   "cell_type": "code",
   "execution_count": null,
   "id": "ca7d1620-6d01-468e-a8db-6144537a493b",
   "metadata": {},
   "outputs": [],
   "source": [
    "confusion_matrix(y_test, y_predicted)"
   ]
  },
  {
   "cell_type": "code",
   "execution_count": null,
   "id": "24a6bebd-eb5d-424c-a7b9-b2cfc0973915",
   "metadata": {},
   "outputs": [],
   "source": [
    "y_test"
   ]
  },
  {
   "cell_type": "code",
   "execution_count": null,
   "id": "ae27791a-7db7-46fd-a764-f091f8ea05dc",
   "metadata": {},
   "outputs": [],
   "source": []
  },
  {
   "cell_type": "code",
   "execution_count": null,
   "id": "1a0abe7b-fa78-414f-8cd2-0aa90c2da5ab",
   "metadata": {},
   "outputs": [],
   "source": [
    "importances = model.feature_importances_\n",
    "print(importances)\n",
    "# feature_names_in_ only defined if the X input to fit() is a dataframe and the column names are all strings\n",
    "#features_names = model.feature_names_in_\n",
    "#print(features_names)"
   ]
  },
  {
   "cell_type": "code",
   "execution_count": null,
   "id": "b9d2a5d3-669b-423d-9250-ada998d9d6c3",
   "metadata": {},
   "outputs": [],
   "source": [
    "print(max(importances))\n",
    "print(min(importances))\n",
    "print(sum(importances))"
   ]
  },
  {
   "cell_type": "code",
   "execution_count": null,
   "id": "3b0dba39-01f5-4c99-a2e7-0c7dd31a1322",
   "metadata": {},
   "outputs": [],
   "source": []
  }
 ],
 "metadata": {
  "kernelspec": {
   "display_name": "Python 3 (ipykernel)",
   "language": "python",
   "name": "python3"
  },
  "language_info": {
   "codemirror_mode": {
    "name": "ipython",
    "version": 3
   },
   "file_extension": ".py",
   "mimetype": "text/x-python",
   "name": "python",
   "nbconvert_exporter": "python",
   "pygments_lexer": "ipython3",
   "version": "3.12.0"
  }
 },
 "nbformat": 4,
 "nbformat_minor": 5
}
