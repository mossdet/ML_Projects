{
 "cells": [
  {
   "cell_type": "code",
   "execution_count": 1,
   "id": "02106841-e092-426e-a019-fec867c002e3",
   "metadata": {},
   "outputs": [],
   "source": [
    "import pandas as pd\n",
    "import numpy as np\n",
    "import matplotlib.pyplot as plt\n",
    "import optuna\n",
    "import time\n",
    "from sklearn.linear_model import LogisticRegression\n",
    "from sklearn.metrics import confusion_matrix\n",
    "\n",
    "from credit_g_dataset import get_preprocessed_credit_g_dataset\n",
    "\n",
    "pd.set_option(\"display.max_columns\", None)\n",
    "pd.set_option(\"display.max_rows\", 6)"
   ]
  },
  {
   "cell_type": "code",
   "execution_count": null,
   "id": "d9fc83b8-221c-4c16-8551-8dec8e2b5ec5",
   "metadata": {},
   "outputs": [],
   "source": []
  },
  {
   "cell_type": "markdown",
   "id": "bbfca0a4-7746-4759-81e2-058cc72c7c7c",
   "metadata": {},
   "source": [
    "# Load version 1 of the dataset credit-g"
   ]
  },
  {
   "cell_type": "code",
   "execution_count": 2,
   "id": "92428a45-17c1-42bd-8e5c-332ba5de6061",
   "metadata": {},
   "outputs": [],
   "source": [
    "%%capture\n",
    "X_train, X_validation, X_test, y_train, y_validation, y_test = get_preprocessed_credit_g_dataset()"
   ]
  },
  {
   "cell_type": "code",
   "execution_count": null,
   "id": "c5a59ceb-6a38-4078-a1bc-134c5fb49bac",
   "metadata": {},
   "outputs": [],
   "source": []
  },
  {
   "cell_type": "markdown",
   "id": "e6018b1c-685a-434e-8ec7-bfdba0e8f2dd",
   "metadata": {},
   "source": [
    "## Train the model using the training set and adjust hyperparameters with Optuna using the validation set"
   ]
  },
  {
   "cell_type": "code",
   "execution_count": 3,
   "id": "7e9f784d-1598-4c4e-a8e3-5d53cd5a103b",
   "metadata": {},
   "outputs": [],
   "source": [
    "random_state=0"
   ]
  },
  {
   "cell_type": "code",
   "execution_count": 4,
   "id": "5028ef2f-0577-4095-8a81-2bc13580b87a",
   "metadata": {},
   "outputs": [],
   "source": [
    "def objective(trial):\n",
    "    params = {\n",
    "    \"solver\": trial.suggest_categorical(\"solver\", [\"lbfgs\", \"liblinear\", \"sag\", \"saga\"]),        \n",
    "    \"max_iter\": 300,\n",
    "    \"n_jobs\": -1,\n",
    "    \"random_state\": random_state\n",
    "    }\n",
    "    \n",
    "    model = LogisticRegression(**params).fit(X_train, y_train)\n",
    "\n",
    "    y_predicted = model.predict(X_validation)   \n",
    "    (tn, fp, fn, tp) = confusion_matrix(y_validation, y_predicted).ravel()\n",
    "    f1_val = (2*tp)/(2*tp+fp+fn)\n",
    "    \n",
    "    return f1_val\n"
   ]
  },
  {
   "cell_type": "code",
   "execution_count": 5,
   "id": "eff6bc6e-cde3-4829-8ede-cee5b945b9df",
   "metadata": {},
   "outputs": [
    {
     "name": "stderr",
     "output_type": "stream",
     "text": [
      "[I 2023-12-20 18:17:20,608] A new study created in memory with name: no-name-7b834236-2738-493d-8f38-3bd8069d6794\n",
      "C:\\Users\\DLP\\miniconda3\\envs\\elpi\\Lib\\site-packages\\sklearn\\linear_model\\_logistic.py:1223: UserWarning: 'n_jobs' > 1 does not have any effect when 'solver' is set to 'liblinear'. Got 'n_jobs' = 16.\n",
      "  warnings.warn(\n",
      "[I 2023-12-20 18:17:20,620] Trial 0 finished with value: 0.8585858585858586 and parameters: {'solver': 'liblinear'}. Best is trial 0 with value: 0.8585858585858586.\n",
      "[I 2023-12-20 18:17:22,188] Trial 1 finished with value: 0.8585858585858586 and parameters: {'solver': 'lbfgs'}. Best is trial 0 with value: 0.8585858585858586.\n",
      "C:\\Users\\DLP\\miniconda3\\envs\\elpi\\Lib\\site-packages\\sklearn\\linear_model\\_sag.py:350: ConvergenceWarning: The max_iter was reached which means the coef_ did not converge\n",
      "  warnings.warn(\n",
      "[I 2023-12-20 18:17:22,307] Trial 2 finished with value: 0.8585858585858586 and parameters: {'solver': 'saga'}. Best is trial 0 with value: 0.8585858585858586.\n",
      "[I 2023-12-20 18:17:23,041] Trial 3 finished with value: 0.8585858585858586 and parameters: {'solver': 'lbfgs'}. Best is trial 0 with value: 0.8585858585858586.\n",
      "C:\\Users\\DLP\\miniconda3\\envs\\elpi\\Lib\\site-packages\\sklearn\\linear_model\\_logistic.py:1223: UserWarning: 'n_jobs' > 1 does not have any effect when 'solver' is set to 'liblinear'. Got 'n_jobs' = 16.\n",
      "  warnings.warn(\n",
      "[I 2023-12-20 18:17:23,048] Trial 4 finished with value: 0.8585858585858586 and parameters: {'solver': 'liblinear'}. Best is trial 0 with value: 0.8585858585858586.\n",
      "[I 2023-12-20 18:17:23,110] Trial 5 finished with value: 0.8585858585858586 and parameters: {'solver': 'sag'}. Best is trial 0 with value: 0.8585858585858586.\n",
      "[I 2023-12-20 18:17:23,175] Trial 6 finished with value: 0.8585858585858586 and parameters: {'solver': 'sag'}. Best is trial 0 with value: 0.8585858585858586.\n",
      "C:\\Users\\DLP\\miniconda3\\envs\\elpi\\Lib\\site-packages\\sklearn\\linear_model\\_logistic.py:1223: UserWarning: 'n_jobs' > 1 does not have any effect when 'solver' is set to 'liblinear'. Got 'n_jobs' = 16.\n",
      "  warnings.warn(\n",
      "[I 2023-12-20 18:17:23,182] Trial 7 finished with value: 0.8585858585858586 and parameters: {'solver': 'liblinear'}. Best is trial 0 with value: 0.8585858585858586.\n",
      "C:\\Users\\DLP\\miniconda3\\envs\\elpi\\Lib\\site-packages\\sklearn\\linear_model\\_logistic.py:1223: UserWarning: 'n_jobs' > 1 does not have any effect when 'solver' is set to 'liblinear'. Got 'n_jobs' = 16.\n",
      "  warnings.warn(\n",
      "[I 2023-12-20 18:17:23,188] Trial 8 finished with value: 0.8585858585858586 and parameters: {'solver': 'liblinear'}. Best is trial 0 with value: 0.8585858585858586.\n",
      "[I 2023-12-20 18:17:23,977] Trial 9 finished with value: 0.8585858585858586 and parameters: {'solver': 'lbfgs'}. Best is trial 0 with value: 0.8585858585858586.\n",
      "C:\\Users\\DLP\\miniconda3\\envs\\elpi\\Lib\\site-packages\\sklearn\\linear_model\\_sag.py:350: ConvergenceWarning: The max_iter was reached which means the coef_ did not converge\n",
      "  warnings.warn(\n",
      "[I 2023-12-20 18:17:24,085] Trial 10 finished with value: 0.8585858585858586 and parameters: {'solver': 'saga'}. Best is trial 0 with value: 0.8585858585858586.\n",
      "[I 2023-12-20 18:17:24,887] Trial 11 finished with value: 0.8585858585858586 and parameters: {'solver': 'lbfgs'}. Best is trial 0 with value: 0.8585858585858586.\n",
      "[I 2023-12-20 18:17:25,676] Trial 12 finished with value: 0.8585858585858586 and parameters: {'solver': 'lbfgs'}. Best is trial 0 with value: 0.8585858585858586.\n",
      "C:\\Users\\DLP\\miniconda3\\envs\\elpi\\Lib\\site-packages\\sklearn\\linear_model\\_logistic.py:1223: UserWarning: 'n_jobs' > 1 does not have any effect when 'solver' is set to 'liblinear'. Got 'n_jobs' = 16.\n",
      "  warnings.warn(\n",
      "[I 2023-12-20 18:17:25,683] Trial 13 finished with value: 0.8585858585858586 and parameters: {'solver': 'liblinear'}. Best is trial 0 with value: 0.8585858585858586.\n",
      "C:\\Users\\DLP\\miniconda3\\envs\\elpi\\Lib\\site-packages\\sklearn\\linear_model\\_logistic.py:1223: UserWarning: 'n_jobs' > 1 does not have any effect when 'solver' is set to 'liblinear'. Got 'n_jobs' = 16.\n",
      "  warnings.warn(\n",
      "[I 2023-12-20 18:17:25,690] Trial 14 finished with value: 0.8585858585858586 and parameters: {'solver': 'liblinear'}. Best is trial 0 with value: 0.8585858585858586.\n",
      "[I 2023-12-20 18:17:26,507] Trial 15 finished with value: 0.8585858585858586 and parameters: {'solver': 'lbfgs'}. Best is trial 0 with value: 0.8585858585858586.\n",
      "C:\\Users\\DLP\\miniconda3\\envs\\elpi\\Lib\\site-packages\\sklearn\\linear_model\\_sag.py:350: ConvergenceWarning: The max_iter was reached which means the coef_ did not converge\n",
      "  warnings.warn(\n",
      "[I 2023-12-20 18:17:26,620] Trial 16 finished with value: 0.8585858585858586 and parameters: {'solver': 'saga'}. Best is trial 0 with value: 0.8585858585858586.\n",
      "[I 2023-12-20 18:17:26,686] Trial 17 finished with value: 0.8585858585858586 and parameters: {'solver': 'sag'}. Best is trial 0 with value: 0.8585858585858586.\n",
      "[I 2023-12-20 18:17:27,505] Trial 18 finished with value: 0.8585858585858586 and parameters: {'solver': 'lbfgs'}. Best is trial 0 with value: 0.8585858585858586.\n",
      "C:\\Users\\DLP\\miniconda3\\envs\\elpi\\Lib\\site-packages\\sklearn\\linear_model\\_logistic.py:1223: UserWarning: 'n_jobs' > 1 does not have any effect when 'solver' is set to 'liblinear'. Got 'n_jobs' = 16.\n",
      "  warnings.warn(\n",
      "[I 2023-12-20 18:17:27,512] Trial 19 finished with value: 0.8585858585858586 and parameters: {'solver': 'liblinear'}. Best is trial 0 with value: 0.8585858585858586.\n",
      "C:\\Users\\DLP\\miniconda3\\envs\\elpi\\Lib\\site-packages\\sklearn\\linear_model\\_logistic.py:1223: UserWarning: 'n_jobs' > 1 does not have any effect when 'solver' is set to 'liblinear'. Got 'n_jobs' = 16.\n",
      "  warnings.warn(\n",
      "[I 2023-12-20 18:17:27,518] Trial 20 finished with value: 0.8585858585858586 and parameters: {'solver': 'liblinear'}. Best is trial 0 with value: 0.8585858585858586.\n",
      "C:\\Users\\DLP\\miniconda3\\envs\\elpi\\Lib\\site-packages\\sklearn\\linear_model\\_sag.py:350: ConvergenceWarning: The max_iter was reached which means the coef_ did not converge\n",
      "  warnings.warn(\n",
      "[I 2023-12-20 18:17:27,623] Trial 21 finished with value: 0.8585858585858586 and parameters: {'solver': 'saga'}. Best is trial 0 with value: 0.8585858585858586.\n",
      "C:\\Users\\DLP\\miniconda3\\envs\\elpi\\Lib\\site-packages\\sklearn\\linear_model\\_sag.py:350: ConvergenceWarning: The max_iter was reached which means the coef_ did not converge\n",
      "  warnings.warn(\n",
      "[I 2023-12-20 18:17:27,728] Trial 22 finished with value: 0.8585858585858586 and parameters: {'solver': 'saga'}. Best is trial 0 with value: 0.8585858585858586.\n",
      "C:\\Users\\DLP\\miniconda3\\envs\\elpi\\Lib\\site-packages\\sklearn\\linear_model\\_sag.py:350: ConvergenceWarning: The max_iter was reached which means the coef_ did not converge\n",
      "  warnings.warn(\n",
      "[I 2023-12-20 18:17:27,837] Trial 23 finished with value: 0.8585858585858586 and parameters: {'solver': 'saga'}. Best is trial 0 with value: 0.8585858585858586.\n",
      "C:\\Users\\DLP\\miniconda3\\envs\\elpi\\Lib\\site-packages\\sklearn\\linear_model\\_sag.py:350: ConvergenceWarning: The max_iter was reached which means the coef_ did not converge\n",
      "  warnings.warn(\n",
      "[I 2023-12-20 18:17:27,942] Trial 24 finished with value: 0.8585858585858586 and parameters: {'solver': 'saga'}. Best is trial 0 with value: 0.8585858585858586.\n",
      "C:\\Users\\DLP\\miniconda3\\envs\\elpi\\Lib\\site-packages\\sklearn\\linear_model\\_sag.py:350: ConvergenceWarning: The max_iter was reached which means the coef_ did not converge\n",
      "  warnings.warn(\n",
      "[I 2023-12-20 18:17:28,052] Trial 25 finished with value: 0.8585858585858586 and parameters: {'solver': 'saga'}. Best is trial 0 with value: 0.8585858585858586.\n",
      "[I 2023-12-20 18:17:28,907] Trial 26 finished with value: 0.8585858585858586 and parameters: {'solver': 'lbfgs'}. Best is trial 0 with value: 0.8585858585858586.\n",
      "[I 2023-12-20 18:17:28,972] Trial 27 finished with value: 0.8585858585858586 and parameters: {'solver': 'sag'}. Best is trial 0 with value: 0.8585858585858586.\n",
      "C:\\Users\\DLP\\miniconda3\\envs\\elpi\\Lib\\site-packages\\sklearn\\linear_model\\_logistic.py:1223: UserWarning: 'n_jobs' > 1 does not have any effect when 'solver' is set to 'liblinear'. Got 'n_jobs' = 16.\n",
      "  warnings.warn(\n",
      "[I 2023-12-20 18:17:28,978] Trial 28 finished with value: 0.8585858585858586 and parameters: {'solver': 'liblinear'}. Best is trial 0 with value: 0.8585858585858586.\n",
      "[I 2023-12-20 18:17:29,841] Trial 29 finished with value: 0.8585858585858586 and parameters: {'solver': 'lbfgs'}. Best is trial 0 with value: 0.8585858585858586.\n",
      "C:\\Users\\DLP\\miniconda3\\envs\\elpi\\Lib\\site-packages\\sklearn\\linear_model\\_sag.py:350: ConvergenceWarning: The max_iter was reached which means the coef_ did not converge\n",
      "  warnings.warn(\n",
      "[I 2023-12-20 18:17:29,945] Trial 30 finished with value: 0.8585858585858586 and parameters: {'solver': 'saga'}. Best is trial 0 with value: 0.8585858585858586.\n",
      "[I 2023-12-20 18:17:30,745] Trial 31 finished with value: 0.8585858585858586 and parameters: {'solver': 'lbfgs'}. Best is trial 0 with value: 0.8585858585858586.\n",
      "[I 2023-12-20 18:17:31,535] Trial 32 finished with value: 0.8585858585858586 and parameters: {'solver': 'lbfgs'}. Best is trial 0 with value: 0.8585858585858586.\n",
      "[I 2023-12-20 18:17:32,270] Trial 33 finished with value: 0.8585858585858586 and parameters: {'solver': 'lbfgs'}. Best is trial 0 with value: 0.8585858585858586.\n",
      "[I 2023-12-20 18:17:32,335] Trial 34 finished with value: 0.8585858585858586 and parameters: {'solver': 'sag'}. Best is trial 0 with value: 0.8585858585858586.\n",
      "C:\\Users\\DLP\\miniconda3\\envs\\elpi\\Lib\\site-packages\\sklearn\\linear_model\\_logistic.py:1223: UserWarning: 'n_jobs' > 1 does not have any effect when 'solver' is set to 'liblinear'. Got 'n_jobs' = 16.\n",
      "  warnings.warn(\n",
      "[I 2023-12-20 18:17:32,342] Trial 35 finished with value: 0.8585858585858586 and parameters: {'solver': 'liblinear'}. Best is trial 0 with value: 0.8585858585858586.\n",
      "[I 2023-12-20 18:17:33,135] Trial 36 finished with value: 0.8585858585858586 and parameters: {'solver': 'lbfgs'}. Best is trial 0 with value: 0.8585858585858586.\n",
      "C:\\Users\\DLP\\miniconda3\\envs\\elpi\\Lib\\site-packages\\sklearn\\linear_model\\_logistic.py:1223: UserWarning: 'n_jobs' > 1 does not have any effect when 'solver' is set to 'liblinear'. Got 'n_jobs' = 16.\n",
      "  warnings.warn(\n",
      "[I 2023-12-20 18:17:33,142] Trial 37 finished with value: 0.8585858585858586 and parameters: {'solver': 'liblinear'}. Best is trial 0 with value: 0.8585858585858586.\n",
      "[I 2023-12-20 18:17:33,875] Trial 38 finished with value: 0.8585858585858586 and parameters: {'solver': 'lbfgs'}. Best is trial 0 with value: 0.8585858585858586.\n",
      "[I 2023-12-20 18:17:33,941] Trial 39 finished with value: 0.8585858585858586 and parameters: {'solver': 'sag'}. Best is trial 0 with value: 0.8585858585858586.\n",
      "[I 2023-12-20 18:17:34,705] Trial 40 finished with value: 0.8585858585858586 and parameters: {'solver': 'lbfgs'}. Best is trial 0 with value: 0.8585858585858586.\n",
      "C:\\Users\\DLP\\miniconda3\\envs\\elpi\\Lib\\site-packages\\sklearn\\linear_model\\_logistic.py:1223: UserWarning: 'n_jobs' > 1 does not have any effect when 'solver' is set to 'liblinear'. Got 'n_jobs' = 16.\n",
      "  warnings.warn(\n",
      "[I 2023-12-20 18:17:34,713] Trial 41 finished with value: 0.8585858585858586 and parameters: {'solver': 'liblinear'}. Best is trial 0 with value: 0.8585858585858586.\n",
      "C:\\Users\\DLP\\miniconda3\\envs\\elpi\\Lib\\site-packages\\sklearn\\linear_model\\_logistic.py:1223: UserWarning: 'n_jobs' > 1 does not have any effect when 'solver' is set to 'liblinear'. Got 'n_jobs' = 16.\n",
      "  warnings.warn(\n",
      "[I 2023-12-20 18:17:34,721] Trial 42 finished with value: 0.8585858585858586 and parameters: {'solver': 'liblinear'}. Best is trial 0 with value: 0.8585858585858586.\n",
      "C:\\Users\\DLP\\miniconda3\\envs\\elpi\\Lib\\site-packages\\sklearn\\linear_model\\_logistic.py:1223: UserWarning: 'n_jobs' > 1 does not have any effect when 'solver' is set to 'liblinear'. Got 'n_jobs' = 16.\n",
      "  warnings.warn(\n",
      "[I 2023-12-20 18:17:34,727] Trial 43 finished with value: 0.8585858585858586 and parameters: {'solver': 'liblinear'}. Best is trial 0 with value: 0.8585858585858586.\n",
      "C:\\Users\\DLP\\miniconda3\\envs\\elpi\\Lib\\site-packages\\sklearn\\linear_model\\_logistic.py:1223: UserWarning: 'n_jobs' > 1 does not have any effect when 'solver' is set to 'liblinear'. Got 'n_jobs' = 16.\n",
      "  warnings.warn(\n",
      "[I 2023-12-20 18:17:34,735] Trial 44 finished with value: 0.8585858585858586 and parameters: {'solver': 'liblinear'}. Best is trial 0 with value: 0.8585858585858586.\n",
      "C:\\Users\\DLP\\miniconda3\\envs\\elpi\\Lib\\site-packages\\sklearn\\linear_model\\_logistic.py:1223: UserWarning: 'n_jobs' > 1 does not have any effect when 'solver' is set to 'liblinear'. Got 'n_jobs' = 16.\n",
      "  warnings.warn(\n",
      "[I 2023-12-20 18:17:34,741] Trial 45 finished with value: 0.8585858585858586 and parameters: {'solver': 'liblinear'}. Best is trial 0 with value: 0.8585858585858586.\n",
      "C:\\Users\\DLP\\miniconda3\\envs\\elpi\\Lib\\site-packages\\sklearn\\linear_model\\_sag.py:350: ConvergenceWarning: The max_iter was reached which means the coef_ did not converge\n",
      "  warnings.warn(\n",
      "[I 2023-12-20 18:17:34,848] Trial 46 finished with value: 0.8585858585858586 and parameters: {'solver': 'saga'}. Best is trial 0 with value: 0.8585858585858586.\n",
      "[I 2023-12-20 18:17:35,685] Trial 47 finished with value: 0.8585858585858586 and parameters: {'solver': 'lbfgs'}. Best is trial 0 with value: 0.8585858585858586.\n",
      "C:\\Users\\DLP\\miniconda3\\envs\\elpi\\Lib\\site-packages\\sklearn\\linear_model\\_logistic.py:1223: UserWarning: 'n_jobs' > 1 does not have any effect when 'solver' is set to 'liblinear'. Got 'n_jobs' = 16.\n",
      "  warnings.warn(\n",
      "[I 2023-12-20 18:17:35,692] Trial 48 finished with value: 0.8585858585858586 and parameters: {'solver': 'liblinear'}. Best is trial 0 with value: 0.8585858585858586.\n",
      "[I 2023-12-20 18:17:35,717] Trial 49 finished with value: 0.8585858585858586 and parameters: {'solver': 'lbfgs'}. Best is trial 0 with value: 0.8585858585858586.\n",
      "[I 2023-12-20 18:17:35,784] Trial 50 finished with value: 0.8585858585858586 and parameters: {'solver': 'sag'}. Best is trial 0 with value: 0.8585858585858586.\n",
      "[I 2023-12-20 18:17:35,848] Trial 51 finished with value: 0.8585858585858586 and parameters: {'solver': 'sag'}. Best is trial 0 with value: 0.8585858585858586.\n",
      "[I 2023-12-20 18:17:35,915] Trial 52 finished with value: 0.8585858585858586 and parameters: {'solver': 'sag'}. Best is trial 0 with value: 0.8585858585858586.\n",
      "[I 2023-12-20 18:17:35,979] Trial 53 finished with value: 0.8585858585858586 and parameters: {'solver': 'sag'}. Best is trial 0 with value: 0.8585858585858586.\n",
      "C:\\Users\\DLP\\miniconda3\\envs\\elpi\\Lib\\site-packages\\sklearn\\linear_model\\_sag.py:350: ConvergenceWarning: The max_iter was reached which means the coef_ did not converge\n",
      "  warnings.warn(\n",
      "[I 2023-12-20 18:17:36,085] Trial 54 finished with value: 0.8585858585858586 and parameters: {'solver': 'saga'}. Best is trial 0 with value: 0.8585858585858586.\n",
      "C:\\Users\\DLP\\miniconda3\\envs\\elpi\\Lib\\site-packages\\sklearn\\linear_model\\_logistic.py:1223: UserWarning: 'n_jobs' > 1 does not have any effect when 'solver' is set to 'liblinear'. Got 'n_jobs' = 16.\n",
      "  warnings.warn(\n",
      "[I 2023-12-20 18:17:36,092] Trial 55 finished with value: 0.8585858585858586 and parameters: {'solver': 'liblinear'}. Best is trial 0 with value: 0.8585858585858586.\n",
      "C:\\Users\\DLP\\miniconda3\\envs\\elpi\\Lib\\site-packages\\sklearn\\linear_model\\_sag.py:350: ConvergenceWarning: The max_iter was reached which means the coef_ did not converge\n",
      "  warnings.warn(\n",
      "[I 2023-12-20 18:17:36,201] Trial 56 finished with value: 0.8585858585858586 and parameters: {'solver': 'saga'}. Best is trial 0 with value: 0.8585858585858586.\n",
      "[I 2023-12-20 18:17:36,267] Trial 57 finished with value: 0.8585858585858586 and parameters: {'solver': 'sag'}. Best is trial 0 with value: 0.8585858585858586.\n",
      "[I 2023-12-20 18:17:36,282] Trial 58 finished with value: 0.8585858585858586 and parameters: {'solver': 'lbfgs'}. Best is trial 0 with value: 0.8585858585858586.\n",
      "C:\\Users\\DLP\\miniconda3\\envs\\elpi\\Lib\\site-packages\\sklearn\\linear_model\\_sag.py:350: ConvergenceWarning: The max_iter was reached which means the coef_ did not converge\n",
      "  warnings.warn(\n",
      "[I 2023-12-20 18:17:36,387] Trial 59 finished with value: 0.8585858585858586 and parameters: {'solver': 'saga'}. Best is trial 0 with value: 0.8585858585858586.\n",
      "C:\\Users\\DLP\\miniconda3\\envs\\elpi\\Lib\\site-packages\\sklearn\\linear_model\\_logistic.py:1223: UserWarning: 'n_jobs' > 1 does not have any effect when 'solver' is set to 'liblinear'. Got 'n_jobs' = 16.\n",
      "  warnings.warn(\n",
      "[I 2023-12-20 18:17:36,394] Trial 60 finished with value: 0.8585858585858586 and parameters: {'solver': 'liblinear'}. Best is trial 0 with value: 0.8585858585858586.\n",
      "[I 2023-12-20 18:17:36,458] Trial 61 finished with value: 0.8585858585858586 and parameters: {'solver': 'sag'}. Best is trial 0 with value: 0.8585858585858586.\n",
      "[I 2023-12-20 18:17:36,523] Trial 62 finished with value: 0.8585858585858586 and parameters: {'solver': 'sag'}. Best is trial 0 with value: 0.8585858585858586.\n",
      "[I 2023-12-20 18:17:36,587] Trial 63 finished with value: 0.8585858585858586 and parameters: {'solver': 'sag'}. Best is trial 0 with value: 0.8585858585858586.\n",
      "[I 2023-12-20 18:17:36,613] Trial 64 finished with value: 0.8585858585858586 and parameters: {'solver': 'lbfgs'}. Best is trial 0 with value: 0.8585858585858586.\n",
      "[I 2023-12-20 18:17:36,679] Trial 65 finished with value: 0.8585858585858586 and parameters: {'solver': 'sag'}. Best is trial 0 with value: 0.8585858585858586.\n",
      "[I 2023-12-20 18:17:36,695] Trial 66 finished with value: 0.8585858585858586 and parameters: {'solver': 'lbfgs'}. Best is trial 0 with value: 0.8585858585858586.\n",
      "C:\\Users\\DLP\\miniconda3\\envs\\elpi\\Lib\\site-packages\\sklearn\\linear_model\\_sag.py:350: ConvergenceWarning: The max_iter was reached which means the coef_ did not converge\n",
      "  warnings.warn(\n",
      "[I 2023-12-20 18:17:36,801] Trial 67 finished with value: 0.8585858585858586 and parameters: {'solver': 'saga'}. Best is trial 0 with value: 0.8585858585858586.\n",
      "C:\\Users\\DLP\\miniconda3\\envs\\elpi\\Lib\\site-packages\\sklearn\\linear_model\\_logistic.py:1223: UserWarning: 'n_jobs' > 1 does not have any effect when 'solver' is set to 'liblinear'. Got 'n_jobs' = 16.\n",
      "  warnings.warn(\n",
      "[I 2023-12-20 18:17:36,807] Trial 68 finished with value: 0.8585858585858586 and parameters: {'solver': 'liblinear'}. Best is trial 0 with value: 0.8585858585858586.\n",
      "[I 2023-12-20 18:17:36,872] Trial 69 finished with value: 0.8585858585858586 and parameters: {'solver': 'sag'}. Best is trial 0 with value: 0.8585858585858586.\n",
      "[I 2023-12-20 18:17:36,898] Trial 70 finished with value: 0.8585858585858586 and parameters: {'solver': 'lbfgs'}. Best is trial 0 with value: 0.8585858585858586.\n",
      "C:\\Users\\DLP\\miniconda3\\envs\\elpi\\Lib\\site-packages\\sklearn\\linear_model\\_logistic.py:1223: UserWarning: 'n_jobs' > 1 does not have any effect when 'solver' is set to 'liblinear'. Got 'n_jobs' = 16.\n",
      "  warnings.warn(\n",
      "[I 2023-12-20 18:17:36,908] Trial 71 finished with value: 0.8585858585858586 and parameters: {'solver': 'liblinear'}. Best is trial 0 with value: 0.8585858585858586.\n",
      "C:\\Users\\DLP\\miniconda3\\envs\\elpi\\Lib\\site-packages\\sklearn\\linear_model\\_logistic.py:1223: UserWarning: 'n_jobs' > 1 does not have any effect when 'solver' is set to 'liblinear'. Got 'n_jobs' = 16.\n",
      "  warnings.warn(\n",
      "[I 2023-12-20 18:17:36,914] Trial 72 finished with value: 0.8585858585858586 and parameters: {'solver': 'liblinear'}. Best is trial 0 with value: 0.8585858585858586.\n",
      "C:\\Users\\DLP\\miniconda3\\envs\\elpi\\Lib\\site-packages\\sklearn\\linear_model\\_logistic.py:1223: UserWarning: 'n_jobs' > 1 does not have any effect when 'solver' is set to 'liblinear'. Got 'n_jobs' = 16.\n",
      "  warnings.warn(\n",
      "[I 2023-12-20 18:17:36,922] Trial 73 finished with value: 0.8585858585858586 and parameters: {'solver': 'liblinear'}. Best is trial 0 with value: 0.8585858585858586.\n",
      "C:\\Users\\DLP\\miniconda3\\envs\\elpi\\Lib\\site-packages\\sklearn\\linear_model\\_logistic.py:1223: UserWarning: 'n_jobs' > 1 does not have any effect when 'solver' is set to 'liblinear'. Got 'n_jobs' = 16.\n",
      "  warnings.warn(\n",
      "[I 2023-12-20 18:17:36,929] Trial 74 finished with value: 0.8585858585858586 and parameters: {'solver': 'liblinear'}. Best is trial 0 with value: 0.8585858585858586.\n",
      "C:\\Users\\DLP\\miniconda3\\envs\\elpi\\Lib\\site-packages\\sklearn\\linear_model\\_logistic.py:1223: UserWarning: 'n_jobs' > 1 does not have any effect when 'solver' is set to 'liblinear'. Got 'n_jobs' = 16.\n",
      "  warnings.warn(\n",
      "[I 2023-12-20 18:17:36,936] Trial 75 finished with value: 0.8585858585858586 and parameters: {'solver': 'liblinear'}. Best is trial 0 with value: 0.8585858585858586.\n",
      "C:\\Users\\DLP\\miniconda3\\envs\\elpi\\Lib\\site-packages\\sklearn\\linear_model\\_sag.py:350: ConvergenceWarning: The max_iter was reached which means the coef_ did not converge\n",
      "  warnings.warn(\n",
      "[I 2023-12-20 18:17:37,043] Trial 76 finished with value: 0.8585858585858586 and parameters: {'solver': 'saga'}. Best is trial 0 with value: 0.8585858585858586.\n",
      "[I 2023-12-20 18:17:37,070] Trial 77 finished with value: 0.8585858585858586 and parameters: {'solver': 'lbfgs'}. Best is trial 0 with value: 0.8585858585858586.\n",
      "C:\\Users\\DLP\\miniconda3\\envs\\elpi\\Lib\\site-packages\\sklearn\\linear_model\\_logistic.py:1223: UserWarning: 'n_jobs' > 1 does not have any effect when 'solver' is set to 'liblinear'. Got 'n_jobs' = 16.\n",
      "  warnings.warn(\n",
      "[I 2023-12-20 18:17:37,077] Trial 78 finished with value: 0.8585858585858586 and parameters: {'solver': 'liblinear'}. Best is trial 0 with value: 0.8585858585858586.\n",
      "[I 2023-12-20 18:17:37,143] Trial 79 finished with value: 0.8585858585858586 and parameters: {'solver': 'sag'}. Best is trial 0 with value: 0.8585858585858586.\n",
      "[I 2023-12-20 18:17:37,159] Trial 80 finished with value: 0.8585858585858586 and parameters: {'solver': 'lbfgs'}. Best is trial 0 with value: 0.8585858585858586.\n",
      "C:\\Users\\DLP\\miniconda3\\envs\\elpi\\Lib\\site-packages\\sklearn\\linear_model\\_logistic.py:1223: UserWarning: 'n_jobs' > 1 does not have any effect when 'solver' is set to 'liblinear'. Got 'n_jobs' = 16.\n",
      "  warnings.warn(\n",
      "[I 2023-12-20 18:17:37,166] Trial 81 finished with value: 0.8585858585858586 and parameters: {'solver': 'liblinear'}. Best is trial 0 with value: 0.8585858585858586.\n",
      "C:\\Users\\DLP\\miniconda3\\envs\\elpi\\Lib\\site-packages\\sklearn\\linear_model\\_logistic.py:1223: UserWarning: 'n_jobs' > 1 does not have any effect when 'solver' is set to 'liblinear'. Got 'n_jobs' = 16.\n",
      "  warnings.warn(\n",
      "[I 2023-12-20 18:17:37,174] Trial 82 finished with value: 0.8585858585858586 and parameters: {'solver': 'liblinear'}. Best is trial 0 with value: 0.8585858585858586.\n",
      "C:\\Users\\DLP\\miniconda3\\envs\\elpi\\Lib\\site-packages\\sklearn\\linear_model\\_logistic.py:1223: UserWarning: 'n_jobs' > 1 does not have any effect when 'solver' is set to 'liblinear'. Got 'n_jobs' = 16.\n",
      "  warnings.warn(\n",
      "[I 2023-12-20 18:17:37,180] Trial 83 finished with value: 0.8585858585858586 and parameters: {'solver': 'liblinear'}. Best is trial 0 with value: 0.8585858585858586.\n",
      "C:\\Users\\DLP\\miniconda3\\envs\\elpi\\Lib\\site-packages\\sklearn\\linear_model\\_logistic.py:1223: UserWarning: 'n_jobs' > 1 does not have any effect when 'solver' is set to 'liblinear'. Got 'n_jobs' = 16.\n",
      "  warnings.warn(\n",
      "[I 2023-12-20 18:17:37,188] Trial 84 finished with value: 0.8585858585858586 and parameters: {'solver': 'liblinear'}. Best is trial 0 with value: 0.8585858585858586.\n",
      "C:\\Users\\DLP\\miniconda3\\envs\\elpi\\Lib\\site-packages\\sklearn\\linear_model\\_sag.py:350: ConvergenceWarning: The max_iter was reached which means the coef_ did not converge\n",
      "  warnings.warn(\n",
      "[I 2023-12-20 18:17:37,295] Trial 85 finished with value: 0.8585858585858586 and parameters: {'solver': 'saga'}. Best is trial 0 with value: 0.8585858585858586.\n",
      "C:\\Users\\DLP\\miniconda3\\envs\\elpi\\Lib\\site-packages\\sklearn\\linear_model\\_logistic.py:1223: UserWarning: 'n_jobs' > 1 does not have any effect when 'solver' is set to 'liblinear'. Got 'n_jobs' = 16.\n",
      "  warnings.warn(\n",
      "[I 2023-12-20 18:17:37,303] Trial 86 finished with value: 0.8585858585858586 and parameters: {'solver': 'liblinear'}. Best is trial 0 with value: 0.8585858585858586.\n",
      "[I 2023-12-20 18:17:37,318] Trial 87 finished with value: 0.8585858585858586 and parameters: {'solver': 'lbfgs'}. Best is trial 0 with value: 0.8585858585858586.\n",
      "[I 2023-12-20 18:17:37,384] Trial 88 finished with value: 0.8585858585858586 and parameters: {'solver': 'sag'}. Best is trial 0 with value: 0.8585858585858586.\n",
      "C:\\Users\\DLP\\miniconda3\\envs\\elpi\\Lib\\site-packages\\sklearn\\linear_model\\_logistic.py:1223: UserWarning: 'n_jobs' > 1 does not have any effect when 'solver' is set to 'liblinear'. Got 'n_jobs' = 16.\n",
      "  warnings.warn(\n",
      "[I 2023-12-20 18:17:37,391] Trial 89 finished with value: 0.8585858585858586 and parameters: {'solver': 'liblinear'}. Best is trial 0 with value: 0.8585858585858586.\n",
      "C:\\Users\\DLP\\miniconda3\\envs\\elpi\\Lib\\site-packages\\sklearn\\linear_model\\_sag.py:350: ConvergenceWarning: The max_iter was reached which means the coef_ did not converge\n",
      "  warnings.warn(\n",
      "[I 2023-12-20 18:17:37,499] Trial 90 finished with value: 0.8585858585858586 and parameters: {'solver': 'saga'}. Best is trial 0 with value: 0.8585858585858586.\n",
      "[I 2023-12-20 18:17:37,525] Trial 91 finished with value: 0.8585858585858586 and parameters: {'solver': 'lbfgs'}. Best is trial 0 with value: 0.8585858585858586.\n",
      "[I 2023-12-20 18:17:37,553] Trial 92 finished with value: 0.8585858585858586 and parameters: {'solver': 'lbfgs'}. Best is trial 0 with value: 0.8585858585858586.\n",
      "[I 2023-12-20 18:17:37,579] Trial 93 finished with value: 0.8585858585858586 and parameters: {'solver': 'lbfgs'}. Best is trial 0 with value: 0.8585858585858586.\n",
      "[I 2023-12-20 18:17:37,605] Trial 94 finished with value: 0.8585858585858586 and parameters: {'solver': 'lbfgs'}. Best is trial 0 with value: 0.8585858585858586.\n",
      "[I 2023-12-20 18:17:37,671] Trial 95 finished with value: 0.8585858585858586 and parameters: {'solver': 'sag'}. Best is trial 0 with value: 0.8585858585858586.\n",
      "[I 2023-12-20 18:17:37,697] Trial 96 finished with value: 0.8585858585858586 and parameters: {'solver': 'lbfgs'}. Best is trial 0 with value: 0.8585858585858586.\n",
      "C:\\Users\\DLP\\miniconda3\\envs\\elpi\\Lib\\site-packages\\sklearn\\linear_model\\_logistic.py:1223: UserWarning: 'n_jobs' > 1 does not have any effect when 'solver' is set to 'liblinear'. Got 'n_jobs' = 16.\n",
      "  warnings.warn(\n",
      "[I 2023-12-20 18:17:37,705] Trial 97 finished with value: 0.8585858585858586 and parameters: {'solver': 'liblinear'}. Best is trial 0 with value: 0.8585858585858586.\n",
      "[I 2023-12-20 18:17:37,772] Trial 98 finished with value: 0.8585858585858586 and parameters: {'solver': 'sag'}. Best is trial 0 with value: 0.8585858585858586.\n",
      "[I 2023-12-20 18:17:37,797] Trial 99 finished with value: 0.8585858585858586 and parameters: {'solver': 'lbfgs'}. Best is trial 0 with value: 0.8585858585858586.\n"
     ]
    },
    {
     "name": "stdout",
     "output_type": "stream",
     "text": [
      "total_time=17.190016984939575\n",
      "{'solver': 'liblinear'}\n",
      "0.8585858585858586\n"
     ]
    }
   ],
   "source": [
    "start_time = time.time()\n",
    "\n",
    "study = optuna.create_study(direction = \"maximize\")\n",
    "study.optimize(objective, n_trials=100)\n",
    "\n",
    "total_time = time.time()-start_time\n",
    "print(f\"total_time={total_time}\")\n",
    "print(study.best_params)\n",
    "print(study.best_value)"
   ]
  },
  {
   "cell_type": "code",
   "execution_count": 6,
   "id": "b3550a22-105c-4fad-b65f-fc3c2702fa51",
   "metadata": {},
   "outputs": [],
   "source": [
    "best_solver = study.best_params[\"solver\"]"
   ]
  },
  {
   "cell_type": "code",
   "execution_count": 7,
   "id": "436868be-fca4-41e7-9868-bd1fe2938c46",
   "metadata": {},
   "outputs": [],
   "source": [
    "model = LogisticRegression(solver=best_solver, max_iter=300, n_jobs=-1, random_state=random_state)"
   ]
  },
  {
   "cell_type": "markdown",
   "id": "2afe6216-de9a-49a4-bc67-3811bb7da898",
   "metadata": {},
   "source": [
    "## Run on the test set and use training and validation sets for training"
   ]
  },
  {
   "cell_type": "code",
   "execution_count": 8,
   "id": "78debdfe-6031-46b8-9c5e-5e7a7228bbc6",
   "metadata": {},
   "outputs": [
    {
     "name": "stdout",
     "output_type": "stream",
     "text": [
      "0.73\n",
      "\n",
      "\n",
      "Test set precision_val = 0.8333333333333334\n",
      "Test set recall_val = 0.8\n",
      "Test set sspecificity = 0.52\n",
      "Test set mcc_val = 0.3086066999241838\n",
      "Test set accuracy_val = 0.73\n",
      "Test set f1_val = 0.8163265306122449\n"
     ]
    },
    {
     "name": "stderr",
     "output_type": "stream",
     "text": [
      "C:\\Users\\DLP\\miniconda3\\envs\\elpi\\Lib\\site-packages\\sklearn\\linear_model\\_logistic.py:1223: UserWarning: 'n_jobs' > 1 does not have any effect when 'solver' is set to 'liblinear'. Got 'n_jobs' = 16.\n",
      "  warnings.warn(\n"
     ]
    }
   ],
   "source": [
    "X_train_valid = np.concatenate((X_train, X_validation))\n",
    "y_train_valid = np.concatenate((y_train, y_validation))\n",
    "\n",
    "model.fit(X_train_valid, y_train_valid)\n",
    "print(model.score(X_test, y_test))\n",
    "y_predicted = model.predict(X_test)\n",
    "\n",
    "(tn, fp, fn, tp) = confusion_matrix(y_test, y_predicted).ravel()\n",
    "precision_val = float(tp)/float(tp+fp)\n",
    "recall_val = float(tp)/float(tp+fn)\n",
    "specificity_val = float(tn)/float(tn+fp)\n",
    "accuracy_val = float(tp+tn)/float(tn+fp+fn+tp)\n",
    "f1_val = (2*tp)/(2*tp+fp+fn)\n",
    "mcc_val = float((tp*tn)-(fp*fn))/np.sqrt((tp+fp)*(tp+fn)*(tn+fp)*(tn+fn))\n",
    "\n",
    "\n",
    "print(\"\\n\")\n",
    "print(\"Test set precision_val =\", precision_val)\n",
    "print(\"Test set recall_val =\", recall_val)\n",
    "print(\"Test set sspecificity =\", specificity_val)\n",
    "print(\"Test set mcc_val =\", mcc_val)\n",
    "print(\"Test set accuracy_val =\", accuracy_val)\n",
    "print(\"Test set f1_val =\", f1_val)"
   ]
  },
  {
   "cell_type": "code",
   "execution_count": 9,
   "id": "22c0a51b-735e-4eac-907d-93a7aea1fde9",
   "metadata": {},
   "outputs": [
    {
     "data": {
      "text/plain": [
       "array([[13, 12],\n",
       "       [15, 60]], dtype=int64)"
      ]
     },
     "execution_count": 9,
     "metadata": {},
     "output_type": "execute_result"
    }
   ],
   "source": [
    "confusion_matrix(y_test, y_predicted)"
   ]
  },
  {
   "cell_type": "code",
   "execution_count": 10,
   "id": "7a5ef1db-6d88-488b-a66e-e43ae8ca3b72",
   "metadata": {},
   "outputs": [
    {
     "data": {
      "text/plain": [
       "array([1, 1, 1, 1, 1, 1, 1, 1, 1, 0, 0, 0, 1, 1, 0, 1, 1, 0, 1, 1, 1, 1,\n",
       "       1, 1, 1, 0, 1, 1, 1, 0, 1, 1, 0, 0, 1, 0, 1, 1, 0, 1, 0, 1, 1, 1,\n",
       "       1, 0, 0, 1, 1, 1, 0, 0, 1, 1, 0, 1, 1, 1, 1, 1, 0, 1, 1, 1, 1, 1,\n",
       "       1, 0, 0, 1, 1, 1, 1, 1, 1, 0, 1, 0, 0, 1, 1, 1, 1, 1, 1, 1, 0, 1,\n",
       "       1, 1, 1, 1, 1, 1, 1, 0, 1, 1, 1, 1])"
      ]
     },
     "execution_count": 10,
     "metadata": {},
     "output_type": "execute_result"
    }
   ],
   "source": [
    "y_test"
   ]
  }
 ],
 "metadata": {
  "kernelspec": {
   "display_name": "Python 3 (ipykernel)",
   "language": "python",
   "name": "python3"
  },
  "language_info": {
   "codemirror_mode": {
    "name": "ipython",
    "version": 3
   },
   "file_extension": ".py",
   "mimetype": "text/x-python",
   "name": "python",
   "nbconvert_exporter": "python",
   "pygments_lexer": "ipython3",
   "version": "3.12.0"
  }
 },
 "nbformat": 4,
 "nbformat_minor": 5
}
