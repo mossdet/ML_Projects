{
 "cells": [
  {
   "cell_type": "code",
   "execution_count": 1,
   "id": "02106841-e092-426e-a019-fec867c002e3",
   "metadata": {},
   "outputs": [],
   "source": [
    "import pandas as pd\n",
    "import numpy as np\n",
    "import matplotlib.pyplot as plt\n",
    "import seaborn as sns\n",
    "from scipy import stats\n",
    "from sklearn.linear_model import LogisticRegression\n",
    "from sklearn.datasets import fetch_openml\n",
    "from sklearn.preprocessing import LabelEncoder, OneHotEncoder\n",
    "from sklearn.preprocessing import StandardScaler\n",
    "from sklearn.model_selection import train_test_split\n",
    "from sklearn.metrics import accuracy_score, recall_score, precision_score, f1_score, confusion_matrix\n",
    "\n",
    "from credit_g_dataset import get_preprocessed_credit_g_dataset\n",
    "\n",
    "pd.set_option(\"display.max_columns\", None)\n",
    "pd.set_option(\"display.max_rows\", 6)"
   ]
  },
  {
   "cell_type": "code",
   "execution_count": null,
   "id": "d9fc83b8-221c-4c16-8551-8dec8e2b5ec5",
   "metadata": {},
   "outputs": [],
   "source": []
  },
  {
   "cell_type": "markdown",
   "id": "bbfca0a4-7746-4759-81e2-058cc72c7c7c",
   "metadata": {},
   "source": [
    "# Load version 3 of the dataset credit-g"
   ]
  },
  {
   "cell_type": "code",
   "execution_count": 2,
   "id": "92428a45-17c1-42bd-8e5c-332ba5de6061",
   "metadata": {},
   "outputs": [],
   "source": [
    "%%capture\n",
    "X_train, X_validation, X_test, y_train, y_validation, y_test = get_preprocessed_credit_g_dataset()"
   ]
  },
  {
   "cell_type": "code",
   "execution_count": null,
   "id": "c5a59ceb-6a38-4078-a1bc-134c5fb49bac",
   "metadata": {},
   "outputs": [],
   "source": []
  },
  {
   "cell_type": "markdown",
   "id": "e6018b1c-685a-434e-8ec7-bfdba0e8f2dd",
   "metadata": {},
   "source": [
    "## Train the model on the training set and adjust hyperparameters on the validation set"
   ]
  },
  {
   "cell_type": "code",
   "execution_count": 3,
   "id": "e54989e6-3bf7-4406-a502-dce31cdb8c96",
   "metadata": {},
   "outputs": [
    {
     "name": "stdout",
     "output_type": "stream",
     "text": [
      "Solver = lbfgs\n"
     ]
    },
    {
     "name": "stderr",
     "output_type": "stream",
     "text": [
      "C:\\Users\\DLP\\miniconda3\\envs\\elpi\\Lib\\site-packages\\sklearn\\linear_model\\_logistic.py:1223: UserWarning: 'n_jobs' > 1 does not have any effect when 'solver' is set to 'liblinear'. Got 'n_jobs' = 16.\n",
      "  warnings.warn(\n"
     ]
    },
    {
     "name": "stdout",
     "output_type": "stream",
     "text": [
      "Best Accuracy was 0.7111111111111111, obtained with the solver lbfgs\n"
     ]
    }
   ],
   "source": [
    "penalty_ls= ['l1', 'l2', 'elasticnet', None]\n",
    "solver_ls = ['lbfgs', 'liblinear', 'newton-cg', 'newton-cholesky', 'sag', 'saga']\n",
    "\n",
    "max_acc = 0\n",
    "for solver in solver_ls:\n",
    "    model = LogisticRegression(random_state=0, max_iter=10000, n_jobs=-1, solver = solver).fit(X_train, y_train)\n",
    "    y_predicted = model.predict(X_validation)\n",
    "    \n",
    "    # Get performance metrics\n",
    "    accuracy = accuracy_score(y_validation, y_predicted)\n",
    "    recall = recall_score(y_validation, y_predicted,  average='binary')\n",
    "    precision = precision_score(y_validation, y_predicted, average='binary')\n",
    "    f1 = f1_score(y_validation, y_predicted, average='binary')\n",
    "\n",
    "    if accuracy > max_acc:\n",
    "        max_acc = accuracy\n",
    "        best_solver = solver \n",
    "        print(\"Solver =\", solver)\n",
    "\n",
    "\n",
    "print(f\"Best Accuracy was {max_acc}, obtained with the solver {best_solver}\")"
   ]
  },
  {
   "cell_type": "code",
   "execution_count": null,
   "id": "9062da82-4485-4ece-bcba-7c6e917aaa4e",
   "metadata": {},
   "outputs": [],
   "source": []
  },
  {
   "cell_type": "markdown",
   "id": "7ab413bf-d8a7-4e3f-ad62-e3b68c0dd555",
   "metadata": {},
   "source": [
    "## Run on the test set and use training and validation sets for training"
   ]
  },
  {
   "cell_type": "code",
   "execution_count": 4,
   "id": "7c24224a-e60a-4de5-868f-690544257b24",
   "metadata": {},
   "outputs": [
    {
     "name": "stdout",
     "output_type": "stream",
     "text": [
      "accuracy = 0.68\n",
      "precision = 0.6896551724137931\n",
      "recall = 0.9230769230769231\n",
      "f1 = 0.7894736842105263\n",
      "\n",
      "\n",
      "Self calculated metrics\n",
      "accuracy= 0.68\n",
      "precision = 0.6896551724137931\n",
      "recall = 0.9230769230769231\n",
      "F1 = 0.7894736842105263\n"
     ]
    }
   ],
   "source": [
    "X_train = np.concatenate((X_train, X_validation))\n",
    "y_train = np.concatenate((y_train, y_validation))\n",
    "model = LogisticRegression(random_state=0, max_iter=10000, n_jobs=-1, solver = best_solver).fit(X_train, y_train)\n",
    "y_predicted = model.predict(X_test)\n",
    "\n",
    "# Get performance metrics\n",
    "accuracy = accuracy_score(y_test, y_predicted)\n",
    "recall = recall_score(y_test, y_predicted,  average='binary')\n",
    "precision = precision_score(y_test, y_predicted, average='binary')\n",
    "f1 = f1_score(y_test, y_predicted, average='binary')\n",
    "\n",
    "print(\"accuracy =\", accuracy)\n",
    "print(\"precision =\", precision)\n",
    "print(\"recall =\", recall)\n",
    "print(\"f1 =\", f1)\n",
    "\n",
    "tn, fp, fn, tp = confusion_matrix(y_test, y_predicted).ravel()\n",
    "accuracy_val = float(tp+tn)/float(tn+fp+fn+tp)\n",
    "f1_val = 2*tp/(2*tp+fp+fn)\n",
    "sensitivity_val = float(tp)/float(tp+fn)\n",
    "specificity_val = float(tn)/float(tn+fp)\n",
    "precision_val = float(tp)/float(tp+fp)\n",
    "\n",
    "print(\"\\n\\nSelf calculated metrics\")\n",
    "print(\"accuracy=\", accuracy_val)\n",
    "print(\"precision =\", precision_val)\n",
    "print(\"recall =\", sensitivity_val)\n",
    "print(\"F1 =\", f1_val)"
   ]
  },
  {
   "cell_type": "code",
   "execution_count": 5,
   "id": "ca7d1620-6d01-468e-a8db-6144537a493b",
   "metadata": {},
   "outputs": [
    {
     "data": {
      "text/plain": [
       "array([[ 8, 27],\n",
       "       [ 5, 60]], dtype=int64)"
      ]
     },
     "execution_count": 5,
     "metadata": {},
     "output_type": "execute_result"
    }
   ],
   "source": [
    "confusion_matrix(y_test, y_predicted)"
   ]
  },
  {
   "cell_type": "code",
   "execution_count": 6,
   "id": "24a6bebd-eb5d-424c-a7b9-b2cfc0973915",
   "metadata": {},
   "outputs": [
    {
     "data": {
      "text/plain": [
       "array([0, 1, 0, 1, 0, 0, 1, 1, 1, 1, 0, 1, 0, 1, 0, 1, 1, 0, 1, 0, 1, 0,\n",
       "       1, 1, 0, 0, 1, 1, 1, 1, 1, 1, 1, 0, 1, 1, 1, 1, 1, 1, 1, 0, 1, 0,\n",
       "       1, 0, 1, 1, 1, 0, 1, 0, 1, 1, 1, 0, 0, 0, 0, 1, 1, 1, 1, 1, 1, 0,\n",
       "       1, 1, 1, 0, 1, 0, 1, 1, 1, 1, 0, 0, 1, 1, 1, 1, 0, 0, 1, 0, 1, 1,\n",
       "       0, 0, 1, 0, 1, 0, 1, 0, 1, 1, 1, 1])"
      ]
     },
     "execution_count": 6,
     "metadata": {},
     "output_type": "execute_result"
    }
   ],
   "source": [
    "y_test"
   ]
  }
 ],
 "metadata": {
  "kernelspec": {
   "display_name": "Python 3 (ipykernel)",
   "language": "python",
   "name": "python3"
  },
  "language_info": {
   "codemirror_mode": {
    "name": "ipython",
    "version": 3
   },
   "file_extension": ".py",
   "mimetype": "text/x-python",
   "name": "python",
   "nbconvert_exporter": "python",
   "pygments_lexer": "ipython3",
   "version": "3.12.0"
  }
 },
 "nbformat": 4,
 "nbformat_minor": 5
}
