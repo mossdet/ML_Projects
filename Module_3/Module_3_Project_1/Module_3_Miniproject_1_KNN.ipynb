{
 "cells": [
  {
   "cell_type": "code",
   "execution_count": 1,
   "id": "02106841-e092-426e-a019-fec867c002e3",
   "metadata": {},
   "outputs": [],
   "source": [
    "import pandas as pd\n",
    "import numpy as np\n",
    "import matplotlib.pyplot as plt\n",
    "import optuna\n",
    "import time\n",
    "from sklearn.neighbors import KNeighborsClassifier\n",
    "from sklearn.metrics import confusion_matrix\n",
    "from credit_g_dataset import get_preprocessed_credit_g_dataset\n",
    "\n",
    "pd.set_option(\"display.max_columns\", None)\n",
    "pd.set_option(\"display.max_rows\", 6)"
   ]
  },
  {
   "cell_type": "code",
   "execution_count": null,
   "id": "d9fc83b8-221c-4c16-8551-8dec8e2b5ec5",
   "metadata": {},
   "outputs": [],
   "source": []
  },
  {
   "cell_type": "markdown",
   "id": "bbfca0a4-7746-4759-81e2-058cc72c7c7c",
   "metadata": {},
   "source": [
    "# Load and pre-process version 1 of the dataset credit-g"
   ]
  },
  {
   "cell_type": "code",
   "execution_count": 2,
   "id": "208f1200-68da-4774-96a5-39ac25353c6f",
   "metadata": {},
   "outputs": [],
   "source": [
    "%%capture\n",
    "X_train, X_validation, X_test, y_train, y_validation, y_test = get_preprocessed_credit_g_dataset()"
   ]
  },
  {
   "cell_type": "markdown",
   "id": "e6018b1c-685a-434e-8ec7-bfdba0e8f2dd",
   "metadata": {},
   "source": [
    "## Train the model using the training set and adjust hyperparameters with Optuna using the validation set"
   ]
  },
  {
   "cell_type": "code",
   "execution_count": 3,
   "id": "d462d542-bc53-4c5a-a605-067273925110",
   "metadata": {},
   "outputs": [],
   "source": [
    "def objective(trial):\n",
    "    params = {\n",
    "    \"n_neighbors\": trial.suggest_int(\"n_neighbors\", 10, 250, step = 10),\n",
    "    \"weights\": trial.suggest_categorical(\"weights\", [\"uniform\", \"distance\"]),\n",
    "    \"algorithm\": trial.suggest_categorical(\"algorithm\", [\"ball_tree\", \"kd_tree\", \"brute\"]),\n",
    "    \"metric\": trial.suggest_categorical(\"metric\", [\"cityblock\", \"euclidean\", \"l1\", \"l2\", \"manhattan\"]),\n",
    "    \"n_jobs\": -1,\n",
    "    }\n",
    "    \n",
    "    model = KNeighborsClassifier(**params).fit(X_train, y_train)\n",
    "\n",
    "    y_predicted = model.predict(X_validation)   \n",
    "    (tn, fp, fn, tp) = confusion_matrix(y_validation, y_predicted).ravel()\n",
    "    f1_val = (2*tp)/(2*tp+fp+fn)\n",
    "    \n",
    "    return f1_val"
   ]
  },
  {
   "cell_type": "code",
   "execution_count": 4,
   "id": "b18fde18-df8e-4043-97dd-7b3298bb0c57",
   "metadata": {},
   "outputs": [
    {
     "name": "stderr",
     "output_type": "stream",
     "text": [
      "[I 2023-12-20 18:19:51,916] A new study created in memory with name: no-name-9812fde2-cb1f-48d0-802e-b159b16e4e02\n",
      "[I 2023-12-20 18:19:51,951] Trial 0 finished with value: 0.8183807439824945 and parameters: {'n_neighbors': 250, 'weights': 'distance', 'algorithm': 'ball_tree', 'metric': 'manhattan'}. Best is trial 0 with value: 0.8183807439824945.\n",
      "[I 2023-12-20 18:19:52,080] Trial 1 finished with value: 0.8272727272727273 and parameters: {'n_neighbors': 40, 'weights': 'distance', 'algorithm': 'brute', 'metric': 'cityblock'}. Best is trial 1 with value: 0.8272727272727273.\n",
      "[I 2023-12-20 18:19:52,115] Trial 2 finished with value: 0.8288288288288288 and parameters: {'n_neighbors': 50, 'weights': 'uniform', 'algorithm': 'ball_tree', 'metric': 'l2'}. Best is trial 2 with value: 0.8288288288288288.\n",
      "[I 2023-12-20 18:19:52,154] Trial 3 finished with value: 0.8423529411764706 and parameters: {'n_neighbors': 20, 'weights': 'uniform', 'algorithm': 'kd_tree', 'metric': 'manhattan'}. Best is trial 3 with value: 0.8423529411764706.\n",
      "[I 2023-12-20 18:19:52,168] Trial 4 finished with value: 0.8373205741626795 and parameters: {'n_neighbors': 10, 'weights': 'distance', 'algorithm': 'brute', 'metric': 'l1'}. Best is trial 3 with value: 0.8423529411764706.\n",
      "[I 2023-12-20 18:19:52,194] Trial 5 finished with value: 0.8183807439824945 and parameters: {'n_neighbors': 220, 'weights': 'distance', 'algorithm': 'ball_tree', 'metric': 'cityblock'}. Best is trial 3 with value: 0.8423529411764706.\n",
      "[I 2023-12-20 18:19:52,222] Trial 6 finished with value: 0.8183807439824945 and parameters: {'n_neighbors': 220, 'weights': 'distance', 'algorithm': 'ball_tree', 'metric': 'euclidean'}. Best is trial 3 with value: 0.8423529411764706.\n",
      "[I 2023-12-20 18:19:52,258] Trial 7 finished with value: 0.8480392156862745 and parameters: {'n_neighbors': 10, 'weights': 'uniform', 'algorithm': 'kd_tree', 'metric': 'cityblock'}. Best is trial 7 with value: 0.8480392156862745.\n",
      "[I 2023-12-20 18:19:52,282] Trial 8 finished with value: 0.8457943925233645 and parameters: {'n_neighbors': 20, 'weights': 'distance', 'algorithm': 'ball_tree', 'metric': 'l1'}. Best is trial 7 with value: 0.8480392156862745.\n",
      "[I 2023-12-20 18:19:52,317] Trial 9 finished with value: 0.8201754385964912 and parameters: {'n_neighbors': 110, 'weights': 'uniform', 'algorithm': 'kd_tree', 'metric': 'cityblock'}. Best is trial 7 with value: 0.8480392156862745.\n",
      "[I 2023-12-20 18:19:52,361] Trial 10 finished with value: 0.8183807439824945 and parameters: {'n_neighbors': 120, 'weights': 'uniform', 'algorithm': 'kd_tree', 'metric': 'euclidean'}. Best is trial 7 with value: 0.8480392156862745.\n",
      "[I 2023-12-20 18:19:52,404] Trial 11 finished with value: 0.8219780219780219 and parameters: {'n_neighbors': 80, 'weights': 'uniform', 'algorithm': 'kd_tree', 'metric': 'l1'}. Best is trial 7 with value: 0.8480392156862745.\n",
      "[I 2023-12-20 18:19:52,444] Trial 12 finished with value: 0.8183807439824945 and parameters: {'n_neighbors': 170, 'weights': 'uniform', 'algorithm': 'ball_tree', 'metric': 'l1'}. Best is trial 7 with value: 0.8480392156862745.\n",
      "[I 2023-12-20 18:19:52,478] Trial 13 finished with value: 0.82560706401766 and parameters: {'n_neighbors': 70, 'weights': 'distance', 'algorithm': 'kd_tree', 'metric': 'l2'}. Best is trial 7 with value: 0.8480392156862745.\n",
      "[I 2023-12-20 18:19:52,504] Trial 14 finished with value: 0.8183807439824945 and parameters: {'n_neighbors': 160, 'weights': 'distance', 'algorithm': 'brute', 'metric': 'l1'}. Best is trial 7 with value: 0.8480392156862745.\n",
      "[I 2023-12-20 18:19:52,551] Trial 15 finished with value: 0.8480392156862745 and parameters: {'n_neighbors': 10, 'weights': 'uniform', 'algorithm': 'ball_tree', 'metric': 'cityblock'}. Best is trial 7 with value: 0.8480392156862745.\n",
      "[I 2023-12-20 18:19:52,591] Trial 16 finished with value: 0.8219780219780219 and parameters: {'n_neighbors': 90, 'weights': 'uniform', 'algorithm': 'kd_tree', 'metric': 'cityblock'}. Best is trial 7 with value: 0.8480392156862745.\n",
      "[I 2023-12-20 18:19:52,636] Trial 17 finished with value: 0.8222222222222222 and parameters: {'n_neighbors': 50, 'weights': 'uniform', 'algorithm': 'ball_tree', 'metric': 'cityblock'}. Best is trial 7 with value: 0.8480392156862745.\n",
      "[I 2023-12-20 18:19:52,677] Trial 18 finished with value: 0.8183807439824945 and parameters: {'n_neighbors': 150, 'weights': 'uniform', 'algorithm': 'kd_tree', 'metric': 'cityblock'}. Best is trial 7 with value: 0.8480392156862745.\n",
      "[I 2023-12-20 18:19:52,707] Trial 19 finished with value: 0.8480392156862745 and parameters: {'n_neighbors': 10, 'weights': 'uniform', 'algorithm': 'brute', 'metric': 'cityblock'}. Best is trial 7 with value: 0.8480392156862745.\n",
      "[I 2023-12-20 18:19:52,749] Trial 20 finished with value: 0.8211009174311926 and parameters: {'n_neighbors': 40, 'weights': 'uniform', 'algorithm': 'kd_tree', 'metric': 'cityblock'}. Best is trial 7 with value: 0.8480392156862745.\n",
      "[I 2023-12-20 18:19:52,778] Trial 21 finished with value: 0.8480392156862745 and parameters: {'n_neighbors': 10, 'weights': 'uniform', 'algorithm': 'brute', 'metric': 'cityblock'}. Best is trial 7 with value: 0.8480392156862745.\n",
      "[I 2023-12-20 18:19:52,808] Trial 22 finished with value: 0.8240534521158129 and parameters: {'n_neighbors': 60, 'weights': 'uniform', 'algorithm': 'brute', 'metric': 'cityblock'}. Best is trial 7 with value: 0.8480392156862745.\n",
      "[I 2023-12-20 18:19:52,837] Trial 23 finished with value: 0.8287037037037037 and parameters: {'n_neighbors': 30, 'weights': 'uniform', 'algorithm': 'brute', 'metric': 'cityblock'}. Best is trial 7 with value: 0.8480392156862745.\n",
      "[I 2023-12-20 18:19:52,867] Trial 24 finished with value: 0.8201754385964912 and parameters: {'n_neighbors': 100, 'weights': 'uniform', 'algorithm': 'brute', 'metric': 'cityblock'}. Best is trial 7 with value: 0.8480392156862745.\n",
      "[I 2023-12-20 18:19:52,895] Trial 25 finished with value: 0.8480392156862745 and parameters: {'n_neighbors': 10, 'weights': 'uniform', 'algorithm': 'brute', 'metric': 'manhattan'}. Best is trial 7 with value: 0.8480392156862745.\n",
      "[I 2023-12-20 18:19:52,936] Trial 26 finished with value: 0.82560706401766 and parameters: {'n_neighbors': 70, 'weights': 'uniform', 'algorithm': 'ball_tree', 'metric': 'euclidean'}. Best is trial 7 with value: 0.8480392156862745.\n",
      "[I 2023-12-20 18:19:52,981] Trial 27 finished with value: 0.8275862068965517 and parameters: {'n_neighbors': 30, 'weights': 'uniform', 'algorithm': 'ball_tree', 'metric': 'l2'}. Best is trial 7 with value: 0.8480392156862745.\n",
      "[I 2023-12-20 18:19:53,025] Trial 28 finished with value: 0.8222222222222222 and parameters: {'n_neighbors': 50, 'weights': 'uniform', 'algorithm': 'kd_tree', 'metric': 'cityblock'}. Best is trial 7 with value: 0.8480392156862745.\n",
      "[I 2023-12-20 18:19:53,058] Trial 29 finished with value: 0.8183807439824945 and parameters: {'n_neighbors': 190, 'weights': 'uniform', 'algorithm': 'brute', 'metric': 'manhattan'}. Best is trial 7 with value: 0.8480392156862745.\n",
      "[I 2023-12-20 18:19:53,100] Trial 30 finished with value: 0.8183807439824945 and parameters: {'n_neighbors': 130, 'weights': 'uniform', 'algorithm': 'ball_tree', 'metric': 'cityblock'}. Best is trial 7 with value: 0.8480392156862745.\n",
      "[I 2023-12-20 18:19:53,128] Trial 31 finished with value: 0.8480392156862745 and parameters: {'n_neighbors': 10, 'weights': 'uniform', 'algorithm': 'brute', 'metric': 'cityblock'}. Best is trial 7 with value: 0.8480392156862745.\n",
      "[I 2023-12-20 18:19:53,158] Trial 32 finished with value: 0.8287037037037037 and parameters: {'n_neighbors': 30, 'weights': 'uniform', 'algorithm': 'brute', 'metric': 'cityblock'}. Best is trial 7 with value: 0.8480392156862745.\n",
      "[I 2023-12-20 18:19:53,187] Trial 33 finished with value: 0.8480392156862745 and parameters: {'n_neighbors': 10, 'weights': 'uniform', 'algorithm': 'brute', 'metric': 'cityblock'}. Best is trial 7 with value: 0.8480392156862745.\n",
      "[I 2023-12-20 18:19:53,217] Trial 34 finished with value: 0.8211009174311926 and parameters: {'n_neighbors': 40, 'weights': 'uniform', 'algorithm': 'brute', 'metric': 'cityblock'}. Best is trial 7 with value: 0.8480392156862745.\n",
      "[I 2023-12-20 18:19:53,245] Trial 35 finished with value: 0.8337236533957846 and parameters: {'n_neighbors': 20, 'weights': 'uniform', 'algorithm': 'brute', 'metric': 'l2'}. Best is trial 7 with value: 0.8480392156862745.\n",
      "[I 2023-12-20 18:19:53,276] Trial 36 finished with value: 0.8240534521158129 and parameters: {'n_neighbors': 60, 'weights': 'uniform', 'algorithm': 'brute', 'metric': 'manhattan'}. Best is trial 7 with value: 0.8480392156862745.\n",
      "[I 2023-12-20 18:19:53,311] Trial 37 finished with value: 0.8183807439824945 and parameters: {'n_neighbors': 250, 'weights': 'distance', 'algorithm': 'ball_tree', 'metric': 'cityblock'}. Best is trial 7 with value: 0.8480392156862745.\n",
      "[I 2023-12-20 18:19:53,356] Trial 38 finished with value: 0.8275862068965517 and parameters: {'n_neighbors': 30, 'weights': 'uniform', 'algorithm': 'kd_tree', 'metric': 'euclidean'}. Best is trial 7 with value: 0.8480392156862745.\n",
      "[I 2023-12-20 18:19:53,390] Trial 39 finished with value: 0.8373205741626795 and parameters: {'n_neighbors': 10, 'weights': 'distance', 'algorithm': 'ball_tree', 'metric': 'cityblock'}. Best is trial 7 with value: 0.8480392156862745.\n",
      "[I 2023-12-20 18:19:53,418] Trial 40 finished with value: 0.8211009174311926 and parameters: {'n_neighbors': 40, 'weights': 'uniform', 'algorithm': 'brute', 'metric': 'cityblock'}. Best is trial 7 with value: 0.8480392156862745.\n",
      "[I 2023-12-20 18:19:53,447] Trial 41 finished with value: 0.8480392156862745 and parameters: {'n_neighbors': 10, 'weights': 'uniform', 'algorithm': 'brute', 'metric': 'manhattan'}. Best is trial 7 with value: 0.8480392156862745.\n",
      "[I 2023-12-20 18:19:53,476] Trial 42 finished with value: 0.8423529411764706 and parameters: {'n_neighbors': 20, 'weights': 'uniform', 'algorithm': 'brute', 'metric': 'manhattan'}. Best is trial 7 with value: 0.8480392156862745.\n",
      "[I 2023-12-20 18:19:53,506] Trial 43 finished with value: 0.8423529411764706 and parameters: {'n_neighbors': 20, 'weights': 'uniform', 'algorithm': 'brute', 'metric': 'manhattan'}. Best is trial 7 with value: 0.8480392156862745.\n",
      "[I 2023-12-20 18:19:53,536] Trial 44 finished with value: 0.8288288288288288 and parameters: {'n_neighbors': 50, 'weights': 'uniform', 'algorithm': 'brute', 'metric': 'l2'}. Best is trial 7 with value: 0.8480392156862745.\n",
      "[I 2023-12-20 18:19:53,580] Trial 45 finished with value: 0.8480392156862745 and parameters: {'n_neighbors': 10, 'weights': 'uniform', 'algorithm': 'kd_tree', 'metric': 'manhattan'}. Best is trial 7 with value: 0.8480392156862745.\n",
      "[I 2023-12-20 18:19:53,612] Trial 46 finished with value: 0.8302752293577982 and parameters: {'n_neighbors': 30, 'weights': 'distance', 'algorithm': 'ball_tree', 'metric': 'manhattan'}. Best is trial 7 with value: 0.8480392156862745.\n",
      "[I 2023-12-20 18:19:53,640] Trial 47 finished with value: 0.8423529411764706 and parameters: {'n_neighbors': 20, 'weights': 'uniform', 'algorithm': 'brute', 'metric': 'l1'}. Best is trial 7 with value: 0.8480392156862745.\n",
      "[I 2023-12-20 18:19:53,682] Trial 48 finished with value: 0.82560706401766 and parameters: {'n_neighbors': 70, 'weights': 'uniform', 'algorithm': 'kd_tree', 'metric': 'euclidean'}. Best is trial 7 with value: 0.8480392156862745.\n",
      "[I 2023-12-20 18:19:53,725] Trial 49 finished with value: 0.8211009174311926 and parameters: {'n_neighbors': 40, 'weights': 'uniform', 'algorithm': 'ball_tree', 'metric': 'cityblock'}. Best is trial 7 with value: 0.8480392156862745.\n",
      "[I 2023-12-20 18:19:53,746] Trial 50 finished with value: 0.8258928571428571 and parameters: {'n_neighbors': 60, 'weights': 'distance', 'algorithm': 'brute', 'metric': 'cityblock'}. Best is trial 7 with value: 0.8480392156862745.\n",
      "[I 2023-12-20 18:19:53,776] Trial 51 finished with value: 0.8480392156862745 and parameters: {'n_neighbors': 10, 'weights': 'uniform', 'algorithm': 'brute', 'metric': 'cityblock'}. Best is trial 7 with value: 0.8480392156862745.\n",
      "[I 2023-12-20 18:19:53,806] Trial 52 finished with value: 0.8480392156862745 and parameters: {'n_neighbors': 10, 'weights': 'uniform', 'algorithm': 'brute', 'metric': 'cityblock'}. Best is trial 7 with value: 0.8480392156862745.\n",
      "[I 2023-12-20 18:19:53,835] Trial 53 finished with value: 0.8423529411764706 and parameters: {'n_neighbors': 20, 'weights': 'uniform', 'algorithm': 'brute', 'metric': 'cityblock'}. Best is trial 7 with value: 0.8480392156862745.\n",
      "[I 2023-12-20 18:19:53,865] Trial 54 finished with value: 0.8287037037037037 and parameters: {'n_neighbors': 30, 'weights': 'uniform', 'algorithm': 'brute', 'metric': 'cityblock'}. Best is trial 7 with value: 0.8480392156862745.\n",
      "[I 2023-12-20 18:19:53,911] Trial 55 finished with value: 0.8480392156862745 and parameters: {'n_neighbors': 10, 'weights': 'uniform', 'algorithm': 'kd_tree', 'metric': 'l1'}. Best is trial 7 with value: 0.8480392156862745.\n",
      "[I 2023-12-20 18:19:53,941] Trial 56 finished with value: 0.8211009174311926 and parameters: {'n_neighbors': 40, 'weights': 'uniform', 'algorithm': 'brute', 'metric': 'cityblock'}. Best is trial 7 with value: 0.8480392156862745.\n",
      "[I 2023-12-20 18:19:53,985] Trial 57 finished with value: 0.8423529411764706 and parameters: {'n_neighbors': 20, 'weights': 'uniform', 'algorithm': 'kd_tree', 'metric': 'cityblock'}. Best is trial 7 with value: 0.8480392156862745.\n",
      "[I 2023-12-20 18:19:54,028] Trial 58 finished with value: 0.8222222222222222 and parameters: {'n_neighbors': 50, 'weights': 'uniform', 'algorithm': 'ball_tree', 'metric': 'cityblock'}. Best is trial 7 with value: 0.8480392156862745.\n",
      "[I 2023-12-20 18:19:54,063] Trial 59 finished with value: 0.8183807439824945 and parameters: {'n_neighbors': 200, 'weights': 'uniform', 'algorithm': 'brute', 'metric': 'l2'}. Best is trial 7 with value: 0.8480392156862745.\n",
      "[I 2023-12-20 18:19:54,098] Trial 60 finished with value: 0.8183807439824945 and parameters: {'n_neighbors': 130, 'weights': 'uniform', 'algorithm': 'brute', 'metric': 'euclidean'}. Best is trial 7 with value: 0.8480392156862745.\n",
      "[I 2023-12-20 18:19:54,128] Trial 61 finished with value: 0.8423529411764706 and parameters: {'n_neighbors': 20, 'weights': 'uniform', 'algorithm': 'brute', 'metric': 'cityblock'}. Best is trial 7 with value: 0.8480392156862745.\n",
      "[I 2023-12-20 18:19:54,157] Trial 62 finished with value: 0.8480392156862745 and parameters: {'n_neighbors': 10, 'weights': 'uniform', 'algorithm': 'brute', 'metric': 'cityblock'}. Best is trial 7 with value: 0.8480392156862745.\n",
      "[I 2023-12-20 18:19:54,187] Trial 63 finished with value: 0.8480392156862745 and parameters: {'n_neighbors': 10, 'weights': 'uniform', 'algorithm': 'brute', 'metric': 'cityblock'}. Best is trial 7 with value: 0.8480392156862745.\n",
      "[I 2023-12-20 18:19:54,217] Trial 64 finished with value: 0.8287037037037037 and parameters: {'n_neighbors': 30, 'weights': 'uniform', 'algorithm': 'brute', 'metric': 'cityblock'}. Best is trial 7 with value: 0.8480392156862745.\n",
      "[I 2023-12-20 18:19:54,245] Trial 65 finished with value: 0.8423529411764706 and parameters: {'n_neighbors': 20, 'weights': 'uniform', 'algorithm': 'brute', 'metric': 'cityblock'}. Best is trial 7 with value: 0.8480392156862745.\n",
      "[I 2023-12-20 18:19:54,280] Trial 66 finished with value: 0.8302752293577982 and parameters: {'n_neighbors': 30, 'weights': 'distance', 'algorithm': 'kd_tree', 'metric': 'cityblock'}. Best is trial 7 with value: 0.8480392156862745.\n",
      "[I 2023-12-20 18:19:54,323] Trial 67 finished with value: 0.8211009174311926 and parameters: {'n_neighbors': 40, 'weights': 'uniform', 'algorithm': 'ball_tree', 'metric': 'manhattan'}. Best is trial 7 with value: 0.8480392156862745.\n",
      "[I 2023-12-20 18:19:54,358] Trial 68 finished with value: 0.8183807439824945 and parameters: {'n_neighbors': 230, 'weights': 'uniform', 'algorithm': 'brute', 'metric': 'cityblock'}. Best is trial 7 with value: 0.8480392156862745.\n",
      "[I 2023-12-20 18:19:54,389] Trial 69 finished with value: 0.8240534521158129 and parameters: {'n_neighbors': 60, 'weights': 'uniform', 'algorithm': 'brute', 'metric': 'cityblock'}. Best is trial 7 with value: 0.8480392156862745.\n",
      "[I 2023-12-20 18:19:54,431] Trial 70 finished with value: 0.8201754385964912 and parameters: {'n_neighbors': 100, 'weights': 'uniform', 'algorithm': 'ball_tree', 'metric': 'l1'}. Best is trial 7 with value: 0.8480392156862745.\n",
      "[I 2023-12-20 18:19:54,461] Trial 71 finished with value: 0.8480392156862745 and parameters: {'n_neighbors': 10, 'weights': 'uniform', 'algorithm': 'brute', 'metric': 'manhattan'}. Best is trial 7 with value: 0.8480392156862745.\n",
      "[I 2023-12-20 18:19:54,494] Trial 72 finished with value: 0.8423529411764706 and parameters: {'n_neighbors': 20, 'weights': 'uniform', 'algorithm': 'brute', 'metric': 'manhattan'}. Best is trial 7 with value: 0.8480392156862745.\n",
      "[I 2023-12-20 18:19:54,524] Trial 73 finished with value: 0.8480392156862745 and parameters: {'n_neighbors': 10, 'weights': 'uniform', 'algorithm': 'brute', 'metric': 'manhattan'}. Best is trial 7 with value: 0.8480392156862745.\n",
      "[I 2023-12-20 18:19:54,556] Trial 74 finished with value: 0.8287037037037037 and parameters: {'n_neighbors': 30, 'weights': 'uniform', 'algorithm': 'brute', 'metric': 'manhattan'}. Best is trial 7 with value: 0.8480392156862745.\n",
      "[I 2023-12-20 18:19:54,585] Trial 75 finished with value: 0.8480392156862745 and parameters: {'n_neighbors': 10, 'weights': 'uniform', 'algorithm': 'brute', 'metric': 'manhattan'}. Best is trial 7 with value: 0.8480392156862745.\n",
      "[I 2023-12-20 18:19:54,631] Trial 76 finished with value: 0.8211009174311926 and parameters: {'n_neighbors': 40, 'weights': 'uniform', 'algorithm': 'kd_tree', 'metric': 'cityblock'}. Best is trial 7 with value: 0.8480392156862745.\n",
      "[I 2023-12-20 18:19:54,654] Trial 77 finished with value: 0.8269662921348314 and parameters: {'n_neighbors': 50, 'weights': 'distance', 'algorithm': 'brute', 'metric': 'l2'}. Best is trial 7 with value: 0.8480392156862745.\n",
      "[I 2023-12-20 18:19:54,685] Trial 78 finished with value: 0.8423529411764706 and parameters: {'n_neighbors': 20, 'weights': 'uniform', 'algorithm': 'brute', 'metric': 'manhattan'}. Best is trial 7 with value: 0.8480392156862745.\n",
      "[I 2023-12-20 18:19:54,733] Trial 79 finished with value: 0.8219780219780219 and parameters: {'n_neighbors': 80, 'weights': 'uniform', 'algorithm': 'ball_tree', 'metric': 'euclidean'}. Best is trial 7 with value: 0.8480392156862745.\n",
      "[I 2023-12-20 18:19:54,778] Trial 80 finished with value: 0.8480392156862745 and parameters: {'n_neighbors': 10, 'weights': 'uniform', 'algorithm': 'kd_tree', 'metric': 'cityblock'}. Best is trial 7 with value: 0.8480392156862745.\n",
      "[I 2023-12-20 18:19:54,825] Trial 81 finished with value: 0.8480392156862745 and parameters: {'n_neighbors': 10, 'weights': 'uniform', 'algorithm': 'kd_tree', 'metric': 'manhattan'}. Best is trial 7 with value: 0.8480392156862745.\n",
      "[I 2023-12-20 18:19:54,870] Trial 82 finished with value: 0.8423529411764706 and parameters: {'n_neighbors': 20, 'weights': 'uniform', 'algorithm': 'kd_tree', 'metric': 'manhattan'}. Best is trial 7 with value: 0.8480392156862745.\n",
      "[I 2023-12-20 18:19:54,917] Trial 83 finished with value: 0.8287037037037037 and parameters: {'n_neighbors': 30, 'weights': 'uniform', 'algorithm': 'kd_tree', 'metric': 'manhattan'}. Best is trial 7 with value: 0.8480392156862745.\n",
      "[I 2023-12-20 18:19:54,963] Trial 84 finished with value: 0.8480392156862745 and parameters: {'n_neighbors': 10, 'weights': 'uniform', 'algorithm': 'kd_tree', 'metric': 'manhattan'}. Best is trial 7 with value: 0.8480392156862745.\n",
      "[I 2023-12-20 18:19:55,009] Trial 85 finished with value: 0.8423529411764706 and parameters: {'n_neighbors': 20, 'weights': 'uniform', 'algorithm': 'kd_tree', 'metric': 'cityblock'}. Best is trial 7 with value: 0.8480392156862745.\n",
      "[I 2023-12-20 18:19:55,044] Trial 86 finished with value: 0.8183807439824945 and parameters: {'n_neighbors': 140, 'weights': 'uniform', 'algorithm': 'brute', 'metric': 'manhattan'}. Best is trial 7 with value: 0.8480392156862745.\n",
      "[I 2023-12-20 18:19:55,074] Trial 87 finished with value: 0.8423529411764706 and parameters: {'n_neighbors': 20, 'weights': 'uniform', 'algorithm': 'brute', 'metric': 'cityblock'}. Best is trial 7 with value: 0.8480392156862745.\n",
      "[I 2023-12-20 18:19:55,112] Trial 88 finished with value: 0.8183807439824945 and parameters: {'n_neighbors': 170, 'weights': 'distance', 'algorithm': 'ball_tree', 'metric': 'l1'}. Best is trial 7 with value: 0.8480392156862745.\n",
      "[I 2023-12-20 18:19:55,143] Trial 89 finished with value: 0.8287037037037037 and parameters: {'n_neighbors': 30, 'weights': 'uniform', 'algorithm': 'brute', 'metric': 'cityblock'}. Best is trial 7 with value: 0.8480392156862745.\n",
      "[I 2023-12-20 18:19:55,186] Trial 90 finished with value: 0.8211009174311926 and parameters: {'n_neighbors': 40, 'weights': 'uniform', 'algorithm': 'kd_tree', 'metric': 'cityblock'}. Best is trial 7 with value: 0.8480392156862745.\n",
      "[I 2023-12-20 18:19:55,216] Trial 91 finished with value: 0.8480392156862745 and parameters: {'n_neighbors': 10, 'weights': 'uniform', 'algorithm': 'brute', 'metric': 'cityblock'}. Best is trial 7 with value: 0.8480392156862745.\n",
      "[I 2023-12-20 18:19:55,247] Trial 92 finished with value: 0.8480392156862745 and parameters: {'n_neighbors': 10, 'weights': 'uniform', 'algorithm': 'brute', 'metric': 'cityblock'}. Best is trial 7 with value: 0.8480392156862745.\n",
      "[I 2023-12-20 18:19:55,277] Trial 93 finished with value: 0.8423529411764706 and parameters: {'n_neighbors': 20, 'weights': 'uniform', 'algorithm': 'brute', 'metric': 'cityblock'}. Best is trial 7 with value: 0.8480392156862745.\n",
      "[I 2023-12-20 18:19:55,308] Trial 94 finished with value: 0.8287037037037037 and parameters: {'n_neighbors': 30, 'weights': 'uniform', 'algorithm': 'brute', 'metric': 'cityblock'}. Best is trial 7 with value: 0.8480392156862745.\n",
      "[I 2023-12-20 18:19:55,338] Trial 95 finished with value: 0.8480392156862745 and parameters: {'n_neighbors': 10, 'weights': 'uniform', 'algorithm': 'brute', 'metric': 'cityblock'}. Best is trial 7 with value: 0.8480392156862745.\n",
      "[I 2023-12-20 18:19:55,369] Trial 96 finished with value: 0.8369829683698297 and parameters: {'n_neighbors': 10, 'weights': 'uniform', 'algorithm': 'brute', 'metric': 'l2'}. Best is trial 7 with value: 0.8480392156862745.\n",
      "[I 2023-12-20 18:19:55,401] Trial 97 finished with value: 0.8287037037037037 and parameters: {'n_neighbors': 30, 'weights': 'uniform', 'algorithm': 'brute', 'metric': 'manhattan'}. Best is trial 7 with value: 0.8480392156862745.\n",
      "[I 2023-12-20 18:19:55,449] Trial 98 finished with value: 0.8423529411764706 and parameters: {'n_neighbors': 20, 'weights': 'uniform', 'algorithm': 'ball_tree', 'metric': 'cityblock'}. Best is trial 7 with value: 0.8480392156862745.\n",
      "[I 2023-12-20 18:19:55,481] Trial 99 finished with value: 0.8369829683698297 and parameters: {'n_neighbors': 10, 'weights': 'uniform', 'algorithm': 'brute', 'metric': 'euclidean'}. Best is trial 7 with value: 0.8480392156862745.\n"
     ]
    },
    {
     "name": "stdout",
     "output_type": "stream",
     "text": [
      "total_time=3.567026376724243\n",
      "{'n_neighbors': 10, 'weights': 'uniform', 'algorithm': 'kd_tree', 'metric': 'cityblock'}\n",
      "0.8480392156862745\n"
     ]
    }
   ],
   "source": [
    "start_time = time.time()\n",
    "\n",
    "study = optuna.create_study(direction = \"maximize\")\n",
    "study.optimize(objective, n_trials=100)\n",
    "\n",
    "total_time = time.time()-start_time\n",
    "print(f\"total_time={total_time}\")\n",
    "print(study.best_params)\n",
    "print(study.best_value)"
   ]
  },
  {
   "cell_type": "code",
   "execution_count": 5,
   "id": "e6b15637-7dae-4dc4-8059-d6a4a518016f",
   "metadata": {},
   "outputs": [],
   "source": [
    "random_state = 50\n",
    "best_n_neighbors = study.best_params[\"n_neighbors\"]\n",
    "best_weights = study.best_params[\"weights\"]\n",
    "best_algorithm = study.best_params[\"algorithm\"]\n",
    "best_metric = study.best_params[\"metric\"]"
   ]
  },
  {
   "cell_type": "code",
   "execution_count": 6,
   "id": "176c2318-dfcd-410c-8f75-9097b4593419",
   "metadata": {},
   "outputs": [],
   "source": [
    "model = KNeighborsClassifier(n_neighbors=best_n_neighbors, weights=best_weights, algorithm=best_algorithm, metric=best_metric)"
   ]
  },
  {
   "cell_type": "markdown",
   "id": "a58dc617-d9a8-4972-8f05-da22b20ef3cb",
   "metadata": {},
   "source": [
    "## Run on the test set and use training and validation sets for training"
   ]
  },
  {
   "cell_type": "code",
   "execution_count": 7,
   "id": "0b334d60-a613-4ea0-86b9-e0e7c0304e43",
   "metadata": {},
   "outputs": [
    {
     "name": "stdout",
     "output_type": "stream",
     "text": [
      "0.71\n",
      "\n",
      "\n",
      "Test set precision_val = 0.8026315789473685\n",
      "Test set recall_val = 0.8133333333333334\n",
      "Test set specificity = 0.4\n",
      "Test set mcc_val = 0.21629522817435004\n",
      "Test set accuracy_val = 0.71\n",
      "Test set f1_val = 0.8079470198675497\n"
     ]
    }
   ],
   "source": [
    "X_train_valid = np.concatenate((X_train, X_validation))\n",
    "y_train_valid = np.concatenate((y_train, y_validation))\n",
    "\n",
    "model.fit(X_train_valid, y_train_valid)\n",
    "print(model.score(X_test, y_test))\n",
    "y_predicted = model.predict(X_test)\n",
    "\n",
    "(tn, fp, fn, tp) = confusion_matrix(y_test, y_predicted).ravel()\n",
    "precision_val = float(tp)/float(tp+fp)\n",
    "recall_val = float(tp)/float(tp+fn)\n",
    "specificity_val = float(tn)/float(tn+fp)\n",
    "accuracy_val = float(tp+tn)/float(tn+fp+fn+tp)\n",
    "f1_val = (2*tp)/(2*tp+fp+fn)\n",
    "mcc_val = float((tp*tn)-(fp*fn))/np.sqrt((tp+fp)*(tp+fn)*(tn+fp)*(tn+fn))\n",
    "\n",
    "\n",
    "print(\"\\n\")\n",
    "print(\"Test set precision_val =\", precision_val)\n",
    "print(\"Test set recall_val =\", recall_val)\n",
    "print(\"Test set specificity =\", specificity_val)\n",
    "print(\"Test set mcc_val =\", mcc_val)\n",
    "print(\"Test set accuracy_val =\", accuracy_val)\n",
    "print(\"Test set f1_val =\", f1_val)"
   ]
  },
  {
   "cell_type": "code",
   "execution_count": 8,
   "id": "80be951b-009e-48c9-bbbf-4dcfb15ae445",
   "metadata": {},
   "outputs": [
    {
     "data": {
      "text/plain": [
       "array([[10, 15],\n",
       "       [14, 61]], dtype=int64)"
      ]
     },
     "execution_count": 8,
     "metadata": {},
     "output_type": "execute_result"
    }
   ],
   "source": [
    "confusion_matrix(y_test, y_predicted)"
   ]
  },
  {
   "cell_type": "code",
   "execution_count": 9,
   "id": "ca7d1620-6d01-468e-a8db-6144537a493b",
   "metadata": {},
   "outputs": [
    {
     "data": {
      "text/plain": [
       "array([1, 1, 1, 1, 1, 1, 1, 1, 1, 0, 0, 0, 1, 1, 0, 1, 1, 0, 1, 1, 1, 1,\n",
       "       1, 1, 1, 0, 1, 1, 1, 0, 1, 1, 0, 0, 1, 0, 1, 1, 0, 1, 0, 1, 1, 1,\n",
       "       1, 0, 0, 1, 1, 1, 0, 0, 1, 1, 0, 1, 1, 1, 1, 1, 0, 1, 1, 1, 1, 1,\n",
       "       1, 0, 0, 1, 1, 1, 1, 1, 1, 0, 1, 0, 0, 1, 1, 1, 1, 1, 1, 1, 0, 1,\n",
       "       1, 1, 1, 1, 1, 1, 1, 0, 1, 1, 1, 1])"
      ]
     },
     "execution_count": 9,
     "metadata": {},
     "output_type": "execute_result"
    }
   ],
   "source": [
    "y_test"
   ]
  },
  {
   "cell_type": "code",
   "execution_count": null,
   "id": "24a6bebd-eb5d-424c-a7b9-b2cfc0973915",
   "metadata": {},
   "outputs": [],
   "source": []
  }
 ],
 "metadata": {
  "kernelspec": {
   "display_name": "Python 3 (ipykernel)",
   "language": "python",
   "name": "python3"
  },
  "language_info": {
   "codemirror_mode": {
    "name": "ipython",
    "version": 3
   },
   "file_extension": ".py",
   "mimetype": "text/x-python",
   "name": "python",
   "nbconvert_exporter": "python",
   "pygments_lexer": "ipython3",
   "version": "3.12.0"
  }
 },
 "nbformat": 4,
 "nbformat_minor": 5
}
