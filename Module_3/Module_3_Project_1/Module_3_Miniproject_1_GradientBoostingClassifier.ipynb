{
 "cells": [
  {
   "cell_type": "markdown",
   "id": "e3c45248-c67b-4981-99b1-2be565305b61",
   "metadata": {},
   "source": [
    "# Classifiy people as good or bad credit risks.\n",
    "Uses the German Credit dataset\n",
    "Dataset Link: https://www.openml.org/search?type=data&sort=runs&id=31&status=active"
   ]
  },
  {
   "cell_type": "code",
   "execution_count": 1,
   "id": "02106841-e092-426e-a019-fec867c002e3",
   "metadata": {},
   "outputs": [],
   "source": [
    "import pandas as pd\n",
    "import numpy as np\n",
    "import matplotlib.pyplot as plt\n",
    "import optuna\n",
    "import time\n",
    "from sklearn.ensemble import GradientBoostingClassifier\n",
    "from sklearn.metrics import confusion_matrix\n",
    "\n",
    "from credit_g_dataset import get_preprocessed_credit_g_dataset\n",
    "\n",
    "pd.set_option(\"display.max_columns\", None)\n",
    "pd.set_option(\"display.max_rows\", 6)"
   ]
  },
  {
   "cell_type": "code",
   "execution_count": null,
   "id": "d9fc83b8-221c-4c16-8551-8dec8e2b5ec5",
   "metadata": {},
   "outputs": [],
   "source": []
  },
  {
   "cell_type": "markdown",
   "id": "bbfca0a4-7746-4759-81e2-058cc72c7c7c",
   "metadata": {},
   "source": [
    "# Load and pre-process version 1 of the dataset credit-g"
   ]
  },
  {
   "cell_type": "code",
   "execution_count": 2,
   "id": "a1711fc4-06bf-48a8-942e-999ade9bac95",
   "metadata": {},
   "outputs": [],
   "source": [
    "%%capture\n",
    "X_train, X_validation, X_test, y_train, y_validation, y_test = get_preprocessed_credit_g_dataset()"
   ]
  },
  {
   "cell_type": "code",
   "execution_count": null,
   "id": "646dc2d1-debf-457c-b1d7-a99dbe5308e1",
   "metadata": {},
   "outputs": [],
   "source": []
  },
  {
   "cell_type": "markdown",
   "id": "e6018b1c-685a-434e-8ec7-bfdba0e8f2dd",
   "metadata": {},
   "source": [
    "## Train the model using the training set and adjust hyperparameters with Optuna using the validation set"
   ]
  },
  {
   "cell_type": "code",
   "execution_count": 3,
   "id": "afe0b9be-4d18-4ac3-a86d-b655ac525b0b",
   "metadata": {},
   "outputs": [],
   "source": [
    "random_state=0"
   ]
  },
  {
   "cell_type": "code",
   "execution_count": 4,
   "id": "1b2b3581-ceb8-4a42-8d58-6ee073e908cc",
   "metadata": {},
   "outputs": [],
   "source": [
    "def objective(trial, X_train, X_validation, y_train, y_validation):\n",
    "    params = {\n",
    "    \"n_estimators\": trial.suggest_int(\"n_estimators\", 100, 5000, step = 100),\n",
    "    \"learning_rate\": trial.suggest_float(\"learning_rate\", 1e-6, 0.1, log = True),\n",
    "    \"max_depth\": trial.suggest_int(\"max_depth\", 1, 10),\n",
    "    \"subsample\": trial.suggest_float(\"subsample\", 0.5, 0.9, step = 0.1),\n",
    "    \"max_features\": trial.suggest_categorical(\"max_features\", [\"sqrt\", \"log2\"]),\n",
    "    \"random_state\": 42,\n",
    "    }\n",
    "    # Perform cross validation\n",
    "    model = GradientBoostingClassifier(**params).fit(X_train, y_train)\n",
    "    \n",
    "    y_predicted = model.predict(X_validation)\n",
    "    (tn, fp, fn, tp) = confusion_matrix(y_validation, y_predicted).ravel()\n",
    "    accuracy_val = float(tp+tn)/float(tn+fp+fn+tp)\n",
    "    \n",
    "    return accuracy_val"
   ]
  },
  {
   "cell_type": "code",
   "execution_count": 5,
   "id": "eb8eb45a-cae7-4fc1-9b6a-0cd2c59e2e37",
   "metadata": {},
   "outputs": [
    {
     "name": "stdout",
     "output_type": "stream",
     "text": [
      "total_time=282.0173234939575\n",
      "{'n_estimators': 300, 'learning_rate': 0.05555078223862909, 'max_depth': 3, 'subsample': 0.7, 'max_features': 'log2'}\n",
      "0.8148148148148148\n"
     ]
    }
   ],
   "source": [
    "start_time = time.time()\n",
    "\n",
    "optuna.logging.set_verbosity(optuna.logging.WARNING)\n",
    "study = optuna.create_study(direction = \"maximize\")\n",
    "func = lambda trial: objective(trial, X_train, X_validation, y_train, y_validation)\n",
    "\n",
    "# Start optimizing with 100 trials\n",
    "study.optimize(func, n_trials = 100)\n",
    "\n",
    "total_time = time.time()-start_time\n",
    "print(f\"total_time={total_time}\")\n",
    "print(study.best_params)\n",
    "print(study.best_value)"
   ]
  },
  {
   "cell_type": "code",
   "execution_count": 6,
   "id": "0a497f91-5aa8-464f-b471-d94a4d04cb4f",
   "metadata": {},
   "outputs": [
    {
     "name": "stdout",
     "output_type": "stream",
     "text": [
      "  Value: 0.8148148148148148\n",
      "Number of finished trials:  100\n",
      "Best trial: 48\n",
      "  Params: \n",
      "    n_estimators: 300\n",
      "    learning_rate: 0.05555078223862909\n",
      "    max_depth: 3\n",
      "    subsample: 0.7\n",
      "    max_features: log2\n"
     ]
    }
   ],
   "source": [
    "best_trial = study.best_trial\n",
    "print(\"  Value: {}\".format(best_trial.value))\n",
    "print(\"Number of finished trials: \", len(study.trials))\n",
    "print(f\"Best trial: {best_trial.number}\")\n",
    "print(\"  Params: \")\n",
    "for key, value in best_trial.params.items():\n",
    "    print(\"    {}: {}\".format(key, value))"
   ]
  },
  {
   "cell_type": "markdown",
   "id": "7ab413bf-d8a7-4e3f-ad62-e3b68c0dd555",
   "metadata": {},
   "source": [
    "## Run on the test set and use training and validation sets for training"
   ]
  },
  {
   "cell_type": "code",
   "execution_count": 7,
   "id": "7c24224a-e60a-4de5-868f-690544257b24",
   "metadata": {},
   "outputs": [
    {
     "name": "stdout",
     "output_type": "stream",
     "text": [
      "\n",
      "\n",
      "Test set precision_val = 0.8266666666666667\n",
      "Test set recall_val = 0.8266666666666667\n",
      "Test set sspecificity = 0.48\n",
      "Test set mcc_val = 0.30666666666666664\n",
      "Test set accuracy_val = 0.74\n",
      "Test set f1_val = 0.8266666666666667\n"
     ]
    }
   ],
   "source": [
    "X_train_valid = np.concatenate((X_train, X_validation))\n",
    "y_train_valid = np.concatenate((y_train, y_validation))\n",
    "\n",
    "model = GradientBoostingClassifier(**best_trial.params).fit(X_train_valid, y_train_valid)\n",
    "\n",
    "y_predicted = model.predict(X_test)\n",
    "\n",
    "(tn, fp, fn, tp) = confusion_matrix(y_test, y_predicted).ravel()\n",
    "precision_val = float(tp)/float(tp+fp)\n",
    "recall_val = float(tp)/float(tp+fn)\n",
    "specificity_val = float(tn)/float(tn+fp)\n",
    "accuracy_val = float(tp+tn)/float(tn+fp+fn+tp)\n",
    "f1_val = (2*tp)/(2*tp+fp+fn)\n",
    "mcc_val = float((tp*tn)-(fp*fn))/np.sqrt((tp+fp)*(tp+fn)*(tn+fp)*(tn+fn))\n",
    "\n",
    "\n",
    "print(\"\\n\")\n",
    "print(\"Test set precision_val =\", precision_val)\n",
    "print(\"Test set recall_val =\", recall_val)\n",
    "print(\"Test set sspecificity =\", specificity_val)\n",
    "print(\"Test set mcc_val =\", mcc_val)\n",
    "print(\"Test set accuracy_val =\", accuracy_val)\n",
    "print(\"Test set f1_val =\", f1_val)"
   ]
  }
 ],
 "metadata": {
  "kernelspec": {
   "display_name": "Python 3 (ipykernel)",
   "language": "python",
   "name": "python3"
  },
  "language_info": {
   "codemirror_mode": {
    "name": "ipython",
    "version": 3
   },
   "file_extension": ".py",
   "mimetype": "text/x-python",
   "name": "python",
   "nbconvert_exporter": "python",
   "pygments_lexer": "ipython3",
   "version": "3.12.0"
  }
 },
 "nbformat": 4,
 "nbformat_minor": 5
}
