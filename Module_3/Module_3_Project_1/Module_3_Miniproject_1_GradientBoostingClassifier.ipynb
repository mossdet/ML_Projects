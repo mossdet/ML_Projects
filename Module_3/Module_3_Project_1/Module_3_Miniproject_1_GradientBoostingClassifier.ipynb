{
 "cells": [
  {
   "cell_type": "code",
   "execution_count": 1,
   "id": "02106841-e092-426e-a019-fec867c002e3",
   "metadata": {},
   "outputs": [],
   "source": [
    "import pandas as pd\n",
    "import numpy as np\n",
    "import matplotlib.pyplot as plt\n",
    "import optuna\n",
    "import time\n",
    "from sklearn.ensemble import GradientBoostingClassifier\n",
    "from sklearn.metrics import confusion_matrix\n",
    "\n",
    "from credit_g_dataset import get_preprocessed_credit_g_dataset\n",
    "\n",
    "pd.set_option(\"display.max_columns\", None)\n",
    "pd.set_option(\"display.max_rows\", 6)"
   ]
  },
  {
   "cell_type": "code",
   "execution_count": null,
   "id": "d9fc83b8-221c-4c16-8551-8dec8e2b5ec5",
   "metadata": {},
   "outputs": [],
   "source": []
  },
  {
   "cell_type": "markdown",
   "id": "bbfca0a4-7746-4759-81e2-058cc72c7c7c",
   "metadata": {},
   "source": [
    "# Load and pre-process version 1 of the dataset credit-g"
   ]
  },
  {
   "cell_type": "code",
   "execution_count": 2,
   "id": "a1711fc4-06bf-48a8-942e-999ade9bac95",
   "metadata": {},
   "outputs": [],
   "source": [
    "%%capture\n",
    "X_train, X_validation, X_test, y_train, y_validation, y_test = get_preprocessed_credit_g_dataset()"
   ]
  },
  {
   "cell_type": "code",
   "execution_count": null,
   "id": "646dc2d1-debf-457c-b1d7-a99dbe5308e1",
   "metadata": {},
   "outputs": [],
   "source": []
  },
  {
   "cell_type": "markdown",
   "id": "e6018b1c-685a-434e-8ec7-bfdba0e8f2dd",
   "metadata": {},
   "source": [
    "## Train the model using the training set and adjust hyperparameters with Optuna using the validation set"
   ]
  },
  {
   "cell_type": "code",
   "execution_count": 3,
   "id": "afe0b9be-4d18-4ac3-a86d-b655ac525b0b",
   "metadata": {},
   "outputs": [],
   "source": [
    "random_state=0"
   ]
  },
  {
   "cell_type": "code",
   "execution_count": 4,
   "id": "1b2b3581-ceb8-4a42-8d58-6ee073e908cc",
   "metadata": {},
   "outputs": [],
   "source": [
    "def objective(trial, X_train, X_validation, y_train, y_validation):\n",
    "    \"\"\"\n",
    "    An objective function to tune hyperparameters of Gradient Boosting Classifier.\n",
    "    Args:\n",
    "    trial: an Optuna trial\n",
    "    X: DataFrame object, features\n",
    "    y: Series object, Labels\n",
    "    cv: k folds to cross-validate\n",
    "    scoring: String, evaluation metric\n",
    "    Return:\n",
    "    Mean test accuracy\n",
    "    \"\"\"\n",
    "    \n",
    "    params = {\n",
    "    \"n_estimators\": trial.suggest_int(\"n_estimators\", 100, 5000, step = 100),\n",
    "    \"learning_rate\": trial.suggest_float(\"learning_rate\", 1e-4, 0.3, log = True),\n",
    "    \"max_depth\": trial.suggest_int(\"max_depth\", 3, 9),\n",
    "    \"subsample\": trial.suggest_float(\"subsample\", 0.5, 0.9, step = 0.1),\n",
    "    \"max_features\": trial.suggest_categorical(\"max_features\", [\"sqrt\", \"log2\"]),\n",
    "    \"random_state\": 42,\n",
    "    }\n",
    "    # Perform cross validation\n",
    "    model = GradientBoostingClassifier(**params).fit(X_train, y_train)\n",
    "    \n",
    "    y_predicted = model.predict(X_validation)\n",
    "    (tn, fp, fn, tp) = confusion_matrix(y_validation, y_predicted).ravel()\n",
    "    accuracy_val = float(tp+tn)/float(tn+fp+fn+tp)\n",
    "    \n",
    "    return accuracy_val"
   ]
  },
  {
   "cell_type": "code",
   "execution_count": 5,
   "id": "eb8eb45a-cae7-4fc1-9b6a-0cd2c59e2e37",
   "metadata": {},
   "outputs": [
    {
     "name": "stderr",
     "output_type": "stream",
     "text": [
      "[I 2023-12-20 22:13:58,853] A new study created in memory with name: no-name-46851ec5-f518-436e-b4c9-3a7fdace6580\n",
      "[I 2023-12-20 22:14:02,869] Trial 0 finished with value: 0.774074074074074 and parameters: {'n_estimators': 2100, 'learning_rate': 0.05605345200320826, 'max_depth': 8, 'subsample': 0.9, 'max_features': 'log2'}. Best is trial 0 with value: 0.774074074074074.\n",
      "[I 2023-12-20 22:14:04,438] Trial 1 finished with value: 0.7814814814814814 and parameters: {'n_estimators': 1200, 'learning_rate': 0.005852742812457334, 'max_depth': 5, 'subsample': 0.5, 'max_features': 'sqrt'}. Best is trial 1 with value: 0.7814814814814814.\n",
      "[I 2023-12-20 22:14:11,167] Trial 2 finished with value: 0.7666666666666667 and parameters: {'n_estimators': 5000, 'learning_rate': 0.00554202539364183, 'max_depth': 5, 'subsample': 0.7, 'max_features': 'sqrt'}. Best is trial 1 with value: 0.7814814814814814.\n",
      "[I 2023-12-20 22:14:13,048] Trial 3 finished with value: 0.6925925925925925 and parameters: {'n_estimators': 800, 'learning_rate': 0.00011952254048396884, 'max_depth': 7, 'subsample': 0.5, 'max_features': 'sqrt'}. Best is trial 1 with value: 0.7814814814814814.\n",
      "[I 2023-12-20 22:14:21,430] Trial 4 finished with value: 0.7666666666666667 and parameters: {'n_estimators': 2500, 'learning_rate': 0.0016878748470978962, 'max_depth': 8, 'subsample': 0.9, 'max_features': 'log2'}. Best is trial 1 with value: 0.7814814814814814.\n",
      "[I 2023-12-20 22:14:29,570] Trial 5 finished with value: 0.7851851851851852 and parameters: {'n_estimators': 3800, 'learning_rate': 0.0024787236978353077, 'max_depth': 7, 'subsample': 0.5, 'max_features': 'log2'}. Best is trial 5 with value: 0.7851851851851852.\n",
      "[I 2023-12-20 22:14:29,758] Trial 6 finished with value: 0.6925925925925925 and parameters: {'n_estimators': 100, 'learning_rate': 0.00014138205086808645, 'max_depth': 6, 'subsample': 0.5, 'max_features': 'sqrt'}. Best is trial 5 with value: 0.7851851851851852.\n",
      "[I 2023-12-20 22:14:35,779] Trial 7 finished with value: 0.6925925925925925 and parameters: {'n_estimators': 4300, 'learning_rate': 0.00018141248888310998, 'max_depth': 5, 'subsample': 0.9, 'max_features': 'log2'}. Best is trial 5 with value: 0.7851851851851852.\n",
      "[I 2023-12-20 22:14:37,137] Trial 8 finished with value: 0.7185185185185186 and parameters: {'n_estimators': 400, 'learning_rate': 0.002569142485820441, 'max_depth': 8, 'subsample': 0.8, 'max_features': 'log2'}. Best is trial 5 with value: 0.7851851851851852.\n",
      "[I 2023-12-20 22:14:38,761] Trial 9 finished with value: 0.774074074074074 and parameters: {'n_estimators': 1900, 'learning_rate': 0.00322356433330442, 'max_depth': 3, 'subsample': 0.6, 'max_features': 'sqrt'}. Best is trial 5 with value: 0.7851851851851852.\n",
      "[I 2023-12-20 22:14:42,078] Trial 10 finished with value: 0.7888888888888889 and parameters: {'n_estimators': 3500, 'learning_rate': 0.16431026610687477, 'max_depth': 9, 'subsample': 0.7, 'max_features': 'log2'}. Best is trial 10 with value: 0.7888888888888889.\n",
      "[I 2023-12-20 22:14:45,940] Trial 11 finished with value: 0.7777777777777778 and parameters: {'n_estimators': 3600, 'learning_rate': 0.2554949424649632, 'max_depth': 9, 'subsample': 0.7, 'max_features': 'log2'}. Best is trial 10 with value: 0.7888888888888889.\n",
      "[I 2023-12-20 22:14:54,412] Trial 12 finished with value: 0.7703703703703704 and parameters: {'n_estimators': 3500, 'learning_rate': 0.028023452896706946, 'max_depth': 9, 'subsample': 0.6, 'max_features': 'log2'}. Best is trial 10 with value: 0.7888888888888889.\n",
      "[I 2023-12-20 22:15:02,287] Trial 13 finished with value: 0.7518518518518519 and parameters: {'n_estimators': 3400, 'learning_rate': 0.0005187753253603412, 'max_depth': 7, 'subsample': 0.6, 'max_features': 'log2'}. Best is trial 10 with value: 0.7888888888888889.\n",
      "[I 2023-12-20 22:15:12,958] Trial 14 finished with value: 0.7666666666666667 and parameters: {'n_estimators': 4400, 'learning_rate': 0.019112029469779353, 'max_depth': 7, 'subsample': 0.8, 'max_features': 'log2'}. Best is trial 10 with value: 0.7888888888888889.\n",
      "[I 2023-12-20 22:15:15,425] Trial 15 finished with value: 0.7555555555555555 and parameters: {'n_estimators': 3100, 'learning_rate': 0.18255717060107188, 'max_depth': 9, 'subsample': 0.8, 'max_features': 'log2'}. Best is trial 10 with value: 0.7888888888888889.\n",
      "[I 2023-12-20 22:15:18,601] Trial 16 finished with value: 0.7444444444444445 and parameters: {'n_estimators': 4100, 'learning_rate': 0.000670155007702995, 'max_depth': 3, 'subsample': 0.6, 'max_features': 'log2'}. Best is trial 10 with value: 0.7888888888888889.\n",
      "[I 2023-12-20 22:15:23,906] Trial 17 finished with value: 0.762962962962963 and parameters: {'n_estimators': 3000, 'learning_rate': 0.020507272512776276, 'max_depth': 6, 'subsample': 0.7, 'max_features': 'log2'}. Best is trial 10 with value: 0.7888888888888889.\n",
      "[I 2023-12-20 22:15:29,414] Trial 18 finished with value: 0.7703703703703704 and parameters: {'n_estimators': 5000, 'learning_rate': 0.053941301353315436, 'max_depth': 8, 'subsample': 0.7, 'max_features': 'log2'}. Best is trial 10 with value: 0.7888888888888889.\n",
      "[I 2023-12-20 22:15:35,689] Trial 19 finished with value: 0.7814814814814814 and parameters: {'n_estimators': 3900, 'learning_rate': 0.0009872016638532422, 'max_depth': 6, 'subsample': 0.5, 'max_features': 'log2'}. Best is trial 10 with value: 0.7888888888888889.\n",
      "[I 2023-12-20 22:15:38,268] Trial 20 finished with value: 0.7925925925925926 and parameters: {'n_estimators': 2600, 'learning_rate': 0.008175645762703614, 'max_depth': 4, 'subsample': 0.6, 'max_features': 'log2'}. Best is trial 20 with value: 0.7925925925925926.\n",
      "[I 2023-12-20 22:15:40,808] Trial 21 finished with value: 0.7888888888888889 and parameters: {'n_estimators': 2700, 'learning_rate': 0.012015885669145411, 'max_depth': 4, 'subsample': 0.6, 'max_features': 'log2'}. Best is trial 20 with value: 0.7925925925925926.\n",
      "[I 2023-12-20 22:15:43,313] Trial 22 finished with value: 0.7888888888888889 and parameters: {'n_estimators': 2600, 'learning_rate': 0.01045993898881885, 'max_depth': 4, 'subsample': 0.6, 'max_features': 'log2'}. Best is trial 20 with value: 0.7925925925925926.\n",
      "[I 2023-12-20 22:15:44,900] Trial 23 finished with value: 0.7666666666666667 and parameters: {'n_estimators': 1600, 'learning_rate': 0.06010042129345226, 'max_depth': 4, 'subsample': 0.7, 'max_features': 'log2'}. Best is trial 20 with value: 0.7925925925925926.\n",
      "[I 2023-12-20 22:15:47,279] Trial 24 finished with value: 0.762962962962963 and parameters: {'n_estimators': 2600, 'learning_rate': 0.13854934606065986, 'max_depth': 4, 'subsample': 0.6, 'max_features': 'log2'}. Best is trial 20 with value: 0.7925925925925926.\n",
      "[I 2023-12-20 22:15:49,560] Trial 25 finished with value: 0.7925925925925926 and parameters: {'n_estimators': 3000, 'learning_rate': 0.011338162363526218, 'max_depth': 3, 'subsample': 0.7, 'max_features': 'log2'}. Best is trial 20 with value: 0.7925925925925926.\n",
      "[I 2023-12-20 22:15:52,027] Trial 26 finished with value: 0.7481481481481481 and parameters: {'n_estimators': 3100, 'learning_rate': 0.12852243743645975, 'max_depth': 3, 'subsample': 0.8, 'max_features': 'sqrt'}. Best is trial 20 with value: 0.7925925925925926.\n",
      "[I 2023-12-20 22:15:53,726] Trial 27 finished with value: 0.7925925925925926 and parameters: {'n_estimators': 2200, 'learning_rate': 0.010127044008237409, 'max_depth': 3, 'subsample': 0.7, 'max_features': 'log2'}. Best is trial 20 with value: 0.7925925925925926.\n",
      "[I 2023-12-20 22:15:54,938] Trial 28 finished with value: 0.7888888888888889 and parameters: {'n_estimators': 1600, 'learning_rate': 0.009127433943956148, 'max_depth': 3, 'subsample': 0.7, 'max_features': 'log2'}. Best is trial 20 with value: 0.7925925925925926.\n",
      "[I 2023-12-20 22:15:56,714] Trial 29 finished with value: 0.762962962962963 and parameters: {'n_estimators': 2200, 'learning_rate': 0.043232003423317365, 'max_depth': 3, 'subsample': 0.8, 'max_features': 'log2'}. Best is trial 20 with value: 0.7925925925925926.\n",
      "[I 2023-12-20 22:15:58,796] Trial 30 finished with value: 0.7962962962962963 and parameters: {'n_estimators': 2100, 'learning_rate': 0.007064838397185877, 'max_depth': 4, 'subsample': 0.7, 'max_features': 'log2'}. Best is trial 30 with value: 0.7962962962962963.\n",
      "[I 2023-12-20 22:16:00,842] Trial 31 finished with value: 0.7925925925925926 and parameters: {'n_estimators': 2100, 'learning_rate': 0.004333132344754229, 'max_depth': 4, 'subsample': 0.7, 'max_features': 'log2'}. Best is trial 30 with value: 0.7962962962962963.\n",
      "[I 2023-12-20 22:16:03,031] Trial 32 finished with value: 0.7888888888888889 and parameters: {'n_estimators': 1600, 'learning_rate': 0.006696807473973199, 'max_depth': 5, 'subsample': 0.8, 'max_features': 'log2'}. Best is trial 30 with value: 0.7962962962962963.\n",
      "[I 2023-12-20 22:16:04,266] Trial 33 finished with value: 0.7888888888888889 and parameters: {'n_estimators': 1200, 'learning_rate': 0.018378674421942656, 'max_depth': 4, 'subsample': 0.7, 'max_features': 'log2'}. Best is trial 30 with value: 0.7962962962962963.\n",
      "[I 2023-12-20 22:16:06,108] Trial 34 finished with value: 0.7888888888888889 and parameters: {'n_estimators': 2300, 'learning_rate': 0.0070469158919157626, 'max_depth': 3, 'subsample': 0.7, 'max_features': 'sqrt'}. Best is trial 30 with value: 0.7962962962962963.\n",
      "[I 2023-12-20 22:16:08,623] Trial 35 finished with value: 0.7555555555555555 and parameters: {'n_estimators': 1900, 'learning_rate': 0.001554302334634219, 'max_depth': 5, 'subsample': 0.6, 'max_features': 'log2'}. Best is trial 30 with value: 0.7962962962962963.\n",
      "[I 2023-12-20 22:16:09,958] Trial 36 finished with value: 0.7703703703703704 and parameters: {'n_estimators': 1200, 'learning_rate': 0.0049639123008314995, 'max_depth': 3, 'subsample': 0.7, 'max_features': 'sqrt'}. Best is trial 30 with value: 0.7962962962962963.\n",
      "[I 2023-12-20 22:16:13,816] Trial 37 finished with value: 0.7777777777777778 and parameters: {'n_estimators': 2800, 'learning_rate': 0.013588638881810302, 'max_depth': 4, 'subsample': 0.6, 'max_features': 'log2'}. Best is trial 30 with value: 0.7962962962962963.\n",
      "[I 2023-12-20 22:16:17,286] Trial 38 finished with value: 0.7555555555555555 and parameters: {'n_estimators': 2400, 'learning_rate': 0.036521825836185025, 'max_depth': 5, 'subsample': 0.9, 'max_features': 'log2'}. Best is trial 30 with value: 0.7962962962962963.\n",
      "[I 2023-12-20 22:16:18,008] Trial 39 finished with value: 0.7 and parameters: {'n_estimators': 900, 'learning_rate': 0.0016476366284459303, 'max_depth': 3, 'subsample': 0.5, 'max_features': 'sqrt'}. Best is trial 30 with value: 0.7962962962962963.\n",
      "[I 2023-12-20 22:16:19,941] Trial 40 finished with value: 0.7925925925925926 and parameters: {'n_estimators': 1900, 'learning_rate': 0.003545320141355405, 'max_depth': 4, 'subsample': 0.8, 'max_features': 'log2'}. Best is trial 30 with value: 0.7962962962962963.\n",
      "[I 2023-12-20 22:16:22,039] Trial 41 finished with value: 0.7925925925925926 and parameters: {'n_estimators': 2100, 'learning_rate': 0.004165322230884878, 'max_depth': 4, 'subsample': 0.7, 'max_features': 'log2'}. Best is trial 30 with value: 0.7962962962962963.\n",
      "[I 2023-12-20 22:16:25,637] Trial 42 finished with value: 0.7851851851851852 and parameters: {'n_estimators': 2800, 'learning_rate': 0.007498298413605724, 'max_depth': 5, 'subsample': 0.7, 'max_features': 'log2'}. Best is trial 30 with value: 0.7962962962962963.\n",
      "[I 2023-12-20 22:16:27,759] Trial 43 finished with value: 0.7666666666666667 and parameters: {'n_estimators': 2100, 'learning_rate': 0.0022902038731179744, 'max_depth': 4, 'subsample': 0.7, 'max_features': 'log2'}. Best is trial 30 with value: 0.7962962962962963.\n",
      "[I 2023-12-20 22:16:29,603] Trial 44 finished with value: 0.8 and parameters: {'n_estimators': 2400, 'learning_rate': 0.005084171944107336, 'max_depth': 3, 'subsample': 0.7, 'max_features': 'log2'}. Best is trial 44 with value: 0.8.\n",
      "[I 2023-12-20 22:16:32,276] Trial 45 finished with value: 0.7777777777777778 and parameters: {'n_estimators': 3300, 'learning_rate': 0.013538599157534711, 'max_depth': 3, 'subsample': 0.7, 'max_features': 'log2'}. Best is trial 44 with value: 0.8.\n",
      "[I 2023-12-20 22:16:34,347] Trial 46 finished with value: 0.7962962962962963 and parameters: {'n_estimators': 2400, 'learning_rate': 0.0052059068548847105, 'max_depth': 3, 'subsample': 0.6, 'max_features': 'log2'}. Best is trial 44 with value: 0.8.\n",
      "[I 2023-12-20 22:16:37,510] Trial 47 finished with value: 0.7703703703703704 and parameters: {'n_estimators': 2900, 'learning_rate': 0.0024303356923426208, 'max_depth': 3, 'subsample': 0.5, 'max_features': 'sqrt'}. Best is trial 44 with value: 0.8.\n",
      "[I 2023-12-20 22:16:40,104] Trial 48 finished with value: 0.7962962962962963 and parameters: {'n_estimators': 2500, 'learning_rate': 0.005858418202052286, 'max_depth': 3, 'subsample': 0.6, 'max_features': 'log2'}. Best is trial 44 with value: 0.8.\n",
      "[I 2023-12-20 22:16:43,325] Trial 49 finished with value: 0.7925925925925926 and parameters: {'n_estimators': 2500, 'learning_rate': 0.005623911839236605, 'max_depth': 5, 'subsample': 0.6, 'max_features': 'log2'}. Best is trial 44 with value: 0.8.\n",
      "[I 2023-12-20 22:16:44,635] Trial 50 finished with value: 0.7037037037037037 and parameters: {'n_estimators': 1800, 'learning_rate': 0.0010467145093770566, 'max_depth': 3, 'subsample': 0.6, 'max_features': 'log2'}. Best is trial 44 with value: 0.8.\n",
      "[I 2023-12-20 22:16:47,111] Trial 51 finished with value: 0.7851851851851852 and parameters: {'n_estimators': 3300, 'learning_rate': 0.0030404166780719478, 'max_depth': 3, 'subsample': 0.6, 'max_features': 'log2'}. Best is trial 44 with value: 0.8.\n",
      "[I 2023-12-20 22:16:48,927] Trial 52 finished with value: 0.7888888888888889 and parameters: {'n_estimators': 2400, 'learning_rate': 0.01652068051229384, 'max_depth': 3, 'subsample': 0.6, 'max_features': 'log2'}. Best is trial 44 with value: 0.8.\n",
      "[I 2023-12-20 22:16:51,842] Trial 53 finished with value: 0.7851851851851852 and parameters: {'n_estimators': 3100, 'learning_rate': 0.008587613567950389, 'max_depth': 4, 'subsample': 0.5, 'max_features': 'log2'}. Best is trial 44 with value: 0.8.\n",
      "[I 2023-12-20 22:16:53,859] Trial 54 finished with value: 0.774074074074074 and parameters: {'n_estimators': 2700, 'learning_rate': 0.022673913016657478, 'max_depth': 3, 'subsample': 0.6, 'max_features': 'log2'}. Best is trial 44 with value: 0.8.\n",
      "[I 2023-12-20 22:16:57,448] Trial 55 finished with value: 0.7851851851851852 and parameters: {'n_estimators': 3700, 'learning_rate': 0.005411328146600458, 'max_depth': 4, 'subsample': 0.6, 'max_features': 'log2'}. Best is trial 44 with value: 0.8.\n",
      "[I 2023-12-20 22:16:58,550] Trial 56 finished with value: 0.7481481481481481 and parameters: {'n_estimators': 1400, 'learning_rate': 0.0030040163966964595, 'max_depth': 3, 'subsample': 0.5, 'max_features': 'log2'}. Best is trial 44 with value: 0.8.\n",
      "[I 2023-12-20 22:17:00,811] Trial 57 finished with value: 0.774074074074074 and parameters: {'n_estimators': 2900, 'learning_rate': 0.027799054415252, 'max_depth': 3, 'subsample': 0.6, 'max_features': 'log2'}. Best is trial 44 with value: 0.8.\n",
      "[I 2023-12-20 22:17:03,171] Trial 58 finished with value: 0.6925925925925925 and parameters: {'n_estimators': 2400, 'learning_rate': 0.00030463924993785545, 'max_depth': 4, 'subsample': 0.7, 'max_features': 'log2'}. Best is trial 44 with value: 0.8.\n",
      "[I 2023-12-20 22:17:07,620] Trial 59 finished with value: 0.7888888888888889 and parameters: {'n_estimators': 2600, 'learning_rate': 0.004144177495284274, 'max_depth': 6, 'subsample': 0.6, 'max_features': 'log2'}. Best is trial 44 with value: 0.8.\n",
      "[I 2023-12-20 22:17:10,250] Trial 60 finished with value: 0.7777777777777778 and parameters: {'n_estimators': 3200, 'learning_rate': 0.012923579596996294, 'max_depth': 3, 'subsample': 0.8, 'max_features': 'sqrt'}. Best is trial 44 with value: 0.8.\n",
      "[I 2023-12-20 22:17:11,909] Trial 61 finished with value: 0.8 and parameters: {'n_estimators': 2200, 'learning_rate': 0.010104903592268134, 'max_depth': 3, 'subsample': 0.7, 'max_features': 'log2'}. Best is trial 44 with value: 0.8.\n",
      "[I 2023-12-20 22:17:13,787] Trial 62 finished with value: 0.7925925925925926 and parameters: {'n_estimators': 2300, 'learning_rate': 0.008341898739085838, 'max_depth': 3, 'subsample': 0.7, 'max_features': 'log2'}. Best is trial 44 with value: 0.8.\n",
      "[I 2023-12-20 22:17:15,526] Trial 63 finished with value: 0.8037037037037037 and parameters: {'n_estimators': 2100, 'learning_rate': 0.006215888122200246, 'max_depth': 3, 'subsample': 0.7, 'max_features': 'log2'}. Best is trial 63 with value: 0.8037037037037037.\n",
      "[I 2023-12-20 22:17:17,426] Trial 64 finished with value: 0.7962962962962963 and parameters: {'n_estimators': 1800, 'learning_rate': 0.006028588283399189, 'max_depth': 4, 'subsample': 0.7, 'max_features': 'log2'}. Best is trial 63 with value: 0.8037037037037037.\n",
      "[I 2023-12-20 22:17:18,818] Trial 65 finished with value: 0.7481481481481481 and parameters: {'n_estimators': 1800, 'learning_rate': 0.0019645909085550476, 'max_depth': 3, 'subsample': 0.7, 'max_features': 'log2'}. Best is trial 63 with value: 0.8037037037037037.\n",
      "[I 2023-12-20 22:17:20,541] Trial 66 finished with value: 0.7962962962962963 and parameters: {'n_estimators': 2000, 'learning_rate': 0.005732266937291612, 'max_depth': 3, 'subsample': 0.8, 'max_features': 'log2'}. Best is trial 63 with value: 0.8037037037037037.\n",
      "[I 2023-12-20 22:17:22,464] Trial 67 finished with value: 0.7777777777777778 and parameters: {'n_estimators': 1400, 'learning_rate': 0.0035109296165337267, 'max_depth': 4, 'subsample': 0.7, 'max_features': 'log2'}. Best is trial 63 with value: 0.8037037037037037.\n",
      "[I 2023-12-20 22:17:24,372] Trial 68 finished with value: 0.8 and parameters: {'n_estimators': 1600, 'learning_rate': 0.006534960153369831, 'max_depth': 3, 'subsample': 0.7, 'max_features': 'log2'}. Best is trial 63 with value: 0.8037037037037037.\n",
      "[I 2023-12-20 22:17:25,286] Trial 69 finished with value: 0.7851851851851852 and parameters: {'n_estimators': 800, 'learning_rate': 0.01041293340940964, 'max_depth': 3, 'subsample': 0.7, 'max_features': 'log2'}. Best is trial 63 with value: 0.8037037037037037.\n",
      "[I 2023-12-20 22:17:26,796] Trial 70 finished with value: 0.8 and parameters: {'n_estimators': 1600, 'learning_rate': 0.015227711987853292, 'max_depth': 3, 'subsample': 0.8, 'max_features': 'log2'}. Best is trial 63 with value: 0.8037037037037037.\n",
      "[I 2023-12-20 22:17:27,834] Trial 71 finished with value: 0.7925925925925926 and parameters: {'n_estimators': 1400, 'learning_rate': 0.016712810849862144, 'max_depth': 3, 'subsample': 0.9, 'max_features': 'log2'}. Best is trial 63 with value: 0.8037037037037037.\n",
      "[I 2023-12-20 22:17:29,118] Trial 72 finished with value: 0.8037037037037037 and parameters: {'n_estimators': 1700, 'learning_rate': 0.007016207933065516, 'max_depth': 3, 'subsample': 0.8, 'max_features': 'log2'}. Best is trial 63 with value: 0.8037037037037037.\n",
      "[I 2023-12-20 22:17:30,478] Trial 73 finished with value: 0.7814814814814814 and parameters: {'n_estimators': 1700, 'learning_rate': 0.004713875020535355, 'max_depth': 3, 'subsample': 0.8, 'max_features': 'log2'}. Best is trial 63 with value: 0.8037037037037037.\n",
      "[I 2023-12-20 22:17:31,225] Trial 74 finished with value: 0.8 and parameters: {'n_estimators': 1000, 'learning_rate': 0.022726396075168964, 'max_depth': 3, 'subsample': 0.8, 'max_features': 'log2'}. Best is trial 63 with value: 0.8037037037037037.\n",
      "[I 2023-12-20 22:17:32,053] Trial 75 finished with value: 0.8037037037037037 and parameters: {'n_estimators': 1100, 'learning_rate': 0.027500537597732314, 'max_depth': 3, 'subsample': 0.8, 'max_features': 'log2'}. Best is trial 63 with value: 0.8037037037037037.\n",
      "[I 2023-12-20 22:17:32,608] Trial 76 finished with value: 0.774074074074074 and parameters: {'n_estimators': 700, 'learning_rate': 0.09262149155701492, 'max_depth': 3, 'subsample': 0.8, 'max_features': 'log2'}. Best is trial 63 with value: 0.8037037037037037.\n",
      "[I 2023-12-20 22:17:36,005] Trial 77 finished with value: 0.7777777777777778 and parameters: {'n_estimators': 1000, 'learning_rate': 0.02543119370829912, 'max_depth': 8, 'subsample': 0.9, 'max_features': 'log2'}. Best is trial 63 with value: 0.8037037037037037.\n",
      "[I 2023-12-20 22:17:36,182] Trial 78 finished with value: 0.762962962962963 and parameters: {'n_estimators': 200, 'learning_rate': 0.034682023042402185, 'max_depth': 3, 'subsample': 0.8, 'max_features': 'sqrt'}. Best is trial 63 with value: 0.8037037037037037.\n",
      "[I 2023-12-20 22:17:36,564] Trial 79 finished with value: 0.7703703703703704 and parameters: {'n_estimators': 500, 'learning_rate': 0.06414521988533713, 'max_depth': 3, 'subsample': 0.8, 'max_features': 'log2'}. Best is trial 63 with value: 0.8037037037037037.\n",
      "[I 2023-12-20 22:17:37,416] Trial 80 finished with value: 0.7925925925925926 and parameters: {'n_estimators': 1100, 'learning_rate': 0.015174063659267066, 'max_depth': 3, 'subsample': 0.8, 'max_features': 'log2'}. Best is trial 63 with value: 0.8037037037037037.\n",
      "[I 2023-12-20 22:17:38,416] Trial 81 finished with value: 0.7888888888888889 and parameters: {'n_estimators': 1300, 'learning_rate': 0.020322540228596263, 'max_depth': 3, 'subsample': 0.8, 'max_features': 'log2'}. Best is trial 63 with value: 0.8037037037037037.\n",
      "[I 2023-12-20 22:17:39,838] Trial 82 finished with value: 0.7925925925925926 and parameters: {'n_estimators': 1500, 'learning_rate': 0.010645331331376592, 'max_depth': 4, 'subsample': 0.8, 'max_features': 'log2'}. Best is trial 63 with value: 0.8037037037037037.\n",
      "[I 2023-12-20 22:17:41,345] Trial 83 finished with value: 0.7814814814814814 and parameters: {'n_estimators': 2000, 'learning_rate': 0.03319209481627556, 'max_depth': 3, 'subsample': 0.8, 'max_features': 'log2'}. Best is trial 63 with value: 0.8037037037037037.\n",
      "[I 2023-12-20 22:17:42,585] Trial 84 finished with value: 0.8 and parameters: {'n_estimators': 1600, 'learning_rate': 0.007174557893936677, 'max_depth': 3, 'subsample': 0.7, 'max_features': 'log2'}. Best is trial 63 with value: 0.8037037037037037.\n",
      "[I 2023-12-20 22:17:43,911] Trial 85 finished with value: 0.8 and parameters: {'n_estimators': 1700, 'learning_rate': 0.007369749984578526, 'max_depth': 3, 'subsample': 0.7, 'max_features': 'log2'}. Best is trial 63 with value: 0.8037037037037037.\n",
      "[I 2023-12-20 22:17:44,790] Trial 86 finished with value: 0.7888888888888889 and parameters: {'n_estimators': 1100, 'learning_rate': 0.04348420254054038, 'max_depth': 3, 'subsample': 0.8, 'max_features': 'log2'}. Best is trial 63 with value: 0.8037037037037037.\n",
      "[I 2023-12-20 22:17:45,276] Trial 87 finished with value: 0.7851851851851852 and parameters: {'n_estimators': 600, 'learning_rate': 0.011873343761076915, 'max_depth': 3, 'subsample': 0.7, 'max_features': 'log2'}. Best is trial 63 with value: 0.8037037037037037.\n",
      "[I 2023-12-20 22:17:46,451] Trial 88 finished with value: 0.7925925925925926 and parameters: {'n_estimators': 1500, 'learning_rate': 0.009505554956035122, 'max_depth': 3, 'subsample': 0.7, 'max_features': 'log2'}. Best is trial 63 with value: 0.8037037037037037.\n",
      "[I 2023-12-20 22:17:49,491] Trial 89 finished with value: 0.7703703703703704 and parameters: {'n_estimators': 1200, 'learning_rate': 0.0214851623640523, 'max_depth': 7, 'subsample': 0.9, 'max_features': 'log2'}. Best is trial 63 with value: 0.8037037037037037.\n",
      "[I 2023-12-20 22:17:51,065] Trial 90 finished with value: 0.6925925925925925 and parameters: {'n_estimators': 1600, 'learning_rate': 0.00010114594303643939, 'max_depth': 4, 'subsample': 0.7, 'max_features': 'sqrt'}. Best is trial 63 with value: 0.8037037037037037.\n",
      "[I 2023-12-20 22:17:52,397] Trial 91 finished with value: 0.8 and parameters: {'n_estimators': 1700, 'learning_rate': 0.006653595908297733, 'max_depth': 3, 'subsample': 0.7, 'max_features': 'log2'}. Best is trial 63 with value: 0.8037037037037037.\n",
      "[I 2023-12-20 22:17:53,909] Trial 92 finished with value: 0.7925925925925926 and parameters: {'n_estimators': 2000, 'learning_rate': 0.008022322243838309, 'max_depth': 3, 'subsample': 0.7, 'max_features': 'log2'}. Best is trial 63 with value: 0.8037037037037037.\n",
      "[I 2023-12-20 22:17:55,605] Trial 93 finished with value: 0.7814814814814814 and parameters: {'n_estimators': 2200, 'learning_rate': 0.014874133373553542, 'max_depth': 3, 'subsample': 0.7, 'max_features': 'log2'}. Best is trial 63 with value: 0.8037037037037037.\n",
      "[I 2023-12-20 22:17:56,878] Trial 94 finished with value: 0.7703703703703704 and parameters: {'n_estimators': 1700, 'learning_rate': 0.004064053065213981, 'max_depth': 3, 'subsample': 0.8, 'max_features': 'log2'}. Best is trial 63 with value: 0.8037037037037037.\n",
      "[I 2023-12-20 22:17:57,671] Trial 95 finished with value: 0.7888888888888889 and parameters: {'n_estimators': 1000, 'learning_rate': 0.009329792956601118, 'max_depth': 3, 'subsample': 0.7, 'max_features': 'log2'}. Best is trial 63 with value: 0.8037037037037037.\n",
      "[I 2023-12-20 22:17:58,652] Trial 96 finished with value: 0.7888888888888889 and parameters: {'n_estimators': 1300, 'learning_rate': 0.012174637756727863, 'max_depth': 3, 'subsample': 0.7, 'max_features': 'log2'}. Best is trial 63 with value: 0.8037037037037037.\n",
      "[I 2023-12-20 22:18:00,081] Trial 97 finished with value: 0.7851851851851852 and parameters: {'n_estimators': 1900, 'learning_rate': 0.01813016891171188, 'max_depth': 3, 'subsample': 0.8, 'max_features': 'log2'}. Best is trial 63 with value: 0.8037037037037037.\n",
      "[I 2023-12-20 22:18:01,553] Trial 98 finished with value: 0.7962962962962963 and parameters: {'n_estimators': 1500, 'learning_rate': 0.007086949351667956, 'max_depth': 4, 'subsample': 0.7, 'max_features': 'log2'}. Best is trial 63 with value: 0.8037037037037037.\n",
      "[I 2023-12-20 22:18:03,244] Trial 99 finished with value: 0.7592592592592593 and parameters: {'n_estimators': 2200, 'learning_rate': 0.0029418393287046086, 'max_depth': 3, 'subsample': 0.7, 'max_features': 'log2'}. Best is trial 63 with value: 0.8037037037037037.\n"
     ]
    },
    {
     "name": "stdout",
     "output_type": "stream",
     "text": [
      "total_time=244.3916847705841\n",
      "{'n_estimators': 2100, 'learning_rate': 0.006215888122200246, 'max_depth': 3, 'subsample': 0.7, 'max_features': 'log2'}\n",
      "0.8037037037037037\n"
     ]
    }
   ],
   "source": [
    "start_time = time.time()\n",
    "\n",
    "study = optuna.create_study(direction = \"maximize\")\n",
    "func = lambda trial: objective(trial, X_train, X_validation, y_train, y_validation)\n",
    "\n",
    "# Start optimizing with 100 trials\n",
    "study.optimize(func, n_trials = 100)\n",
    "\n",
    "total_time = time.time()-start_time\n",
    "print(f\"total_time={total_time}\")\n",
    "print(study.best_params)\n",
    "print(study.best_value)"
   ]
  },
  {
   "cell_type": "code",
   "execution_count": 6,
   "id": "0a497f91-5aa8-464f-b471-d94a4d04cb4f",
   "metadata": {},
   "outputs": [
    {
     "name": "stdout",
     "output_type": "stream",
     "text": [
      "Number of finished trials:  100\n",
      "Best trial:\n",
      "  Value: 0.8037037037037037\n",
      "  Params: \n",
      "    n_estimators: 2100\n",
      "    learning_rate: 0.006215888122200246\n",
      "    max_depth: 3\n",
      "    subsample: 0.7\n",
      "    max_features: log2\n"
     ]
    }
   ],
   "source": [
    "print(\"Number of finished trials: \", len(study.trials))\n",
    "print(\"Best trial:\")\n",
    "\n",
    "trial = study.best_trial\n",
    "\n",
    "print(\"  Value: {}\".format(trial.value))\n",
    "print(\"  Params: \")\n",
    "for key, value in trial.params.items():\n",
    "    print(\"    {}: {}\".format(key, value))"
   ]
  },
  {
   "cell_type": "markdown",
   "id": "7ab413bf-d8a7-4e3f-ad62-e3b68c0dd555",
   "metadata": {},
   "source": [
    "## Run on the test set and use training and validation sets for training"
   ]
  },
  {
   "cell_type": "code",
   "execution_count": 7,
   "id": "7c24224a-e60a-4de5-868f-690544257b24",
   "metadata": {},
   "outputs": [
    {
     "name": "stdout",
     "output_type": "stream",
     "text": [
      "\n",
      "\n",
      "Test set precision_val = 0.8289473684210527\n",
      "Test set recall_val = 0.84\n",
      "Test set sspecificity = 0.48\n",
      "Test set mcc_val = 0.3244428422615251\n",
      "Test set accuracy_val = 0.75\n",
      "Test set f1_val = 0.8344370860927153\n"
     ]
    }
   ],
   "source": [
    "X_train_valid = np.concatenate((X_train, X_validation))\n",
    "y_train_valid = np.concatenate((y_train, y_validation))\n",
    "\n",
    "model = GradientBoostingClassifier(**trial.params).fit(X_train_valid, y_train_valid)\n",
    "\n",
    "y_predicted = model.predict(X_test)\n",
    "\n",
    "(tn, fp, fn, tp) = confusion_matrix(y_test, y_predicted).ravel()\n",
    "precision_val = float(tp)/float(tp+fp)\n",
    "recall_val = float(tp)/float(tp+fn)\n",
    "specificity_val = float(tn)/float(tn+fp)\n",
    "accuracy_val = float(tp+tn)/float(tn+fp+fn+tp)\n",
    "f1_val = (2*tp)/(2*tp+fp+fn)\n",
    "mcc_val = float((tp*tn)-(fp*fn))/np.sqrt((tp+fp)*(tp+fn)*(tn+fp)*(tn+fn))\n",
    "\n",
    "\n",
    "print(\"\\n\")\n",
    "print(\"Test set precision_val =\", precision_val)\n",
    "print(\"Test set recall_val =\", recall_val)\n",
    "print(\"Test set sspecificity =\", specificity_val)\n",
    "print(\"Test set mcc_val =\", mcc_val)\n",
    "print(\"Test set accuracy_val =\", accuracy_val)\n",
    "print(\"Test set f1_val =\", f1_val)"
   ]
  },
  {
   "cell_type": "code",
   "execution_count": 8,
   "id": "ca7d1620-6d01-468e-a8db-6144537a493b",
   "metadata": {},
   "outputs": [
    {
     "data": {
      "text/plain": [
       "array([[12, 13],\n",
       "       [12, 63]], dtype=int64)"
      ]
     },
     "execution_count": 8,
     "metadata": {},
     "output_type": "execute_result"
    }
   ],
   "source": [
    "confusion_matrix(y_test, y_predicted)"
   ]
  },
  {
   "cell_type": "code",
   "execution_count": 9,
   "id": "24a6bebd-eb5d-424c-a7b9-b2cfc0973915",
   "metadata": {},
   "outputs": [
    {
     "data": {
      "text/plain": [
       "array([1, 1, 1, 1, 1, 1, 1, 1, 1, 0, 0, 0, 1, 1, 0, 1, 1, 0, 1, 1, 1, 1,\n",
       "       1, 1, 1, 0, 1, 1, 1, 0, 1, 1, 0, 0, 1, 0, 1, 1, 0, 1, 0, 1, 1, 1,\n",
       "       1, 0, 0, 1, 1, 1, 0, 0, 1, 1, 0, 1, 1, 1, 1, 1, 0, 1, 1, 1, 1, 1,\n",
       "       1, 0, 0, 1, 1, 1, 1, 1, 1, 0, 1, 0, 0, 1, 1, 1, 1, 1, 1, 1, 0, 1,\n",
       "       1, 1, 1, 1, 1, 1, 1, 0, 1, 1, 1, 1])"
      ]
     },
     "execution_count": 9,
     "metadata": {},
     "output_type": "execute_result"
    }
   ],
   "source": [
    "y_test"
   ]
  },
  {
   "cell_type": "code",
   "execution_count": null,
   "id": "ae27791a-7db7-46fd-a764-f091f8ea05dc",
   "metadata": {},
   "outputs": [],
   "source": []
  },
  {
   "cell_type": "code",
   "execution_count": 10,
   "id": "1a0abe7b-fa78-414f-8cd2-0aa90c2da5ab",
   "metadata": {},
   "outputs": [
    {
     "name": "stdout",
     "output_type": "stream",
     "text": [
      "[0.09034174 0.10224359 0.0548507  0.02320042 0.00985598 0.00881832\n",
      " 0.01939404 0.09436897 0.07246609 0.03127701 0.02819849 0.02323307\n",
      " 0.01463425 0.02103446 0.01644675 0.01462979 0.01525176 0.02716214\n",
      " 0.02317408 0.01867683 0.01200677 0.00765213 0.01602446 0.01120504\n",
      " 0.01343616 0.00835592 0.0075843  0.00870021 0.01290091 0.0042285\n",
      " 0.00671562 0.00595453 0.00715594 0.00726762 0.00944689 0.00541606\n",
      " 0.01266026 0.00983511 0.00937029 0.00867489 0.00974883 0.00279088\n",
      " 0.00575191 0.00377655 0.00678567 0.00578846 0.00755123 0.00494917\n",
      " 0.00561395 0.00520032 0.00588173 0.00702145 0.00470298 0.00247348\n",
      " 0.0041605  0.00479377 0.00522176 0.00340791 0.01052936]\n"
     ]
    }
   ],
   "source": [
    "importances = model.feature_importances_\n",
    "print(importances)\n",
    "# feature_names_in_ only defined if the X input to fit() is a dataframe and the column names are all strings\n",
    "#features_names = model.feature_names_in_\n",
    "#print(features_names)"
   ]
  },
  {
   "cell_type": "code",
   "execution_count": 11,
   "id": "b9d2a5d3-669b-423d-9250-ada998d9d6c3",
   "metadata": {},
   "outputs": [
    {
     "name": "stdout",
     "output_type": "stream",
     "text": [
      "0.10224359141057382\n",
      "0.0024734837147451358\n",
      "0.9999999999999999\n"
     ]
    }
   ],
   "source": [
    "print(max(importances))\n",
    "print(min(importances))\n",
    "print(sum(importances))"
   ]
  },
  {
   "cell_type": "code",
   "execution_count": null,
   "id": "3b0dba39-01f5-4c99-a2e7-0c7dd31a1322",
   "metadata": {},
   "outputs": [],
   "source": []
  }
 ],
 "metadata": {
  "kernelspec": {
   "display_name": "Python 3 (ipykernel)",
   "language": "python",
   "name": "python3"
  },
  "language_info": {
   "codemirror_mode": {
    "name": "ipython",
    "version": 3
   },
   "file_extension": ".py",
   "mimetype": "text/x-python",
   "name": "python",
   "nbconvert_exporter": "python",
   "pygments_lexer": "ipython3",
   "version": "3.12.0"
  }
 },
 "nbformat": 4,
 "nbformat_minor": 5
}
