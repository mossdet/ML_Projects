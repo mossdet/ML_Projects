{
 "cells": [
  {
   "cell_type": "code",
   "execution_count": 1,
   "id": "02106841-e092-426e-a019-fec867c002e3",
   "metadata": {},
   "outputs": [],
   "source": [
    "import pandas as pd\n",
    "import numpy as np\n",
    "import matplotlib.pyplot as plt\n",
    "import seaborn as sns\n",
    "from scipy import stats\n",
    "from sklearn.tree import DecisionTreeClassifier\n",
    "from sklearn.datasets import fetch_openml\n",
    "from sklearn.preprocessing import LabelEncoder, OneHotEncoder\n",
    "from sklearn.preprocessing import StandardScaler\n",
    "from sklearn.model_selection import train_test_split\n",
    "from sklearn.metrics import accuracy_score, recall_score, precision_score, f1_score, confusion_matrix\n",
    "\n",
    "from credit_g_dataset import get_preprocessed_credit_g_dataset\n",
    "\n",
    "pd.set_option(\"display.max_columns\", None)\n",
    "pd.set_option(\"display.max_rows\", 6)"
   ]
  },
  {
   "cell_type": "code",
   "execution_count": null,
   "id": "d9fc83b8-221c-4c16-8551-8dec8e2b5ec5",
   "metadata": {},
   "outputs": [],
   "source": []
  },
  {
   "cell_type": "markdown",
   "id": "bbfca0a4-7746-4759-81e2-058cc72c7c7c",
   "metadata": {},
   "source": [
    "# Load version 3 of the dataset credit-g"
   ]
  },
  {
   "cell_type": "code",
   "execution_count": 2,
   "id": "a1711fc4-06bf-48a8-942e-999ade9bac95",
   "metadata": {},
   "outputs": [],
   "source": [
    "%%capture\n",
    "X_train, X_validation, X_test, y_train, y_validation, y_test = get_preprocessed_credit_g_dataset()"
   ]
  },
  {
   "cell_type": "code",
   "execution_count": null,
   "id": "646dc2d1-debf-457c-b1d7-a99dbe5308e1",
   "metadata": {},
   "outputs": [],
   "source": []
  },
  {
   "cell_type": "markdown",
   "id": "e6018b1c-685a-434e-8ec7-bfdba0e8f2dd",
   "metadata": {},
   "source": [
    "## Train the model on the training set and adjust hyperparameters on the validation set"
   ]
  },
  {
   "cell_type": "code",
   "execution_count": null,
   "id": "1b2b3581-ceb8-4a42-8d58-6ee073e908cc",
   "metadata": {},
   "outputs": [],
   "source": []
  },
  {
   "cell_type": "code",
   "execution_count": 3,
   "id": "e54989e6-3bf7-4406-a502-dce31cdb8c96",
   "metadata": {},
   "outputs": [
    {
     "name": "stdout",
     "output_type": "stream",
     "text": [
      "mcc_val = 0.1939733759778879\n",
      "accuracy_val = 0.6925925925925925\n",
      "mcc_val = 0.28827082627183004\n",
      "accuracy_val = 0.7111111111111111\n"
     ]
    }
   ],
   "source": [
    "max_features = [\"sqrt\", \"log2\"]\n",
    "criterion = ['gini', 'entropy', 'log_loss']\n",
    "max_depth = [3,5,7,10,15]\n",
    "min_samples_split = [2,5,10,15]\n",
    "min_samples_leaf = [1,2,5,10]\n",
    "\n",
    "random_state = 42\n",
    "\n",
    "best_mcc = 0\n",
    "best_acc = 0\n",
    "best_recall = 0\n",
    "best_precision = 0\n",
    "best_specificity = 0\n",
    "\n",
    "best_max_features = \"\"\n",
    "best_criterion = \"\"\n",
    "best_max_depth = 0\n",
    "best_min_split = 0\n",
    "best_min_leaf = 0\n",
    "\n",
    "for max_feats in max_features:\n",
    "    for c in criterion:\n",
    "        for md in max_depth:\n",
    "            for min_split in min_samples_split:\n",
    "                for min_leaf in min_samples_leaf:\n",
    "\n",
    "                    model = DecisionTreeClassifier(max_features=max_feats, criterion=c, max_depth=md, min_samples_split=min_split, min_samples_leaf=min_leaf, random_state=random_state)\n",
    "                    model.fit(X_train, y_train)\n",
    "                    \n",
    "                    y_predicted = model.predict(X_validation)\n",
    "\n",
    "                    (tn, fp, fn, tp) = confusion_matrix(y_validation, y_predicted).ravel()\n",
    "                    precision_val = float(tp)/float(tp+fp)\n",
    "                    recall_val = float(tp)/float(tp+fn)\n",
    "                    specificity_val = float(tn)/float(tn+fp)\n",
    "                    accuracy_val = float(tp+tn)/float(tn+fp+fn+tp)\n",
    "                    f1_val = (2*tp)/(2*tp+fp+fn)\n",
    "                    mcc_val = float((tp*tn)-(fp*fn))/np.sqrt((tp+fp)*(tp+fn)*(tn+fp)*(tn+fn))\n",
    "\n",
    "                    if mcc_val > best_mcc:\n",
    "                        best_mcc = mcc_val\n",
    "                        best_acc = accuracy_val\n",
    "                        best_recall = recall_val\n",
    "                        best_precision = precision_val\n",
    "                        best_specificity = specificity_val\n",
    "\n",
    "                        best_max_features = max_feats\n",
    "                        best_criterion = c\n",
    "                        best_max_depth = md\n",
    "                        best_min_split = min_split\n",
    "                        best_min_leaf = min_leaf\n",
    "                    \n",
    "                        print(\"mcc_val =\", mcc_val)\n",
    "                        print(\"accuracy_val =\", accuracy_val)"
   ]
  },
  {
   "cell_type": "code",
   "execution_count": 4,
   "id": "9062da82-4485-4ece-bcba-7c6e917aaa4e",
   "metadata": {},
   "outputs": [
    {
     "name": "stdout",
     "output_type": "stream",
     "text": [
      "\n",
      "\n",
      "best validation precision_val = 0.7167381974248928\n",
      "best validation recall_val = 0.907608695652174\n",
      "best validation pecificity = 0.23255813953488372\n",
      "best validation mcc_val = 0.1898998327053899\n",
      "best validation accuracy_val = 0.6925925925925925\n",
      "best_max_features = sqrt\n",
      "best_criterion = gini\n",
      "best_max_depth = 7\n",
      "best_min_split = 2\n",
      "best_min_leaf = 1\n",
      "\n",
      "\n",
      "\n"
     ]
    }
   ],
   "source": [
    "print(\"\\n\")\n",
    "print(\"best validation precision_val =\", precision_val)\n",
    "print(\"best validation recall_val =\", recall_val)\n",
    "print(\"best validation pecificity =\", specificity_val)\n",
    "print(\"best validation mcc_val =\", mcc_val)\n",
    "print(\"best validation accuracy_val =\", accuracy_val)\n",
    "print(\"best_max_features =\", best_max_features)\n",
    "print(\"best_criterion =\", best_criterion)\n",
    "print(\"best_max_depth =\", best_max_depth)\n",
    "print(\"best_min_split =\", best_min_split)\n",
    "print(\"best_min_leaf =\", best_min_leaf)\n",
    "print(\"\\n\\n\") "
   ]
  },
  {
   "cell_type": "markdown",
   "id": "7ab413bf-d8a7-4e3f-ad62-e3b68c0dd555",
   "metadata": {},
   "source": [
    "## Run on the test set and use training and validation sets for training"
   ]
  },
  {
   "cell_type": "code",
   "execution_count": 5,
   "id": "7c24224a-e60a-4de5-868f-690544257b24",
   "metadata": {},
   "outputs": [
    {
     "name": "stdout",
     "output_type": "stream",
     "text": [
      "\n",
      "\n",
      "Test set precision_val = 0.7073170731707317\n",
      "Test set recall_val = 0.8923076923076924\n",
      "Test set pecificity = 0.3142857142857143\n",
      "Test set mcc_val = 0.25648618548791075\n",
      "Test set accuracy_val = 0.69\n",
      "Test set f1_val = 0.7891156462585034\n"
     ]
    }
   ],
   "source": [
    "X_train_valid = np.concatenate((X_train, X_validation))\n",
    "y_train_valid = np.concatenate((y_train, y_validation))\n",
    "\n",
    "model = DecisionTreeClassifier(max_features=best_max_features, criterion=best_criterion, max_depth=best_max_depth, min_samples_split=best_min_split, min_samples_leaf=best_min_leaf, random_state=random_state)\n",
    "model.fit(X_train_valid, y_train_valid)\n",
    "y_predicted = model.predict(X_test)\n",
    "\n",
    "(tn, fp, fn, tp) = confusion_matrix(y_test, y_predicted).ravel()\n",
    "precision_val = float(tp)/float(tp+fp)\n",
    "recall_val = float(tp)/float(tp+fn)\n",
    "specificity_val = float(tn)/float(tn+fp)\n",
    "accuracy_val = float(tp+tn)/float(tn+fp+fn+tp)\n",
    "f1_val = (2*tp)/(2*tp+fp+fn)\n",
    "mcc_val = float((tp*tn)-(fp*fn))/np.sqrt((tp+fp)*(tp+fn)*(tn+fp)*(tn+fn))\n",
    "\n",
    "\n",
    "print(\"\\n\")\n",
    "print(\"Test set precision_val =\", precision_val)\n",
    "print(\"Test set recall_val =\", recall_val)\n",
    "print(\"Test set pecificity =\", specificity_val)\n",
    "print(\"Test set mcc_val =\", mcc_val)\n",
    "print(\"Test set accuracy_val =\", accuracy_val)\n",
    "print(\"Test set f1_val =\", f1_val)"
   ]
  },
  {
   "cell_type": "code",
   "execution_count": 6,
   "id": "ca7d1620-6d01-468e-a8db-6144537a493b",
   "metadata": {},
   "outputs": [
    {
     "data": {
      "text/plain": [
       "array([[11, 24],\n",
       "       [ 7, 58]], dtype=int64)"
      ]
     },
     "execution_count": 6,
     "metadata": {},
     "output_type": "execute_result"
    }
   ],
   "source": [
    "confusion_matrix(y_test, y_predicted)"
   ]
  },
  {
   "cell_type": "code",
   "execution_count": 7,
   "id": "24a6bebd-eb5d-424c-a7b9-b2cfc0973915",
   "metadata": {},
   "outputs": [
    {
     "data": {
      "text/plain": [
       "array([0, 1, 0, 1, 0, 0, 1, 1, 1, 1, 0, 1, 0, 1, 0, 1, 1, 0, 1, 0, 1, 0,\n",
       "       1, 1, 0, 0, 1, 1, 1, 1, 1, 1, 1, 0, 1, 1, 1, 1, 1, 1, 1, 0, 1, 0,\n",
       "       1, 0, 1, 1, 1, 0, 1, 0, 1, 1, 1, 0, 0, 0, 0, 1, 1, 1, 1, 1, 1, 0,\n",
       "       1, 1, 1, 0, 1, 0, 1, 1, 1, 1, 0, 0, 1, 1, 1, 1, 0, 0, 1, 0, 1, 1,\n",
       "       0, 0, 1, 0, 1, 0, 1, 0, 1, 1, 1, 1])"
      ]
     },
     "execution_count": 7,
     "metadata": {},
     "output_type": "execute_result"
    }
   ],
   "source": [
    "y_test"
   ]
  }
 ],
 "metadata": {
  "kernelspec": {
   "display_name": "Python 3 (ipykernel)",
   "language": "python",
   "name": "python3"
  },
  "language_info": {
   "codemirror_mode": {
    "name": "ipython",
    "version": 3
   },
   "file_extension": ".py",
   "mimetype": "text/x-python",
   "name": "python",
   "nbconvert_exporter": "python",
   "pygments_lexer": "ipython3",
   "version": "3.12.0"
  }
 },
 "nbformat": 4,
 "nbformat_minor": 5
}
