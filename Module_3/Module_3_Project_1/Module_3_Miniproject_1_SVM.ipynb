{
 "cells": [
  {
   "cell_type": "code",
   "execution_count": 1,
   "id": "02106841-e092-426e-a019-fec867c002e3",
   "metadata": {},
   "outputs": [],
   "source": [
    "import pandas as pd\n",
    "import numpy as np\n",
    "import matplotlib.pyplot as plt\n",
    "import seaborn as sns\n",
    "from scipy import stats\n",
    "from sklearn.svm import SVC\n",
    "from sklearn.datasets import fetch_openml\n",
    "from sklearn.preprocessing import LabelEncoder, OneHotEncoder\n",
    "from sklearn.preprocessing import StandardScaler\n",
    "from sklearn.model_selection import train_test_split\n",
    "from sklearn.metrics import accuracy_score, recall_score, precision_score, f1_score, confusion_matrix\n",
    "\n",
    "from credit_g_dataset import get_preprocessed_credit_g_dataset\n",
    "\n",
    "pd.set_option(\"display.max_columns\", None)\n",
    "pd.set_option(\"display.max_rows\", 6)"
   ]
  },
  {
   "cell_type": "code",
   "execution_count": null,
   "id": "d9fc83b8-221c-4c16-8551-8dec8e2b5ec5",
   "metadata": {},
   "outputs": [],
   "source": []
  },
  {
   "cell_type": "markdown",
   "id": "bbfca0a4-7746-4759-81e2-058cc72c7c7c",
   "metadata": {},
   "source": [
    "# Load version 3 of the dataset credit-g"
   ]
  },
  {
   "cell_type": "code",
   "execution_count": 2,
   "id": "a1711fc4-06bf-48a8-942e-999ade9bac95",
   "metadata": {},
   "outputs": [],
   "source": [
    "%%capture\n",
    "X_train, X_validation, X_test, y_train, y_validation, y_test = get_preprocessed_credit_g_dataset()"
   ]
  },
  {
   "cell_type": "code",
   "execution_count": null,
   "id": "646dc2d1-debf-457c-b1d7-a99dbe5308e1",
   "metadata": {},
   "outputs": [],
   "source": []
  },
  {
   "cell_type": "markdown",
   "id": "e6018b1c-685a-434e-8ec7-bfdba0e8f2dd",
   "metadata": {},
   "source": [
    "## Train the model on the training set and adjust hyperparameters on the validation set"
   ]
  },
  {
   "cell_type": "code",
   "execution_count": null,
   "id": "1b2b3581-ceb8-4a42-8d58-6ee073e908cc",
   "metadata": {},
   "outputs": [],
   "source": []
  },
  {
   "cell_type": "code",
   "execution_count": 3,
   "id": "e54989e6-3bf7-4406-a502-dce31cdb8c96",
   "metadata": {},
   "outputs": [
    {
     "name": "stdout",
     "output_type": "stream",
     "text": [
      "Validation Set performance\n",
      "Best C: 0.15999999999999998\n",
      "accuracy = 0.7037037037037037\n",
      "precision = 0.708\n",
      "recall = 0.9619565217391305\n",
      "f1 = 0.8156682027649769\n"
     ]
    }
   ],
   "source": [
    "kernel = 'rbf'\n",
    "C_ls = np.arange(0.1, 1, 0.01)\n",
    "\n",
    "max_acc = 0\n",
    "best_C = 0\n",
    "for C in C_ls:\n",
    "    model = SVC(kernel=kernel, C=C, gamma='auto').fit(X_train, y_train)\n",
    "    \n",
    "    y_predicted = model.predict(X_validation)\n",
    "        \n",
    "    # Get performance metrics\n",
    "    accuracy = accuracy_score(y_validation, y_predicted)\n",
    "    recall = recall_score(y_validation, y_predicted,  average='binary')\n",
    "    precision = precision_score(y_validation, y_predicted, average='binary')\n",
    "    f1 = f1_score(y_validation, y_predicted, average='binary')\n",
    "    \n",
    "    if accuracy > max_acc:\n",
    "        max_acc = accuracy\n",
    "        best_C = C\n",
    "\n",
    "\n",
    "model = SVC(kernel=kernel, C=best_C, gamma='auto').fit(X_train, y_train)\n",
    "y_predicted = model.predict(X_validation)\n",
    "# Get performance metrics\n",
    "accuracy = accuracy_score(y_validation, y_predicted)\n",
    "recall = recall_score(y_validation, y_predicted,  average='binary')\n",
    "precision = precision_score(y_validation, y_predicted, average='binary')\n",
    "f1 = f1_score(y_validation, y_predicted, average='binary')\n",
    "\n",
    "print(\"Validation Set performance\")\n",
    "print(\"Best C:\", best_C)\n",
    "print(\"accuracy =\", accuracy)\n",
    "print(\"precision =\", precision)\n",
    "print(\"recall =\", recall)\n",
    "print(\"f1 =\", f1)"
   ]
  },
  {
   "cell_type": "code",
   "execution_count": null,
   "id": "9062da82-4485-4ece-bcba-7c6e917aaa4e",
   "metadata": {},
   "outputs": [],
   "source": []
  },
  {
   "cell_type": "markdown",
   "id": "7ab413bf-d8a7-4e3f-ad62-e3b68c0dd555",
   "metadata": {},
   "source": [
    "## Run on the test set and use training and validation sets for training"
   ]
  },
  {
   "cell_type": "code",
   "execution_count": 4,
   "id": "7c24224a-e60a-4de5-868f-690544257b24",
   "metadata": {},
   "outputs": [
    {
     "name": "stdout",
     "output_type": "stream",
     "text": [
      "accuracy = 0.68\n",
      "precision = 0.6813186813186813\n",
      "recall = 0.9538461538461539\n",
      "f1 = 0.7948717948717949\n"
     ]
    }
   ],
   "source": [
    "X_train = np.concatenate((X_train, X_validation))\n",
    "y_train = np.concatenate((y_train, y_validation))\n",
    "model = SVC(kernel=kernel, C=best_C, gamma='auto').fit(X_train, y_train)\n",
    "y_predicted = model.predict(X_test)\n",
    "\n",
    "# Get performance metrics\n",
    "accuracy = accuracy_score(y_test, y_predicted)\n",
    "precision = precision_score(y_test, y_predicted, average='binary')\n",
    "recall = recall_score(y_test, y_predicted,  average='binary')\n",
    "f1 = f1_score(y_test, y_predicted, average='binary')\n",
    "\n",
    "print(\"accuracy =\", accuracy)\n",
    "print(\"precision =\", precision)\n",
    "print(\"recall =\", recall)\n",
    "print(\"f1 =\", f1)"
   ]
  },
  {
   "cell_type": "code",
   "execution_count": 5,
   "id": "ca7d1620-6d01-468e-a8db-6144537a493b",
   "metadata": {},
   "outputs": [
    {
     "data": {
      "text/plain": [
       "array([[ 6, 29],\n",
       "       [ 3, 62]], dtype=int64)"
      ]
     },
     "execution_count": 5,
     "metadata": {},
     "output_type": "execute_result"
    }
   ],
   "source": [
    "confusion_matrix(y_test, y_predicted)"
   ]
  },
  {
   "cell_type": "code",
   "execution_count": 6,
   "id": "24a6bebd-eb5d-424c-a7b9-b2cfc0973915",
   "metadata": {},
   "outputs": [
    {
     "data": {
      "text/plain": [
       "array([0, 1, 0, 1, 0, 0, 1, 1, 1, 1, 0, 1, 0, 1, 0, 1, 1, 0, 1, 0, 1, 0,\n",
       "       1, 1, 0, 0, 1, 1, 1, 1, 1, 1, 1, 0, 1, 1, 1, 1, 1, 1, 1, 0, 1, 0,\n",
       "       1, 0, 1, 1, 1, 0, 1, 0, 1, 1, 1, 0, 0, 0, 0, 1, 1, 1, 1, 1, 1, 0,\n",
       "       1, 1, 1, 0, 1, 0, 1, 1, 1, 1, 0, 0, 1, 1, 1, 1, 0, 0, 1, 0, 1, 1,\n",
       "       0, 0, 1, 0, 1, 0, 1, 0, 1, 1, 1, 1])"
      ]
     },
     "execution_count": 6,
     "metadata": {},
     "output_type": "execute_result"
    }
   ],
   "source": [
    "y_test"
   ]
  }
 ],
 "metadata": {
  "kernelspec": {
   "display_name": "Python 3 (ipykernel)",
   "language": "python",
   "name": "python3"
  },
  "language_info": {
   "codemirror_mode": {
    "name": "ipython",
    "version": 3
   },
   "file_extension": ".py",
   "mimetype": "text/x-python",
   "name": "python",
   "nbconvert_exporter": "python",
   "pygments_lexer": "ipython3",
   "version": "3.12.0"
  }
 },
 "nbformat": 4,
 "nbformat_minor": 5
}
