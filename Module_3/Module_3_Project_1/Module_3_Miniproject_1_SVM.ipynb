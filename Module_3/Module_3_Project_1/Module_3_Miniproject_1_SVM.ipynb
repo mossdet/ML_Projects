{
 "cells": [
  {
   "cell_type": "code",
   "execution_count": 1,
   "id": "02106841-e092-426e-a019-fec867c002e3",
   "metadata": {},
   "outputs": [],
   "source": [
    "import pandas as pd\n",
    "import numpy as np\n",
    "import matplotlib.pyplot as plt\n",
    "import optuna\n",
    "import time\n",
    "from sklearn.svm import SVC\n",
    "from sklearn.metrics import confusion_matrix\n",
    "\n",
    "from credit_g_dataset import get_preprocessed_credit_g_dataset\n",
    "\n",
    "pd.set_option(\"display.max_columns\", None)\n",
    "pd.set_option(\"display.max_rows\", 6)"
   ]
  },
  {
   "cell_type": "code",
   "execution_count": null,
   "id": "d9fc83b8-221c-4c16-8551-8dec8e2b5ec5",
   "metadata": {},
   "outputs": [],
   "source": []
  },
  {
   "cell_type": "markdown",
   "id": "bbfca0a4-7746-4759-81e2-058cc72c7c7c",
   "metadata": {},
   "source": [
    "# Load and pre-process version 1 of the dataset credit-g"
   ]
  },
  {
   "cell_type": "code",
   "execution_count": 2,
   "id": "a1711fc4-06bf-48a8-942e-999ade9bac95",
   "metadata": {},
   "outputs": [],
   "source": [
    "%%capture\n",
    "X_train, X_validation, X_test, y_train, y_validation, y_test = get_preprocessed_credit_g_dataset()"
   ]
  },
  {
   "cell_type": "code",
   "execution_count": null,
   "id": "646dc2d1-debf-457c-b1d7-a99dbe5308e1",
   "metadata": {},
   "outputs": [],
   "source": []
  },
  {
   "cell_type": "markdown",
   "id": "e6018b1c-685a-434e-8ec7-bfdba0e8f2dd",
   "metadata": {},
   "source": [
    "## Train the model using the training set and adjust hyperparameters with Optuna using the validation set"
   ]
  },
  {
   "cell_type": "code",
   "execution_count": 3,
   "id": "afe0b9be-4d18-4ac3-a86d-b655ac525b0b",
   "metadata": {},
   "outputs": [],
   "source": [
    "random_state=0"
   ]
  },
  {
   "cell_type": "code",
   "execution_count": 4,
   "id": "1b2b3581-ceb8-4a42-8d58-6ee073e908cc",
   "metadata": {},
   "outputs": [],
   "source": [
    "def objective(trial, X_train, X_validation, y_train, y_validation):\n",
    "    params = {\n",
    "    \"C\": trial.suggest_float(\"C\", 1e-10, 1e10, log=True),\n",
    "    \"kernel\": trial.suggest_categorical(\"kernel\", [\"linear\", \"rbf\", \"sigmoid\"]),\n",
    "    \"gamma\": trial.suggest_categorical(\"gamma\", [\"scale\", \"auto\"]),\n",
    "    \"max_iter\": 300,\n",
    "    \"random_state\": random_state    \n",
    "    }\n",
    "    \n",
    "\n",
    "    model = SVC(**params).fit(X_train, y_train)\n",
    "\n",
    "    y_predicted = model.predict(X_validation)\n",
    "    (tn, fp, fn, tp) = confusion_matrix(y_validation, y_predicted).ravel()\n",
    "    f1_val = (2*tp)/(2*tp+fp+fn)\n",
    "    \n",
    "    return f1_val\n"
   ]
  },
  {
   "cell_type": "code",
   "execution_count": null,
   "id": "eb8eb45a-cae7-4fc1-9b6a-0cd2c59e2e37",
   "metadata": {},
   "outputs": [],
   "source": [
    "start_time = time.time()\n",
    "\n",
    "optuna.logging.set_verbosity(optuna.logging.WARNING)\n",
    "study = optuna.create_study(direction = \"maximize\")\n",
    "func = lambda trial: objective(trial, X_train, X_validation, y_train, y_validation)\n",
    "\n",
    "# Start optimizing with 100 trials\n",
    "study.optimize(func, n_trials = 100)\n",
    "\n",
    "total_time = time.time()-start_time\n",
    "print(f\"total_time={total_time}\")\n",
    "print(study.best_params)\n",
    "print(study.best_value)"
   ]
  },
  {
   "cell_type": "code",
   "execution_count": 6,
   "id": "73db019b-8676-46fb-8f4b-4de8f65eec30",
   "metadata": {},
   "outputs": [
    {
     "name": "stdout",
     "output_type": "stream",
     "text": [
      "  Value: 0.8684863523573201\n",
      "Number of finished trials:  100\n",
      "Best trial: 81\n",
      "  Params: \n",
      "    C: 5.080567737999551\n",
      "    kernel: rbf\n",
      "    gamma: auto\n"
     ]
    }
   ],
   "source": [
    "best_trial = study.best_trial\n",
    "print(\"  Value: {}\".format(best_trial.value))\n",
    "print(\"Number of finished trials: \", len(study.trials))\n",
    "print(f\"Best trial: {best_trial.number}\")\n",
    "print(\"  Params: \")\n",
    "for key, value in best_trial.params.items():\n",
    "    print(\"    {}: {}\".format(key, value))"
   ]
  },
  {
   "cell_type": "markdown",
   "id": "7ab413bf-d8a7-4e3f-ad62-e3b68c0dd555",
   "metadata": {},
   "source": [
    "## Run on the test set and use training and validation sets for training"
   ]
  },
  {
   "cell_type": "code",
   "execution_count": 7,
   "id": "7c24224a-e60a-4de5-868f-690544257b24",
   "metadata": {},
   "outputs": [
    {
     "name": "stdout",
     "output_type": "stream",
     "text": [
      "\n",
      "\n",
      "Test set precision_val = 0.8243243243243243\n",
      "Test set recall_val = 0.8133333333333334\n",
      "Test set sspecificity = 0.48\n",
      "Test set mcc_val = 0.28957396957096104\n",
      "Test set accuracy_val = 0.73\n",
      "Test set f1_val = 0.8187919463087249\n"
     ]
    }
   ],
   "source": [
    "X_train_valid = np.concatenate((X_train, X_validation))\n",
    "y_train_valid = np.concatenate((y_train, y_validation))\n",
    "\n",
    "model = SVC(**best_trial.params).fit(X_train_valid, y_train_valid)\n",
    "\n",
    "y_predicted = model.predict(X_test)\n",
    "\n",
    "(tn, fp, fn, tp) = confusion_matrix(y_test, y_predicted).ravel()\n",
    "precision_val = float(tp)/float(tp+fp)\n",
    "recall_val = float(tp)/float(tp+fn)\n",
    "specificity_val = float(tn)/float(tn+fp)\n",
    "accuracy_val = float(tp+tn)/float(tn+fp+fn+tp)\n",
    "f1_val = (2*tp)/(2*tp+fp+fn)\n",
    "mcc_val = float((tp*tn)-(fp*fn))/np.sqrt((tp+fp)*(tp+fn)*(tn+fp)*(tn+fn))\n",
    "\n",
    "\n",
    "print(\"\\n\")\n",
    "print(\"Test set precision_val =\", precision_val)\n",
    "print(\"Test set recall_val =\", recall_val)\n",
    "print(\"Test set sspecificity =\", specificity_val)\n",
    "print(\"Test set mcc_val =\", mcc_val)\n",
    "print(\"Test set accuracy_val =\", accuracy_val)\n",
    "print(\"Test set f1_val =\", f1_val)"
   ]
  },
  {
   "cell_type": "code",
   "execution_count": 8,
   "id": "ca7d1620-6d01-468e-a8db-6144537a493b",
   "metadata": {},
   "outputs": [
    {
     "data": {
      "text/plain": [
       "array([[12, 13],\n",
       "       [14, 61]], dtype=int64)"
      ]
     },
     "execution_count": 8,
     "metadata": {},
     "output_type": "execute_result"
    }
   ],
   "source": [
    "confusion_matrix(y_test, y_predicted)"
   ]
  },
  {
   "cell_type": "code",
   "execution_count": 9,
   "id": "24a6bebd-eb5d-424c-a7b9-b2cfc0973915",
   "metadata": {},
   "outputs": [
    {
     "data": {
      "text/plain": [
       "array([1, 1, 1, 1, 1, 1, 1, 1, 1, 0, 0, 0, 1, 1, 0, 1, 1, 0, 1, 1, 1, 1,\n",
       "       1, 1, 1, 0, 1, 1, 1, 0, 1, 1, 0, 0, 1, 0, 1, 1, 0, 1, 0, 1, 1, 1,\n",
       "       1, 0, 0, 1, 1, 1, 0, 0, 1, 1, 0, 1, 1, 1, 1, 1, 0, 1, 1, 1, 1, 1,\n",
       "       1, 0, 0, 1, 1, 1, 1, 1, 1, 0, 1, 0, 0, 1, 1, 1, 1, 1, 1, 1, 0, 1,\n",
       "       1, 1, 1, 1, 1, 1, 1, 0, 1, 1, 1, 1])"
      ]
     },
     "execution_count": 9,
     "metadata": {},
     "output_type": "execute_result"
    }
   ],
   "source": [
    "y_test"
   ]
  }
 ],
 "metadata": {
  "kernelspec": {
   "display_name": "Python 3 (ipykernel)",
   "language": "python",
   "name": "python3"
  },
  "language_info": {
   "codemirror_mode": {
    "name": "ipython",
    "version": 3
   },
   "file_extension": ".py",
   "mimetype": "text/x-python",
   "name": "python",
   "nbconvert_exporter": "python",
   "pygments_lexer": "ipython3",
   "version": "3.12.0"
  }
 },
 "nbformat": 4,
 "nbformat_minor": 5
}
