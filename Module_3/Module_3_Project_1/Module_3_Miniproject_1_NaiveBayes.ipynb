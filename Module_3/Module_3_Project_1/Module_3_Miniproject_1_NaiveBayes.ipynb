{
 "cells": [
  {
   "cell_type": "code",
   "execution_count": 1,
   "id": "02106841-e092-426e-a019-fec867c002e3",
   "metadata": {},
   "outputs": [],
   "source": [
    "import pandas as pd\n",
    "import numpy as np\n",
    "import matplotlib.pyplot as plt\n",
    "import optuna\n",
    "import time\n",
    "from sklearn.naive_bayes import GaussianNB, MultinomialNB\n",
    "from sklearn.metrics import confusion_matrix\n",
    "from credit_g_dataset import get_preprocessed_credit_g_dataset\n",
    "\n",
    "pd.set_option(\"display.max_columns\", None)\n",
    "pd.set_option(\"display.max_rows\", 6)"
   ]
  },
  {
   "cell_type": "code",
   "execution_count": null,
   "id": "d9fc83b8-221c-4c16-8551-8dec8e2b5ec5",
   "metadata": {},
   "outputs": [],
   "source": []
  },
  {
   "cell_type": "markdown",
   "id": "bbfca0a4-7746-4759-81e2-058cc72c7c7c",
   "metadata": {},
   "source": [
    "# Load and pre-process version 1 of the dataset credit-g"
   ]
  },
  {
   "cell_type": "code",
   "execution_count": 2,
   "id": "208f1200-68da-4774-96a5-39ac25353c6f",
   "metadata": {},
   "outputs": [],
   "source": [
    "%%capture\n",
    "X_train, X_validation, X_test, y_train, y_validation, y_test = get_preprocessed_credit_g_dataset()"
   ]
  },
  {
   "cell_type": "markdown",
   "id": "e6018b1c-685a-434e-8ec7-bfdba0e8f2dd",
   "metadata": {},
   "source": [
    "## Train the model using the full training set"
   ]
  },
  {
   "cell_type": "code",
   "execution_count": 3,
   "id": "b18fde18-df8e-4043-97dd-7b3298bb0c57",
   "metadata": {},
   "outputs": [],
   "source": [
    "X_train_valid = np.concatenate((X_train, X_validation))\n",
    "y_train_valid = np.concatenate((y_train, y_validation))"
   ]
  },
  {
   "cell_type": "code",
   "execution_count": 5,
   "id": "e6b15637-7dae-4dc4-8059-d6a4a518016f",
   "metadata": {},
   "outputs": [],
   "source": [
    "model = GaussianNB().fit(X_train_valid, y_train_valid)"
   ]
  },
  {
   "cell_type": "markdown",
   "id": "a58dc617-d9a8-4972-8f05-da22b20ef3cb",
   "metadata": {},
   "source": [
    "## Run on the test set"
   ]
  },
  {
   "cell_type": "code",
   "execution_count": 6,
   "id": "0b334d60-a613-4ea0-86b9-e0e7c0304e43",
   "metadata": {},
   "outputs": [
    {
     "name": "stdout",
     "output_type": "stream",
     "text": [
      "\n",
      "\n",
      "Test set precision_val = 0.8548387096774194\n",
      "Test set recall_val = 0.7066666666666667\n",
      "Test set specificity = 0.64\n",
      "Test set mcc_val = 0.30926094424537426\n",
      "Test set accuracy_val = 0.69\n",
      "Test set f1_val = 0.7737226277372263\n"
     ]
    }
   ],
   "source": [
    "y_predicted = model.predict(X_test)\n",
    "\n",
    "(tn, fp, fn, tp) = confusion_matrix(y_test, y_predicted).ravel()\n",
    "precision_val = float(tp)/float(tp+fp)\n",
    "recall_val = float(tp)/float(tp+fn)\n",
    "specificity_val = float(tn)/float(tn+fp)\n",
    "accuracy_val = float(tp+tn)/float(tn+fp+fn+tp)\n",
    "f1_val = (2*tp)/(2*tp+fp+fn)\n",
    "mcc_val = float((tp*tn)-(fp*fn))/np.sqrt((tp+fp)*(tp+fn)*(tn+fp)*(tn+fn))\n",
    "\n",
    "\n",
    "print(\"\\n\")\n",
    "print(\"Test set precision_val =\", precision_val)\n",
    "print(\"Test set recall_val =\", recall_val)\n",
    "print(\"Test set specificity =\", specificity_val)\n",
    "print(\"Test set mcc_val =\", mcc_val)\n",
    "print(\"Test set accuracy_val =\", accuracy_val)\n",
    "print(\"Test set f1_val =\", f1_val)"
   ]
  },
  {
   "cell_type": "code",
   "execution_count": 7,
   "id": "80be951b-009e-48c9-bbbf-4dcfb15ae445",
   "metadata": {},
   "outputs": [
    {
     "data": {
      "text/plain": [
       "array([[16,  9],\n",
       "       [22, 53]], dtype=int64)"
      ]
     },
     "execution_count": 7,
     "metadata": {},
     "output_type": "execute_result"
    }
   ],
   "source": [
    "confusion_matrix(y_test, y_predicted)"
   ]
  },
  {
   "cell_type": "code",
   "execution_count": 8,
   "id": "ca7d1620-6d01-468e-a8db-6144537a493b",
   "metadata": {},
   "outputs": [
    {
     "data": {
      "text/plain": [
       "array([1, 1, 1, 1, 1, 1, 1, 1, 1, 0, 0, 0, 1, 1, 0, 1, 1, 0, 1, 1, 1, 1,\n",
       "       1, 1, 1, 0, 1, 1, 1, 0, 1, 1, 0, 0, 1, 0, 1, 1, 0, 1, 0, 1, 1, 1,\n",
       "       1, 0, 0, 1, 1, 1, 0, 0, 1, 1, 0, 1, 1, 1, 1, 1, 0, 1, 1, 1, 1, 1,\n",
       "       1, 0, 0, 1, 1, 1, 1, 1, 1, 0, 1, 0, 0, 1, 1, 1, 1, 1, 1, 1, 0, 1,\n",
       "       1, 1, 1, 1, 1, 1, 1, 0, 1, 1, 1, 1])"
      ]
     },
     "execution_count": 8,
     "metadata": {},
     "output_type": "execute_result"
    }
   ],
   "source": [
    "y_test"
   ]
  },
  {
   "cell_type": "code",
   "execution_count": null,
   "id": "24a6bebd-eb5d-424c-a7b9-b2cfc0973915",
   "metadata": {},
   "outputs": [],
   "source": []
  }
 ],
 "metadata": {
  "kernelspec": {
   "display_name": "Python 3 (ipykernel)",
   "language": "python",
   "name": "python3"
  },
  "language_info": {
   "codemirror_mode": {
    "name": "ipython",
    "version": 3
   },
   "file_extension": ".py",
   "mimetype": "text/x-python",
   "name": "python",
   "nbconvert_exporter": "python",
   "pygments_lexer": "ipython3",
   "version": "3.12.0"
  }
 },
 "nbformat": 4,
 "nbformat_minor": 5
}
