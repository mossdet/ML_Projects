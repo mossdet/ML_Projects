{
 "cells": [
  {
   "cell_type": "markdown",
   "id": "9d683d87-2eff-4954-8172-8d3a463475ad",
   "metadata": {},
   "source": [
    "# Classifiy people as good or bad credit risks.\n",
    "Uses the German Credit dataset\n",
    "Dataset Link: https://www.openml.org/search?type=data&sort=runs&id=31&status=active"
   ]
  },
  {
   "cell_type": "code",
   "execution_count": 1,
   "id": "02106841-e092-426e-a019-fec867c002e3",
   "metadata": {},
   "outputs": [],
   "source": [
    "import pandas as pd\n",
    "import numpy as np\n",
    "import matplotlib.pyplot as plt\n",
    "import optuna\n",
    "import time\n",
    "from sklearn.ensemble import AdaBoostClassifier\n",
    "from sklearn.metrics import confusion_matrix\n",
    "\n",
    "from credit_g_dataset import get_preprocessed_credit_g_dataset\n",
    "\n",
    "pd.set_option(\"display.max_columns\", None)\n",
    "pd.set_option(\"display.max_rows\", 6)"
   ]
  },
  {
   "cell_type": "code",
   "execution_count": null,
   "id": "d9fc83b8-221c-4c16-8551-8dec8e2b5ec5",
   "metadata": {},
   "outputs": [],
   "source": []
  },
  {
   "cell_type": "markdown",
   "id": "bbfca0a4-7746-4759-81e2-058cc72c7c7c",
   "metadata": {},
   "source": [
    "# Load and pre-process version 1 of the dataset credit-g"
   ]
  },
  {
   "cell_type": "code",
   "execution_count": 2,
   "id": "a1711fc4-06bf-48a8-942e-999ade9bac95",
   "metadata": {},
   "outputs": [],
   "source": [
    "%%capture\n",
    "X_train, X_validation, X_test, y_train, y_validation, y_test = get_preprocessed_credit_g_dataset()"
   ]
  },
  {
   "cell_type": "code",
   "execution_count": null,
   "id": "646dc2d1-debf-457c-b1d7-a99dbe5308e1",
   "metadata": {},
   "outputs": [],
   "source": []
  },
  {
   "cell_type": "markdown",
   "id": "e6018b1c-685a-434e-8ec7-bfdba0e8f2dd",
   "metadata": {},
   "source": [
    "## Train the model using the training set and adjust hyperparameters with Optuna using the validation set"
   ]
  },
  {
   "cell_type": "code",
   "execution_count": 3,
   "id": "1b2b3581-ceb8-4a42-8d58-6ee073e908cc",
   "metadata": {},
   "outputs": [],
   "source": [
    "def objective(trial, X_train, X_validation, y_train, y_validation):   \n",
    "    params = {\n",
    "    'n_estimators':trial.suggest_int('n_estimators',50, 300,step=10),\n",
    "    'learning_rate': trial.suggest_float('learning_rate', 0.0001, 1, step=5e-6),\n",
    "    \"algorithm\": trial.suggest_categorical(\"algorithm\", [\"SAMME\",\"SAMME.R\"]),\n",
    "    \"random_state\": trial.suggest_categorical(\"random_state\", [47]),\n",
    "    }\n",
    "\n",
    "    # Perform cross validation\n",
    "    model = AdaBoostClassifier(**params).fit(X_train, y_train)\n",
    "    \n",
    "    y_predicted = model.predict(X_validation)\n",
    "    (tn, fp, fn, tp) = confusion_matrix(y_validation, y_predicted).ravel()\n",
    "    accuracy_val = float(tp+tn)/float(tn+fp+fn+tp)\n",
    "    \n",
    "    return accuracy_val"
   ]
  },
  {
   "cell_type": "code",
   "execution_count": 4,
   "id": "eb8eb45a-cae7-4fc1-9b6a-0cd2c59e2e37",
   "metadata": {},
   "outputs": [
    {
     "name": "stdout",
     "output_type": "stream",
     "text": [
      "total_time=27.48681664466858\n",
      "{'n_estimators': 90, 'learning_rate': 0.9517700000000001, 'algorithm': 'SAMME', 'random_state': 47}\n",
      "0.7814814814814814\n"
     ]
    }
   ],
   "source": [
    "start_time = time.time()\n",
    "\n",
    "optuna.logging.set_verbosity(optuna.logging.WARNING)\n",
    "study = optuna.create_study(direction = \"maximize\")\n",
    "func = lambda trial: objective(trial, X_train, X_validation, y_train, y_validation)\n",
    "\n",
    "# Start optimizing with 100 trials\n",
    "study.optimize(func, n_trials = 100)\n",
    "\n",
    "total_time = time.time()-start_time\n",
    "print(f\"total_time={total_time}\")\n",
    "print(study.best_params)\n",
    "print(study.best_value)"
   ]
  },
  {
   "cell_type": "code",
   "execution_count": 5,
   "id": "0a497f91-5aa8-464f-b471-d94a4d04cb4f",
   "metadata": {},
   "outputs": [
    {
     "name": "stdout",
     "output_type": "stream",
     "text": [
      "  Value: 0.7814814814814814\n",
      "Number of finished trials:  100\n",
      "Best trial: 85\n",
      "  Params: \n",
      "    n_estimators: 90\n",
      "    learning_rate: 0.9517700000000001\n",
      "    algorithm: SAMME\n",
      "    random_state: 47\n"
     ]
    }
   ],
   "source": [
    "best_trial = study.best_trial\n",
    "print(\"  Value: {}\".format(best_trial.value))\n",
    "print(\"Number of finished trials: \", len(study.trials))\n",
    "print(f\"Best trial: {best_trial.number}\")\n",
    "print(\"  Params: \")\n",
    "for key, value in best_trial.params.items():\n",
    "    print(\"    {}: {}\".format(key, value))"
   ]
  },
  {
   "cell_type": "markdown",
   "id": "7ab413bf-d8a7-4e3f-ad62-e3b68c0dd555",
   "metadata": {},
   "source": [
    "## Run on the test set and use training and validation sets for training"
   ]
  },
  {
   "cell_type": "code",
   "execution_count": 6,
   "id": "7c24224a-e60a-4de5-868f-690544257b24",
   "metadata": {},
   "outputs": [
    {
     "name": "stdout",
     "output_type": "stream",
     "text": [
      "\n",
      "\n",
      "Test set precision_val = 0.8378378378378378\n",
      "Test set recall_val = 0.8266666666666667\n",
      "Test set sspecificity = 0.52\n",
      "Test set mcc_val = 0.34222378222022665\n",
      "Test set accuracy_val = 0.75\n",
      "Test set f1_val = 0.8322147651006712\n"
     ]
    }
   ],
   "source": [
    "X_train_valid = np.concatenate((X_train, X_validation))\n",
    "y_train_valid = np.concatenate((y_train, y_validation))\n",
    "\n",
    "model = AdaBoostClassifier(**best_trial.params).fit(X_train_valid, y_train_valid)\n",
    "\n",
    "y_predicted = model.predict(X_test)\n",
    "\n",
    "(tn, fp, fn, tp) = confusion_matrix(y_test, y_predicted).ravel()\n",
    "precision_val = float(tp)/float(tp+fp)\n",
    "recall_val = float(tp)/float(tp+fn)\n",
    "specificity_val = float(tn)/float(tn+fp)\n",
    "accuracy_val = float(tp+tn)/float(tn+fp+fn+tp)\n",
    "f1_val = (2*tp)/(2*tp+fp+fn)\n",
    "mcc_val = float((tp*tn)-(fp*fn))/np.sqrt((tp+fp)*(tp+fn)*(tn+fp)*(tn+fn))\n",
    "\n",
    "\n",
    "print(\"\\n\")\n",
    "print(\"Test set precision_val =\", precision_val)\n",
    "print(\"Test set recall_val =\", recall_val)\n",
    "print(\"Test set sspecificity =\", specificity_val)\n",
    "print(\"Test set mcc_val =\", mcc_val)\n",
    "print(\"Test set accuracy_val =\", accuracy_val)\n",
    "print(\"Test set f1_val =\", f1_val)"
   ]
  },
  {
   "cell_type": "code",
   "execution_count": 7,
   "id": "ca7d1620-6d01-468e-a8db-6144537a493b",
   "metadata": {},
   "outputs": [
    {
     "data": {
      "text/plain": [
       "array([[13, 12],\n",
       "       [13, 62]], dtype=int64)"
      ]
     },
     "execution_count": 7,
     "metadata": {},
     "output_type": "execute_result"
    }
   ],
   "source": [
    "confusion_matrix(y_test, y_predicted)"
   ]
  },
  {
   "cell_type": "code",
   "execution_count": 8,
   "id": "24a6bebd-eb5d-424c-a7b9-b2cfc0973915",
   "metadata": {},
   "outputs": [
    {
     "data": {
      "text/plain": [
       "array([1, 1, 1, 1, 1, 1, 1, 1, 1, 0, 0, 0, 1, 1, 0, 1, 1, 0, 1, 1, 1, 1,\n",
       "       1, 1, 1, 0, 1, 1, 1, 0, 1, 1, 0, 0, 1, 0, 1, 1, 0, 1, 0, 1, 1, 1,\n",
       "       1, 0, 0, 1, 1, 1, 0, 0, 1, 1, 0, 1, 1, 1, 1, 1, 0, 1, 1, 1, 1, 1,\n",
       "       1, 0, 0, 1, 1, 1, 1, 1, 1, 0, 1, 0, 0, 1, 1, 1, 1, 1, 1, 1, 0, 1,\n",
       "       1, 1, 1, 1, 1, 1, 1, 0, 1, 1, 1, 1])"
      ]
     },
     "execution_count": 8,
     "metadata": {},
     "output_type": "execute_result"
    }
   ],
   "source": [
    "y_test"
   ]
  },
  {
   "cell_type": "code",
   "execution_count": null,
   "id": "ae27791a-7db7-46fd-a764-f091f8ea05dc",
   "metadata": {},
   "outputs": [],
   "source": []
  },
  {
   "cell_type": "code",
   "execution_count": 9,
   "id": "1a0abe7b-fa78-414f-8cd2-0aa90c2da5ab",
   "metadata": {},
   "outputs": [
    {
     "name": "stdout",
     "output_type": "stream",
     "text": [
      "[0.11431642 0.27415753 0.02714977 0.01367474 0.         0.\n",
      " 0.00680377 0.15155154 0.03853336 0.06648767 0.01585169 0.01408395\n",
      " 0.02737214 0.01144528 0.         0.02028223 0.02188864 0.028387\n",
      " 0.06471119 0.02202179 0.         0.         0.01319449 0.\n",
      " 0.         0.         0.         0.         0.02117634 0.\n",
      " 0.03238494 0.         0.         0.         0.         0.\n",
      " 0.01452551 0.         0.         0.         0.         0.\n",
      " 0.         0.         0.         0.         0.         0.\n",
      " 0.         0.         0.         0.         0.         0.\n",
      " 0.         0.         0.         0.         0.        ]\n"
     ]
    }
   ],
   "source": [
    "importances = model.feature_importances_\n",
    "print(importances)\n",
    "# feature_names_in_ only defined if the X input to fit() is a dataframe and the column names are all strings\n",
    "#features_names = model.feature_names_in_\n",
    "#print(features_names)"
   ]
  },
  {
   "cell_type": "code",
   "execution_count": 10,
   "id": "b9d2a5d3-669b-423d-9250-ada998d9d6c3",
   "metadata": {},
   "outputs": [
    {
     "name": "stdout",
     "output_type": "stream",
     "text": [
      "0.2741575298319655\n",
      "0.0\n",
      "1.0\n"
     ]
    }
   ],
   "source": [
    "print(max(importances))\n",
    "print(min(importances))\n",
    "print(sum(importances))"
   ]
  },
  {
   "cell_type": "code",
   "execution_count": null,
   "id": "3b0dba39-01f5-4c99-a2e7-0c7dd31a1322",
   "metadata": {},
   "outputs": [],
   "source": []
  }
 ],
 "metadata": {
  "kernelspec": {
   "display_name": "Python 3 (ipykernel)",
   "language": "python",
   "name": "python3"
  },
  "language_info": {
   "codemirror_mode": {
    "name": "ipython",
    "version": 3
   },
   "file_extension": ".py",
   "mimetype": "text/x-python",
   "name": "python",
   "nbconvert_exporter": "python",
   "pygments_lexer": "ipython3",
   "version": "3.12.0"
  }
 },
 "nbformat": 4,
 "nbformat_minor": 5
}
